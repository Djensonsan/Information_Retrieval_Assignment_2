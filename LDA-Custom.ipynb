{
 "nbformat": 4,
 "nbformat_minor": 0,
 "metadata": {
  "colab": {
   "name": "LDA.ipynb",
   "provenance": [],
   "toc_visible": true,
   "authorship_tag": "ABX9TyPs2Wzu33hsOlvHt4yJUnFw",
   "include_colab_link": true
  },
  "kernelspec": {
   "name": "python3",
   "language": "python",
   "display_name": "Python 3"
  }
 },
 "cells": [
  {
   "cell_type": "markdown",
   "metadata": {
    "id": "view-in-github",
    "colab_type": "text"
   },
   "source": [
    "<a href=\"https://colab.research.google.com/github/Djensonsan/IR-Assignment-2/blob/main/LDA-Custom.ipynb\" target=\"_parent\"><img src=\"https://colab.research.google.com/assets/colab-badge.svg\" alt=\"Open In Colab\"/></a>"
   ]
  },
  {
   "cell_type": "markdown",
   "metadata": {
    "id": "CKjJL7BGbHZh"
   },
   "source": [
    "# Information Retrieval Assignment 2: LDA\n"
   ]
  },
  {
   "cell_type": "markdown",
   "metadata": {
    "id": "B1JNYr6hbRw4"
   },
   "source": [
    "## Imports"
   ]
  },
  {
   "cell_type": "code",
   "metadata": {
    "colab": {
     "base_uri": "https://localhost:8080/"
    },
    "id": "ZrAzQvyxdic5",
    "outputId": "20e7eac3-80ec-4a40-a710-eeb02a79a5d6"
   },
   "source": [
    "# Install your required packages here\n",
    "!pip install pandas numpy matplotlib fsspec gcsfs \n",
    "!pip install -q tqdm"
   ],
   "execution_count": 1,
   "outputs": [
    {
     "name": "stdout",
     "output_type": "stream",
     "text": [
      "Requirement already satisfied: pandas in /Users/jenselin/miniconda3/envs/Tensorflow/lib/python3.7/site-packages (1.1.3)\r\n",
      "Requirement already satisfied: numpy in /Users/jenselin/miniconda3/envs/Tensorflow/lib/python3.7/site-packages (1.19.1)\r\n",
      "Requirement already satisfied: matplotlib in /Users/jenselin/miniconda3/envs/Tensorflow/lib/python3.7/site-packages (3.3.1)\r\n",
      "Requirement already satisfied: fsspec in /Users/jenselin/miniconda3/envs/Tensorflow/lib/python3.7/site-packages (0.8.3)\r\n",
      "Requirement already satisfied: gcsfs in /Users/jenselin/miniconda3/envs/Tensorflow/lib/python3.7/site-packages (0.7.1)\r\n",
      "Requirement already satisfied: pytz>=2017.2 in /Users/jenselin/miniconda3/envs/Tensorflow/lib/python3.7/site-packages (from pandas) (2020.1)\r\n",
      "Requirement already satisfied: python-dateutil>=2.7.3 in /Users/jenselin/miniconda3/envs/Tensorflow/lib/python3.7/site-packages (from pandas) (2.8.1)\r\n",
      "Requirement already satisfied: kiwisolver>=1.0.1 in /Users/jenselin/miniconda3/envs/Tensorflow/lib/python3.7/site-packages (from matplotlib) (1.2.0)\r\n",
      "Requirement already satisfied: pillow>=6.2.0 in /Users/jenselin/miniconda3/envs/Tensorflow/lib/python3.7/site-packages (from matplotlib) (8.0.0)\r\n",
      "Requirement already satisfied: pyparsing!=2.0.4,!=2.1.2,!=2.1.6,>=2.0.3 in /Users/jenselin/miniconda3/envs/Tensorflow/lib/python3.7/site-packages (from matplotlib) (2.4.7)\r\n",
      "Requirement already satisfied: cycler>=0.10 in /Users/jenselin/miniconda3/envs/Tensorflow/lib/python3.7/site-packages (from matplotlib) (0.10.0)\r\n",
      "Requirement already satisfied: certifi>=2020.06.20 in /Users/jenselin/miniconda3/envs/Tensorflow/lib/python3.7/site-packages (from matplotlib) (2020.6.20)\r\n",
      "Requirement already satisfied: requests in /Users/jenselin/miniconda3/envs/Tensorflow/lib/python3.7/site-packages (from gcsfs) (2.24.0)\r\n",
      "Requirement already satisfied: google-auth-oauthlib in /Users/jenselin/miniconda3/envs/Tensorflow/lib/python3.7/site-packages (from gcsfs) (0.4.1)\r\n",
      "Requirement already satisfied: decorator in /Users/jenselin/miniconda3/envs/Tensorflow/lib/python3.7/site-packages (from gcsfs) (4.4.2)\r\n",
      "Requirement already satisfied: aiohttp in /Users/jenselin/miniconda3/envs/Tensorflow/lib/python3.7/site-packages (from gcsfs) (3.6.3)\r\n",
      "Requirement already satisfied: google-auth>=1.2 in /Users/jenselin/miniconda3/envs/Tensorflow/lib/python3.7/site-packages (from gcsfs) (1.22.1)\r\n",
      "Requirement already satisfied: six>=1.5 in /Users/jenselin/miniconda3/envs/Tensorflow/lib/python3.7/site-packages (from python-dateutil>=2.7.3->pandas) (1.15.0)\r\n",
      "Requirement already satisfied: chardet<4,>=3.0.2 in /Users/jenselin/miniconda3/envs/Tensorflow/lib/python3.7/site-packages (from requests->gcsfs) (3.0.4)\r\n",
      "Requirement already satisfied: idna<3,>=2.5 in /Users/jenselin/miniconda3/envs/Tensorflow/lib/python3.7/site-packages (from requests->gcsfs) (2.10)\r\n",
      "Requirement already satisfied: urllib3!=1.25.0,!=1.25.1,<1.26,>=1.21.1 in /Users/jenselin/miniconda3/envs/Tensorflow/lib/python3.7/site-packages (from requests->gcsfs) (1.25.10)\r\n",
      "Requirement already satisfied: requests-oauthlib>=0.7.0 in /Users/jenselin/miniconda3/envs/Tensorflow/lib/python3.7/site-packages (from google-auth-oauthlib->gcsfs) (1.3.0)\r\n",
      "Requirement already satisfied: attrs>=17.3.0 in /Users/jenselin/miniconda3/envs/Tensorflow/lib/python3.7/site-packages (from aiohttp->gcsfs) (20.2.0)\r\n",
      "Requirement already satisfied: multidict<5.0,>=4.5 in /Users/jenselin/miniconda3/envs/Tensorflow/lib/python3.7/site-packages (from aiohttp->gcsfs) (4.7.6)\r\n",
      "Requirement already satisfied: async-timeout<4.0,>=3.0 in /Users/jenselin/miniconda3/envs/Tensorflow/lib/python3.7/site-packages (from aiohttp->gcsfs) (3.0.1)\r\n",
      "Requirement already satisfied: yarl<1.6.0,>=1.0 in /Users/jenselin/miniconda3/envs/Tensorflow/lib/python3.7/site-packages (from aiohttp->gcsfs) (1.5.1)\r\n",
      "Requirement already satisfied: cachetools<5.0,>=2.0.0 in /Users/jenselin/miniconda3/envs/Tensorflow/lib/python3.7/site-packages (from google-auth>=1.2->gcsfs) (4.1.1)\r\n",
      "Requirement already satisfied: pyasn1-modules>=0.2.1 in /Users/jenselin/miniconda3/envs/Tensorflow/lib/python3.7/site-packages (from google-auth>=1.2->gcsfs) (0.2.8)\r\n",
      "Requirement already satisfied: setuptools>=40.3.0 in /Users/jenselin/miniconda3/envs/Tensorflow/lib/python3.7/site-packages (from google-auth>=1.2->gcsfs) (50.3.0.post20201006)\r\n",
      "Requirement already satisfied: rsa<5,>=3.1.4; python_version >= \"3.5\" in /Users/jenselin/miniconda3/envs/Tensorflow/lib/python3.7/site-packages (from google-auth>=1.2->gcsfs) (4.6)\r\n",
      "Requirement already satisfied: oauthlib>=3.0.0 in /Users/jenselin/miniconda3/envs/Tensorflow/lib/python3.7/site-packages (from requests-oauthlib>=0.7.0->google-auth-oauthlib->gcsfs) (3.0.1)\r\n",
      "Requirement already satisfied: typing-extensions>=3.7.4; python_version < \"3.8\" in /Users/jenselin/miniconda3/envs/Tensorflow/lib/python3.7/site-packages (from yarl<1.6.0,>=1.0->aiohttp->gcsfs) (3.7.4.3)\r\n",
      "Requirement already satisfied: pyasn1<0.5.0,>=0.4.6 in /Users/jenselin/miniconda3/envs/Tensorflow/lib/python3.7/site-packages (from pyasn1-modules>=0.2.1->google-auth>=1.2->gcsfs) (0.4.8)\r\n"
     ]
    }
   ]
  },
  {
   "cell_type": "code",
   "execution_count": 2,
   "outputs": [],
   "source": [
    "import pandas as pd\n",
    "import numpy as np"
   ],
   "metadata": {
    "collapsed": false,
    "pycharm": {
     "name": "#%%\n"
    }
   }
  },
  {
   "cell_type": "code",
   "metadata": {
    "colab": {
     "base_uri": "https://localhost:8080/"
    },
    "id": "Hmq5dkz3dq6r",
    "outputId": "537f892c-7590-43bc-fdb5-76ad181d89d6"
   },
   "source": [
    "# Mount google drive in colab:\n",
    "from google.cloud import storage\n",
    "from google.colab import drive\n",
    "drive.mount('/content/drive')"
   ],
   "execution_count": 3,
   "outputs": [
    {
     "ename": "ModuleNotFoundError",
     "evalue": "No module named 'google.colab'",
     "output_type": "error",
     "traceback": [
      "\u001B[0;31m---------------------------------------------------------------------------\u001B[0m",
      "\u001B[0;31mModuleNotFoundError\u001B[0m                       Traceback (most recent call last)",
      "\u001B[0;32m<ipython-input-3-93dd74d78fba>\u001B[0m in \u001B[0;36m<module>\u001B[0;34m\u001B[0m\n\u001B[1;32m      1\u001B[0m \u001B[0;31m# Mount google drive in colab:\u001B[0m\u001B[0;34m\u001B[0m\u001B[0;34m\u001B[0m\u001B[0;34m\u001B[0m\u001B[0m\n\u001B[1;32m      2\u001B[0m \u001B[0;32mfrom\u001B[0m \u001B[0mgoogle\u001B[0m\u001B[0;34m.\u001B[0m\u001B[0mcloud\u001B[0m \u001B[0;32mimport\u001B[0m \u001B[0mstorage\u001B[0m\u001B[0;34m\u001B[0m\u001B[0;34m\u001B[0m\u001B[0m\n\u001B[0;32m----> 3\u001B[0;31m \u001B[0;32mfrom\u001B[0m \u001B[0mgoogle\u001B[0m\u001B[0;34m.\u001B[0m\u001B[0mcolab\u001B[0m \u001B[0;32mimport\u001B[0m \u001B[0mdrive\u001B[0m\u001B[0;34m\u001B[0m\u001B[0;34m\u001B[0m\u001B[0m\n\u001B[0m\u001B[1;32m      4\u001B[0m \u001B[0mdrive\u001B[0m\u001B[0;34m.\u001B[0m\u001B[0mmount\u001B[0m\u001B[0;34m(\u001B[0m\u001B[0;34m'/content/drive'\u001B[0m\u001B[0;34m)\u001B[0m\u001B[0;34m\u001B[0m\u001B[0;34m\u001B[0m\u001B[0m\n\u001B[1;32m      5\u001B[0m \u001B[0;34m\u001B[0m\u001B[0m\n",
      "\u001B[0;31mModuleNotFoundError\u001B[0m: No module named 'google.colab'"
     ]
    }
   ]
  },
  {
   "cell_type": "markdown",
   "metadata": {
    "id": "JV7MKPthbO7D"
   },
   "source": [
    "## Preprocessing"
   ]
  },
  {
   "cell_type": "code",
   "metadata": {
    "id": "4z71OL-Agy8X"
   },
   "source": [
    "# Pycharm:\n",
    "data = pd.read_csv('data/news_dataset.csv')"
   ],
   "execution_count": null,
   "outputs": []
  },
  {
   "cell_type": "code",
   "metadata": {
    "id": "ecP-GrK6hdz0"
   },
   "source": [
    "# Colab:\n",
    "data = pd.read_csv('/content/drive/MyDrive/IR-Assignment-2/data/news_dataset.csv')"
   ],
   "execution_count": null,
   "outputs": []
  },
  {
   "cell_type": "markdown",
   "metadata": {
    "id": "1OlMBR5Mh9Op"
   },
   "source": [
    "### Exploration"
   ]
  },
  {
   "cell_type": "code",
   "metadata": {
    "id": "4yNYD0sfiOMc",
    "outputId": "910f4157-662b-467b-8f95-5340ebb21d95",
    "colab": {
     "base_uri": "https://localhost:8080/"
    }
   },
   "source": [
    "data.info()"
   ],
   "execution_count": null,
   "outputs": []
  },
  {
   "cell_type": "code",
   "metadata": {
    "id": "cq4GI0aXh8WM",
    "outputId": "989f9cfa-b92a-4cf3-f0c7-43325f8e00ce",
    "colab": {
     "base_uri": "https://localhost:8080/",
     "height": 196
    }
   },
   "source": [
    "data.head(n=3)"
   ],
   "execution_count": null,
   "outputs": []
  },
  {
   "cell_type": "markdown",
   "metadata": {
    "id": "6T291ON0bUg0"
   },
   "source": [
    "## LDA Implementation"
   ]
  },
  {
   "cell_type": "markdown",
   "metadata": {
    "id": "E9hGJF-bbahj"
   },
   "source": [
    "## Topic Generation"
   ]
  },
  {
   "cell_type": "markdown",
   "metadata": {
    "id": "EcytR7QZbeXT"
   },
   "source": [
    "## Experimentation"
   ]
  },
  {
   "cell_type": "markdown",
   "metadata": {
    "id": "68SewhxubhEH"
   },
   "source": [
    "## Evaluation"
   ]
  },
  {
   "cell_type": "markdown",
   "metadata": {
    "id": "AgBZOgI5bjFz"
   },
   "source": [
    "## Top Documents"
   ]
  }
 ]
}