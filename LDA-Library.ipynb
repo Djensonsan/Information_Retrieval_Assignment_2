{
  "nbformat": 4,
  "nbformat_minor": 0,
  "metadata": {
    "colab": {
      "name": "LDA-Library.ipynb",
      "provenance": [],
      "toc_visible": true,
      "machine_shape": "hm"
    },
    "kernelspec": {
      "display_name": "Python 3",
      "language": "python",
      "name": "python3"
    },
    "language_info": {
      "codemirror_mode": {
        "name": "ipython",
        "version": 3
      },
      "file_extension": ".py",
      "mimetype": "text/x-python",
      "name": "python",
      "nbconvert_exporter": "python",
      "pygments_lexer": "ipython3",
      "version": "3.6.4"
    }
  },
  "cells": [
    {
      "cell_type": "markdown",
      "metadata": {
        "id": "oD1xv1ZgNrig"
      },
      "source": [
        "<a href=\"https://colab.research.google.com/github/Djensonsan/Information_Retrieval_Assignment_2/blob/main/LDA.ipynb\" target=\"_parent\"><img src=\"https://colab.research.google.com/assets/colab-badge.svg\" alt=\"Open In Colab\"/></a>"
      ]
    },
    {
      "cell_type": "markdown",
      "metadata": {
        "id": "0zTUh4QCNrin"
      },
      "source": [
        "# Information Retrieval Assignment 2: LDA\n"
      ]
    },
    {
      "cell_type": "markdown",
      "metadata": {
        "id": "tlA-AN0TNrip"
      },
      "source": [
        "## Runtime specs"
      ]
    },
    {
      "cell_type": "code",
      "metadata": {
        "pycharm": {
          "name": "#%%\n"
        },
        "colab": {
          "base_uri": "https://localhost:8080/"
        },
        "id": "gwrrmjI_Nriq",
        "outputId": "ca36d894-8064-4941-bc70-2d3550b20a2d"
      },
      "source": [
        "!cat /proc/cpuinfo"
      ],
      "execution_count": 20,
      "outputs": [
        {
          "output_type": "stream",
          "text": [
            "processor\t: 0\n",
            "vendor_id\t: GenuineIntel\n",
            "cpu family\t: 6\n",
            "model\t\t: 63\n",
            "model name\t: Intel(R) Xeon(R) CPU @ 2.30GHz\n",
            "stepping\t: 0\n",
            "microcode\t: 0x1\n",
            "cpu MHz\t\t: 2300.000\n",
            "cache size\t: 46080 KB\n",
            "physical id\t: 0\n",
            "siblings\t: 4\n",
            "core id\t\t: 0\n",
            "cpu cores\t: 2\n",
            "apicid\t\t: 0\n",
            "initial apicid\t: 0\n",
            "fpu\t\t: yes\n",
            "fpu_exception\t: yes\n",
            "cpuid level\t: 13\n",
            "wp\t\t: yes\n",
            "flags\t\t: fpu vme de pse tsc msr pae mce cx8 apic sep mtrr pge mca cmov pat pse36 clflush mmx fxsr sse sse2 ss ht syscall nx pdpe1gb rdtscp lm constant_tsc rep_good nopl xtopology nonstop_tsc cpuid tsc_known_freq pni pclmulqdq ssse3 fma cx16 pcid sse4_1 sse4_2 x2apic movbe popcnt aes xsave avx f16c rdrand hypervisor lahf_lm abm invpcid_single ssbd ibrs ibpb stibp fsgsbase tsc_adjust bmi1 avx2 smep bmi2 erms invpcid xsaveopt arat md_clear arch_capabilities\n",
            "bugs\t\t: cpu_meltdown spectre_v1 spectre_v2 spec_store_bypass l1tf mds swapgs\n",
            "bogomips\t: 4600.00\n",
            "clflush size\t: 64\n",
            "cache_alignment\t: 64\n",
            "address sizes\t: 46 bits physical, 48 bits virtual\n",
            "power management:\n",
            "\n",
            "processor\t: 1\n",
            "vendor_id\t: GenuineIntel\n",
            "cpu family\t: 6\n",
            "model\t\t: 63\n",
            "model name\t: Intel(R) Xeon(R) CPU @ 2.30GHz\n",
            "stepping\t: 0\n",
            "microcode\t: 0x1\n",
            "cpu MHz\t\t: 2300.000\n",
            "cache size\t: 46080 KB\n",
            "physical id\t: 0\n",
            "siblings\t: 4\n",
            "core id\t\t: 1\n",
            "cpu cores\t: 2\n",
            "apicid\t\t: 2\n",
            "initial apicid\t: 2\n",
            "fpu\t\t: yes\n",
            "fpu_exception\t: yes\n",
            "cpuid level\t: 13\n",
            "wp\t\t: yes\n",
            "flags\t\t: fpu vme de pse tsc msr pae mce cx8 apic sep mtrr pge mca cmov pat pse36 clflush mmx fxsr sse sse2 ss ht syscall nx pdpe1gb rdtscp lm constant_tsc rep_good nopl xtopology nonstop_tsc cpuid tsc_known_freq pni pclmulqdq ssse3 fma cx16 pcid sse4_1 sse4_2 x2apic movbe popcnt aes xsave avx f16c rdrand hypervisor lahf_lm abm invpcid_single ssbd ibrs ibpb stibp fsgsbase tsc_adjust bmi1 avx2 smep bmi2 erms invpcid xsaveopt arat md_clear arch_capabilities\n",
            "bugs\t\t: cpu_meltdown spectre_v1 spectre_v2 spec_store_bypass l1tf mds swapgs\n",
            "bogomips\t: 4600.00\n",
            "clflush size\t: 64\n",
            "cache_alignment\t: 64\n",
            "address sizes\t: 46 bits physical, 48 bits virtual\n",
            "power management:\n",
            "\n",
            "processor\t: 2\n",
            "vendor_id\t: GenuineIntel\n",
            "cpu family\t: 6\n",
            "model\t\t: 63\n",
            "model name\t: Intel(R) Xeon(R) CPU @ 2.30GHz\n",
            "stepping\t: 0\n",
            "microcode\t: 0x1\n",
            "cpu MHz\t\t: 2300.000\n",
            "cache size\t: 46080 KB\n",
            "physical id\t: 0\n",
            "siblings\t: 4\n",
            "core id\t\t: 0\n",
            "cpu cores\t: 2\n",
            "apicid\t\t: 1\n",
            "initial apicid\t: 1\n",
            "fpu\t\t: yes\n",
            "fpu_exception\t: yes\n",
            "cpuid level\t: 13\n",
            "wp\t\t: yes\n",
            "flags\t\t: fpu vme de pse tsc msr pae mce cx8 apic sep mtrr pge mca cmov pat pse36 clflush mmx fxsr sse sse2 ss ht syscall nx pdpe1gb rdtscp lm constant_tsc rep_good nopl xtopology nonstop_tsc cpuid tsc_known_freq pni pclmulqdq ssse3 fma cx16 pcid sse4_1 sse4_2 x2apic movbe popcnt aes xsave avx f16c rdrand hypervisor lahf_lm abm invpcid_single ssbd ibrs ibpb stibp fsgsbase tsc_adjust bmi1 avx2 smep bmi2 erms invpcid xsaveopt arat md_clear arch_capabilities\n",
            "bugs\t\t: cpu_meltdown spectre_v1 spectre_v2 spec_store_bypass l1tf mds swapgs\n",
            "bogomips\t: 4600.00\n",
            "clflush size\t: 64\n",
            "cache_alignment\t: 64\n",
            "address sizes\t: 46 bits physical, 48 bits virtual\n",
            "power management:\n",
            "\n",
            "processor\t: 3\n",
            "vendor_id\t: GenuineIntel\n",
            "cpu family\t: 6\n",
            "model\t\t: 63\n",
            "model name\t: Intel(R) Xeon(R) CPU @ 2.30GHz\n",
            "stepping\t: 0\n",
            "microcode\t: 0x1\n",
            "cpu MHz\t\t: 2300.000\n",
            "cache size\t: 46080 KB\n",
            "physical id\t: 0\n",
            "siblings\t: 4\n",
            "core id\t\t: 1\n",
            "cpu cores\t: 2\n",
            "apicid\t\t: 3\n",
            "initial apicid\t: 3\n",
            "fpu\t\t: yes\n",
            "fpu_exception\t: yes\n",
            "cpuid level\t: 13\n",
            "wp\t\t: yes\n",
            "flags\t\t: fpu vme de pse tsc msr pae mce cx8 apic sep mtrr pge mca cmov pat pse36 clflush mmx fxsr sse sse2 ss ht syscall nx pdpe1gb rdtscp lm constant_tsc rep_good nopl xtopology nonstop_tsc cpuid tsc_known_freq pni pclmulqdq ssse3 fma cx16 pcid sse4_1 sse4_2 x2apic movbe popcnt aes xsave avx f16c rdrand hypervisor lahf_lm abm invpcid_single ssbd ibrs ibpb stibp fsgsbase tsc_adjust bmi1 avx2 smep bmi2 erms invpcid xsaveopt arat md_clear arch_capabilities\n",
            "bugs\t\t: cpu_meltdown spectre_v1 spectre_v2 spec_store_bypass l1tf mds swapgs\n",
            "bogomips\t: 4600.00\n",
            "clflush size\t: 64\n",
            "cache_alignment\t: 64\n",
            "address sizes\t: 46 bits physical, 48 bits virtual\n",
            "power management:\n",
            "\n"
          ],
          "name": "stdout"
        }
      ]
    },
    {
      "cell_type": "code",
      "metadata": {
        "pycharm": {
          "name": "#%%\n"
        },
        "colab": {
          "base_uri": "https://localhost:8080/"
        },
        "id": "kmWVWGd5Nris",
        "outputId": "f51d35d7-c1ed-46fe-e564-201529454156"
      },
      "source": [
        "!cat /proc/meminfo"
      ],
      "execution_count": 21,
      "outputs": [
        {
          "output_type": "stream",
          "text": [
            "MemTotal:       26751732 kB\n",
            "MemFree:        18012160 kB\n",
            "MemAvailable:   23430000 kB\n",
            "Buffers:          107868 kB\n",
            "Cached:          3907396 kB\n",
            "SwapCached:            0 kB\n",
            "Active:          3011532 kB\n",
            "Inactive:        5342720 kB\n",
            "Active(anon):    2703760 kB\n",
            "Inactive(anon):      396 kB\n",
            "Active(file):     307772 kB\n",
            "Inactive(file):  5342324 kB\n",
            "Unevictable:           0 kB\n",
            "Mlocked:               0 kB\n",
            "SwapTotal:             0 kB\n",
            "SwapFree:              0 kB\n",
            "Dirty:               376 kB\n",
            "Writeback:             0 kB\n",
            "AnonPages:       4339000 kB\n",
            "Mapped:           297068 kB\n",
            "Shmem:               940 kB\n",
            "Slab:             239544 kB\n",
            "SReclaimable:     181044 kB\n",
            "SUnreclaim:        58500 kB\n",
            "KernelStack:        5008 kB\n",
            "PageTables:        14444 kB\n",
            "NFS_Unstable:          0 kB\n",
            "Bounce:                0 kB\n",
            "WritebackTmp:          0 kB\n",
            "CommitLimit:    13375864 kB\n",
            "Committed_AS:    7714980 kB\n",
            "VmallocTotal:   34359738367 kB\n",
            "VmallocUsed:           0 kB\n",
            "VmallocChunk:          0 kB\n",
            "Percpu:             1904 kB\n",
            "AnonHugePages:      2048 kB\n",
            "ShmemHugePages:        0 kB\n",
            "ShmemPmdMapped:        0 kB\n",
            "HugePages_Total:       0\n",
            "HugePages_Free:        0\n",
            "HugePages_Rsvd:        0\n",
            "HugePages_Surp:        0\n",
            "Hugepagesize:       2048 kB\n",
            "Hugetlb:               0 kB\n",
            "DirectMap4k:      109800 kB\n",
            "DirectMap2M:     6180864 kB\n",
            "DirectMap1G:    23068672 kB\n"
          ],
          "name": "stdout"
        }
      ]
    },
    {
      "cell_type": "markdown",
      "metadata": {
        "id": "ki7coeJrNriu"
      },
      "source": [
        "## Imports"
      ]
    },
    {
      "cell_type": "code",
      "metadata": {
        "pycharm": {
          "name": "#%%\n"
        },
        "colab": {
          "base_uri": "https://localhost:8080/"
        },
        "id": "elEOKT3qNriu",
        "outputId": "b79dd1df-cf2d-4365-e5ca-d0aca6bfa564"
      },
      "source": [
        "# Install your required packages here\n",
        "!pip install pandas numpy matplotlib fsspec gcsfs dask[complete] gensim nltk\n",
        "!pip install -q tqdm"
      ],
      "execution_count": 25,
      "outputs": [
        {
          "output_type": "stream",
          "text": [
            "Requirement already satisfied: pandas in /usr/local/lib/python3.6/dist-packages (1.1.5)\n",
            "Requirement already satisfied: numpy in /usr/local/lib/python3.6/dist-packages (1.18.5)\n",
            "Requirement already satisfied: matplotlib in /usr/local/lib/python3.6/dist-packages (3.2.2)\n",
            "Requirement already satisfied: fsspec in /usr/local/lib/python3.6/dist-packages (0.8.4)\n",
            "Requirement already satisfied: gcsfs in /usr/local/lib/python3.6/dist-packages (0.7.1)\n",
            "Requirement already satisfied: dask[complete] in /usr/local/lib/python3.6/dist-packages (2.12.0)\n",
            "Requirement already satisfied: gensim in /usr/local/lib/python3.6/dist-packages (3.6.0)\n",
            "Requirement already satisfied: nltk in /usr/local/lib/python3.6/dist-packages (3.2.5)\n",
            "Requirement already satisfied: python-dateutil>=2.7.3 in /usr/local/lib/python3.6/dist-packages (from pandas) (2.8.1)\n",
            "Requirement already satisfied: pytz>=2017.2 in /usr/local/lib/python3.6/dist-packages (from pandas) (2018.9)\n",
            "Requirement already satisfied: cycler>=0.10 in /usr/local/lib/python3.6/dist-packages (from matplotlib) (0.10.0)\n",
            "Requirement already satisfied: pyparsing!=2.0.4,!=2.1.2,!=2.1.6,>=2.0.1 in /usr/local/lib/python3.6/dist-packages (from matplotlib) (2.4.7)\n",
            "Requirement already satisfied: kiwisolver>=1.0.1 in /usr/local/lib/python3.6/dist-packages (from matplotlib) (1.3.1)\n",
            "Requirement already satisfied: google-auth-oauthlib in /usr/local/lib/python3.6/dist-packages (from gcsfs) (0.4.2)\n",
            "Requirement already satisfied: requests in /usr/local/lib/python3.6/dist-packages (from gcsfs) (2.23.0)\n",
            "Requirement already satisfied: google-auth>=1.2 in /usr/local/lib/python3.6/dist-packages (from gcsfs) (1.17.2)\n",
            "Requirement already satisfied: aiohttp in /usr/local/lib/python3.6/dist-packages (from gcsfs) (3.7.3)\n",
            "Requirement already satisfied: decorator in /usr/local/lib/python3.6/dist-packages (from gcsfs) (4.4.2)\n",
            "Requirement already satisfied: toolz>=0.7.3; extra == \"complete\" in /usr/local/lib/python3.6/dist-packages (from dask[complete]) (0.11.1)\n",
            "Requirement already satisfied: distributed>=2.0; extra == \"complete\" in /usr/local/lib/python3.6/dist-packages (from dask[complete]) (2020.12.0)\n",
            "Requirement already satisfied: cloudpickle>=0.2.1; extra == \"complete\" in /usr/local/lib/python3.6/dist-packages (from dask[complete]) (1.3.0)\n",
            "Requirement already satisfied: PyYaml; extra == \"complete\" in /usr/local/lib/python3.6/dist-packages (from dask[complete]) (3.13)\n",
            "Requirement already satisfied: partd>=0.3.10; extra == \"complete\" in /usr/local/lib/python3.6/dist-packages (from dask[complete]) (1.1.0)\n",
            "Requirement already satisfied: bokeh>=1.0.0; extra == \"complete\" in /usr/local/lib/python3.6/dist-packages (from dask[complete]) (2.1.1)\n",
            "Requirement already satisfied: six>=1.5.0 in /usr/local/lib/python3.6/dist-packages (from gensim) (1.15.0)\n",
            "Requirement already satisfied: smart-open>=1.2.1 in /usr/local/lib/python3.6/dist-packages (from gensim) (4.0.1)\n",
            "Requirement already satisfied: scipy>=0.18.1 in /usr/local/lib/python3.6/dist-packages (from gensim) (1.4.1)\n",
            "Requirement already satisfied: requests-oauthlib>=0.7.0 in /usr/local/lib/python3.6/dist-packages (from google-auth-oauthlib->gcsfs) (1.3.0)\n",
            "Requirement already satisfied: chardet<4,>=3.0.2 in /usr/local/lib/python3.6/dist-packages (from requests->gcsfs) (3.0.4)\n",
            "Requirement already satisfied: idna<3,>=2.5 in /usr/local/lib/python3.6/dist-packages (from requests->gcsfs) (2.10)\n",
            "Requirement already satisfied: urllib3!=1.25.0,!=1.25.1,<1.26,>=1.21.1 in /usr/local/lib/python3.6/dist-packages (from requests->gcsfs) (1.24.3)\n",
            "Requirement already satisfied: certifi>=2017.4.17 in /usr/local/lib/python3.6/dist-packages (from requests->gcsfs) (2020.12.5)\n",
            "Requirement already satisfied: rsa<5,>=3.1.4; python_version >= \"3\" in /usr/local/lib/python3.6/dist-packages (from google-auth>=1.2->gcsfs) (4.6)\n",
            "Requirement already satisfied: setuptools>=40.3.0 in /usr/local/lib/python3.6/dist-packages (from google-auth>=1.2->gcsfs) (50.3.2)\n",
            "Requirement already satisfied: cachetools<5.0,>=2.0.0 in /usr/local/lib/python3.6/dist-packages (from google-auth>=1.2->gcsfs) (4.1.1)\n",
            "Requirement already satisfied: pyasn1-modules>=0.2.1 in /usr/local/lib/python3.6/dist-packages (from google-auth>=1.2->gcsfs) (0.2.8)\n",
            "Requirement already satisfied: multidict<7.0,>=4.5 in /usr/local/lib/python3.6/dist-packages (from aiohttp->gcsfs) (5.1.0)\n",
            "Requirement already satisfied: typing-extensions>=3.6.5 in /usr/local/lib/python3.6/dist-packages (from aiohttp->gcsfs) (3.7.4.3)\n",
            "Requirement already satisfied: idna-ssl>=1.0; python_version < \"3.7\" in /usr/local/lib/python3.6/dist-packages (from aiohttp->gcsfs) (1.1.0)\n",
            "Requirement already satisfied: yarl<2.0,>=1.0 in /usr/local/lib/python3.6/dist-packages (from aiohttp->gcsfs) (1.6.3)\n",
            "Requirement already satisfied: attrs>=17.3.0 in /usr/local/lib/python3.6/dist-packages (from aiohttp->gcsfs) (20.3.0)\n",
            "Requirement already satisfied: async-timeout<4.0,>=3.0 in /usr/local/lib/python3.6/dist-packages (from aiohttp->gcsfs) (3.0.1)\n",
            "Requirement already satisfied: zict>=0.1.3 in /usr/local/lib/python3.6/dist-packages (from distributed>=2.0; extra == \"complete\"->dask[complete]) (2.0.0)\n",
            "Requirement already satisfied: psutil>=5.0 in /usr/local/lib/python3.6/dist-packages (from distributed>=2.0; extra == \"complete\"->dask[complete]) (5.4.8)\n",
            "Requirement already satisfied: contextvars; python_version < \"3.7\" in /usr/local/lib/python3.6/dist-packages (from distributed>=2.0; extra == \"complete\"->dask[complete]) (2.4)\n",
            "Requirement already satisfied: click>=6.6 in /usr/local/lib/python3.6/dist-packages (from distributed>=2.0; extra == \"complete\"->dask[complete]) (7.1.2)\n",
            "Requirement already satisfied: msgpack>=0.6.0 in /usr/local/lib/python3.6/dist-packages (from distributed>=2.0; extra == \"complete\"->dask[complete]) (1.0.0)\n",
            "Requirement already satisfied: tornado>=5; python_version < \"3.8\" in /usr/local/lib/python3.6/dist-packages (from distributed>=2.0; extra == \"complete\"->dask[complete]) (5.1.1)\n",
            "Requirement already satisfied: sortedcontainers!=2.0.0,!=2.0.1 in /usr/local/lib/python3.6/dist-packages (from distributed>=2.0; extra == \"complete\"->dask[complete]) (2.3.0)\n",
            "Requirement already satisfied: tblib>=1.6.0 in /usr/local/lib/python3.6/dist-packages (from distributed>=2.0; extra == \"complete\"->dask[complete]) (1.7.0)\n",
            "Requirement already satisfied: locket in /usr/local/lib/python3.6/dist-packages (from partd>=0.3.10; extra == \"complete\"->dask[complete]) (0.2.0)\n",
            "Requirement already satisfied: pillow>=4.0 in /usr/local/lib/python3.6/dist-packages (from bokeh>=1.0.0; extra == \"complete\"->dask[complete]) (7.0.0)\n",
            "Requirement already satisfied: packaging>=16.8 in /usr/local/lib/python3.6/dist-packages (from bokeh>=1.0.0; extra == \"complete\"->dask[complete]) (20.7)\n",
            "Requirement already satisfied: Jinja2>=2.7 in /usr/local/lib/python3.6/dist-packages (from bokeh>=1.0.0; extra == \"complete\"->dask[complete]) (2.11.2)\n",
            "Requirement already satisfied: oauthlib>=3.0.0 in /usr/local/lib/python3.6/dist-packages (from requests-oauthlib>=0.7.0->google-auth-oauthlib->gcsfs) (3.1.0)\n",
            "Requirement already satisfied: pyasn1>=0.1.3 in /usr/local/lib/python3.6/dist-packages (from rsa<5,>=3.1.4; python_version >= \"3\"->google-auth>=1.2->gcsfs) (0.4.8)\n",
            "Requirement already satisfied: heapdict in /usr/local/lib/python3.6/dist-packages (from zict>=0.1.3->distributed>=2.0; extra == \"complete\"->dask[complete]) (1.0.1)\n",
            "Requirement already satisfied: immutables>=0.9 in /usr/local/lib/python3.6/dist-packages (from contextvars; python_version < \"3.7\"->distributed>=2.0; extra == \"complete\"->dask[complete]) (0.14)\n",
            "Requirement already satisfied: MarkupSafe>=0.23 in /usr/local/lib/python3.6/dist-packages (from Jinja2>=2.7->bokeh>=1.0.0; extra == \"complete\"->dask[complete]) (1.1.1)\n"
          ],
          "name": "stdout"
        }
      ]
    },
    {
      "cell_type": "code",
      "metadata": {
        "pycharm": {
          "name": "#%%\n"
        },
        "colab": {
          "base_uri": "https://localhost:8080/"
        },
        "id": "Do6UNKVSNriv",
        "outputId": "f154bfca-d2d7-45b6-c931-b1307c2e3d36"
      },
      "source": [
        "import pandas as pd\n",
        "import numpy as np\n",
        "import tqdm.notebook as tqdm\n",
        "import dask.dataframe as dd\n",
        "\n",
        "from ast import literal_eval\n",
        "import gensim\n",
        "from gensim import corpora, models\n",
        "from tqdm import tqdm\n",
        "from gensim.utils import simple_preprocess\n",
        "from gensim.parsing.preprocessing import STOPWORDS\n",
        "from nltk.stem import WordNetLemmatizer, SnowballStemmer\n",
        "from nltk.stem.porter import *\n",
        "from nltk.corpus import stopwords\n",
        "import nltk\n",
        "nltk.download('wordnet')\n",
        "nltk.download('punkt')\n",
        "nltk.download('stopwords')"
      ],
      "execution_count": 26,
      "outputs": [
        {
          "output_type": "stream",
          "text": [
            "[nltk_data] Downloading package wordnet to /root/nltk_data...\n",
            "[nltk_data]   Package wordnet is already up-to-date!\n",
            "[nltk_data] Downloading package punkt to /root/nltk_data...\n",
            "[nltk_data]   Package punkt is already up-to-date!\n",
            "[nltk_data] Downloading package stopwords to /root/nltk_data...\n",
            "[nltk_data]   Package stopwords is already up-to-date!\n"
          ],
          "name": "stdout"
        },
        {
          "output_type": "execute_result",
          "data": {
            "text/plain": [
              "True"
            ]
          },
          "metadata": {
            "tags": []
          },
          "execution_count": 26
        }
      ]
    },
    {
      "cell_type": "code",
      "metadata": {
        "pycharm": {
          "name": "#%%\n"
        },
        "colab": {
          "base_uri": "https://localhost:8080/"
        },
        "id": "PpNcjDhDNriw",
        "outputId": "dec09fbb-04b7-4f37-8b00-47c1fa8a7344"
      },
      "source": [
        "# Mount google drive in colab:\n",
        "from google.cloud import storage\n",
        "from google.colab import drive\n",
        "drive.mount('/content/drive')"
      ],
      "execution_count": 27,
      "outputs": [
        {
          "output_type": "stream",
          "text": [
            "Drive already mounted at /content/drive; to attempt to forcibly remount, call drive.mount(\"/content/drive\", force_remount=True).\n"
          ],
          "name": "stdout"
        }
      ]
    },
    {
      "cell_type": "markdown",
      "metadata": {
        "id": "3_puHSXENrix"
      },
      "source": [
        "## Preprocessing"
      ]
    },
    {
      "cell_type": "code",
      "metadata": {
        "pycharm": {
          "name": "#%%\n"
        },
        "id": "I0wqSNm2Nrix"
      },
      "source": [
        "# Pycharm:\n",
        "# data = pd.read_csv('data/news_dataset.csv')"
      ],
      "execution_count": 28,
      "outputs": []
    },
    {
      "cell_type": "code",
      "metadata": {
        "pycharm": {
          "name": "#%%\n"
        },
        "id": "4OgWCYVtNriz"
      },
      "source": [
        "# Colab:\n",
        "data = pd.read_csv('/content/drive/MyDrive/IR-Assignment-2/data/news_dataset.csv')"
      ],
      "execution_count": 29,
      "outputs": []
    },
    {
      "cell_type": "markdown",
      "metadata": {
        "id": "YQis7ybPNriz"
      },
      "source": [
        "### Exploration"
      ]
    },
    {
      "cell_type": "code",
      "metadata": {
        "pycharm": {
          "name": "#%%\n"
        },
        "colab": {
          "base_uri": "https://localhost:8080/"
        },
        "id": "HM9oeUfkNriz",
        "outputId": "865f516c-1197-4f7a-d669-4f19ecc65e90"
      },
      "source": [
        "data.info()"
      ],
      "execution_count": 30,
      "outputs": [
        {
          "output_type": "stream",
          "text": [
            "<class 'pandas.core.frame.DataFrame'>\n",
            "RangeIndex: 141585 entries, 0 to 141584\n",
            "Data columns (total 9 columns):\n",
            " #   Column       Non-Null Count   Dtype \n",
            "---  ------       --------------   ----- \n",
            " 0   id           141585 non-null  int64 \n",
            " 1   title        141583 non-null  object\n",
            " 2   publication  141564 non-null  object\n",
            " 3   author       125725 non-null  object\n",
            " 4   date         138869 non-null  object\n",
            " 5   year         138911 non-null  object\n",
            " 6   month        138911 non-null  object\n",
            " 7   url          84541 non-null   object\n",
            " 8   content      141543 non-null  object\n",
            "dtypes: int64(1), object(8)\n",
            "memory usage: 9.7+ MB\n"
          ],
          "name": "stdout"
        }
      ]
    },
    {
      "cell_type": "code",
      "metadata": {
        "pycharm": {
          "name": "#%%\n"
        },
        "colab": {
          "base_uri": "https://localhost:8080/",
          "height": 1000
        },
        "id": "qY-TJ3HrNri0",
        "outputId": "55abdc12-f1bf-4592-f7e7-c65614191238"
      },
      "source": [
        "data.head(n=43)"
      ],
      "execution_count": 31,
      "outputs": [
        {
          "output_type": "execute_result",
          "data": {
            "text/html": [
              "<div>\n",
              "<style scoped>\n",
              "    .dataframe tbody tr th:only-of-type {\n",
              "        vertical-align: middle;\n",
              "    }\n",
              "\n",
              "    .dataframe tbody tr th {\n",
              "        vertical-align: top;\n",
              "    }\n",
              "\n",
              "    .dataframe thead th {\n",
              "        text-align: right;\n",
              "    }\n",
              "</style>\n",
              "<table border=\"1\" class=\"dataframe\">\n",
              "  <thead>\n",
              "    <tr style=\"text-align: right;\">\n",
              "      <th></th>\n",
              "      <th>id</th>\n",
              "      <th>title</th>\n",
              "      <th>publication</th>\n",
              "      <th>author</th>\n",
              "      <th>date</th>\n",
              "      <th>year</th>\n",
              "      <th>month</th>\n",
              "      <th>url</th>\n",
              "      <th>content</th>\n",
              "    </tr>\n",
              "  </thead>\n",
              "  <tbody>\n",
              "    <tr>\n",
              "      <th>0</th>\n",
              "      <td>1</td>\n",
              "      <td>House Republicans Fret About Winning Their Hea...</td>\n",
              "      <td>New York Times</td>\n",
              "      <td>Carl Hulse</td>\n",
              "      <td>2016-12-31</td>\n",
              "      <td>2016</td>\n",
              "      <td>12</td>\n",
              "      <td>NaN</td>\n",
              "      <td>WASHINGTON  —   Congressional Republicans have...</td>\n",
              "    </tr>\n",
              "    <tr>\n",
              "      <th>1</th>\n",
              "      <td>2</td>\n",
              "      <td>Rift Between Officers and Residents as Killing...</td>\n",
              "      <td>New York Times</td>\n",
              "      <td>Benjamin Mueller and Al Baker</td>\n",
              "      <td>2017-06-19</td>\n",
              "      <td>2017</td>\n",
              "      <td>6</td>\n",
              "      <td>NaN</td>\n",
              "      <td>After the bullet shells get counted, the blood...</td>\n",
              "    </tr>\n",
              "    <tr>\n",
              "      <th>2</th>\n",
              "      <td>3</td>\n",
              "      <td>Tyrus Wong, ‘Bambi’ Artist Thwarted by Racial ...</td>\n",
              "      <td>New York Times</td>\n",
              "      <td>Margalit Fox</td>\n",
              "      <td>2017-01-06</td>\n",
              "      <td>2017</td>\n",
              "      <td>1</td>\n",
              "      <td>NaN</td>\n",
              "      <td>When Walt Disney’s “Bambi” opened in 1942, cri...</td>\n",
              "    </tr>\n",
              "    <tr>\n",
              "      <th>3</th>\n",
              "      <td>4</td>\n",
              "      <td>Among Deaths in 2016, a Heavy Toll in Pop Musi...</td>\n",
              "      <td>New York Times</td>\n",
              "      <td>William McDonald</td>\n",
              "      <td>2017-04-10</td>\n",
              "      <td>2017</td>\n",
              "      <td>4</td>\n",
              "      <td>NaN</td>\n",
              "      <td>Death may be the great equalizer, but it isn’t...</td>\n",
              "    </tr>\n",
              "    <tr>\n",
              "      <th>4</th>\n",
              "      <td>5</td>\n",
              "      <td>Kim Jong-un Says North Korea Is Preparing to T...</td>\n",
              "      <td>New York Times</td>\n",
              "      <td>Choe Sang-Hun</td>\n",
              "      <td>2017-01-02</td>\n",
              "      <td>2017</td>\n",
              "      <td>1</td>\n",
              "      <td>NaN</td>\n",
              "      <td>SEOUL, South Korea  —   North Korea’s leader, ...</td>\n",
              "    </tr>\n",
              "    <tr>\n",
              "      <th>5</th>\n",
              "      <td>6</td>\n",
              "      <td>Sick With a Cold, Queen Elizabeth Misses New Y...</td>\n",
              "      <td>New York Times</td>\n",
              "      <td>Sewell Chan</td>\n",
              "      <td>2017-01-02</td>\n",
              "      <td>2017</td>\n",
              "      <td>1</td>\n",
              "      <td>NaN</td>\n",
              "      <td>LONDON  —   Queen Elizabeth II, who has been b...</td>\n",
              "    </tr>\n",
              "    <tr>\n",
              "      <th>6</th>\n",
              "      <td>7</td>\n",
              "      <td>Taiwan’s President Accuses China of Renewed In...</td>\n",
              "      <td>New York Times</td>\n",
              "      <td>Javier C. Hernández</td>\n",
              "      <td>2017-01-02</td>\n",
              "      <td>2017</td>\n",
              "      <td>1</td>\n",
              "      <td>NaN</td>\n",
              "      <td>BEIJING  —   President Tsai   of Taiwan sharpl...</td>\n",
              "    </tr>\n",
              "    <tr>\n",
              "      <th>7</th>\n",
              "      <td>8</td>\n",
              "      <td>After ‘The Biggest Loser,’ Their Bodies Fought...</td>\n",
              "      <td>New York Times</td>\n",
              "      <td>Gina Kolata</td>\n",
              "      <td>2017-02-08</td>\n",
              "      <td>2017</td>\n",
              "      <td>2</td>\n",
              "      <td>NaN</td>\n",
              "      <td>Danny Cahill stood, slightly dazed, in a blizz...</td>\n",
              "    </tr>\n",
              "    <tr>\n",
              "      <th>8</th>\n",
              "      <td>9</td>\n",
              "      <td>First, a Mixtape. Then a Romance. - The New Yo...</td>\n",
              "      <td>New York Times</td>\n",
              "      <td>Katherine Rosman</td>\n",
              "      <td>2016-12-31</td>\n",
              "      <td>2016</td>\n",
              "      <td>12</td>\n",
              "      <td>NaN</td>\n",
              "      <td>Just how   is Hillary Kerr, the    founder of ...</td>\n",
              "    </tr>\n",
              "    <tr>\n",
              "      <th>9</th>\n",
              "      <td>10</td>\n",
              "      <td>Calling on Angels While Enduring the Trials of...</td>\n",
              "      <td>New York Times</td>\n",
              "      <td>Andy Newman</td>\n",
              "      <td>2016-12-31</td>\n",
              "      <td>2016</td>\n",
              "      <td>12</td>\n",
              "      <td>NaN</td>\n",
              "      <td>Angels are everywhere in the Muñiz family’s ap...</td>\n",
              "    </tr>\n",
              "    <tr>\n",
              "      <th>10</th>\n",
              "      <td>11</td>\n",
              "      <td>Weak Federal Powers Could Limit Trump’s Climat...</td>\n",
              "      <td>New York Times</td>\n",
              "      <td>Justin Gillis</td>\n",
              "      <td>2017-01-03</td>\n",
              "      <td>2017</td>\n",
              "      <td>1</td>\n",
              "      <td>NaN</td>\n",
              "      <td>With Donald J. Trump about to take control of ...</td>\n",
              "    </tr>\n",
              "    <tr>\n",
              "      <th>11</th>\n",
              "      <td>12</td>\n",
              "      <td>Can Carbon Capture Technology Prosper Under Tr...</td>\n",
              "      <td>New York Times</td>\n",
              "      <td>John Schwartz</td>\n",
              "      <td>2017-01-05</td>\n",
              "      <td>2017</td>\n",
              "      <td>1</td>\n",
              "      <td>NaN</td>\n",
              "      <td>THOMPSONS, Tex.  —   Can one of the most promi...</td>\n",
              "    </tr>\n",
              "    <tr>\n",
              "      <th>12</th>\n",
              "      <td>13</td>\n",
              "      <td>Mar-a-Lago, the Future Winter White House and ...</td>\n",
              "      <td>New York Times</td>\n",
              "      <td>Maggie Haberman</td>\n",
              "      <td>2017-01-02</td>\n",
              "      <td>2017</td>\n",
              "      <td>1</td>\n",
              "      <td>NaN</td>\n",
              "      <td>WEST PALM BEACH, Fla.  —   When   Donald J. Tr...</td>\n",
              "    </tr>\n",
              "    <tr>\n",
              "      <th>13</th>\n",
              "      <td>14</td>\n",
              "      <td>How to form healthy habits in your 20s - The N...</td>\n",
              "      <td>New York Times</td>\n",
              "      <td>Charles Duhigg</td>\n",
              "      <td>2017-01-02</td>\n",
              "      <td>2017</td>\n",
              "      <td>1</td>\n",
              "      <td>NaN</td>\n",
              "      <td>This article is part of a series aimed at help...</td>\n",
              "    </tr>\n",
              "    <tr>\n",
              "      <th>14</th>\n",
              "      <td>15</td>\n",
              "      <td>Turning Your Vacation Photos Into Works of Art...</td>\n",
              "      <td>New York Times</td>\n",
              "      <td>Stephanie Rosenbloom</td>\n",
              "      <td>2017-04-14</td>\n",
              "      <td>2017</td>\n",
              "      <td>4</td>\n",
              "      <td>NaN</td>\n",
              "      <td>It’s the season for family travel and photos  ...</td>\n",
              "    </tr>\n",
              "    <tr>\n",
              "      <th>15</th>\n",
              "      <td>16</td>\n",
              "      <td>As Second Avenue Subway Opens, a Train Delay E...</td>\n",
              "      <td>New York Times</td>\n",
              "      <td>Emma G. Fitzsimmons</td>\n",
              "      <td>2017-01-02</td>\n",
              "      <td>2017</td>\n",
              "      <td>1</td>\n",
              "      <td>NaN</td>\n",
              "      <td>Finally. The Second Avenue subway opened in Ne...</td>\n",
              "    </tr>\n",
              "    <tr>\n",
              "      <th>16</th>\n",
              "      <td>17</td>\n",
              "      <td>Dylann Roof Himself Rejects Best Defense Again...</td>\n",
              "      <td>New York Times</td>\n",
              "      <td>Kevin Sack and Alan Blinder</td>\n",
              "      <td>2017-01-02</td>\n",
              "      <td>2017</td>\n",
              "      <td>1</td>\n",
              "      <td>NaN</td>\n",
              "      <td>pages into the   journal found in Dylann S. ...</td>\n",
              "    </tr>\n",
              "    <tr>\n",
              "      <th>17</th>\n",
              "      <td>18</td>\n",
              "      <td>Modi’s Cash Ban Brings Pain, but Corruption-We...</td>\n",
              "      <td>New York Times</td>\n",
              "      <td>Geeta Anand</td>\n",
              "      <td>2017-01-02</td>\n",
              "      <td>2017</td>\n",
              "      <td>1</td>\n",
              "      <td>NaN</td>\n",
              "      <td>MUMBAI, India  —   It was a bold and risky gam...</td>\n",
              "    </tr>\n",
              "    <tr>\n",
              "      <th>18</th>\n",
              "      <td>19</td>\n",
              "      <td>Suicide Bombing in Baghdad Kills at Least 36 -...</td>\n",
              "      <td>New York Times</td>\n",
              "      <td>The Associated Press</td>\n",
              "      <td>2017-01-03</td>\n",
              "      <td>2017</td>\n",
              "      <td>1</td>\n",
              "      <td>NaN</td>\n",
              "      <td>BAGHDAD  —   A suicide bomber detonated a pick...</td>\n",
              "    </tr>\n",
              "    <tr>\n",
              "      <th>19</th>\n",
              "      <td>20</td>\n",
              "      <td>Fecal Pollution Taints Water at Melbourne’s Be...</td>\n",
              "      <td>New York Times</td>\n",
              "      <td>Brett Cole</td>\n",
              "      <td>2017-01-03</td>\n",
              "      <td>2017</td>\n",
              "      <td>1</td>\n",
              "      <td>NaN</td>\n",
              "      <td>SYDNEY, Australia  —   The annual beach pilgri...</td>\n",
              "    </tr>\n",
              "    <tr>\n",
              "      <th>20</th>\n",
              "      <td>21</td>\n",
              "      <td>N.F.L. Playoffs: Schedule, Matchups and Odds -...</td>\n",
              "      <td>New York Times</td>\n",
              "      <td>Benjamin Hoffman</td>\n",
              "      <td>2017-01-03</td>\n",
              "      <td>2017</td>\n",
              "      <td>1</td>\n",
              "      <td>NaN</td>\n",
              "      <td>When the Green Bay Packers lost to the Washing...</td>\n",
              "    </tr>\n",
              "    <tr>\n",
              "      <th>21</th>\n",
              "      <td>22</td>\n",
              "      <td>Mariah Carey’s Manager Blames Producers for Ne...</td>\n",
              "      <td>New York Times</td>\n",
              "      <td>Patrick Healy</td>\n",
              "      <td>2017-01-02</td>\n",
              "      <td>2017</td>\n",
              "      <td>1</td>\n",
              "      <td>NaN</td>\n",
              "      <td>Mariah Carey suffered through a performance tr...</td>\n",
              "    </tr>\n",
              "    <tr>\n",
              "      <th>22</th>\n",
              "      <td>23</td>\n",
              "      <td>Damaged by War, Syria’s Cultural Sites Rise An...</td>\n",
              "      <td>New York Times</td>\n",
              "      <td>Marlise Simons</td>\n",
              "      <td>2017-01-01</td>\n",
              "      <td>2017</td>\n",
              "      <td>1</td>\n",
              "      <td>NaN</td>\n",
              "      <td>PARIS  —   When the Islamic State was about to...</td>\n",
              "    </tr>\n",
              "    <tr>\n",
              "      <th>23</th>\n",
              "      <td>24</td>\n",
              "      <td>George Michael’s Freedom Video: An Oral Histor...</td>\n",
              "      <td>New York Times</td>\n",
              "      <td>Guy Trebay and Jacob Bernstein</td>\n",
              "      <td>2017-01-01</td>\n",
              "      <td>2017</td>\n",
              "      <td>1</td>\n",
              "      <td>NaN</td>\n",
              "      <td>Pop music and fashion never met cuter than in ...</td>\n",
              "    </tr>\n",
              "    <tr>\n",
              "      <th>24</th>\n",
              "      <td>25</td>\n",
              "      <td>With New Congress Poised to Convene, Obama’s P...</td>\n",
              "      <td>New York Times</td>\n",
              "      <td>Jennifer Steinhauer</td>\n",
              "      <td>2017-01-02</td>\n",
              "      <td>2017</td>\n",
              "      <td>1</td>\n",
              "      <td>NaN</td>\n",
              "      <td>WASHINGTON  —   The most powerful and ambitiou...</td>\n",
              "    </tr>\n",
              "    <tr>\n",
              "      <th>25</th>\n",
              "      <td>26</td>\n",
              "      <td>Republicans Stonewalled Obama. Now the Ball Is...</td>\n",
              "      <td>New York Times</td>\n",
              "      <td>Carl Hulse</td>\n",
              "      <td>2017-01-03</td>\n",
              "      <td>2017</td>\n",
              "      <td>1</td>\n",
              "      <td>NaN</td>\n",
              "      <td>WASHINGTON  —   It’s   or   time for Republica...</td>\n",
              "    </tr>\n",
              "    <tr>\n",
              "      <th>26</th>\n",
              "      <td>27</td>\n",
              "      <td>Istanbul, Donald Trump, Benjamin Netanyahu: Yo...</td>\n",
              "      <td>New York Times</td>\n",
              "      <td>Charles McDermid</td>\n",
              "      <td>2017-01-03</td>\n",
              "      <td>2017</td>\n",
              "      <td>1</td>\n",
              "      <td>NaN</td>\n",
              "      <td>Good morning.  Here’s what you need to know: •...</td>\n",
              "    </tr>\n",
              "    <tr>\n",
              "      <th>27</th>\n",
              "      <td>28</td>\n",
              "      <td>Inside Trump Defense Secretary Pick’s Efforts ...</td>\n",
              "      <td>New York Times</td>\n",
              "      <td>Sheri Fink and Helene Cooper</td>\n",
              "      <td>2017-01-05</td>\n",
              "      <td>2017</td>\n",
              "      <td>1</td>\n",
              "      <td>NaN</td>\n",
              "      <td>The body of the Iraqi prisoner was found naked...</td>\n",
              "    </tr>\n",
              "    <tr>\n",
              "      <th>28</th>\n",
              "      <td>29</td>\n",
              "      <td>ISIS Claims Responsibility for Istanbul Nightc...</td>\n",
              "      <td>New York Times</td>\n",
              "      <td>Tim Arango</td>\n",
              "      <td>2017-01-03</td>\n",
              "      <td>2017</td>\n",
              "      <td>1</td>\n",
              "      <td>NaN</td>\n",
              "      <td>ISTANBUL  —   The Islamic State on Monday issu...</td>\n",
              "    </tr>\n",
              "    <tr>\n",
              "      <th>29</th>\n",
              "      <td>30</td>\n",
              "      <td>The Afghan War and the Evolution of Obama - Th...</td>\n",
              "      <td>New York Times</td>\n",
              "      <td>Mark Landler</td>\n",
              "      <td>2017-01-17</td>\n",
              "      <td>2017</td>\n",
              "      <td>1</td>\n",
              "      <td>NaN</td>\n",
              "      <td>WASHINGTON  —   President Obama’s advisers wre...</td>\n",
              "    </tr>\n",
              "    <tr>\n",
              "      <th>30</th>\n",
              "      <td>31</td>\n",
              "      <td>Tips for Your Post-Holiday Clutter Purge - The...</td>\n",
              "      <td>New York Times</td>\n",
              "      <td>Michelle Higgins</td>\n",
              "      <td>2017-04-11</td>\n",
              "      <td>2017</td>\n",
              "      <td>4</td>\n",
              "      <td>NaN</td>\n",
              "      <td>With the year winding down and New Year’s reso...</td>\n",
              "    </tr>\n",
              "    <tr>\n",
              "      <th>31</th>\n",
              "      <td>32</td>\n",
              "      <td>Benjamin Netanyahu Questioned in Israel Graft ...</td>\n",
              "      <td>New York Times</td>\n",
              "      <td>Isabel Kershner</td>\n",
              "      <td>2017-01-03</td>\n",
              "      <td>2017</td>\n",
              "      <td>1</td>\n",
              "      <td>NaN</td>\n",
              "      <td>JERUSALEM  —   Israeli police investigators qu...</td>\n",
              "    </tr>\n",
              "    <tr>\n",
              "      <th>32</th>\n",
              "      <td>33</td>\n",
              "      <td>France Lets Workers Turn Off, Tune Out and Liv...</td>\n",
              "      <td>New York Times</td>\n",
              "      <td>Alissa J. Rubin</td>\n",
              "      <td>2017-01-03</td>\n",
              "      <td>2017</td>\n",
              "      <td>1</td>\n",
              "      <td>NaN</td>\n",
              "      <td>PARIS  —   If the world does not envy the Fren...</td>\n",
              "    </tr>\n",
              "    <tr>\n",
              "      <th>33</th>\n",
              "      <td>34</td>\n",
              "      <td>Airline Pilot, Believed to Be Drunk, Is Pulled...</td>\n",
              "      <td>New York Times</td>\n",
              "      <td>Ian Austen</td>\n",
              "      <td>2017-01-03</td>\n",
              "      <td>2017</td>\n",
              "      <td>1</td>\n",
              "      <td>NaN</td>\n",
              "      <td>OTTAWA  —   It was 7 a. m. and 99 passengers a...</td>\n",
              "    </tr>\n",
              "    <tr>\n",
              "      <th>34</th>\n",
              "      <td>35</td>\n",
              "      <td>Riot by Drug Gangs in Brazil Prison Leaves at ...</td>\n",
              "      <td>New York Times</td>\n",
              "      <td>Simon Romero</td>\n",
              "      <td>2017-01-16</td>\n",
              "      <td>2017</td>\n",
              "      <td>1</td>\n",
              "      <td>NaN</td>\n",
              "      <td>RIO DE JANEIRO  —   A prison riot involving ga...</td>\n",
              "    </tr>\n",
              "    <tr>\n",
              "      <th>35</th>\n",
              "      <td>36</td>\n",
              "      <td>SpaceX Says It’s Ready to Launch Rockets Again...</td>\n",
              "      <td>New York Times</td>\n",
              "      <td>Kenneth Chang</td>\n",
              "      <td>2017-01-02</td>\n",
              "      <td>2017</td>\n",
              "      <td>1</td>\n",
              "      <td>NaN</td>\n",
              "      <td>After the explosion in September of one of its...</td>\n",
              "    </tr>\n",
              "    <tr>\n",
              "      <th>36</th>\n",
              "      <td>37</td>\n",
              "      <td>A ‘World Unto Itself’ in New York Area Yeshiva...</td>\n",
              "      <td>New York Times</td>\n",
              "      <td>Corey Kilgannon</td>\n",
              "      <td>2017-03-13</td>\n",
              "      <td>2017</td>\n",
              "      <td>3</td>\n",
              "      <td>NaN</td>\n",
              "      <td>In the basement of a mammoth old building in U...</td>\n",
              "    </tr>\n",
              "    <tr>\n",
              "      <th>37</th>\n",
              "      <td>38</td>\n",
              "      <td>Inside Jonathan Lethem’s Oddball Trove - The N...</td>\n",
              "      <td>New York Times</td>\n",
              "      <td>Jennifer Schuessler</td>\n",
              "      <td>2017-01-02</td>\n",
              "      <td>2017</td>\n",
              "      <td>1</td>\n",
              "      <td>NaN</td>\n",
              "      <td>Writers are different from the rest of us. The...</td>\n",
              "    </tr>\n",
              "    <tr>\n",
              "      <th>38</th>\n",
              "      <td>39</td>\n",
              "      <td>An Immigrant’s Instinct to Aid Others Collides...</td>\n",
              "      <td>New York Times</td>\n",
              "      <td>John Otis</td>\n",
              "      <td>2017-01-02</td>\n",
              "      <td>2017</td>\n",
              "      <td>1</td>\n",
              "      <td>NaN</td>\n",
              "      <td>In 2007, Rey Canunayon and his wife, MaryGwen,...</td>\n",
              "    </tr>\n",
              "    <tr>\n",
              "      <th>39</th>\n",
              "      <td>40</td>\n",
              "      <td>House Republicans, Under Fire, Back Down on Gu...</td>\n",
              "      <td>New York Times</td>\n",
              "      <td>Eric Lipton and Matt Flegenheimer</td>\n",
              "      <td>2017-01-04</td>\n",
              "      <td>2017</td>\n",
              "      <td>1</td>\n",
              "      <td>NaN</td>\n",
              "      <td>WASHINGTON  —   It was supposed to be a triump...</td>\n",
              "    </tr>\n",
              "    <tr>\n",
              "      <th>40</th>\n",
              "      <td>41</td>\n",
              "      <td>Republican Party, Megyn Kelly, Titanic: Your W...</td>\n",
              "      <td>New York Times</td>\n",
              "      <td>Sean Alfano</td>\n",
              "      <td>2017-01-04</td>\n",
              "      <td>2017</td>\n",
              "      <td>1</td>\n",
              "      <td>NaN</td>\n",
              "      <td>(Want to get this briefing by email? Here’s t...</td>\n",
              "    </tr>\n",
              "    <tr>\n",
              "      <th>41</th>\n",
              "      <td>42</td>\n",
              "      <td>Turmoil Overshadows First Day of Republican-Co...</td>\n",
              "      <td>New York Times</td>\n",
              "      <td>Jennifer Steinhauer and Robert Pear</td>\n",
              "      <td>2017-01-04</td>\n",
              "      <td>2017</td>\n",
              "      <td>1</td>\n",
              "      <td>NaN</td>\n",
              "      <td>WASHINGTON  —   The   Congress opened the turb...</td>\n",
              "    </tr>\n",
              "    <tr>\n",
              "      <th>42</th>\n",
              "      <td>43</td>\n",
              "      <td>With Choice of Trade Negotiator, Trump Prepare...</td>\n",
              "      <td>New York Times</td>\n",
              "      <td>Binyamin Appelbaum</td>\n",
              "      <td>2017-01-04</td>\n",
              "      <td>2017</td>\n",
              "      <td>1</td>\n",
              "      <td>NaN</td>\n",
              "      <td>WASHINGTON  —     Donald J. Trump on Tuesday n...</td>\n",
              "    </tr>\n",
              "  </tbody>\n",
              "</table>\n",
              "</div>"
            ],
            "text/plain": [
              "    id  ...                                            content\n",
              "0    1  ...  WASHINGTON  —   Congressional Republicans have...\n",
              "1    2  ...  After the bullet shells get counted, the blood...\n",
              "2    3  ...  When Walt Disney’s “Bambi” opened in 1942, cri...\n",
              "3    4  ...  Death may be the great equalizer, but it isn’t...\n",
              "4    5  ...  SEOUL, South Korea  —   North Korea’s leader, ...\n",
              "5    6  ...  LONDON  —   Queen Elizabeth II, who has been b...\n",
              "6    7  ...  BEIJING  —   President Tsai   of Taiwan sharpl...\n",
              "7    8  ...  Danny Cahill stood, slightly dazed, in a blizz...\n",
              "8    9  ...  Just how   is Hillary Kerr, the    founder of ...\n",
              "9   10  ...  Angels are everywhere in the Muñiz family’s ap...\n",
              "10  11  ...  With Donald J. Trump about to take control of ...\n",
              "11  12  ...  THOMPSONS, Tex.  —   Can one of the most promi...\n",
              "12  13  ...  WEST PALM BEACH, Fla.  —   When   Donald J. Tr...\n",
              "13  14  ...  This article is part of a series aimed at help...\n",
              "14  15  ...  It’s the season for family travel and photos  ...\n",
              "15  16  ...  Finally. The Second Avenue subway opened in Ne...\n",
              "16  17  ...    pages into the   journal found in Dylann S. ...\n",
              "17  18  ...  MUMBAI, India  —   It was a bold and risky gam...\n",
              "18  19  ...  BAGHDAD  —   A suicide bomber detonated a pick...\n",
              "19  20  ...  SYDNEY, Australia  —   The annual beach pilgri...\n",
              "20  21  ...  When the Green Bay Packers lost to the Washing...\n",
              "21  22  ...  Mariah Carey suffered through a performance tr...\n",
              "22  23  ...  PARIS  —   When the Islamic State was about to...\n",
              "23  24  ...  Pop music and fashion never met cuter than in ...\n",
              "24  25  ...  WASHINGTON  —   The most powerful and ambitiou...\n",
              "25  26  ...  WASHINGTON  —   It’s   or   time for Republica...\n",
              "26  27  ...  Good morning.  Here’s what you need to know: •...\n",
              "27  28  ...  The body of the Iraqi prisoner was found naked...\n",
              "28  29  ...  ISTANBUL  —   The Islamic State on Monday issu...\n",
              "29  30  ...  WASHINGTON  —   President Obama’s advisers wre...\n",
              "30  31  ...  With the year winding down and New Year’s reso...\n",
              "31  32  ...  JERUSALEM  —   Israeli police investigators qu...\n",
              "32  33  ...  PARIS  —   If the world does not envy the Fren...\n",
              "33  34  ...  OTTAWA  —   It was 7 a. m. and 99 passengers a...\n",
              "34  35  ...  RIO DE JANEIRO  —   A prison riot involving ga...\n",
              "35  36  ...  After the explosion in September of one of its...\n",
              "36  37  ...  In the basement of a mammoth old building in U...\n",
              "37  38  ...  Writers are different from the rest of us. The...\n",
              "38  39  ...  In 2007, Rey Canunayon and his wife, MaryGwen,...\n",
              "39  40  ...  WASHINGTON  —   It was supposed to be a triump...\n",
              "40  41  ...   (Want to get this briefing by email? Here’s t...\n",
              "41  42  ...  WASHINGTON  —   The   Congress opened the turb...\n",
              "42  43  ...  WASHINGTON  —     Donald J. Trump on Tuesday n...\n",
              "\n",
              "[43 rows x 9 columns]"
            ]
          },
          "metadata": {
            "tags": []
          },
          "execution_count": 31
        }
      ]
    },
    {
      "cell_type": "code",
      "metadata": {
        "pycharm": {
          "name": "#%%\n"
        },
        "colab": {
          "base_uri": "https://localhost:8080/",
          "height": 192
        },
        "id": "xnQKYtZrNri0",
        "outputId": "a2d1e7a7-3475-43f8-f6a9-00089d64f28e"
      },
      "source": [
        "# Use document 42 as running example\n",
        "data.loc[42, 'content']"
      ],
      "execution_count": 32,
      "outputs": [
        {
          "output_type": "execute_result",
          "data": {
            "application/vnd.google.colaboratory.intrinsic+json": {
              "type": "string"
            },
            "text/plain": [
              "'WASHINGTON  —     Donald J. Trump on Tuesday named as his chief trade negotiator a Washington lawyer who has long advocated protectionist policies, the latest sign that Mr. Trump intends to fulfill his campaign promise to get tough with China, Mexico and other trading partners. Mr. Trump also renewed his episodic campaign to persuade American companies to expand domestic manufacturing, criticizing General Motors via Twitter on Tuesday morning for making in Mexico some of the Chevrolet Cruze hatchbacks it sells domestically. Hours later, Mr. Trump claimed credit after Ford said it would expand vehicle production in Flat Rock, Mich. The choice of Robert Lighthizer (pronounced   ) to be the United States’ trade representative nearly completes Mr. Trump’s selection of top economic advisers and, taken together with the  ’s running commentary on Twitter, underscores Mr. Trump’s focus on making things in America. That is causing unease among some Republicans who regard Mr. Trump’s views on trade as dangerously retrograde, even as they embrace the bulk of his economic agenda. Mainstream economists warn that protectionist policies like import taxes could impose higher prices on consumers and slow economic growth. But some Democrats are signaling a readiness to support Mr. Trump. Nine House Democrats held a news conference Tuesday with the A. F. L. . I. O. president, Richard Trumka, to urge renegotiation of the North American Free Trade Agreement with Mexico and Canada. “We wanted him to know that we’ll work with him on doing that,” Mr. Trumka said. “I don’t think he has enough Republican support to do it, and rewriting the rules of trade is a necessary first step in righting the economy for working people. ” Mr. Trump and his top advisers on trade, including Mr. Lighthizer, share a view that the United States in recent decades prioritized the ideal of free trade over its own  . They argue that other countries are undermining America’s industrial base by subsidizing their own export industries while impeding American importers. They regard this unfair competition as a key reason for the lackluster growth of the economy. In picking Mr. Lighthizer, who has spent much of the last few decades representing American steel producers in their frequent litigation of trade disputes, Mr. Trump is seeking to hire one of Washington’s top trade lawyers to enforce international trade agreements more vigorously. He must be confirmed by the Senate. “He will do an amazing job helping turn around the failed trade policies which have robbed so many Americans of prosperity,” Mr. Trump said in a statement. Mainstream Republicans have sought common ground with Mr. Trump, emphasizing, for example, the importance of enforcing trade rules, but they have not abandoned the party’s longtime advocacy for trade. Senator Orrin Hatch of Utah, the chairman of the Senate Finance Committee, which will hold hearings on Mr. Lighthizer’s nomination, issued a cautiously supportive statement Tuesday. “As the world and our economic competitors move to expand their global footprints, we can’t afford to be left behind in securing strong deals that will increase our access to new markets for   products and services,” Mr. Hatch said in a statement. “I look forward to a vigorous discussion of Bob’s trade philosophy and priorities. ” Mr. Trump has named a number of advisers on trade, leaving some ambiguity about the division of responsibilities. The   named the economist Peter Navarro, an outspoken critic of China, to lead a new White House office overseeing trade and industrial policy. Mr. Trump also said Wilbur Ross, the billionaire investor and choice for commerce secretary, will play a key role. Mr. Lighthizer, however, is the only member of the triumvirate with government experience. “Those who say U. S. T. R. will be subordinated to other agencies are mistaken,” said Alan Wolff, another former senior American trade official who was the steel industry’s   on trade with Mr. Lighthizer for nearly 20 years, citing Mr. Lighthizer’s encyclopedic knowledge of trade law. “He’ll be a dominant figure on trade, in harmony with Wilbur Ross and Navarro. ” There is also an ideological divide between the people Mr. Trump has named to oversee trade policy and his broader circle of advisers, which is populated by longstanding trade advocates like Gary D. Cohn, the president of Goldman Sachs, who will lead the National Economic Council Rex W. Tillerson, the chief executive of Exxon Mobil, tapped for secretary of state and Gov. Terry Branstad of Iowa, Mr. Trump’s choice for ambassador to China. Proponents of trade hope the broader circle, and congressional Republicans, will exert a moderating influence. “You’re seeing a pretty clear indication that there will be a focus on the enforcement of our trade agreements and on the letter of the law,” said Scott Lincicome, an international trade lawyer at White  Case. “But that doesn’t necessarily mean a significant turn toward protectionism. Even free trade guys like me support enforcement. ” Trade opponents on the left and the right, meanwhile, are hoping Mr. Trump means to break with several decades of   policy. “There’s going to be a war within the Trump administration on where they go with trade, and we’re hoping to energize the worker base he had to make sure they go in the right direction to benefit the American worker,” Mr. Trumka said. Mr. Trump’s promise to immediately designate China as a currency manipulator may offer an early test of the administration’s intentions. Economists see no evidence China is suppressing the value of its currency, although it has done so in the past. Mr. Lincicome said officially labeling China a currency manipulator despite the lack of recent evidence would signal that the administration is taking a hard line on trade issues. A broader shift in trade policy would unfold more slowly. Mr. Trump has promised to renegotiate Nafta the original process took most of three years. He has promised to pursue enforcement actions against other nations, but it takes time to mount cases. He has threatened to impose new tariffs on imports, but sweeping changes most likely would require congressional legislation. Mr. Trump already is seeking to exert influence by seizing the presidential bullhorn. “General Motors is sending Mexican made model of Chevy Cruze to U. S. car   free across border,” he wrote Tuesday on Twitter. “Make in U. S. A. or pay big border tax!” General Motors announced in 2015 that it would make the Cruze in Coahuila, Mexico. American manufacturers are moving   production to Mexico to take advantage of lower labor costs and because of declining domestic demand. They continue to build more expensive vehicles in the United States. Ford’s announcement Tuesday does not reverse that trend. The carmaker said it still planned to move production of the compact Ford Focus from Michigan to Mexico. But it said it would invest in a different Michigan plant to expand production of   vehicles, including its   pickup truck and the Mustang sports car, as well as a new   sport utility vehicle. “We are encouraged by the   policies that   Trump and the new Congress have indicated they will pursue,” said the company’s chief executive, Mark Fields. Mr. Lighthizer served as deputy United States trade representative in the Ronald Reagan administration, when he was involved in pressing Japan to reduce its restrictions on American imports and its subsidies for its own exports. Mr. Trump has criticized China for similar practices, setting the stage for a new round of confrontations. Reagan is often remembered as an advocate for free trade, but his administration in its early hours imposed a quota on Japanese auto imports. It was the first in a long series of measures aimed at putting pressure on the nation that was then regarded, like China in recent years, as a threat to American prosperity. “President Reagan’s pragmatism contrasted strongly with the utopian dreams of free traders,” Mr. Lighthizer wrote in a 2008 piece criticizing Senator John McCain, Republican of Arizona, for embracing “unbridled” free trade. Conservatives, he argued, “always understood that trade policy was merely a tool for building a strong and independent country with a prosperous middle class. ”'"
            ]
          },
          "metadata": {
            "tags": []
          },
          "execution_count": 32
        }
      ]
    },
    {
      "cell_type": "markdown",
      "metadata": {
        "id": "ud_rLgoVNri1"
      },
      "source": [
        "### Keep document content"
      ]
    },
    {
      "cell_type": "code",
      "metadata": {
        "pycharm": {
          "name": "#%%\n"
        },
        "id": "Eq6W62spNri1"
      },
      "source": [
        "data_content = data['content']"
      ],
      "execution_count": 33,
      "outputs": []
    },
    {
      "cell_type": "code",
      "metadata": {
        "pycharm": {
          "name": "#%%\n"
        },
        "colab": {
          "base_uri": "https://localhost:8080/"
        },
        "id": "0PJRlR0yNri1",
        "outputId": "2c177eb0-bbc9-4fd4-a0f3-42821500da23"
      },
      "source": [
        "type(data_content)"
      ],
      "execution_count": 34,
      "outputs": [
        {
          "output_type": "execute_result",
          "data": {
            "text/plain": [
              "pandas.core.series.Series"
            ]
          },
          "metadata": {
            "tags": []
          },
          "execution_count": 34
        }
      ]
    },
    {
      "cell_type": "code",
      "metadata": {
        "pycharm": {
          "name": "#%%\n"
        },
        "colab": {
          "base_uri": "https://localhost:8080/"
        },
        "id": "SuDe0hM0Nri2",
        "outputId": "fba80133-f4a8-4c56-e819-147ef1df80e5"
      },
      "source": [
        "data_content.head(n=3)"
      ],
      "execution_count": 35,
      "outputs": [
        {
          "output_type": "execute_result",
          "data": {
            "text/plain": [
              "0    WASHINGTON  —   Congressional Republicans have...\n",
              "1    After the bullet shells get counted, the blood...\n",
              "2    When Walt Disney’s “Bambi” opened in 1942, cri...\n",
              "Name: content, dtype: object"
            ]
          },
          "metadata": {
            "tags": []
          },
          "execution_count": 35
        }
      ]
    },
    {
      "cell_type": "markdown",
      "metadata": {
        "id": "fLvS_dKUNri2"
      },
      "source": [
        "### Tokenization, Stemming and Lemmatization"
      ]
    },
    {
      "cell_type": "code",
      "metadata": {
        "pycharm": {
          "name": "#%%\n"
        },
        "id": "smMIbJ3WNri2"
      },
      "source": [
        "tqdm.pandas()\n",
        "# Note Jens: Might want to use Dask to speed things up.\n",
        "# When using Dask can't use tqdm as far as I know."
      ],
      "execution_count": 36,
      "outputs": []
    },
    {
      "cell_type": "code",
      "metadata": {
        "pycharm": {
          "name": "#%%\n"
        },
        "id": "RPVcxMGYNri2"
      },
      "source": [
        "# There's NaN values in the dataset\n",
        "data_content.dropna(inplace=True)"
      ],
      "execution_count": 37,
      "outputs": []
    },
    {
      "cell_type": "code",
      "metadata": {
        "pycharm": {
          "name": "#%%\n"
        },
        "colab": {
          "base_uri": "https://localhost:8080/"
        },
        "id": "AeEyD5w1Nri3",
        "outputId": "08073c97-4a0b-4062-d700-55acea4db8a7"
      },
      "source": [
        "data_content.isna().any()"
      ],
      "execution_count": 38,
      "outputs": [
        {
          "output_type": "execute_result",
          "data": {
            "text/plain": [
              "False"
            ]
          },
          "metadata": {
            "tags": []
          },
          "execution_count": 38
        }
      ]
    },
    {
      "cell_type": "code",
      "metadata": {
        "pycharm": {
          "name": "#%%\n"
        },
        "colab": {
          "base_uri": "https://localhost:8080/"
        },
        "id": "n5nkcDpMNri3",
        "outputId": "ee50b3c4-333c-47d8-a522-9802e94e7bbd"
      },
      "source": [
        "# Tokenization\n",
        "data_content_tokenized = data_content.progress_apply(lambda x: nltk.word_tokenize(x))"
      ],
      "execution_count": 39,
      "outputs": [
        {
          "output_type": "stream",
          "text": [
            "100%|██████████| 141543/141543 [14:40<00:00, 160.69it/s]\n"
          ],
          "name": "stderr"
        }
      ]
    },
    {
      "cell_type": "code",
      "metadata": {
        "pycharm": {
          "name": "#%%\n"
        },
        "colab": {
          "base_uri": "https://localhost:8080/"
        },
        "id": "aije5f2DNri3",
        "outputId": "0290a4d8-5c6b-4f40-fbb0-b4bcba7abe56"
      },
      "source": [
        "# Remove words smaller than 3 characters\n",
        "data_content_tokenized = data_content_tokenized.progress_apply(lambda x: [y for y in x if len(y)>2])"
      ],
      "execution_count": 40,
      "outputs": [
        {
          "output_type": "stream",
          "text": [
            "100%|██████████| 141543/141543 [00:17<00:00, 8317.89it/s]\n"
          ],
          "name": "stderr"
        }
      ]
    },
    {
      "cell_type": "code",
      "metadata": {
        "id": "9-lDdRlohcMo",
        "outputId": "c48be9d0-17bd-44a9-f2ca-d889ba0389a2",
        "colab": {
          "base_uri": "https://localhost:8080/"
        }
      },
      "source": [
        "# Remove Stopswords\n",
        "stop_words = set(stopwords.words('english')) \n",
        "data_content_stopped = data_content_tokenized.progress_apply(lambda x: [y for y in x if not y in stop_words])"
      ],
      "execution_count": 41,
      "outputs": [
        {
          "output_type": "stream",
          "text": [
            "100%|██████████| 141543/141543 [00:14<00:00, 9769.42it/s] \n"
          ],
          "name": "stderr"
        }
      ]
    },
    {
      "cell_type": "code",
      "metadata": {
        "pycharm": {
          "name": "#%%\n"
        },
        "colab": {
          "base_uri": "https://localhost:8080/"
        },
        "id": "JG6wvcNJNri4",
        "outputId": "1e67c25f-86d0-4adc-931b-5485748d74d1"
      },
      "source": [
        "# Stemming and Lemmatization \n",
        "stemmer = SnowballStemmer(\"english\")\n",
        "data_content_clean = data_content_stopped.progress_apply(lambda x: [stemmer.stem(WordNetLemmatizer().lemmatize(y)) for y in x])"
      ],
      "execution_count": 42,
      "outputs": [
        {
          "output_type": "stream",
          "text": [
            "100%|██████████| 141543/141543 [17:54<00:00, 131.79it/s]\n"
          ],
          "name": "stderr"
        }
      ]
    },
    {
      "cell_type": "code",
      "metadata": {
        "pycharm": {
          "name": "#%%\n"
        },
        "colab": {
          "base_uri": "https://localhost:8080/"
        },
        "id": "g0EZeUPpNri4",
        "outputId": "7b50d477-cf3d-4670-dcbd-aa3d97c74008"
      },
      "source": [
        "data_content_clean.head()"
      ],
      "execution_count": 43,
      "outputs": [
        {
          "output_type": "execute_result",
          "data": {
            "text/plain": [
              "0    [washington, congression, republican, new, fea...\n",
              "1    [after, bullet, shell, get, count, blood, dri,...\n",
              "2    [when, walt, disney, bambi, open, 1942, critic...\n",
              "3    [death, may, great, equal, necessarili, evenha...\n",
              "4    [seoul, south, korea, north, korea, leader, ki...\n",
              "Name: content, dtype: object"
            ]
          },
          "metadata": {
            "tags": []
          },
          "execution_count": 43
        }
      ]
    },
    {
      "cell_type": "code",
      "metadata": {
        "pycharm": {
          "name": "#%%\n"
        },
        "id": "xFWDkewUNri5"
      },
      "source": [
        "# data_content_clean contain the cleaned 'content' column of the news dataset:\n",
        "data_content_clean.to_csv('/content/drive/MyDrive/IR-Assignment-2/data/new_dataset_clean.csv')"
      ],
      "execution_count": 44,
      "outputs": []
    },
    {
      "cell_type": "code",
      "metadata": {
        "id": "nZk0sn39lbeR"
      },
      "source": [
        "data_content_stopped = data_content_clean.progress_apply(lambda x: [y for y in x if y in stop_words])"
      ],
      "execution_count": null,
      "outputs": []
    },
    {
      "cell_type": "markdown",
      "metadata": {
        "id": "iPnkYWH2Nri5"
      },
      "source": [
        "# LDA"
      ]
    },
    {
      "cell_type": "markdown",
      "metadata": {
        "id": "qqhX11MANri5"
      },
      "source": [
        "The following part will use Python libraries for performing an LDA. The result can be used for comparison with our model.\n",
        "\n",
        "The code follows a tutorial:\n",
        "[LDA Tutorial](https://towardsdatascience.com/topic-modeling-and-latent-dirichlet-allocation-in-python-9bf156893c24)"
      ]
    },
    {
      "cell_type": "code",
      "metadata": {
        "pycharm": {
          "name": "#%%\n"
        },
        "id": "4ys82LAlNri6"
      },
      "source": [
        "data_content_clean = pd.read_csv('/content/drive/MyDrive/IR-Assignment-2/data/new_dataset_clean.csv')"
      ],
      "execution_count": null,
      "outputs": []
    },
    {
      "cell_type": "code",
      "metadata": {
        "pycharm": {
          "name": "#%%\n"
        },
        "id": "R0e6Hf9bNri6"
      },
      "source": [
        "data_content_clean = data_content_clean['content']"
      ],
      "execution_count": null,
      "outputs": []
    },
    {
      "cell_type": "code",
      "metadata": {
        "pycharm": {
          "name": "#%%\n"
        },
        "colab": {
          "base_uri": "https://localhost:8080/"
        },
        "id": "YDyxeBWyNri7",
        "outputId": "aa361c99-c51f-4f27-a0db-044efd3a355b"
      },
      "source": [
        "data_content_clean.head()"
      ],
      "execution_count": null,
      "outputs": [
        {
          "output_type": "execute_result",
          "data": {
            "text/plain": [
              "0    ['washington', 'congression', 'republican', 'n...\n",
              "1    ['bullet', 'shell', 'get', 'count', 'blood', '...\n",
              "2    ['walt', 'disney', 'bambi', 'open', '1942', 'c...\n",
              "3    ['death', 'may', 'great', 'equal', 'necessaril...\n",
              "4    ['seoul', 'south', 'korea', 'north', 'korea', ...\n",
              "Name: content, dtype: object"
            ]
          },
          "metadata": {
            "tags": []
          },
          "execution_count": 6
        }
      ]
    },
    {
      "cell_type": "code",
      "metadata": {
        "pycharm": {
          "name": "#%%\n"
        },
        "colab": {
          "base_uri": "https://localhost:8080/"
        },
        "id": "Q7b6Xdf0Nri7",
        "outputId": "34868944-e73f-44ea-c547-ee14f742b020"
      },
      "source": [
        "dictionary = gensim.corpora.Dictionary()\n",
        "for article in tqdm(data_content_clean):\n",
        "  dictionary.add_documents([literal_eval(article)])"
      ],
      "execution_count": null,
      "outputs": [
        {
          "output_type": "stream",
          "text": [
            "100%|██████████| 141543/141543 [03:13<00:00, 730.26it/s]\n"
          ],
          "name": "stderr"
        }
      ]
    },
    {
      "cell_type": "markdown",
      "metadata": {
        "id": "HEmGWwO3Nri7"
      },
      "source": [
        "## Sanity check"
      ]
    },
    {
      "cell_type": "code",
      "metadata": {
        "pycharm": {
          "name": "#%%\n"
        },
        "colab": {
          "base_uri": "https://localhost:8080/"
        },
        "id": "cxCobUz6Nri7",
        "outputId": "9fc40acc-6903-438a-e4a6-a901dcd51c6b"
      },
      "source": [
        "print(dictionary)"
      ],
      "execution_count": null,
      "outputs": [
        {
          "output_type": "stream",
          "text": [
            "Dictionary(274259 unique tokens: ['2010', '2015', '2017', 'access', 'acknowledg']...)\n"
          ],
          "name": "stdout"
        }
      ]
    },
    {
      "cell_type": "code",
      "metadata": {
        "pycharm": {
          "name": "#%%\n"
        },
        "colab": {
          "base_uri": "https://localhost:8080/"
        },
        "id": "ki8Drlc9Nri8",
        "outputId": "57356c66-83e6-47e4-fda7-4af6baa9a015"
      },
      "source": [
        "count = 0\n",
        "for k, v in dictionary.iteritems():\n",
        "    print(k, v)\n",
        "    count += 1\n",
        "    if count > 10:\n",
        "        break"
      ],
      "execution_count": null,
      "outputs": [
        {
          "output_type": "stream",
          "text": [
            "0 2010\n",
            "1 2015\n",
            "2 2017\n",
            "3 access\n",
            "4 acknowledg\n",
            "5 act\n",
            "6 administr\n",
            "7 advoc\n",
            "8 afford\n",
            "9 alli\n",
            "10 american\n"
          ],
          "name": "stdout"
        }
      ]
    },
    {
      "cell_type": "code",
      "metadata": {
        "pycharm": {
          "name": "#%%\n"
        },
        "id": "eObgXNF6Nri8"
      },
      "source": [
        "# Filter out tokens that appear in less than 15 documents, more than 0.5 documents (fraction of total corpus size, not absolute number).\n",
        "# keep only the first 100000 most frequent tokens.\n",
        "dictionary.filter_extremes(no_below=15, no_above=0.5, keep_n=100000)"
      ],
      "execution_count": null,
      "outputs": []
    },
    {
      "cell_type": "markdown",
      "metadata": {
        "id": "lY6h2apyNri9"
      },
      "source": [
        "## doc2bow"
      ]
    },
    {
      "cell_type": "markdown",
      "metadata": {
        "id": "so53cg5fNri9"
      },
      "source": [
        "For each document we create a dictionary reporting how many words and how many times those words appear."
      ]
    },
    {
      "cell_type": "code",
      "metadata": {
        "pycharm": {
          "name": "#%%\n"
        },
        "colab": {
          "base_uri": "https://localhost:8080/"
        },
        "id": "h_0DiiuGNri9",
        "outputId": "e92718bc-9d6b-4676-9afd-f4a7303e10a1"
      },
      "source": [
        "bow_corpus = [dictionary.doc2bow(literal_eval(doc)) for doc in data_content_clean]\n",
        "bow_corpus[42]"
      ],
      "execution_count": null,
      "outputs": [
        {
          "output_type": "execute_result",
          "data": {
            "text/plain": [
              "[(1, 1),\n",
              " (3, 1),\n",
              " (6, 5),\n",
              " (7, 3),\n",
              " (8, 1),\n",
              " (10, 10),\n",
              " (13, 1),\n",
              " (26, 1),\n",
              " (35, 2),\n",
              " (36, 1),\n",
              " (47, 1),\n",
              " (52, 1),\n",
              " (53, 2),\n",
              " (55, 1),\n",
              " (58, 1),\n",
              " (60, 1),\n",
              " (62, 1),\n",
              " (63, 1),\n",
              " (67, 1),\n",
              " (71, 1),\n",
              " (74, 1),\n",
              " (78, 1),\n",
              " (80, 1),\n",
              " (85, 1),\n",
              " (99, 2),\n",
              " (101, 2),\n",
              " (115, 3),\n",
              " (117, 1),\n",
              " (124, 2),\n",
              " (128, 6),\n",
              " (136, 2),\n",
              " (138, 1),\n",
              " (139, 2),\n",
              " (141, 1),\n",
              " (144, 1),\n",
              " (145, 1),\n",
              " (147, 1),\n",
              " (148, 2),\n",
              " (150, 3),\n",
              " (151, 2),\n",
              " (154, 1),\n",
              " (158, 1),\n",
              " (162, 1),\n",
              " (163, 1),\n",
              " (165, 1),\n",
              " (170, 1),\n",
              " (171, 32),\n",
              " (172, 3),\n",
              " (175, 1),\n",
              " (176, 2),\n",
              " (184, 1),\n",
              " (201, 1),\n",
              " (202, 1),\n",
              " (205, 1),\n",
              " (212, 1),\n",
              " (216, 1),\n",
              " (219, 3),\n",
              " (225, 5),\n",
              " (227, 1),\n",
              " (231, 1),\n",
              " (232, 3),\n",
              " (234, 2),\n",
              " (235, 2),\n",
              " (236, 1),\n",
              " (238, 1),\n",
              " (241, 1),\n",
              " (247, 5),\n",
              " (251, 1),\n",
              " (259, 3),\n",
              " (266, 1),\n",
              " (270, 23),\n",
              " (274, 4),\n",
              " (277, 2),\n",
              " (278, 2),\n",
              " (281, 1),\n",
              " (282, 3),\n",
              " (283, 1),\n",
              " (285, 2),\n",
              " (313, 1),\n",
              " (314, 1),\n",
              " (319, 4),\n",
              " (332, 1),\n",
              " (333, 1),\n",
              " (334, 1),\n",
              " (338, 2),\n",
              " (348, 1),\n",
              " (374, 1),\n",
              " (376, 1),\n",
              " (403, 1),\n",
              " (411, 2),\n",
              " (427, 2),\n",
              " (429, 2),\n",
              " (443, 3),\n",
              " (446, 3),\n",
              " (453, 1),\n",
              " (469, 1),\n",
              " (478, 1),\n",
              " (486, 1),\n",
              " (490, 2),\n",
              " (498, 1),\n",
              " (507, 1),\n",
              " (517, 1),\n",
              " (521, 1),\n",
              " (523, 1),\n",
              " (528, 1),\n",
              " (530, 1),\n",
              " (539, 3),\n",
              " (540, 1),\n",
              " (552, 2),\n",
              " (569, 1),\n",
              " (574, 2),\n",
              " (575, 1),\n",
              " (582, 1),\n",
              " (600, 2),\n",
              " (610, 3),\n",
              " (616, 1),\n",
              " (628, 1),\n",
              " (631, 1),\n",
              " (645, 1),\n",
              " (652, 1),\n",
              " (665, 1),\n",
              " (671, 1),\n",
              " (672, 1),\n",
              " (675, 1),\n",
              " (678, 1),\n",
              " (683, 1),\n",
              " (687, 3),\n",
              " (690, 2),\n",
              " (700, 2),\n",
              " (701, 1),\n",
              " (720, 1),\n",
              " (728, 2),\n",
              " (732, 1),\n",
              " (734, 1),\n",
              " (741, 2),\n",
              " (758, 2),\n",
              " (759, 1),\n",
              " (760, 1),\n",
              " (762, 1),\n",
              " (764, 1),\n",
              " (767, 5),\n",
              " (774, 2),\n",
              " (794, 1),\n",
              " (797, 3),\n",
              " (799, 1),\n",
              " (803, 4),\n",
              " (805, 2),\n",
              " (816, 1),\n",
              " (823, 1),\n",
              " (829, 1),\n",
              " (830, 1),\n",
              " (833, 1),\n",
              " (854, 1),\n",
              " (868, 1),\n",
              " (878, 1),\n",
              " (883, 3),\n",
              " (888, 1),\n",
              " (893, 1),\n",
              " (916, 1),\n",
              " (918, 3),\n",
              " (940, 1),\n",
              " (956, 1),\n",
              " (982, 1),\n",
              " (983, 2),\n",
              " (986, 1),\n",
              " (992, 1),\n",
              " (993, 1),\n",
              " (998, 1),\n",
              " (1008, 1),\n",
              " (1048, 3),\n",
              " (1054, 1),\n",
              " (1076, 4),\n",
              " (1077, 1),\n",
              " (1081, 1),\n",
              " (1100, 1),\n",
              " (1104, 1),\n",
              " (1105, 1),\n",
              " (1106, 1),\n",
              " (1118, 2),\n",
              " (1153, 1),\n",
              " (1176, 2),\n",
              " (1177, 2),\n",
              " (1183, 2),\n",
              " (1227, 2),\n",
              " (1294, 1),\n",
              " (1301, 2),\n",
              " (1303, 1),\n",
              " (1310, 4),\n",
              " (1314, 3),\n",
              " (1331, 1),\n",
              " (1339, 5),\n",
              " (1346, 1),\n",
              " (1371, 1),\n",
              " (1404, 1),\n",
              " (1411, 1),\n",
              " (1415, 3),\n",
              " (1420, 2),\n",
              " (1434, 1),\n",
              " (1454, 1),\n",
              " (1467, 1),\n",
              " (1471, 1),\n",
              " (1475, 1),\n",
              " (1524, 5),\n",
              " (1542, 3),\n",
              " (1545, 1),\n",
              " (1562, 1),\n",
              " (1566, 1),\n",
              " (1573, 1),\n",
              " (1582, 1),\n",
              " (1606, 1),\n",
              " (1610, 1),\n",
              " (1630, 1),\n",
              " (1643, 1),\n",
              " (1660, 1),\n",
              " (1733, 1),\n",
              " (1738, 1),\n",
              " (1804, 1),\n",
              " (1887, 2),\n",
              " (1888, 4),\n",
              " (1941, 1),\n",
              " (1971, 1),\n",
              " (1977, 1),\n",
              " (2004, 1),\n",
              " (2024, 1),\n",
              " (2037, 3),\n",
              " (2042, 1),\n",
              " (2053, 1),\n",
              " (2073, 1),\n",
              " (2078, 4),\n",
              " (2081, 1),\n",
              " (2107, 2),\n",
              " (2111, 1),\n",
              " (2175, 1),\n",
              " (2183, 1),\n",
              " (2184, 1),\n",
              " (2189, 2),\n",
              " (2194, 1),\n",
              " (2209, 1),\n",
              " (2218, 1),\n",
              " (2233, 1),\n",
              " (2236, 1),\n",
              " (2246, 1),\n",
              " (2247, 1),\n",
              " (2295, 8),\n",
              " (2298, 1),\n",
              " (2301, 2),\n",
              " (2305, 1),\n",
              " (2313, 1),\n",
              " (2315, 1),\n",
              " (2323, 1),\n",
              " (2326, 1),\n",
              " (2328, 9),\n",
              " (2331, 2),\n",
              " (2340, 1),\n",
              " (2346, 1),\n",
              " (2360, 1),\n",
              " (2398, 1),\n",
              " (2483, 1),\n",
              " (2545, 2),\n",
              " (2556, 1),\n",
              " (2565, 1),\n",
              " (2576, 1),\n",
              " (2583, 1),\n",
              " (2604, 1),\n",
              " (2614, 1),\n",
              " (2622, 2),\n",
              " (2623, 1),\n",
              " (2630, 1),\n",
              " (2642, 1),\n",
              " (2672, 1),\n",
              " (2695, 1),\n",
              " (2775, 1),\n",
              " (2837, 4),\n",
              " (2857, 1),\n",
              " (2937, 1),\n",
              " (2961, 1),\n",
              " (2991, 1),\n",
              " (2997, 1),\n",
              " (3003, 1),\n",
              " (3004, 1),\n",
              " (3005, 3),\n",
              " (3010, 1),\n",
              " (3036, 1),\n",
              " (3039, 1),\n",
              " (3043, 1),\n",
              " (3052, 1),\n",
              " (3053, 1),\n",
              " (3054, 1),\n",
              " (3058, 1),\n",
              " (3062, 2),\n",
              " (3063, 6),\n",
              " (3064, 1),\n",
              " (3069, 1),\n",
              " (3081, 1),\n",
              " (3089, 1),\n",
              " (3090, 1),\n",
              " (3096, 3),\n",
              " (3103, 3),\n",
              " (3105, 35),\n",
              " (3139, 1),\n",
              " (3160, 1),\n",
              " (3168, 4),\n",
              " (3176, 1),\n",
              " (3178, 7),\n",
              " (3200, 1),\n",
              " (3222, 1),\n",
              " (3225, 1),\n",
              " (3232, 1),\n",
              " (3239, 2),\n",
              " (3240, 1),\n",
              " (3262, 2),\n",
              " (3281, 1),\n",
              " (3293, 1),\n",
              " (3339, 1),\n",
              " (3349, 1),\n",
              " (3369, 1),\n",
              " (3393, 1),\n",
              " (3423, 1),\n",
              " (3445, 1),\n",
              " (3448, 1),\n",
              " (3450, 3),\n",
              " (3462, 1),\n",
              " (3484, 1),\n",
              " (3513, 1),\n",
              " (3609, 2),\n",
              " (3614, 1),\n",
              " (3667, 1),\n",
              " (3734, 1),\n",
              " (3765, 1),\n",
              " (3773, 1),\n",
              " (3782, 2),\n",
              " (3823, 1),\n",
              " (3856, 1),\n",
              " (3897, 6),\n",
              " (3924, 3),\n",
              " (3935, 2),\n",
              " (3936, 3),\n",
              " (3941, 1),\n",
              " (3946, 2),\n",
              " (3997, 1),\n",
              " (4046, 1),\n",
              " (4053, 1),\n",
              " (4063, 1),\n",
              " (4064, 1),\n",
              " (4066, 4),\n",
              " (4133, 1),\n",
              " (4141, 1),\n",
              " (4186, 1),\n",
              " (4221, 1),\n",
              " (4255, 2),\n",
              " (4318, 1),\n",
              " (4485, 1),\n",
              " (4494, 1),\n",
              " (4549, 1),\n",
              " (4557, 1),\n",
              " (4649, 3),\n",
              " (4705, 1),\n",
              " (4777, 1),\n",
              " (4828, 1),\n",
              " (4833, 1),\n",
              " (4893, 2),\n",
              " (4913, 2),\n",
              " (4932, 1),\n",
              " (4960, 1),\n",
              " (5126, 2),\n",
              " (5211, 1),\n",
              " (5277, 1),\n",
              " (5328, 1),\n",
              " (5464, 1),\n",
              " (5468, 1),\n",
              " (5512, 1),\n",
              " (5530, 1),\n",
              " (5555, 5),\n",
              " (5588, 1),\n",
              " (5591, 1),\n",
              " (5618, 3),\n",
              " (5631, 9),\n",
              " (5637, 2),\n",
              " (5638, 3),\n",
              " (5645, 2),\n",
              " (5705, 1),\n",
              " (5706, 1),\n",
              " (5707, 1),\n",
              " (5708, 1),\n",
              " (5709, 1),\n",
              " (5710, 1),\n",
              " (5711, 1),\n",
              " (5712, 1),\n",
              " (5713, 1),\n",
              " (5714, 1),\n",
              " (5715, 1),\n",
              " (5716, 1),\n",
              " (5717, 1),\n",
              " (5718, 3),\n",
              " (5719, 1),\n",
              " (5720, 1),\n",
              " (5721, 1),\n",
              " (5722, 1),\n",
              " (5723, 2),\n",
              " (5724, 2),\n",
              " (5725, 1),\n",
              " (5726, 1),\n",
              " (5727, 1),\n",
              " (5728, 1),\n",
              " (5729, 2),\n",
              " (5730, 1),\n",
              " (5731, 1),\n",
              " (5732, 1),\n",
              " (5733, 2),\n",
              " (5734, 1),\n",
              " (5735, 1),\n",
              " (5736, 1),\n",
              " (5737, 1),\n",
              " (5738, 1),\n",
              " (5739, 1),\n",
              " (5740, 1),\n",
              " (5741, 1),\n",
              " (5742, 2),\n",
              " (5743, 1),\n",
              " (5744, 1),\n",
              " (5745, 2),\n",
              " (5746, 1),\n",
              " (5747, 1),\n",
              " (5748, 1),\n",
              " (5749, 3),\n",
              " (5750, 1),\n",
              " (5751, 1),\n",
              " (5752, 2),\n",
              " (5753, 1),\n",
              " (5754, 1),\n",
              " (5755, 2),\n",
              " (5756, 1),\n",
              " (5757, 1),\n",
              " (5758, 1),\n",
              " (5759, 1),\n",
              " (5760, 1),\n",
              " (5761, 1),\n",
              " (5762, 1),\n",
              " (5763, 1),\n",
              " (5764, 3),\n",
              " (5765, 1),\n",
              " (5766, 1),\n",
              " (5767, 1),\n",
              " (5768, 1),\n",
              " (5769, 1),\n",
              " (5770, 2),\n",
              " (5771, 1)]"
            ]
          },
          "metadata": {
            "tags": []
          },
          "execution_count": 11
        }
      ]
    },
    {
      "cell_type": "code",
      "metadata": {
        "pycharm": {
          "name": "#%%\n"
        },
        "colab": {
          "base_uri": "https://localhost:8080/"
        },
        "id": "I8Czk5YJNri-",
        "outputId": "354e1b05-0294-4df9-9312-09d53baa57dc"
      },
      "source": [
        "bow_doc_42 = bow_corpus[42]\n",
        "for i in range(len(bow_doc_42)):\n",
        "    print(\"Word {} (\\\"{}\\\") appears {} time.\".format(bow_doc_42[i][0],\n",
        "                                               dictionary[bow_doc_42[i][0]],\n",
        "bow_doc_42[i][1]))"
      ],
      "execution_count": null,
      "outputs": [
        {
          "output_type": "stream",
          "text": [
            "Word 1 (\"2015\") appears 1 time.\n",
            "Word 3 (\"access\") appears 1 time.\n",
            "Word 6 (\"administr\") appears 5 time.\n",
            "Word 7 (\"advoc\") appears 3 time.\n",
            "Word 8 (\"afford\") appears 1 time.\n",
            "Word 10 (\"american\") appears 10 time.\n",
            "Word 13 (\"anoth\") appears 1 time.\n",
            "Word 26 (\"big\") appears 1 time.\n",
            "Word 35 (\"case\") appears 2 time.\n",
            "Word 36 (\"caus\") appears 1 time.\n",
            "Word 47 (\"committe\") appears 1 time.\n",
            "Word 52 (\"congress\") appears 1 time.\n",
            "Word 53 (\"congression\") appears 2 time.\n",
            "Word 55 (\"conserv\") appears 1 time.\n",
            "Word 58 (\"consum\") appears 1 time.\n",
            "Word 60 (\"continu\") appears 1 time.\n",
            "Word 62 (\"cost\") appears 1 time.\n",
            "Word 63 (\"could\") appears 1 time.\n",
            "Word 67 (\"deal\") appears 1 time.\n",
            "Word 71 (\"demand\") appears 1 time.\n",
            "Word 74 (\"despit\") appears 1 time.\n",
            "Word 78 (\"discuss\") appears 1 time.\n",
            "Word 80 (\"disput\") appears 1 time.\n",
            "Word 85 (\"donald\") appears 1 time.\n",
            "Word 99 (\"even\") appears 2 time.\n",
            "Word 101 (\"execut\") appears 2 time.\n",
            "Word 115 (\"general\") appears 3 time.\n",
            "Word 117 (\"govern\") appears 1 time.\n",
            "Word 124 (\"hous\") appears 2 time.\n",
            "Word 128 (\"import\") appears 6 time.\n",
            "Word 136 (\"intern\") appears 2 time.\n",
            "Word 138 (\"involv\") appears 1 time.\n",
            "Word 139 (\"issu\") appears 2 time.\n",
            "Word 141 (\"john\") appears 1 time.\n",
            "Word 144 (\"lack\") appears 1 time.\n",
            "Word 145 (\"last\") appears 1 time.\n",
            "Word 147 (\"later\") appears 1 time.\n",
            "Word 148 (\"law\") appears 2 time.\n",
            "Word 150 (\"lawyer\") appears 3 time.\n",
            "Word 151 (\"lead\") appears 2 time.\n",
            "Word 154 (\"leav\") appears 1 time.\n",
            "Word 158 (\"litig\") appears 1 time.\n",
            "Word 162 (\"mani\") appears 1 time.\n",
            "Word 163 (\"market\") appears 1 time.\n",
            "Word 165 (\"may\") appears 1 time.\n",
            "Word 170 (\"mount\") appears 1 time.\n",
            "Word 171 (\"mr.\") appears 32 time.\n",
            "Word 172 (\"nation\") appears 3 time.\n",
            "Word 175 (\"offic\") appears 1 time.\n",
            "Word 176 (\"offici\") appears 2 time.\n",
            "Word 184 (\"pay\") appears 1 time.\n",
            "Word 201 (\"presidenti\") appears 1 time.\n",
            "Word 202 (\"pressur\") appears 1 time.\n",
            "Word 205 (\"produc\") appears 1 time.\n",
            "Word 212 (\"put\") appears 1 time.\n",
            "Word 216 (\"readi\") appears 1 time.\n",
            "Word 219 (\"regard\") appears 3 time.\n",
            "Word 225 (\"republican\") appears 5 time.\n",
            "Word 227 (\"requir\") appears 1 time.\n",
            "Word 231 (\"revers\") appears 1 time.\n",
            "Word 232 (\"right\") appears 3 time.\n",
            "Word 234 (\"rule\") appears 2 time.\n",
            "Word 235 (\"seek\") appears 2 time.\n",
            "Word 236 (\"set\") appears 1 time.\n",
            "Word 238 (\"share\") appears 1 time.\n",
            "Word 241 (\"sought\") appears 1 time.\n",
            "Word 247 (\"state\") appears 5 time.\n",
            "Word 251 (\"subsidi\") appears 1 time.\n",
            "Word 259 (\"take\") appears 3 time.\n",
            "Word 266 (\"took\") appears 1 time.\n",
            "Word 270 (\"trump\") appears 23 time.\n",
            "Word 274 (\"unit\") appears 4 time.\n",
            "Word 277 (\"view\") appears 2 time.\n",
            "Word 278 (\"vigor\") appears 2 time.\n",
            "Word 281 (\"want\") appears 1 time.\n",
            "Word 282 (\"washington\") appears 3 time.\n",
            "Word 283 (\"well\") appears 1 time.\n",
            "Word 285 (\"white\") appears 2 time.\n",
            "Word 313 (\"across\") appears 1 time.\n",
            "Word 314 (\"action\") appears 1 time.\n",
            "Word 319 (\"advis\") appears 4 time.\n",
            "Word 332 (\"alreadi\") appears 1 time.\n",
            "Word 333 (\"alway\") appears 1 time.\n",
            "Word 334 (\"among\") appears 1 time.\n",
            "Word 338 (\"announc\") appears 2 time.\n",
            "Word 348 (\"around\") appears 1 time.\n",
            "Word 374 (\"becaus\") appears 1 time.\n",
            "Word 376 (\"behind\") appears 1 time.\n",
            "Word 403 (\"break\") appears 1 time.\n",
            "Word 411 (\"build\") appears 2 time.\n",
            "Word 427 (\"campaign\") appears 2 time.\n",
            "Word 429 (\"car\") appears 2 time.\n",
            "Word 443 (\"chief\") appears 3 time.\n",
            "Word 446 (\"choic\") appears 3 time.\n",
            "Word 453 (\"clear\") appears 1 time.\n",
            "Word 469 (\"complet\") appears 1 time.\n",
            "Word 478 (\"contrast\") appears 1 time.\n",
            "Word 486 (\"council\") appears 1 time.\n",
            "Word 490 (\"countri\") appears 2 time.\n",
            "Word 498 (\"credit\") appears 1 time.\n",
            "Word 507 (\"danger\") appears 1 time.\n",
            "Word 517 (\"declin\") appears 1 time.\n",
            "Word 521 (\"deputi\") appears 1 time.\n",
            "Word 523 (\"design\") appears 1 time.\n",
            "Word 528 (\"differ\") appears 1 time.\n",
            "Word 530 (\"direct\") appears 1 time.\n",
            "Word 539 (\"domest\") appears 3 time.\n",
            "Word 540 (\"done\") appears 1 time.\n",
            "Word 552 (\"earli\") appears 2 time.\n",
            "Word 569 (\"enough\") appears 1 time.\n",
            "Word 574 (\"evid\") appears 2 time.\n",
            "Word 575 (\"exampl\") appears 1 time.\n",
            "Word 582 (\"fail\") appears 1 time.\n",
            "Word 600 (\"first\") appears 2 time.\n",
            "Word 610 (\"focus\") appears 3 time.\n",
            "Word 616 (\"former\") appears 1 time.\n",
            "Word 628 (\"get\") appears 1 time.\n",
            "Word 631 (\"go\") appears 1 time.\n",
            "Word 645 (\"ground\") appears 1 time.\n",
            "Word 652 (\"guy\") appears 1 time.\n",
            "Word 665 (\"hear\") appears 1 time.\n",
            "Word 671 (\"held\") appears 1 time.\n",
            "Word 672 (\"help\") appears 1 time.\n",
            "Word 675 (\"higher\") appears 1 time.\n",
            "Word 678 (\"hire\") appears 1 time.\n",
            "Word 683 (\"hold\") appears 1 time.\n",
            "Word 687 (\"hope\") appears 3 time.\n",
            "Word 690 (\"hour\") appears 2 time.\n",
            "Word 700 (\"includ\") appears 2 time.\n",
            "Word 701 (\"increas\") appears 1 time.\n",
            "Word 720 (\"job\") appears 1 time.\n",
            "Word 728 (\"key\") appears 2 time.\n",
            "Word 732 (\"know\") appears 1 time.\n",
            "Word 734 (\"label\") appears 1 time.\n",
            "Word 741 (\"left\") appears 2 time.\n",
            "Word 758 (\"long\") appears 2 time.\n",
            "Word 759 (\"longtim\") appears 1 time.\n",
            "Word 760 (\"look\") appears 1 time.\n",
            "Word 762 (\"lower\") appears 1 time.\n",
            "Word 764 (\"made\") appears 1 time.\n",
            "Word 767 (\"make\") appears 5 time.\n",
            "Word 774 (\"mean\") appears 2 time.\n",
            "Word 794 (\"morn\") appears 1 time.\n",
            "Word 797 (\"move\") appears 3 time.\n",
            "Word 799 (\"much\") appears 1 time.\n",
            "Word 803 (\"name\") appears 4 time.\n",
            "Word 805 (\"near\") appears 2 time.\n",
            "Word 816 (\"nine\") appears 1 time.\n",
            "Word 823 (\"number\") appears 1 time.\n",
            "Word 829 (\"offer\") appears 1 time.\n",
            "Word 830 (\"often\") appears 1 time.\n",
            "Word 833 (\"onli\") appears 1 time.\n",
            "Word 854 (\"past\") appears 1 time.\n",
            "Word 868 (\"play\") appears 1 time.\n",
            "Word 878 (\"practic\") appears 1 time.\n",
            "Word 883 (\"presid\") appears 3 time.\n",
            "Word 888 (\"prioriti\") appears 1 time.\n",
            "Word 893 (\"process\") appears 1 time.\n",
            "Word 916 (\"reason\") appears 1 time.\n",
            "Word 918 (\"recent\") appears 3 time.\n",
            "Word 940 (\"respons\") appears 1 time.\n",
            "Word 956 (\"robert\") appears 1 time.\n",
            "Word 982 (\"secur\") appears 1 time.\n",
            "Word 983 (\"see\") appears 2 time.\n",
            "Word 986 (\"send\") appears 1 time.\n",
            "Word 992 (\"servic\") appears 1 time.\n",
            "Word 993 (\"sever\") appears 1 time.\n",
            "Word 998 (\"shift\") appears 1 time.\n",
            "Word 1008 (\"similar\") appears 1 time.\n",
            "Word 1048 (\"statement\") appears 3 time.\n",
            "Word 1054 (\"still\") appears 1 time.\n",
            "Word 1076 (\"support\") appears 4 time.\n",
            "Word 1077 (\"sure\") appears 1 time.\n",
            "Word 1081 (\"sweep\") appears 1 time.\n",
            "Word 1100 (\"thing\") appears 1 time.\n",
            "Word 1104 (\"threat\") appears 1 time.\n",
            "Word 1105 (\"threaten\") appears 1 time.\n",
            "Word 1106 (\"three\") appears 1 time.\n",
            "Word 1118 (\"turn\") appears 2 time.\n",
            "Word 1153 (\"warn\") appears 1 time.\n",
            "Word 1176 (\"work\") appears 2 time.\n",
            "Word 1177 (\"worker\") appears 2 time.\n",
            "Word 1183 (\"wrote\") appears 2 time.\n",
            "Word 1227 (\"america\") appears 2 time.\n",
            "Word 1294 (\"claim\") appears 1 time.\n",
            "Word 1301 (\"compani\") appears 2 time.\n",
            "Word 1303 (\"confirm\") appears 1 time.\n",
            "Word 1310 (\"critic\") appears 4 time.\n",
            "Word 1314 (\"decad\") appears 3 time.\n",
            "Word 1331 (\"doe\") appears 1 time.\n",
            "Word 1339 (\"econom\") appears 5 time.\n",
            "Word 1346 (\"encourag\") appears 1 time.\n",
            "Word 1371 (\"figur\") appears 1 time.\n",
            "Word 1404 (\"hard\") appears 1 time.\n",
            "Word 1411 (\"howev\") appears 1 time.\n",
            "Word 1415 (\"impos\") appears 3 time.\n",
            "Word 1420 (\"influenc\") appears 2 time.\n",
            "Word 1434 (\"japanes\") appears 1 time.\n",
            "Word 1454 (\"line\") appears 1 time.\n",
            "Word 1467 (\"mark\") appears 1 time.\n",
            "Word 1471 (\"member\") appears 1 time.\n",
            "Word 1475 (\"mere\") appears 1 time.\n",
            "Word 1524 (\"product\") appears 5 time.\n",
            "Word 1542 (\"repres\") appears 3 time.\n",
            "Word 1545 (\"restrict\") appears 1 time.\n",
            "Word 1562 (\"seri\") appears 1 time.\n",
            "Word 1566 (\"sign\") appears 1 time.\n",
            "Word 1573 (\"slowli\") appears 1 time.\n",
            "Word 1582 (\"spent\") appears 1 time.\n",
            "Word 1606 (\"think\") appears 1 time.\n",
            "Word 1610 (\"togeth\") appears 1 time.\n",
            "Word 1630 (\"war\") appears 1 time.\n",
            "Word 1643 (\"world\") appears 1 time.\n",
            "Word 1660 (\"alan\") appears 1 time.\n",
            "Word 1733 (\"common\") appears 1 time.\n",
            "Word 1738 (\"confront\") appears 1 time.\n",
            "Word 1804 (\"field\") appears 1 time.\n",
            "Word 1887 (\"indic\") appears 2 time.\n",
            "Word 1888 (\"industri\") appears 4 time.\n",
            "Word 1941 (\"measur\") appears 1 time.\n",
            "Word 1971 (\"necessarili\") appears 1 time.\n",
            "Word 1977 (\"news\") appears 1 time.\n",
            "Word 2004 (\"peter\") appears 1 time.\n",
            "Word 2024 (\"press\") appears 1 time.\n",
            "Word 2037 (\"reagan\") appears 3 time.\n",
            "Word 2042 (\"rememb\") appears 1 time.\n",
            "Word 2053 (\"rock\") appears 1 time.\n",
            "Word 2073 (\"seiz\") appears 1 time.\n",
            "Word 2078 (\"senat\") appears 4 time.\n",
            "Word 2081 (\"serv\") appears 1 time.\n",
            "Word 2107 (\"sport\") appears 2 time.\n",
            "Word 2111 (\"stage\") appears 1 time.\n",
            "Word 2175 (\"within\") appears 1 time.\n",
            "Word 2183 (\"advantag\") appears 1 time.\n",
            "Word 2184 (\"although\") appears 1 time.\n",
            "Word 2189 (\"base\") appears 2 time.\n",
            "Word 2194 (\"chang\") appears 1 time.\n",
            "Word 2209 (\"japan\") appears 1 time.\n",
            "Word 2218 (\"north\") appears 1 time.\n",
            "Word 2233 (\"run\") appears 1 time.\n",
            "Word 2236 (\"senior\") appears 1 time.\n",
            "Word 2246 (\"test\") appears 1 time.\n",
            "Word 2247 (\"toward\") appears 1 time.\n",
            "Word 2295 (\"china\") appears 8 time.\n",
            "Word 2298 (\"confer\") appears 1 time.\n",
            "Word 2301 (\"democrat\") appears 2 time.\n",
            "Word 2305 (\"divid\") appears 1 time.\n",
            "Word 2313 (\"independ\") appears 1 time.\n",
            "Word 2315 (\"longstand\") appears 1 time.\n",
            "Word 2323 (\"parti\") appears 1 time.\n",
            "Word 2326 (\"plan\") appears 1 time.\n",
            "Word 2328 (\"polici\") appears 9 time.\n",
            "Word 2331 (\"pursu\") appears 2 time.\n",
            "Word 2340 (\"richard\") appears 1 time.\n",
            "Word 2346 (\"step\") appears 1 time.\n",
            "Word 2360 (\"understood\") appears 1 time.\n",
            "Word 2398 (\"amaz\") appears 1 time.\n",
            "Word 2483 (\"experi\") appears 1 time.\n",
            "Word 2545 (\"manipul\") appears 2 time.\n",
            "Word 2556 (\"model\") appears 1 time.\n",
            "Word 2565 (\"origin\") appears 1 time.\n",
            "Word 2576 (\"piec\") appears 1 time.\n",
            "Word 2583 (\"pronounc\") appears 1 time.\n",
            "Word 2604 (\"round\") appears 1 time.\n",
            "Word 2614 (\"select\") appears 1 time.\n",
            "Word 2622 (\"signal\") appears 2 time.\n",
            "Word 2623 (\"signific\") appears 1 time.\n",
            "Word 2630 (\"slow\") appears 1 time.\n",
            "Word 2642 (\"suppress\") appears 1 time.\n",
            "Word 2672 (\"urg\") appears 1 time.\n",
            "Word 2695 (\"ambigu\") appears 1 time.\n",
            "Word 2775 (\"intent\") appears 1 time.\n",
            "Word 2837 (\"promis\") appears 4 time.\n",
            "Word 2857 (\"ronald\") appears 1 time.\n",
            "Word 2937 (\"expens\") appears 1 time.\n",
            "Word 2961 (\"pick\") appears 1 time.\n",
            "Word 2991 (\"util\") appears 1 time.\n",
            "Word 2997 (\"abandon\") appears 1 time.\n",
            "Word 3003 (\"agenc\") appears 1 time.\n",
            "Word 3004 (\"agenda\") appears 1 time.\n",
            "Word 3005 (\"agreement\") appears 3 time.\n",
            "Word 3010 (\"benefit\") appears 1 time.\n",
            "Word 3036 (\"forward\") appears 1 time.\n",
            "Word 3039 (\"global\") appears 1 time.\n",
            "Word 3043 (\"gov\") appears 1 time.\n",
            "Word 3052 (\"invest\") appears 1 time.\n",
            "Word 3053 (\"investor\") appears 1 time.\n",
            "Word 3054 (\"iowa\") appears 1 time.\n",
            "Word 3058 (\"latest\") appears 1 time.\n",
            "Word 3062 (\"manufactur\") appears 2 time.\n",
            "Word 3063 (\"mexico\") appears 6 time.\n",
            "Word 3064 (\"middl\") appears 1 time.\n",
            "Word 3069 (\"negoti\") appears 1 time.\n",
            "Word 3081 (\"persuad\") appears 1 time.\n",
            "Word 3089 (\"renew\") appears 1 time.\n",
            "Word 3090 (\"role\") appears 1 time.\n",
            "Word 3096 (\"strong\") appears 3 time.\n",
            "Word 3103 (\"top\") appears 3 time.\n",
            "Word 3105 (\"trade\") appears 35 time.\n",
            "Word 3139 (\"cite\") appears 1 time.\n",
            "Word 3160 (\"dream\") appears 1 time.\n",
            "Word 3168 (\"expand\") appears 4 time.\n",
            "Word 3176 (\"footprint\") appears 1 time.\n",
            "Word 3178 (\"free\") appears 7 time.\n",
            "Word 3200 (\"legisl\") appears 1 time.\n",
            "Word 3222 (\"plant\") appears 1 time.\n",
            "Word 3225 (\"price\") appears 1 time.\n",
            "Word 3232 (\"reduc\") appears 1 time.\n",
            "Word 3239 (\"secretari\") appears 2 time.\n",
            "Word 3240 (\"sell\") appears 1 time.\n",
            "Word 3262 (\"tax\") appears 2 time.\n",
            "Word 3281 (\"ambassador\") appears 1 time.\n",
            "Word 3293 (\"billionair\") appears 1 time.\n",
            "Word 3339 (\"exxon\") appears 1 time.\n",
            "Word 3349 (\"frequent\") appears 1 time.\n",
            "Word 3369 (\"intend\") appears 1 time.\n",
            "Word 3393 (\"mobil\") appears 1 time.\n",
            "Word 3423 (\"rex\") appears 1 time.\n",
            "Word 3445 (\"taken\") appears 1 time.\n",
            "Word 3448 (\"tillerson\") appears 1 time.\n",
            "Word 3450 (\"twitter\") appears 3 time.\n",
            "Word 3462 (\"aim\") appears 1 time.\n",
            "Word 3484 (\"must\") appears 1 time.\n",
            "Word 3513 (\"bulk\") appears 1 time.\n",
            "Word 3609 (\"steel\") appears 2 time.\n",
            "Word 3614 (\"tap\") appears 1 time.\n",
            "Word 3667 (\"chairman\") appears 1 time.\n",
            "Word 3734 (\"pretti\") appears 1 time.\n",
            "Word 3765 (\"unbridl\") appears 1 time.\n",
            "Word 3773 (\"2008\") appears 1 time.\n",
            "Word 3782 (\"argu\") appears 2 time.\n",
            "Word 3823 (\"immedi\") appears 1 time.\n",
            "Word 3856 (\"oppon\") appears 1 time.\n",
            "Word 3897 (\"tuesday\") appears 6 time.\n",
            "Word 3924 (\"currenc\") appears 3 time.\n",
            "Word 3935 (\"economi\") appears 2 time.\n",
            "Word 3936 (\"economist\") appears 3 time.\n",
            "Word 3941 (\"financ\") appears 1 time.\n",
            "Word 3946 (\"growth\") appears 2 time.\n",
            "Word 3997 (\"trader\") appears 1 time.\n",
            "Word 4046 (\"labor\") appears 1 time.\n",
            "Word 4053 (\"pickup\") appears 1 time.\n",
            "Word 4063 (\"truck\") appears 1 time.\n",
            "Word 4064 (\"underscor\") appears 1 time.\n",
            "Word 4066 (\"vehicl\") appears 4 time.\n",
            "Word 4133 (\"divis\") appears 1 time.\n",
            "Word 4141 (\"fulfil\") appears 1 time.\n",
            "Word 4186 (\"tough\") appears 1 time.\n",
            "Word 4221 (\"nomin\") appears 1 time.\n",
            "Word 4255 (\"border\") appears 2 time.\n",
            "Word 4318 (\"popul\") appears 1 time.\n",
            "Word 4485 (\"bob\") appears 1 time.\n",
            "Word 4494 (\"class\") appears 1 time.\n",
            "Word 4549 (\"priorit\") appears 1 time.\n",
            "Word 4557 (\"rewrit\") appears 1 time.\n",
            "Word 4649 (\"broader\") appears 3 time.\n",
            "Word 4705 (\"partner\") appears 1 time.\n",
            "Word 4777 (\"episod\") appears 1 time.\n",
            "Word 4828 (\"tool\") appears 1 time.\n",
            "Word 4833 (\"valu\") appears 1 time.\n",
            "Word 4893 (\"circl\") appears 2 time.\n",
            "Word 4913 (\"embrac\") appears 2 time.\n",
            "Word 4932 (\"imped\") appears 1 time.\n",
            "Word 4960 (\"necessari\") appears 1 time.\n",
            "Word 5126 (\"mainstream\") appears 2 time.\n",
            "Word 5211 (\"canada\") appears 1 time.\n",
            "Word 5277 (\"competitor\") appears 1 time.\n",
            "Word 5328 (\"competit\") appears 1 time.\n",
            "Word 5464 (\"ideal\") appears 1 time.\n",
            "Word 5468 (\"letter\") appears 1 time.\n",
            "Word 5512 (\"advocaci\") appears 1 time.\n",
            "Word 5530 (\"knowledg\") appears 1 time.\n",
            "Word 5555 (\"enforc\") appears 5 time.\n",
            "Word 5588 (\"unfair\") appears 1 time.\n",
            "Word 5591 (\"via\") appears 1 time.\n",
            "Word 5618 (\"ford\") appears 3 time.\n",
            "Word 5631 (\"lighthize\") appears 9 time.\n",
            "Word 5637 (\"michigan\") appears 2 time.\n",
            "Word 5638 (\"motor\") appears 3 time.\n",
            "Word 5645 (\"protectionist\") appears 2 time.\n",
            "Word 5705 (\"arizona\") appears 1 time.\n",
            "Word 5706 (\"auto\") appears 1 time.\n",
            "Word 5707 (\"branstad\") appears 1 time.\n",
            "Word 5708 (\"bullhorn\") appears 1 time.\n",
            "Word 5709 (\"carmak\") appears 1 time.\n",
            "Word 5710 (\"cautious\") appears 1 time.\n",
            "Word 5711 (\"chevi\") appears 1 time.\n",
            "Word 5712 (\"chevrolet\") appears 1 time.\n",
            "Word 5713 (\"coahuila\") appears 1 time.\n",
            "Word 5714 (\"cohn\") appears 1 time.\n",
            "Word 5715 (\"commentari\") appears 1 time.\n",
            "Word 5716 (\"commerc\") appears 1 time.\n",
            "Word 5717 (\"compact\") appears 1 time.\n",
            "Word 5718 (\"cruze\") appears 3 time.\n",
            "Word 5719 (\"domin\") appears 1 time.\n",
            "Word 5720 (\"emphas\") appears 1 time.\n",
            "Word 5721 (\"encycloped\") appears 1 time.\n",
            "Word 5722 (\"energ\") appears 1 time.\n",
            "Word 5723 (\"exert\") appears 2 time.\n",
            "Word 5724 (\"export\") appears 2 time.\n",
            "Word 5725 (\"flat\") appears 1 time.\n",
            "Word 5726 (\"gari\") appears 1 time.\n",
            "Word 5727 (\"goldman\") appears 1 time.\n",
            "Word 5728 (\"harmoni\") appears 1 time.\n",
            "Word 5729 (\"hatch\") appears 2 time.\n",
            "Word 5730 (\"hatchback\") appears 1 time.\n",
            "Word 5731 (\"ideolog\") appears 1 time.\n",
            "Word 5732 (\"lacklust\") appears 1 time.\n",
            "Word 5733 (\"lincicom\") appears 2 time.\n",
            "Word 5734 (\"mccain\") appears 1 time.\n",
            "Word 5735 (\"meanwhil\") appears 1 time.\n",
            "Word 5736 (\"mexican\") appears 1 time.\n",
            "Word 5737 (\"mich\") appears 1 time.\n",
            "Word 5738 (\"mistaken\") appears 1 time.\n",
            "Word 5739 (\"moder\") appears 1 time.\n",
            "Word 5740 (\"mustang\") appears 1 time.\n",
            "Word 5741 (\"nafta\") appears 1 time.\n",
            "Word 5742 (\"navarro\") appears 2 time.\n",
            "Word 5743 (\"orrin\") appears 1 time.\n",
            "Word 5744 (\"outspoken\") appears 1 time.\n",
            "Word 5745 (\"overse\") appears 2 time.\n",
            "Word 5746 (\"philosophi\") appears 1 time.\n",
            "Word 5747 (\"pragmat\") appears 1 time.\n",
            "Word 5748 (\"propon\") appears 1 time.\n",
            "Word 5749 (\"prosper\") appears 3 time.\n",
            "Word 5750 (\"protection\") appears 1 time.\n",
            "Word 5751 (\"quota\") appears 1 time.\n",
            "Word 5752 (\"renegoti\") appears 2 time.\n",
            "Word 5753 (\"retrograd\") appears 1 time.\n",
            "Word 5754 (\"rob\") appears 1 time.\n",
            "Word 5755 (\"ross\") appears 2 time.\n",
            "Word 5756 (\"sach\") appears 1 time.\n",
            "Word 5757 (\"scott\") appears 1 time.\n",
            "Word 5758 (\"subordin\") appears 1 time.\n",
            "Word 5759 (\"subsid\") appears 1 time.\n",
            "Word 5760 (\"tariff\") appears 1 time.\n",
            "Word 5761 (\"terri\") appears 1 time.\n",
            "Word 5762 (\"trend\") appears 1 time.\n",
            "Word 5763 (\"triumvir\") appears 1 time.\n",
            "Word 5764 (\"trumka\") appears 3 time.\n",
            "Word 5765 (\"undermin\") appears 1 time.\n",
            "Word 5766 (\"uneas\") appears 1 time.\n",
            "Word 5767 (\"unfold\") appears 1 time.\n",
            "Word 5768 (\"utah\") appears 1 time.\n",
            "Word 5769 (\"utopian\") appears 1 time.\n",
            "Word 5770 (\"wilbur\") appears 2 time.\n",
            "Word 5771 (\"wolff\") appears 1 time.\n"
          ],
          "name": "stdout"
        }
      ]
    },
    {
      "cell_type": "markdown",
      "metadata": {
        "id": "6Byrj0WENri-"
      },
      "source": [
        "## TF-IDF"
      ]
    },
    {
      "cell_type": "code",
      "metadata": {
        "pycharm": {
          "name": "#%%\n"
        },
        "colab": {
          "base_uri": "https://localhost:8080/"
        },
        "id": "jCbwZnBsNri-",
        "outputId": "53f106b3-e371-4953-e056-6da888f3093a"
      },
      "source": [
        "tfidf = models.TfidfModel(bow_corpus)\n",
        "corpus_tfidf = tfidf[bow_corpus]\n",
        "for doc in corpus_tfidf:\n",
        "    print(doc)\n",
        "    break"
      ],
      "execution_count": null,
      "outputs": [
        {
          "output_type": "stream",
          "text": [
            "[(0, 0.0297297121835003), (1, 0.020115641857962285), (2, 0.027475091478599733), (3, 0.0246338131895793), (4, 0.027728042071150663), (5, 0.0174134067651629), (6, 0.2237821409045775), (7, 0.0293950978322572), (8, 0.029892524774677208), (9, 0.026425743525530152), (10, 0.011398116803114852), (11, 0.03411990990197013), (12, 0.02989519358859514), (13, 0.012361490118588869), (14, 0.07765756515012612), (15, 0.10685349563361013), (16, 0.09972071792922374), (17, 0.027009297370733168), (18, 0.03654156669594325), (19, 0.034443188129025), (20, 0.034751792421216156), (21, 0.025956906486448782), (22, 0.04380777945480366), (23, 0.04118632475193582), (24, 0.009395295832206408), (25, 0.03613409224875905), (26, 0.017048529185535587), (27, 0.04649347886775031), (28, 0.09265695278345015), (29, 0.058827631973247335), (30, 0.18737662261388102), (31, 0.03161267072451408), (32, 0.03760461316546215), (33, 0.1485736490401198), (34, 0.0603689586214145), (35, 0.05980911701364772), (36, 0.03915834760553407), (37, 0.02592150463198195), (38, 0.021229050857013272), (39, 0.035115333022472606), (40, 0.038180493115560175), (41, 0.05866600276637528), (42, 0.04188732812130576), (43, 0.26152497663028573), (44, 0.04087047649996766), (45, 0.02825769472419788), (46, 0.018081016901696747), (47, 0.023271908937512322), (48, 0.03176845771852388), (49, 0.047800171586596225), (50, 0.037816078081279285), (51, 0.05690191054465328), (52, 0.11235163305204017), (53, 0.08760730995169463), (54, 0.03173806877429412), (55, 0.021918911093114495), (56, 0.018536341063734432), (57, 0.0836643797439435), (58, 0.029840621121444734), (59, 0.03753133698521751), (60, 0.013561079837768122), (61, 0.019424514929438627), (62, 0.045056219354932835), (63, 0.06390882046832937), (64, 0.038978395468353216), (65, 0.03010825336748619), (66, 0.018612971765155712), (67, 0.017747913215758974), (68, 0.03690304216092237), (69, 0.05017877914690382), (70, 0.02336472878575389), (71, 0.02411252256013815), (72, 0.03634862712404098), (73, 0.03609495298962635), (74, 0.02084562715281726), (75, 0.05165723644399656), (76, 0.03675804413849353), (77, 0.056676819591625405), (78, 0.023999939114648317), (79, 0.030845360799360736), (80, 0.09996013497781613), (81, 0.03793222368570508), (82, 0.0270365355776169), (83, 0.06298943056255792), (84, 0.027008289935067587), (85, 0.012355688370942813), (86, 0.024044371572452365), (87, 0.011190218260491444), (88, 0.04001307105796343), (89, 0.03889912979184196), (90, 0.039121255510969344), (91, 0.018706767041085363), (92, 0.015028503209576464), (93, 0.04220559139817126), (94, 0.012991482538380106), (95, 0.022235430449123385), (96, 0.032597113746119004), (97, 0.02774101701222807), (98, 0.04097992126558716), (99, 0.008225193607195652), (100, 0.02915017579728931), (101, 0.09410686010450982), (102, 0.0367919583534919), (103, 0.02567528313269544), (104, 0.02314045229989286), (105, 0.027871676567209847), (106, 0.05809075510476929), (107, 0.015494520957247668), (108, 0.04136427537287248), (109, 0.014823000096023735), (110, 0.021237085501862308), (111, 0.022835416074588194), (112, 0.020580496047397458), (113, 0.02596236377941058), (114, 0.023371794914540826), (115, 0.016967535673921962), (116, 0.0382132217816921), (117, 0.012926382400039823), (118, 0.03849643485617063), (119, 0.017999025176248257), (120, 0.02907844072043066), (121, 0.01547747286881123), (122, 0.23886939089801684), (123, 0.03188443927199239), (124, 0.2326013171050801), (125, 0.02623525756527607), (126, 0.040541441165724265), (127, 0.062214401542238715), (128, 0.016896575600360057), (129, 0.043618027582754036), (130, 0.035884706564242495), (131, 0.04697154535421027), (132, 0.029832659188321117), (133, 0.02324534293614912), (134, 0.04555576618784039), (135, 0.23365888410080515), (136, 0.01896806226792229), (137, 0.04256150873434395), (138, 0.01933969576688814), (139, 0.027232255793433687), (140, 0.038601869251866504), (141, 0.019291608377622532), (142, 0.0738798650885977), (143, 0.022785891618334688), (144, 0.025362491562914716), (145, 0.008032758142475588), (146, 0.020705116423352526), (147, 0.015946639919025885), (148, 0.0625357206706137), (149, 0.06504888000461649), (150, 0.08172793173431071), (151, 0.03243881184656187), (152, 0.02876050116672506), (153, 0.016373022333479547), (154, 0.019397603613720792), (155, 0.04424807153676129), (156, 0.044727743550992884), (157, 0.05926155845079229), (158, 0.044858790537960706), (159, 0.024569270422090148), (160, 0.023423525553483968), (161, 0.05428426756941784), (162, 0.009278058725043802), (163, 0.021852249903020624), (164, 0.05501375983783154), (165, 0.010929082399976957), (166, 0.04506200189813385), (167, 0.014649294055733763), (168, 0.03966876777732691), (169, 0.024222778470611054), (170, 0.03750049231210137), (171, 0.025620577938921602), (172, 0.010182730195753957), (173, 0.0291468499329086), (174, 0.08303831380728631), (175, 0.012995597191112995), (176, 0.01399548874624543), (177, 0.02876886893145726), (178, 0.03236363000018932), (179, 0.03324948722303513), (180, 0.062060048885128505), (181, 0.011468141067722808), (182, 0.02843473635069155), (183, 0.024158972415328574), (184, 0.020459499321359258), (185, 0.037444647461230024), (186, 0.04336705521980677), (187, 0.036075439184755496), (188, 0.052947134166849034), (189, 0.08362072348347618), (190, 0.013803081812087788), (191, 0.025320142400286186), (192, 0.01826717630148171), (193, 0.01685902980434179), (194, 0.04103856806144472), (195, 0.048431926983884856), (196, 0.07864322768150715), (197, 0.02877245720566634), (198, 0.025313693546034), (199, 0.06438882303086255), (200, 0.03717802836008432), (201, 0.01674609741159762), (202, 0.026387741785451918), (203, 0.04415521828960909), (204, 0.03514645032993163), (205, 0.02384481259008363), (206, 0.062313870124546616), (207, 0.04948089431456094), (208, 0.03465742843042724), (209, 0.036820742780507905), (210, 0.03459474375302194), (211, 0.05582459680980222), (212, 0.013582573395338374), (213, 0.014409464724497296), (214, 0.06766059963870738), (215, 0.022613100836647644), (216, 0.028068604139443093), (217, 0.03691968039641909), (218, 0.04280739877031765), (219, 0.028633435781086125), (220, 0.017333418474648758), (221, 0.016748321680228946), (222, 0.05611231950773299), (223, 0.02655408434177457), (224, 0.007867247678842927), (225, 0.25108944562040075), (226, 0.025173730002623167), (227, 0.061084512330700225), (228, 0.03902828227620191), (229, 0.03670349525047601), (230, 0.03615371798756907), (231, 0.03430075571367467), (232, 0.010991524182617469), (233, 0.06832251760463355), (234, 0.03860127466581849), (235, 0.0459695175694061), (236, 0.031477807584032), (237, 0.033502383466208936), (238, 0.018044355034965154), (239, 0.022922544312601427), (240, 0.03602439125865222), (241, 0.06262828707019792), (242, 0.030663970303184008), (243, 0.13700042203329124), (244, 0.026023501472200103), (245, 0.043756148268116454), (246, 0.058202891016325746), (247, 0.007471539418268682), (248, 0.06292256219400627), (249, 0.017749956789594644), (250, 0.02844168417920855), (251, 0.3172966685971354), (252, 0.021313729955901244), (253, 0.06333290365572078), (254, 0.135360388430203), (255, 0.06432054174366061), (256, 0.04153706456241944), (257, 0.04543064846254609), (258, 0.018602306676375045), (259, 0.017794367278726214), (260, 0.05733523151007987), (261, 0.03851805358174758), (262, 0.04220559139817126), (263, 0.022365976176676884), (264, 0.01576076877111954), (265, 0.00990529570667397), (266, 0.01602477401733356), (267, 0.023448420686402453), (268, 0.09322449068881695), (269, 0.041865886170181464), (270, 0.0893191324796378), (271, 0.041733936600063824), (272, 0.01608297021382222), (273, 0.043699652333153295), (274, 0.01333368667094832), (275, 0.030040349849986055), (276, 0.0515693636690915), (277, 0.03760104335354577), (278, 0.04739583780154153), (279, 0.055668974369932615), (280, 0.02235636754652108), (281, 0.019415825461486846), (282, 0.01512806827223209), (283, 0.024229859304210802), (284, 0.015072495199706224), (285, 0.044591874066868244), (286, 0.03728165352670258), (287, 0.019076797285002216), (288, 0.03135318485472828), (289, 0.02483724832574655), (290, 0.016984973203707485)]\n"
          ],
          "name": "stdout"
        }
      ]
    },
    {
      "cell_type": "markdown",
      "metadata": {
        "id": "VL6a2o-VNri_"
      },
      "source": [
        "## LDA Library: gensim.models.LdaMulticore"
      ]
    },
    {
      "cell_type": "code",
      "metadata": {
        "pycharm": {
          "name": "#%%\n"
        },
        "id": "ESm6-JWXNri_"
      },
      "source": [
        "lda_model = gensim.models.LdaMulticore(bow_corpus, num_topics=20, id2word=dictionary, passes=2, workers=2)"
      ],
      "execution_count": null,
      "outputs": []
    },
    {
      "cell_type": "code",
      "metadata": {
        "pycharm": {
          "name": "#%%\n"
        },
        "colab": {
          "base_uri": "https://localhost:8080/"
        },
        "id": "nFi6JlSENri_",
        "outputId": "a78a6dcd-ce4b-45b8-9352-77f42a983367"
      },
      "source": [
        "for idx, topic in lda_model.print_topics(-1):\n",
        "    print('Topic: {} \\nWords: {}'.format(idx, topic))"
      ],
      "execution_count": null,
      "outputs": [
        {
          "output_type": "stream",
          "text": [
            "Topic: 0 \n",
            "Words: 0.013*\"child\" + 0.013*\"drug\" + 0.013*\"famili\" + 0.008*\"life\" + 0.008*\"mother\" + 0.006*\"parent\" + 0.006*\"medic\" + 0.006*\"doctor\" + 0.006*\"get\" + 0.006*\"day\"\n",
            "Topic: 1 \n",
            "Words: 0.026*\"polic\" + 0.015*\"offic\" + 0.009*\"report\" + 0.008*\"gun\" + 0.008*\"kill\" + 0.007*\"shoot\" + 0.007*\"told\" + 0.006*\"charg\" + 0.006*\"investig\" + 0.005*\"man\"\n",
            "Topic: 2 \n",
            "Words: 0.092*\"trump\" + 0.017*\"presid\" + 0.013*\"donald\" + 0.007*\"campaign\" + 0.007*\"obama\" + 0.006*\"white\" + 0.005*\"first\" + 0.004*\"call\" + 0.004*\"washington\" + 0.004*\"presidenti\"\n",
            "Topic: 3 \n",
            "Words: 0.012*\"forc\" + 0.011*\"state\" + 0.010*\"militari\" + 0.010*\"attack\" + 0.009*\"islam\" + 0.008*\"syria\" + 0.007*\"group\" + 0.006*\"govern\" + 0.006*\"syrian\" + 0.006*\"offici\"\n",
            "Topic: 4 \n",
            "Words: 0.013*\"think\" + 0.011*\"get\" + 0.010*\"thing\" + 0.010*\"know\" + 0.010*\"becaus\" + 0.009*\"want\" + 0.009*\"make\" + 0.009*\"way\" + 0.009*\"go\" + 0.007*\"realli\"\n",
            "Topic: 5 \n",
            "Words: 0.008*\"show\" + 0.006*\"film\" + 0.004*\"music\" + 0.004*\"movi\" + 0.004*\"play\" + 0.004*\"stori\" + 0.004*\"book\" + 0.004*\"first\" + 0.004*\"make\" + 0.004*\"star\"\n",
            "Topic: 6 \n",
            "Words: 0.014*\"percent\" + 0.009*\"tax\" + 0.008*\"plan\" + 0.006*\"rate\" + 0.006*\"health\" + 0.006*\"state\" + 0.005*\"bank\" + 0.005*\"polici\" + 0.005*\"million\" + 0.005*\"trump\"\n",
            "Topic: 7 \n",
            "Words: 0.015*\"trump\" + 0.015*\"obama\" + 0.014*\"state\" + 0.014*\"russia\" + 0.012*\"presid\" + 0.010*\"russian\" + 0.009*\"putin\" + 0.008*\"iran\" + 0.008*\"unit\" + 0.007*\"american\"\n",
            "Topic: 8 \n",
            "Words: 0.018*\"trump\" + 0.013*\"presid\" + 0.012*\"investig\" + 0.011*\"hous\" + 0.011*\"offici\" + 0.010*\"report\" + 0.007*\"fbi\" + 0.007*\"depart\" + 0.007*\"intellig\" + 0.007*\"white\"\n",
            "Topic: 9 \n",
            "Words: 0.018*\"clinton\" + 0.016*\"news\" + 0.012*\"post\" + 0.011*\"medium\" + 0.010*\"email\" + 0.009*\"twitter\" + 0.009*\"report\" + 0.009*\"facebook\" + 0.006*\"stori\" + 0.005*\"hillari\"\n",
            "Topic: 10 \n",
            "Words: 0.022*\"court\" + 0.017*\"law\" + 0.017*\"state\" + 0.010*\"rule\" + 0.010*\"feder\" + 0.010*\"case\" + 0.008*\"justic\" + 0.008*\"right\" + 0.008*\"judg\" + 0.007*\"legal\"\n",
            "Topic: 11 \n",
            "Words: 0.017*\"game\" + 0.012*\"team\" + 0.009*\"play\" + 0.008*\"player\" + 0.008*\"season\" + 0.007*\"first\" + 0.006*\"win\" + 0.006*\"sport\" + 0.006*\"two\" + 0.006*\"last\"\n",
            "Topic: 12 \n",
            "Words: 0.026*\"china\" + 0.020*\"north\" + 0.017*\"korea\" + 0.012*\"nuclear\" + 0.010*\"south\" + 0.010*\"chines\" + 0.010*\"state\" + 0.009*\"unit\" + 0.009*\"missil\" + 0.007*\"countri\"\n",
            "Topic: 13 \n",
            "Words: 0.011*\"research\" + 0.009*\"studi\" + 0.007*\"use\" + 0.006*\"health\" + 0.005*\"scientist\" + 0.005*\"human\" + 0.005*\"diseas\" + 0.005*\"scienc\" + 0.004*\"could\" + 0.004*\"climat\"\n",
            "Topic: 14 \n",
            "Words: 0.020*\"immigr\" + 0.016*\"countri\" + 0.011*\"refuge\" + 0.009*\"border\" + 0.007*\"muslim\" + 0.007*\"unit\" + 0.006*\"mexico\" + 0.006*\"state\" + 0.005*\"govern\" + 0.005*\"deport\"\n",
            "Topic: 15 \n",
            "Words: 0.012*\"polit\" + 0.008*\"american\" + 0.007*\"parti\" + 0.006*\"nation\" + 0.005*\"countri\" + 0.005*\"world\" + 0.005*\"govern\" + 0.005*\"power\" + 0.004*\"britain\" + 0.004*\"may\"\n",
            "Topic: 16 \n",
            "Words: 0.007*\"citi\" + 0.005*\"home\" + 0.005*\"day\" + 0.004*\"water\" + 0.004*\"park\" + 0.004*\"hous\" + 0.003*\"get\" + 0.003*\"work\" + 0.003*\"back\" + 0.003*\"two\"\n",
            "Topic: 17 \n",
            "Words: 0.025*\"trump\" + 0.021*\"republican\" + 0.018*\"clinton\" + 0.016*\"democrat\" + 0.014*\"vote\" + 0.011*\"campaign\" + 0.011*\"elect\" + 0.010*\"voter\" + 0.010*\"state\" + 0.010*\"parti\"\n",
            "Topic: 18 \n",
            "Words: 0.021*\"compani\" + 0.007*\"million\" + 0.006*\"billion\" + 0.006*\"market\" + 0.005*\"busi\" + 0.004*\"sale\" + 0.004*\"share\" + 0.004*\"product\" + 0.004*\"use\" + 0.004*\"technolog\"\n",
            "Topic: 19 \n",
            "Words: 0.028*\"woman\" + 0.024*\"school\" + 0.018*\"student\" + 0.010*\"univers\" + 0.009*\"educ\" + 0.008*\"sexual\" + 0.008*\"child\" + 0.008*\"colleg\" + 0.007*\"men\" + 0.006*\"black\"\n"
          ],
          "name": "stdout"
        }
      ]
    },
    {
      "cell_type": "markdown",
      "metadata": {
        "id": "GTGQ0AZzNrjA"
      },
      "source": [
        "## Evaluation"
      ]
    },
    {
      "cell_type": "code",
      "metadata": {
        "pycharm": {
          "name": "#%%\n"
        },
        "colab": {
          "base_uri": "https://localhost:8080/"
        },
        "id": "6Js7A7FKNrjB",
        "outputId": "78f37fc6-65c4-4356-e83b-3567f05e955e"
      },
      "source": [
        "# Let's look at a test document: document 42\n",
        "# 1) clearly see that the article is about the economy 40%\n",
        "# 2) US politics 27%\n",
        "# 3) US Justice Department 8%\n",
        "# 4) US Congress 6%\n",
        "for index, score in sorted(lda_model[bow_corpus[42]], key=lambda tup: -1*tup[1]):\n",
        "    print(\"\\nScore: {}\\t \\nTopic: {}\".format(score, lda_model.print_topic(index, 10)))"
      ],
      "execution_count": null,
      "outputs": [
        {
          "output_type": "stream",
          "text": [
            "\n",
            "Score: 0.43498122692108154\t \n",
            "Topic: 0.014*\"percent\" + 0.009*\"tax\" + 0.008*\"plan\" + 0.006*\"rate\" + 0.006*\"health\" + 0.006*\"state\" + 0.005*\"bank\" + 0.005*\"polici\" + 0.005*\"million\" + 0.005*\"trump\"\n",
            "\n",
            "Score: 0.17876674234867096\t \n",
            "Topic: 0.092*\"trump\" + 0.017*\"presid\" + 0.013*\"donald\" + 0.007*\"campaign\" + 0.007*\"obama\" + 0.006*\"white\" + 0.005*\"first\" + 0.004*\"call\" + 0.004*\"washington\" + 0.004*\"presidenti\"\n",
            "\n",
            "Score: 0.08457224071025848\t \n",
            "Topic: 0.026*\"china\" + 0.020*\"north\" + 0.017*\"korea\" + 0.012*\"nuclear\" + 0.010*\"south\" + 0.010*\"chines\" + 0.010*\"state\" + 0.009*\"unit\" + 0.009*\"missil\" + 0.007*\"countri\"\n",
            "\n",
            "Score: 0.07658499479293823\t \n",
            "Topic: 0.022*\"court\" + 0.017*\"law\" + 0.017*\"state\" + 0.010*\"rule\" + 0.010*\"feder\" + 0.010*\"case\" + 0.008*\"justic\" + 0.008*\"right\" + 0.008*\"judg\" + 0.007*\"legal\"\n",
            "\n",
            "Score: 0.05687502399086952\t \n",
            "Topic: 0.018*\"trump\" + 0.013*\"presid\" + 0.012*\"investig\" + 0.011*\"hous\" + 0.011*\"offici\" + 0.010*\"report\" + 0.007*\"fbi\" + 0.007*\"depart\" + 0.007*\"intellig\" + 0.007*\"white\"\n",
            "\n",
            "Score: 0.05360734835267067\t \n",
            "Topic: 0.012*\"polit\" + 0.008*\"american\" + 0.007*\"parti\" + 0.006*\"nation\" + 0.005*\"countri\" + 0.005*\"world\" + 0.005*\"govern\" + 0.005*\"power\" + 0.004*\"britain\" + 0.004*\"may\"\n",
            "\n",
            "Score: 0.04939619079232216\t \n",
            "Topic: 0.025*\"trump\" + 0.021*\"republican\" + 0.018*\"clinton\" + 0.016*\"democrat\" + 0.014*\"vote\" + 0.011*\"campaign\" + 0.011*\"elect\" + 0.010*\"voter\" + 0.010*\"state\" + 0.010*\"parti\"\n",
            "\n",
            "Score: 0.0431206040084362\t \n",
            "Topic: 0.021*\"compani\" + 0.007*\"million\" + 0.006*\"billion\" + 0.006*\"market\" + 0.005*\"busi\" + 0.004*\"sale\" + 0.004*\"share\" + 0.004*\"product\" + 0.004*\"use\" + 0.004*\"technolog\"\n",
            "\n",
            "Score: 0.010851523838937283\t \n",
            "Topic: 0.017*\"game\" + 0.012*\"team\" + 0.009*\"play\" + 0.008*\"player\" + 0.008*\"season\" + 0.007*\"first\" + 0.006*\"win\" + 0.006*\"sport\" + 0.006*\"two\" + 0.006*\"last\"\n"
          ],
          "name": "stdout"
        }
      ]
    },
    {
      "cell_type": "code",
      "metadata": {
        "colab": {
          "base_uri": "https://localhost:8080/"
        },
        "id": "XU5s3e8_EyWe",
        "outputId": "00950a7b-66e0-4824-a24b-ea6019ca710a"
      },
      "source": [
        "# Decide the most representative documents for each topic and write it to file\r\n",
        "\r\n",
        "repList = [[] for i in range(20)]\r\n",
        "\r\n",
        "for doc_id in tqdm(range(len(data_content_clean)), \"Scoring: \"):\r\n",
        "  for index, score in sorted(lda_model[bow_corpus[doc_id]], key=lambda tup: -1*tup[1]):\r\n",
        "    repList[index].append((doc_id, score))\r\n",
        "\r\n",
        "for topic in repList:\r\n",
        "  topic.sort(key=lambda x:x[1], reverse=True)\r\n",
        "\r\n",
        "topicList = [\"Topic \"+str(i) for i in range(20)]\r\n",
        "\r\n",
        "df = pd.DataFrame(columns=topicList)\r\n",
        "\r\n",
        "for topic in range(len(topicList)):\r\n",
        "  end = 100\r\n",
        "  if len(repList[topic]) < 100:\r\n",
        "    end = len(repList[topic])-1\r\n",
        "  df[\"Topic \"+ str(topic)] = [x[0] for x in repList[topic][0:end]]\r\n",
        "\r\n",
        "df.to_csv('/content/drive/MyDrive/IR-Assignment-2/data/topic_document_rank_library.csv')\r\n"
      ],
      "execution_count": null,
      "outputs": [
        {
          "output_type": "stream",
          "text": [
            "Scoring: 100%|██████████| 141543/141543 [03:52<00:00, 609.00it/s]\n"
          ],
          "name": "stderr"
        }
      ]
    },
    {
      "cell_type": "code",
      "metadata": {
        "id": "9GL00uMYnWvx"
      },
      "source": [
        "file = open(\"/content/drive/MyDrive/IR-Assignment-2/data/analysis_topic_per_doc_lib.txt\",\"w\") \r\n",
        "\r\n",
        "for i in range(10):\r\n",
        "  file.write(\"doc \" + str(i) + \" topics: \\n\")\r\n",
        "  for index, score in sorted(lda_model[bow_corpus[i]], key=lambda tup: -1*tup[1]):\r\n",
        "    file.write(str(score) + \"   \")\r\n",
        "  file.write(\"\\n\\n\")\r\n",
        "\r\n",
        "file.close()"
      ],
      "execution_count": null,
      "outputs": []
    }
  ]
}