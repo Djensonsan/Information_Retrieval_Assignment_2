{
  "nbformat": 4,
  "nbformat_minor": 0,
  "metadata": {
    "colab": {
      "name": "LDA.ipynb",
      "provenance": [],
      "toc_visible": true,
      "machine_shape": "hm",
      "include_colab_link": true
    },
    "kernelspec": {
      "name": "python3",
      "language": "python",
      "display_name": "Python 3"
    }
  },
  "cells": [
    {
      "cell_type": "markdown",
      "metadata": {
        "id": "view-in-github",
        "colab_type": "text"
      },
      "source": [
        "<a href=\"https://colab.research.google.com/github/Djensonsan/Information_Retrieval_Assignment_2/blob/main/LDA.ipynb\" target=\"_parent\"><img src=\"https://colab.research.google.com/assets/colab-badge.svg\" alt=\"Open In Colab\"/></a>"
      ]
    },
    {
      "cell_type": "markdown",
      "metadata": {
        "id": "CKjJL7BGbHZh"
      },
      "source": [
        "# Information Retrieval Assignment 2: LDA\n"
      ]
    },
    {
      "cell_type": "markdown",
      "metadata": {
        "id": "rpFCcsMhBvT9"
      },
      "source": [
        "## Runtime specs"
      ]
    },
    {
      "cell_type": "code",
      "metadata": {
        "id": "po79b4hQBpKD",
        "colab": {
          "base_uri": "https://localhost:8080/"
        },
        "outputId": "41f1a83b-4f51-4290-ab0a-bc11e3320ac5"
      },
      "source": [
        "!cat /proc/cpuinfo"
      ],
      "execution_count": null,
      "outputs": [
        {
          "output_type": "stream",
          "text": [
            "processor\t: 0\n",
            "vendor_id\t: GenuineIntel\n",
            "cpu family\t: 6\n",
            "model\t\t: 85\n",
            "model name\t: Intel(R) Xeon(R) CPU @ 2.00GHz\n",
            "stepping\t: 3\n",
            "microcode\t: 0x1\n",
            "cpu MHz\t\t: 2000.186\n",
            "cache size\t: 39424 KB\n",
            "physical id\t: 0\n",
            "siblings\t: 4\n",
            "core id\t\t: 0\n",
            "cpu cores\t: 2\n",
            "apicid\t\t: 0\n",
            "initial apicid\t: 0\n",
            "fpu\t\t: yes\n",
            "fpu_exception\t: yes\n",
            "cpuid level\t: 13\n",
            "wp\t\t: yes\n",
            "flags\t\t: fpu vme de pse tsc msr pae mce cx8 apic sep mtrr pge mca cmov pat pse36 clflush mmx fxsr sse sse2 ss ht syscall nx pdpe1gb rdtscp lm constant_tsc rep_good nopl xtopology nonstop_tsc cpuid tsc_known_freq pni pclmulqdq ssse3 fma cx16 pcid sse4_1 sse4_2 x2apic movbe popcnt aes xsave avx f16c rdrand hypervisor lahf_lm abm 3dnowprefetch invpcid_single ssbd ibrs ibpb stibp fsgsbase tsc_adjust bmi1 hle avx2 smep bmi2 erms invpcid rtm mpx avx512f avx512dq rdseed adx smap clflushopt clwb avx512cd avx512bw avx512vl xsaveopt xsavec xgetbv1 xsaves arat md_clear arch_capabilities\n",
            "bugs\t\t: cpu_meltdown spectre_v1 spectre_v2 spec_store_bypass l1tf mds swapgs taa\n",
            "bogomips\t: 4000.37\n",
            "clflush size\t: 64\n",
            "cache_alignment\t: 64\n",
            "address sizes\t: 46 bits physical, 48 bits virtual\n",
            "power management:\n",
            "\n",
            "processor\t: 1\n",
            "vendor_id\t: GenuineIntel\n",
            "cpu family\t: 6\n",
            "model\t\t: 85\n",
            "model name\t: Intel(R) Xeon(R) CPU @ 2.00GHz\n",
            "stepping\t: 3\n",
            "microcode\t: 0x1\n",
            "cpu MHz\t\t: 2000.186\n",
            "cache size\t: 39424 KB\n",
            "physical id\t: 0\n",
            "siblings\t: 4\n",
            "core id\t\t: 1\n",
            "cpu cores\t: 2\n",
            "apicid\t\t: 2\n",
            "initial apicid\t: 2\n",
            "fpu\t\t: yes\n",
            "fpu_exception\t: yes\n",
            "cpuid level\t: 13\n",
            "wp\t\t: yes\n",
            "flags\t\t: fpu vme de pse tsc msr pae mce cx8 apic sep mtrr pge mca cmov pat pse36 clflush mmx fxsr sse sse2 ss ht syscall nx pdpe1gb rdtscp lm constant_tsc rep_good nopl xtopology nonstop_tsc cpuid tsc_known_freq pni pclmulqdq ssse3 fma cx16 pcid sse4_1 sse4_2 x2apic movbe popcnt aes xsave avx f16c rdrand hypervisor lahf_lm abm 3dnowprefetch invpcid_single ssbd ibrs ibpb stibp fsgsbase tsc_adjust bmi1 hle avx2 smep bmi2 erms invpcid rtm mpx avx512f avx512dq rdseed adx smap clflushopt clwb avx512cd avx512bw avx512vl xsaveopt xsavec xgetbv1 xsaves arat md_clear arch_capabilities\n",
            "bugs\t\t: cpu_meltdown spectre_v1 spectre_v2 spec_store_bypass l1tf mds swapgs taa\n",
            "bogomips\t: 4000.37\n",
            "clflush size\t: 64\n",
            "cache_alignment\t: 64\n",
            "address sizes\t: 46 bits physical, 48 bits virtual\n",
            "power management:\n",
            "\n",
            "processor\t: 2\n",
            "vendor_id\t: GenuineIntel\n",
            "cpu family\t: 6\n",
            "model\t\t: 85\n",
            "model name\t: Intel(R) Xeon(R) CPU @ 2.00GHz\n",
            "stepping\t: 3\n",
            "microcode\t: 0x1\n",
            "cpu MHz\t\t: 2000.186\n",
            "cache size\t: 39424 KB\n",
            "physical id\t: 0\n",
            "siblings\t: 4\n",
            "core id\t\t: 0\n",
            "cpu cores\t: 2\n",
            "apicid\t\t: 1\n",
            "initial apicid\t: 1\n",
            "fpu\t\t: yes\n",
            "fpu_exception\t: yes\n",
            "cpuid level\t: 13\n",
            "wp\t\t: yes\n",
            "flags\t\t: fpu vme de pse tsc msr pae mce cx8 apic sep mtrr pge mca cmov pat pse36 clflush mmx fxsr sse sse2 ss ht syscall nx pdpe1gb rdtscp lm constant_tsc rep_good nopl xtopology nonstop_tsc cpuid tsc_known_freq pni pclmulqdq ssse3 fma cx16 pcid sse4_1 sse4_2 x2apic movbe popcnt aes xsave avx f16c rdrand hypervisor lahf_lm abm 3dnowprefetch invpcid_single ssbd ibrs ibpb stibp fsgsbase tsc_adjust bmi1 hle avx2 smep bmi2 erms invpcid rtm mpx avx512f avx512dq rdseed adx smap clflushopt clwb avx512cd avx512bw avx512vl xsaveopt xsavec xgetbv1 xsaves arat md_clear arch_capabilities\n",
            "bugs\t\t: cpu_meltdown spectre_v1 spectre_v2 spec_store_bypass l1tf mds swapgs taa\n",
            "bogomips\t: 4000.37\n",
            "clflush size\t: 64\n",
            "cache_alignment\t: 64\n",
            "address sizes\t: 46 bits physical, 48 bits virtual\n",
            "power management:\n",
            "\n",
            "processor\t: 3\n",
            "vendor_id\t: GenuineIntel\n",
            "cpu family\t: 6\n",
            "model\t\t: 85\n",
            "model name\t: Intel(R) Xeon(R) CPU @ 2.00GHz\n",
            "stepping\t: 3\n",
            "microcode\t: 0x1\n",
            "cpu MHz\t\t: 2000.186\n",
            "cache size\t: 39424 KB\n",
            "physical id\t: 0\n",
            "siblings\t: 4\n",
            "core id\t\t: 1\n",
            "cpu cores\t: 2\n",
            "apicid\t\t: 3\n",
            "initial apicid\t: 3\n",
            "fpu\t\t: yes\n",
            "fpu_exception\t: yes\n",
            "cpuid level\t: 13\n",
            "wp\t\t: yes\n",
            "flags\t\t: fpu vme de pse tsc msr pae mce cx8 apic sep mtrr pge mca cmov pat pse36 clflush mmx fxsr sse sse2 ss ht syscall nx pdpe1gb rdtscp lm constant_tsc rep_good nopl xtopology nonstop_tsc cpuid tsc_known_freq pni pclmulqdq ssse3 fma cx16 pcid sse4_1 sse4_2 x2apic movbe popcnt aes xsave avx f16c rdrand hypervisor lahf_lm abm 3dnowprefetch invpcid_single ssbd ibrs ibpb stibp fsgsbase tsc_adjust bmi1 hle avx2 smep bmi2 erms invpcid rtm mpx avx512f avx512dq rdseed adx smap clflushopt clwb avx512cd avx512bw avx512vl xsaveopt xsavec xgetbv1 xsaves arat md_clear arch_capabilities\n",
            "bugs\t\t: cpu_meltdown spectre_v1 spectre_v2 spec_store_bypass l1tf mds swapgs taa\n",
            "bogomips\t: 4000.37\n",
            "clflush size\t: 64\n",
            "cache_alignment\t: 64\n",
            "address sizes\t: 46 bits physical, 48 bits virtual\n",
            "power management:\n",
            "\n"
          ],
          "name": "stdout"
        }
      ]
    },
    {
      "cell_type": "code",
      "metadata": {
        "id": "Ahwnx0uvBrKp",
        "colab": {
          "base_uri": "https://localhost:8080/"
        },
        "outputId": "27dde340-a96b-409b-8409-58a695592003"
      },
      "source": [
        "!cat /proc/meminfo"
      ],
      "execution_count": null,
      "outputs": [
        {
          "output_type": "stream",
          "text": [
            "MemTotal:       26751732 kB\n",
            "MemFree:        21632444 kB\n",
            "MemAvailable:   25739404 kB\n",
            "Buffers:           99444 kB\n",
            "Cached:          4197412 kB\n",
            "SwapCached:            0 kB\n",
            "Active:          1356236 kB\n",
            "Inactive:        3388708 kB\n",
            "Active(anon):     405960 kB\n",
            "Inactive(anon):      404 kB\n",
            "Active(file):     950276 kB\n",
            "Inactive(file):  3388304 kB\n",
            "Unevictable:           0 kB\n",
            "Mlocked:               0 kB\n",
            "SwapTotal:             0 kB\n",
            "SwapFree:              0 kB\n",
            "Dirty:              1012 kB\n",
            "Writeback:             0 kB\n",
            "AnonPages:        448076 kB\n",
            "Mapped:           242644 kB\n",
            "Shmem:               940 kB\n",
            "Slab:             240084 kB\n",
            "SReclaimable:     182336 kB\n",
            "SUnreclaim:        57748 kB\n",
            "KernelStack:        4976 kB\n",
            "PageTables:         6200 kB\n",
            "NFS_Unstable:          0 kB\n",
            "Bounce:                0 kB\n",
            "WritebackTmp:          0 kB\n",
            "CommitLimit:    13375864 kB\n",
            "Committed_AS:    3220564 kB\n",
            "VmallocTotal:   34359738367 kB\n",
            "VmallocUsed:           0 kB\n",
            "VmallocChunk:          0 kB\n",
            "Percpu:             1904 kB\n",
            "AnonHugePages:         0 kB\n",
            "ShmemHugePages:        0 kB\n",
            "ShmemPmdMapped:        0 kB\n",
            "HugePages_Total:       0\n",
            "HugePages_Free:        0\n",
            "HugePages_Rsvd:        0\n",
            "HugePages_Surp:        0\n",
            "Hugepagesize:       2048 kB\n",
            "Hugetlb:               0 kB\n",
            "DirectMap4k:       99560 kB\n",
            "DirectMap2M:     6191104 kB\n",
            "DirectMap1G:    23068672 kB\n"
          ],
          "name": "stdout"
        }
      ]
    },
    {
      "cell_type": "markdown",
      "metadata": {
        "id": "B1JNYr6hbRw4"
      },
      "source": [
        "## Imports"
      ]
    },
    {
      "cell_type": "code",
      "metadata": {
        "colab": {
          "base_uri": "https://localhost:8080/"
        },
        "id": "ZrAzQvyxdic5",
        "outputId": "cc40d2d9-6931-4c1b-ba8e-60518f5290b4"
      },
      "source": [
        "# Install your required packages here\n",
        "!pip install pandas numpy matplotlib fsspec gcsfs dask\n",
        "!pip install -q tqdm"
      ],
      "execution_count": 1,
      "outputs": [
        {
          "output_type": "stream",
          "text": [
            "Requirement already satisfied: pandas in /usr/local/lib/python3.6/dist-packages (1.1.4)\n",
            "Requirement already satisfied: numpy in /usr/local/lib/python3.6/dist-packages (1.18.5)\n",
            "Requirement already satisfied: matplotlib in /usr/local/lib/python3.6/dist-packages (3.2.2)\n",
            "Collecting fsspec\n",
            "\u001b[?25l  Downloading https://files.pythonhosted.org/packages/a5/8b/1df260f860f17cb08698170153ef7db672c497c1840dcc8613ce26a8a005/fsspec-0.8.4-py3-none-any.whl (91kB)\n",
            "\u001b[K     |████████████████████████████████| 92kB 3.5MB/s \n",
            "\u001b[?25hCollecting gcsfs\n",
            "  Downloading https://files.pythonhosted.org/packages/85/75/3d669945d41e5aedd5c4333b9dc6192b7839d2bafd04b75b8222d4e92ae0/gcsfs-0.7.1-py2.py3-none-any.whl\n",
            "Requirement already satisfied: dask in /usr/local/lib/python3.6/dist-packages (2.12.0)\n",
            "Requirement already satisfied: python-dateutil>=2.7.3 in /usr/local/lib/python3.6/dist-packages (from pandas) (2.8.1)\n",
            "Requirement already satisfied: pytz>=2017.2 in /usr/local/lib/python3.6/dist-packages (from pandas) (2018.9)\n",
            "Requirement already satisfied: kiwisolver>=1.0.1 in /usr/local/lib/python3.6/dist-packages (from matplotlib) (1.3.1)\n",
            "Requirement already satisfied: pyparsing!=2.0.4,!=2.1.2,!=2.1.6,>=2.0.1 in /usr/local/lib/python3.6/dist-packages (from matplotlib) (2.4.7)\n",
            "Requirement already satisfied: cycler>=0.10 in /usr/local/lib/python3.6/dist-packages (from matplotlib) (0.10.0)\n",
            "Collecting aiohttp\n",
            "\u001b[?25l  Downloading https://files.pythonhosted.org/packages/ad/e6/d4b6235d776c9b33f853e603efede5aac5a34f71ca9d3877adb30492eb4e/aiohttp-3.7.3-cp36-cp36m-manylinux2014_x86_64.whl (1.3MB)\n",
            "\u001b[K     |████████████████████████████████| 1.3MB 6.7MB/s \n",
            "\u001b[?25hRequirement already satisfied: requests in /usr/local/lib/python3.6/dist-packages (from gcsfs) (2.23.0)\n",
            "Requirement already satisfied: google-auth-oauthlib in /usr/local/lib/python3.6/dist-packages (from gcsfs) (0.4.2)\n",
            "Requirement already satisfied: decorator in /usr/local/lib/python3.6/dist-packages (from gcsfs) (4.4.2)\n",
            "Requirement already satisfied: google-auth>=1.2 in /usr/local/lib/python3.6/dist-packages (from gcsfs) (1.17.2)\n",
            "Requirement already satisfied: six>=1.5 in /usr/local/lib/python3.6/dist-packages (from python-dateutil>=2.7.3->pandas) (1.15.0)\n",
            "Collecting yarl<2.0,>=1.0\n",
            "\u001b[?25l  Downloading https://files.pythonhosted.org/packages/da/08/52b26b44bce7b818b410aee37c5e424c9ea420c557bca97dc2adac29b151/yarl-1.6.3-cp36-cp36m-manylinux2014_x86_64.whl (293kB)\n",
            "\u001b[K     |████████████████████████████████| 296kB 15.6MB/s \n",
            "\u001b[?25hRequirement already satisfied: attrs>=17.3.0 in /usr/local/lib/python3.6/dist-packages (from aiohttp->gcsfs) (20.3.0)\n",
            "Requirement already satisfied: chardet<4.0,>=2.0 in /usr/local/lib/python3.6/dist-packages (from aiohttp->gcsfs) (3.0.4)\n",
            "Collecting idna-ssl>=1.0; python_version < \"3.7\"\n",
            "  Downloading https://files.pythonhosted.org/packages/46/03/07c4894aae38b0de52b52586b24bf189bb83e4ddabfe2e2c8f2419eec6f4/idna-ssl-1.1.0.tar.gz\n",
            "Requirement already satisfied: typing-extensions>=3.6.5 in /usr/local/lib/python3.6/dist-packages (from aiohttp->gcsfs) (3.7.4.3)\n",
            "Collecting multidict<7.0,>=4.5\n",
            "\u001b[?25l  Downloading https://files.pythonhosted.org/packages/a5/95/f89c97db4d27b24fce7c6fb6ef05228f347e43bbf67e4737a0660c8753fd/multidict-5.0.2-cp36-cp36m-manylinux2014_x86_64.whl (141kB)\n",
            "\u001b[K     |████████████████████████████████| 143kB 15.9MB/s \n",
            "\u001b[?25hCollecting async-timeout<4.0,>=3.0\n",
            "  Downloading https://files.pythonhosted.org/packages/e1/1e/5a4441be21b0726c4464f3f23c8b19628372f606755a9d2e46c187e65ec4/async_timeout-3.0.1-py3-none-any.whl\n",
            "Requirement already satisfied: urllib3!=1.25.0,!=1.25.1,<1.26,>=1.21.1 in /usr/local/lib/python3.6/dist-packages (from requests->gcsfs) (1.24.3)\n",
            "Requirement already satisfied: idna<3,>=2.5 in /usr/local/lib/python3.6/dist-packages (from requests->gcsfs) (2.10)\n",
            "Requirement already satisfied: certifi>=2017.4.17 in /usr/local/lib/python3.6/dist-packages (from requests->gcsfs) (2020.11.8)\n",
            "Requirement already satisfied: requests-oauthlib>=0.7.0 in /usr/local/lib/python3.6/dist-packages (from google-auth-oauthlib->gcsfs) (1.3.0)\n",
            "Requirement already satisfied: cachetools<5.0,>=2.0.0 in /usr/local/lib/python3.6/dist-packages (from google-auth>=1.2->gcsfs) (4.1.1)\n",
            "Requirement already satisfied: rsa<5,>=3.1.4; python_version >= \"3\" in /usr/local/lib/python3.6/dist-packages (from google-auth>=1.2->gcsfs) (4.6)\n",
            "Requirement already satisfied: setuptools>=40.3.0 in /usr/local/lib/python3.6/dist-packages (from google-auth>=1.2->gcsfs) (50.3.2)\n",
            "Requirement already satisfied: pyasn1-modules>=0.2.1 in /usr/local/lib/python3.6/dist-packages (from google-auth>=1.2->gcsfs) (0.2.8)\n",
            "Requirement already satisfied: oauthlib>=3.0.0 in /usr/local/lib/python3.6/dist-packages (from requests-oauthlib>=0.7.0->google-auth-oauthlib->gcsfs) (3.1.0)\n",
            "Requirement already satisfied: pyasn1>=0.1.3 in /usr/local/lib/python3.6/dist-packages (from rsa<5,>=3.1.4; python_version >= \"3\"->google-auth>=1.2->gcsfs) (0.4.8)\n",
            "Building wheels for collected packages: idna-ssl\n",
            "  Building wheel for idna-ssl (setup.py) ... \u001b[?25l\u001b[?25hdone\n",
            "  Created wheel for idna-ssl: filename=idna_ssl-1.1.0-cp36-none-any.whl size=3161 sha256=908dce32054433178ee26d5af8f86df1f855e932cbee45d8162867f1c4f5f482\n",
            "  Stored in directory: /root/.cache/pip/wheels/d3/00/b3/32d613e19e08a739751dd6bf998cfed277728f8b2127ad4eb7\n",
            "Successfully built idna-ssl\n",
            "Installing collected packages: fsspec, multidict, yarl, idna-ssl, async-timeout, aiohttp, gcsfs\n",
            "Successfully installed aiohttp-3.7.3 async-timeout-3.0.1 fsspec-0.8.4 gcsfs-0.7.1 idna-ssl-1.1.0 multidict-5.0.2 yarl-1.6.3\n"
          ],
          "name": "stdout"
        }
      ]
    },
    {
      "cell_type": "code",
      "metadata": {
        "pycharm": {
          "name": "#%%\n"
        },
        "id": "FouflfHDv73W",
        "colab": {
          "base_uri": "https://localhost:8080/"
        },
        "outputId": "5e986e19-d2d8-4b1a-aec4-3581731c63bf"
      },
      "source": [
        "import pandas as pd\n",
        "import numpy as np\n",
        "import tqdm.notebook as tqdm\n",
        "import dask.dataframe as dd\n",
        "\n",
        "from ast import literal_eval\n",
        "import gensim\n",
        "from gensim import corpora, models\n",
        "from tqdm import tqdm\n",
        "from gensim.utils import simple_preprocess\n",
        "from gensim.parsing.preprocessing import STOPWORDS\n",
        "from nltk.stem import WordNetLemmatizer, SnowballStemmer\n",
        "from nltk.stem.porter import *\n",
        "from nltk.corpus import stopwords\n",
        "import nltk\n",
        "nltk.download('wordnet')\n",
        "nltk.download('punkt')\n",
        "nltk.download('stopwords')"
      ],
      "execution_count": 47,
      "outputs": [
        {
          "output_type": "stream",
          "text": [
            "[nltk_data] Downloading package wordnet to /root/nltk_data...\n",
            "[nltk_data]   Package wordnet is already up-to-date!\n",
            "[nltk_data] Downloading package punkt to /root/nltk_data...\n",
            "[nltk_data]   Package punkt is already up-to-date!\n",
            "[nltk_data] Downloading package stopwords to /root/nltk_data...\n",
            "[nltk_data]   Package stopwords is already up-to-date!\n"
          ],
          "name": "stdout"
        },
        {
          "output_type": "execute_result",
          "data": {
            "text/plain": [
              "True"
            ]
          },
          "metadata": {
            "tags": []
          },
          "execution_count": 47
        }
      ]
    },
    {
      "cell_type": "code",
      "metadata": {
        "colab": {
          "base_uri": "https://localhost:8080/"
        },
        "id": "Hmq5dkz3dq6r",
        "outputId": "bff8f6dc-85a6-41d9-ad4f-4c5132e6039f"
      },
      "source": [
        "# Mount google drive in colab:\n",
        "from google.cloud import storage\n",
        "from google.colab import drive\n",
        "drive.mount('/content/drive')"
      ],
      "execution_count": 3,
      "outputs": [
        {
          "output_type": "stream",
          "text": [
            "Mounted at /content/drive\n"
          ],
          "name": "stdout"
        }
      ]
    },
    {
      "cell_type": "markdown",
      "metadata": {
        "id": "JV7MKPthbO7D"
      },
      "source": [
        "## Preprocessing"
      ]
    },
    {
      "cell_type": "code",
      "metadata": {
        "id": "4z71OL-Agy8X"
      },
      "source": [
        "# Pycharm:\n",
        "# data = pd.read_csv('data/news_dataset.csv')"
      ],
      "execution_count": null,
      "outputs": []
    },
    {
      "cell_type": "code",
      "metadata": {
        "id": "ecP-GrK6hdz0"
      },
      "source": [
        "# Colab:\n",
        "data = pd.read_csv('/content/drive/MyDrive/IR-Assignment-2/data/news_dataset.csv')"
      ],
      "execution_count": 56,
      "outputs": []
    },
    {
      "cell_type": "markdown",
      "metadata": {
        "id": "1OlMBR5Mh9Op"
      },
      "source": [
        "### Exploration"
      ]
    },
    {
      "cell_type": "code",
      "metadata": {
        "id": "4yNYD0sfiOMc",
        "colab": {
          "base_uri": "https://localhost:8080/"
        },
        "outputId": "b10715ce-2581-43dc-d8c1-b7e85eae61b7"
      },
      "source": [
        "data.info()"
      ],
      "execution_count": 57,
      "outputs": [
        {
          "output_type": "stream",
          "text": [
            "<class 'pandas.core.frame.DataFrame'>\n",
            "RangeIndex: 141585 entries, 0 to 141584\n",
            "Data columns (total 9 columns):\n",
            " #   Column       Non-Null Count   Dtype \n",
            "---  ------       --------------   ----- \n",
            " 0   id           141585 non-null  int64 \n",
            " 1   title        141583 non-null  object\n",
            " 2   publication  141564 non-null  object\n",
            " 3   author       125725 non-null  object\n",
            " 4   date         138869 non-null  object\n",
            " 5   year         138911 non-null  object\n",
            " 6   month        138911 non-null  object\n",
            " 7   url          84541 non-null   object\n",
            " 8   content      141543 non-null  object\n",
            "dtypes: int64(1), object(8)\n",
            "memory usage: 9.7+ MB\n"
          ],
          "name": "stdout"
        }
      ]
    },
    {
      "cell_type": "code",
      "metadata": {
        "id": "cq4GI0aXh8WM",
        "colab": {
          "base_uri": "https://localhost:8080/",
          "height": 1000
        },
        "outputId": "2d49d86d-05ea-42d9-f82d-7ba4e7cabe04"
      },
      "source": [
        "data.head(n=43)"
      ],
      "execution_count": 72,
      "outputs": [
        {
          "output_type": "execute_result",
          "data": {
            "text/html": [
              "<div>\n",
              "<style scoped>\n",
              "    .dataframe tbody tr th:only-of-type {\n",
              "        vertical-align: middle;\n",
              "    }\n",
              "\n",
              "    .dataframe tbody tr th {\n",
              "        vertical-align: top;\n",
              "    }\n",
              "\n",
              "    .dataframe thead th {\n",
              "        text-align: right;\n",
              "    }\n",
              "</style>\n",
              "<table border=\"1\" class=\"dataframe\">\n",
              "  <thead>\n",
              "    <tr style=\"text-align: right;\">\n",
              "      <th></th>\n",
              "      <th>id</th>\n",
              "      <th>title</th>\n",
              "      <th>publication</th>\n",
              "      <th>author</th>\n",
              "      <th>date</th>\n",
              "      <th>year</th>\n",
              "      <th>month</th>\n",
              "      <th>url</th>\n",
              "      <th>content</th>\n",
              "    </tr>\n",
              "  </thead>\n",
              "  <tbody>\n",
              "    <tr>\n",
              "      <th>0</th>\n",
              "      <td>1</td>\n",
              "      <td>House Republicans Fret About Winning Their Hea...</td>\n",
              "      <td>New York Times</td>\n",
              "      <td>Carl Hulse</td>\n",
              "      <td>2016-12-31</td>\n",
              "      <td>2016</td>\n",
              "      <td>12</td>\n",
              "      <td>NaN</td>\n",
              "      <td>WASHINGTON  —   Congressional Republicans have...</td>\n",
              "    </tr>\n",
              "    <tr>\n",
              "      <th>1</th>\n",
              "      <td>2</td>\n",
              "      <td>Rift Between Officers and Residents as Killing...</td>\n",
              "      <td>New York Times</td>\n",
              "      <td>Benjamin Mueller and Al Baker</td>\n",
              "      <td>2017-06-19</td>\n",
              "      <td>2017</td>\n",
              "      <td>6</td>\n",
              "      <td>NaN</td>\n",
              "      <td>After the bullet shells get counted, the blood...</td>\n",
              "    </tr>\n",
              "    <tr>\n",
              "      <th>2</th>\n",
              "      <td>3</td>\n",
              "      <td>Tyrus Wong, ‘Bambi’ Artist Thwarted by Racial ...</td>\n",
              "      <td>New York Times</td>\n",
              "      <td>Margalit Fox</td>\n",
              "      <td>2017-01-06</td>\n",
              "      <td>2017</td>\n",
              "      <td>1</td>\n",
              "      <td>NaN</td>\n",
              "      <td>When Walt Disney’s “Bambi” opened in 1942, cri...</td>\n",
              "    </tr>\n",
              "    <tr>\n",
              "      <th>3</th>\n",
              "      <td>4</td>\n",
              "      <td>Among Deaths in 2016, a Heavy Toll in Pop Musi...</td>\n",
              "      <td>New York Times</td>\n",
              "      <td>William McDonald</td>\n",
              "      <td>2017-04-10</td>\n",
              "      <td>2017</td>\n",
              "      <td>4</td>\n",
              "      <td>NaN</td>\n",
              "      <td>Death may be the great equalizer, but it isn’t...</td>\n",
              "    </tr>\n",
              "    <tr>\n",
              "      <th>4</th>\n",
              "      <td>5</td>\n",
              "      <td>Kim Jong-un Says North Korea Is Preparing to T...</td>\n",
              "      <td>New York Times</td>\n",
              "      <td>Choe Sang-Hun</td>\n",
              "      <td>2017-01-02</td>\n",
              "      <td>2017</td>\n",
              "      <td>1</td>\n",
              "      <td>NaN</td>\n",
              "      <td>SEOUL, South Korea  —   North Korea’s leader, ...</td>\n",
              "    </tr>\n",
              "    <tr>\n",
              "      <th>5</th>\n",
              "      <td>6</td>\n",
              "      <td>Sick With a Cold, Queen Elizabeth Misses New Y...</td>\n",
              "      <td>New York Times</td>\n",
              "      <td>Sewell Chan</td>\n",
              "      <td>2017-01-02</td>\n",
              "      <td>2017</td>\n",
              "      <td>1</td>\n",
              "      <td>NaN</td>\n",
              "      <td>LONDON  —   Queen Elizabeth II, who has been b...</td>\n",
              "    </tr>\n",
              "    <tr>\n",
              "      <th>6</th>\n",
              "      <td>7</td>\n",
              "      <td>Taiwan’s President Accuses China of Renewed In...</td>\n",
              "      <td>New York Times</td>\n",
              "      <td>Javier C. Hernández</td>\n",
              "      <td>2017-01-02</td>\n",
              "      <td>2017</td>\n",
              "      <td>1</td>\n",
              "      <td>NaN</td>\n",
              "      <td>BEIJING  —   President Tsai   of Taiwan sharpl...</td>\n",
              "    </tr>\n",
              "    <tr>\n",
              "      <th>7</th>\n",
              "      <td>8</td>\n",
              "      <td>After ‘The Biggest Loser,’ Their Bodies Fought...</td>\n",
              "      <td>New York Times</td>\n",
              "      <td>Gina Kolata</td>\n",
              "      <td>2017-02-08</td>\n",
              "      <td>2017</td>\n",
              "      <td>2</td>\n",
              "      <td>NaN</td>\n",
              "      <td>Danny Cahill stood, slightly dazed, in a blizz...</td>\n",
              "    </tr>\n",
              "    <tr>\n",
              "      <th>8</th>\n",
              "      <td>9</td>\n",
              "      <td>First, a Mixtape. Then a Romance. - The New Yo...</td>\n",
              "      <td>New York Times</td>\n",
              "      <td>Katherine Rosman</td>\n",
              "      <td>2016-12-31</td>\n",
              "      <td>2016</td>\n",
              "      <td>12</td>\n",
              "      <td>NaN</td>\n",
              "      <td>Just how   is Hillary Kerr, the    founder of ...</td>\n",
              "    </tr>\n",
              "    <tr>\n",
              "      <th>9</th>\n",
              "      <td>10</td>\n",
              "      <td>Calling on Angels While Enduring the Trials of...</td>\n",
              "      <td>New York Times</td>\n",
              "      <td>Andy Newman</td>\n",
              "      <td>2016-12-31</td>\n",
              "      <td>2016</td>\n",
              "      <td>12</td>\n",
              "      <td>NaN</td>\n",
              "      <td>Angels are everywhere in the Muñiz family’s ap...</td>\n",
              "    </tr>\n",
              "    <tr>\n",
              "      <th>10</th>\n",
              "      <td>11</td>\n",
              "      <td>Weak Federal Powers Could Limit Trump’s Climat...</td>\n",
              "      <td>New York Times</td>\n",
              "      <td>Justin Gillis</td>\n",
              "      <td>2017-01-03</td>\n",
              "      <td>2017</td>\n",
              "      <td>1</td>\n",
              "      <td>NaN</td>\n",
              "      <td>With Donald J. Trump about to take control of ...</td>\n",
              "    </tr>\n",
              "    <tr>\n",
              "      <th>11</th>\n",
              "      <td>12</td>\n",
              "      <td>Can Carbon Capture Technology Prosper Under Tr...</td>\n",
              "      <td>New York Times</td>\n",
              "      <td>John Schwartz</td>\n",
              "      <td>2017-01-05</td>\n",
              "      <td>2017</td>\n",
              "      <td>1</td>\n",
              "      <td>NaN</td>\n",
              "      <td>THOMPSONS, Tex.  —   Can one of the most promi...</td>\n",
              "    </tr>\n",
              "    <tr>\n",
              "      <th>12</th>\n",
              "      <td>13</td>\n",
              "      <td>Mar-a-Lago, the Future Winter White House and ...</td>\n",
              "      <td>New York Times</td>\n",
              "      <td>Maggie Haberman</td>\n",
              "      <td>2017-01-02</td>\n",
              "      <td>2017</td>\n",
              "      <td>1</td>\n",
              "      <td>NaN</td>\n",
              "      <td>WEST PALM BEACH, Fla.  —   When   Donald J. Tr...</td>\n",
              "    </tr>\n",
              "    <tr>\n",
              "      <th>13</th>\n",
              "      <td>14</td>\n",
              "      <td>How to form healthy habits in your 20s - The N...</td>\n",
              "      <td>New York Times</td>\n",
              "      <td>Charles Duhigg</td>\n",
              "      <td>2017-01-02</td>\n",
              "      <td>2017</td>\n",
              "      <td>1</td>\n",
              "      <td>NaN</td>\n",
              "      <td>This article is part of a series aimed at help...</td>\n",
              "    </tr>\n",
              "    <tr>\n",
              "      <th>14</th>\n",
              "      <td>15</td>\n",
              "      <td>Turning Your Vacation Photos Into Works of Art...</td>\n",
              "      <td>New York Times</td>\n",
              "      <td>Stephanie Rosenbloom</td>\n",
              "      <td>2017-04-14</td>\n",
              "      <td>2017</td>\n",
              "      <td>4</td>\n",
              "      <td>NaN</td>\n",
              "      <td>It’s the season for family travel and photos  ...</td>\n",
              "    </tr>\n",
              "    <tr>\n",
              "      <th>15</th>\n",
              "      <td>16</td>\n",
              "      <td>As Second Avenue Subway Opens, a Train Delay E...</td>\n",
              "      <td>New York Times</td>\n",
              "      <td>Emma G. Fitzsimmons</td>\n",
              "      <td>2017-01-02</td>\n",
              "      <td>2017</td>\n",
              "      <td>1</td>\n",
              "      <td>NaN</td>\n",
              "      <td>Finally. The Second Avenue subway opened in Ne...</td>\n",
              "    </tr>\n",
              "    <tr>\n",
              "      <th>16</th>\n",
              "      <td>17</td>\n",
              "      <td>Dylann Roof Himself Rejects Best Defense Again...</td>\n",
              "      <td>New York Times</td>\n",
              "      <td>Kevin Sack and Alan Blinder</td>\n",
              "      <td>2017-01-02</td>\n",
              "      <td>2017</td>\n",
              "      <td>1</td>\n",
              "      <td>NaN</td>\n",
              "      <td>pages into the   journal found in Dylann S. ...</td>\n",
              "    </tr>\n",
              "    <tr>\n",
              "      <th>17</th>\n",
              "      <td>18</td>\n",
              "      <td>Modi’s Cash Ban Brings Pain, but Corruption-We...</td>\n",
              "      <td>New York Times</td>\n",
              "      <td>Geeta Anand</td>\n",
              "      <td>2017-01-02</td>\n",
              "      <td>2017</td>\n",
              "      <td>1</td>\n",
              "      <td>NaN</td>\n",
              "      <td>MUMBAI, India  —   It was a bold and risky gam...</td>\n",
              "    </tr>\n",
              "    <tr>\n",
              "      <th>18</th>\n",
              "      <td>19</td>\n",
              "      <td>Suicide Bombing in Baghdad Kills at Least 36 -...</td>\n",
              "      <td>New York Times</td>\n",
              "      <td>The Associated Press</td>\n",
              "      <td>2017-01-03</td>\n",
              "      <td>2017</td>\n",
              "      <td>1</td>\n",
              "      <td>NaN</td>\n",
              "      <td>BAGHDAD  —   A suicide bomber detonated a pick...</td>\n",
              "    </tr>\n",
              "    <tr>\n",
              "      <th>19</th>\n",
              "      <td>20</td>\n",
              "      <td>Fecal Pollution Taints Water at Melbourne’s Be...</td>\n",
              "      <td>New York Times</td>\n",
              "      <td>Brett Cole</td>\n",
              "      <td>2017-01-03</td>\n",
              "      <td>2017</td>\n",
              "      <td>1</td>\n",
              "      <td>NaN</td>\n",
              "      <td>SYDNEY, Australia  —   The annual beach pilgri...</td>\n",
              "    </tr>\n",
              "    <tr>\n",
              "      <th>20</th>\n",
              "      <td>21</td>\n",
              "      <td>N.F.L. Playoffs: Schedule, Matchups and Odds -...</td>\n",
              "      <td>New York Times</td>\n",
              "      <td>Benjamin Hoffman</td>\n",
              "      <td>2017-01-03</td>\n",
              "      <td>2017</td>\n",
              "      <td>1</td>\n",
              "      <td>NaN</td>\n",
              "      <td>When the Green Bay Packers lost to the Washing...</td>\n",
              "    </tr>\n",
              "    <tr>\n",
              "      <th>21</th>\n",
              "      <td>22</td>\n",
              "      <td>Mariah Carey’s Manager Blames Producers for Ne...</td>\n",
              "      <td>New York Times</td>\n",
              "      <td>Patrick Healy</td>\n",
              "      <td>2017-01-02</td>\n",
              "      <td>2017</td>\n",
              "      <td>1</td>\n",
              "      <td>NaN</td>\n",
              "      <td>Mariah Carey suffered through a performance tr...</td>\n",
              "    </tr>\n",
              "    <tr>\n",
              "      <th>22</th>\n",
              "      <td>23</td>\n",
              "      <td>Damaged by War, Syria’s Cultural Sites Rise An...</td>\n",
              "      <td>New York Times</td>\n",
              "      <td>Marlise Simons</td>\n",
              "      <td>2017-01-01</td>\n",
              "      <td>2017</td>\n",
              "      <td>1</td>\n",
              "      <td>NaN</td>\n",
              "      <td>PARIS  —   When the Islamic State was about to...</td>\n",
              "    </tr>\n",
              "    <tr>\n",
              "      <th>23</th>\n",
              "      <td>24</td>\n",
              "      <td>George Michael’s Freedom Video: An Oral Histor...</td>\n",
              "      <td>New York Times</td>\n",
              "      <td>Guy Trebay and Jacob Bernstein</td>\n",
              "      <td>2017-01-01</td>\n",
              "      <td>2017</td>\n",
              "      <td>1</td>\n",
              "      <td>NaN</td>\n",
              "      <td>Pop music and fashion never met cuter than in ...</td>\n",
              "    </tr>\n",
              "    <tr>\n",
              "      <th>24</th>\n",
              "      <td>25</td>\n",
              "      <td>With New Congress Poised to Convene, Obama’s P...</td>\n",
              "      <td>New York Times</td>\n",
              "      <td>Jennifer Steinhauer</td>\n",
              "      <td>2017-01-02</td>\n",
              "      <td>2017</td>\n",
              "      <td>1</td>\n",
              "      <td>NaN</td>\n",
              "      <td>WASHINGTON  —   The most powerful and ambitiou...</td>\n",
              "    </tr>\n",
              "    <tr>\n",
              "      <th>25</th>\n",
              "      <td>26</td>\n",
              "      <td>Republicans Stonewalled Obama. Now the Ball Is...</td>\n",
              "      <td>New York Times</td>\n",
              "      <td>Carl Hulse</td>\n",
              "      <td>2017-01-03</td>\n",
              "      <td>2017</td>\n",
              "      <td>1</td>\n",
              "      <td>NaN</td>\n",
              "      <td>WASHINGTON  —   It’s   or   time for Republica...</td>\n",
              "    </tr>\n",
              "    <tr>\n",
              "      <th>26</th>\n",
              "      <td>27</td>\n",
              "      <td>Istanbul, Donald Trump, Benjamin Netanyahu: Yo...</td>\n",
              "      <td>New York Times</td>\n",
              "      <td>Charles McDermid</td>\n",
              "      <td>2017-01-03</td>\n",
              "      <td>2017</td>\n",
              "      <td>1</td>\n",
              "      <td>NaN</td>\n",
              "      <td>Good morning.  Here’s what you need to know: •...</td>\n",
              "    </tr>\n",
              "    <tr>\n",
              "      <th>27</th>\n",
              "      <td>28</td>\n",
              "      <td>Inside Trump Defense Secretary Pick’s Efforts ...</td>\n",
              "      <td>New York Times</td>\n",
              "      <td>Sheri Fink and Helene Cooper</td>\n",
              "      <td>2017-01-05</td>\n",
              "      <td>2017</td>\n",
              "      <td>1</td>\n",
              "      <td>NaN</td>\n",
              "      <td>The body of the Iraqi prisoner was found naked...</td>\n",
              "    </tr>\n",
              "    <tr>\n",
              "      <th>28</th>\n",
              "      <td>29</td>\n",
              "      <td>ISIS Claims Responsibility for Istanbul Nightc...</td>\n",
              "      <td>New York Times</td>\n",
              "      <td>Tim Arango</td>\n",
              "      <td>2017-01-03</td>\n",
              "      <td>2017</td>\n",
              "      <td>1</td>\n",
              "      <td>NaN</td>\n",
              "      <td>ISTANBUL  —   The Islamic State on Monday issu...</td>\n",
              "    </tr>\n",
              "    <tr>\n",
              "      <th>29</th>\n",
              "      <td>30</td>\n",
              "      <td>The Afghan War and the Evolution of Obama - Th...</td>\n",
              "      <td>New York Times</td>\n",
              "      <td>Mark Landler</td>\n",
              "      <td>2017-01-17</td>\n",
              "      <td>2017</td>\n",
              "      <td>1</td>\n",
              "      <td>NaN</td>\n",
              "      <td>WASHINGTON  —   President Obama’s advisers wre...</td>\n",
              "    </tr>\n",
              "    <tr>\n",
              "      <th>30</th>\n",
              "      <td>31</td>\n",
              "      <td>Tips for Your Post-Holiday Clutter Purge - The...</td>\n",
              "      <td>New York Times</td>\n",
              "      <td>Michelle Higgins</td>\n",
              "      <td>2017-04-11</td>\n",
              "      <td>2017</td>\n",
              "      <td>4</td>\n",
              "      <td>NaN</td>\n",
              "      <td>With the year winding down and New Year’s reso...</td>\n",
              "    </tr>\n",
              "    <tr>\n",
              "      <th>31</th>\n",
              "      <td>32</td>\n",
              "      <td>Benjamin Netanyahu Questioned in Israel Graft ...</td>\n",
              "      <td>New York Times</td>\n",
              "      <td>Isabel Kershner</td>\n",
              "      <td>2017-01-03</td>\n",
              "      <td>2017</td>\n",
              "      <td>1</td>\n",
              "      <td>NaN</td>\n",
              "      <td>JERUSALEM  —   Israeli police investigators qu...</td>\n",
              "    </tr>\n",
              "    <tr>\n",
              "      <th>32</th>\n",
              "      <td>33</td>\n",
              "      <td>France Lets Workers Turn Off, Tune Out and Liv...</td>\n",
              "      <td>New York Times</td>\n",
              "      <td>Alissa J. Rubin</td>\n",
              "      <td>2017-01-03</td>\n",
              "      <td>2017</td>\n",
              "      <td>1</td>\n",
              "      <td>NaN</td>\n",
              "      <td>PARIS  —   If the world does not envy the Fren...</td>\n",
              "    </tr>\n",
              "    <tr>\n",
              "      <th>33</th>\n",
              "      <td>34</td>\n",
              "      <td>Airline Pilot, Believed to Be Drunk, Is Pulled...</td>\n",
              "      <td>New York Times</td>\n",
              "      <td>Ian Austen</td>\n",
              "      <td>2017-01-03</td>\n",
              "      <td>2017</td>\n",
              "      <td>1</td>\n",
              "      <td>NaN</td>\n",
              "      <td>OTTAWA  —   It was 7 a. m. and 99 passengers a...</td>\n",
              "    </tr>\n",
              "    <tr>\n",
              "      <th>34</th>\n",
              "      <td>35</td>\n",
              "      <td>Riot by Drug Gangs in Brazil Prison Leaves at ...</td>\n",
              "      <td>New York Times</td>\n",
              "      <td>Simon Romero</td>\n",
              "      <td>2017-01-16</td>\n",
              "      <td>2017</td>\n",
              "      <td>1</td>\n",
              "      <td>NaN</td>\n",
              "      <td>RIO DE JANEIRO  —   A prison riot involving ga...</td>\n",
              "    </tr>\n",
              "    <tr>\n",
              "      <th>35</th>\n",
              "      <td>36</td>\n",
              "      <td>SpaceX Says It’s Ready to Launch Rockets Again...</td>\n",
              "      <td>New York Times</td>\n",
              "      <td>Kenneth Chang</td>\n",
              "      <td>2017-01-02</td>\n",
              "      <td>2017</td>\n",
              "      <td>1</td>\n",
              "      <td>NaN</td>\n",
              "      <td>After the explosion in September of one of its...</td>\n",
              "    </tr>\n",
              "    <tr>\n",
              "      <th>36</th>\n",
              "      <td>37</td>\n",
              "      <td>A ‘World Unto Itself’ in New York Area Yeshiva...</td>\n",
              "      <td>New York Times</td>\n",
              "      <td>Corey Kilgannon</td>\n",
              "      <td>2017-03-13</td>\n",
              "      <td>2017</td>\n",
              "      <td>3</td>\n",
              "      <td>NaN</td>\n",
              "      <td>In the basement of a mammoth old building in U...</td>\n",
              "    </tr>\n",
              "    <tr>\n",
              "      <th>37</th>\n",
              "      <td>38</td>\n",
              "      <td>Inside Jonathan Lethem’s Oddball Trove - The N...</td>\n",
              "      <td>New York Times</td>\n",
              "      <td>Jennifer Schuessler</td>\n",
              "      <td>2017-01-02</td>\n",
              "      <td>2017</td>\n",
              "      <td>1</td>\n",
              "      <td>NaN</td>\n",
              "      <td>Writers are different from the rest of us. The...</td>\n",
              "    </tr>\n",
              "    <tr>\n",
              "      <th>38</th>\n",
              "      <td>39</td>\n",
              "      <td>An Immigrant’s Instinct to Aid Others Collides...</td>\n",
              "      <td>New York Times</td>\n",
              "      <td>John Otis</td>\n",
              "      <td>2017-01-02</td>\n",
              "      <td>2017</td>\n",
              "      <td>1</td>\n",
              "      <td>NaN</td>\n",
              "      <td>In 2007, Rey Canunayon and his wife, MaryGwen,...</td>\n",
              "    </tr>\n",
              "    <tr>\n",
              "      <th>39</th>\n",
              "      <td>40</td>\n",
              "      <td>House Republicans, Under Fire, Back Down on Gu...</td>\n",
              "      <td>New York Times</td>\n",
              "      <td>Eric Lipton and Matt Flegenheimer</td>\n",
              "      <td>2017-01-04</td>\n",
              "      <td>2017</td>\n",
              "      <td>1</td>\n",
              "      <td>NaN</td>\n",
              "      <td>WASHINGTON  —   It was supposed to be a triump...</td>\n",
              "    </tr>\n",
              "    <tr>\n",
              "      <th>40</th>\n",
              "      <td>41</td>\n",
              "      <td>Republican Party, Megyn Kelly, Titanic: Your W...</td>\n",
              "      <td>New York Times</td>\n",
              "      <td>Sean Alfano</td>\n",
              "      <td>2017-01-04</td>\n",
              "      <td>2017</td>\n",
              "      <td>1</td>\n",
              "      <td>NaN</td>\n",
              "      <td>(Want to get this briefing by email? Here’s t...</td>\n",
              "    </tr>\n",
              "    <tr>\n",
              "      <th>41</th>\n",
              "      <td>42</td>\n",
              "      <td>Turmoil Overshadows First Day of Republican-Co...</td>\n",
              "      <td>New York Times</td>\n",
              "      <td>Jennifer Steinhauer and Robert Pear</td>\n",
              "      <td>2017-01-04</td>\n",
              "      <td>2017</td>\n",
              "      <td>1</td>\n",
              "      <td>NaN</td>\n",
              "      <td>WASHINGTON  —   The   Congress opened the turb...</td>\n",
              "    </tr>\n",
              "    <tr>\n",
              "      <th>42</th>\n",
              "      <td>43</td>\n",
              "      <td>With Choice of Trade Negotiator, Trump Prepare...</td>\n",
              "      <td>New York Times</td>\n",
              "      <td>Binyamin Appelbaum</td>\n",
              "      <td>2017-01-04</td>\n",
              "      <td>2017</td>\n",
              "      <td>1</td>\n",
              "      <td>NaN</td>\n",
              "      <td>WASHINGTON  —     Donald J. Trump on Tuesday n...</td>\n",
              "    </tr>\n",
              "  </tbody>\n",
              "</table>\n",
              "</div>"
            ],
            "text/plain": [
              "    id  ...                                            content\n",
              "0    1  ...  WASHINGTON  —   Congressional Republicans have...\n",
              "1    2  ...  After the bullet shells get counted, the blood...\n",
              "2    3  ...  When Walt Disney’s “Bambi” opened in 1942, cri...\n",
              "3    4  ...  Death may be the great equalizer, but it isn’t...\n",
              "4    5  ...  SEOUL, South Korea  —   North Korea’s leader, ...\n",
              "5    6  ...  LONDON  —   Queen Elizabeth II, who has been b...\n",
              "6    7  ...  BEIJING  —   President Tsai   of Taiwan sharpl...\n",
              "7    8  ...  Danny Cahill stood, slightly dazed, in a blizz...\n",
              "8    9  ...  Just how   is Hillary Kerr, the    founder of ...\n",
              "9   10  ...  Angels are everywhere in the Muñiz family’s ap...\n",
              "10  11  ...  With Donald J. Trump about to take control of ...\n",
              "11  12  ...  THOMPSONS, Tex.  —   Can one of the most promi...\n",
              "12  13  ...  WEST PALM BEACH, Fla.  —   When   Donald J. Tr...\n",
              "13  14  ...  This article is part of a series aimed at help...\n",
              "14  15  ...  It’s the season for family travel and photos  ...\n",
              "15  16  ...  Finally. The Second Avenue subway opened in Ne...\n",
              "16  17  ...    pages into the   journal found in Dylann S. ...\n",
              "17  18  ...  MUMBAI, India  —   It was a bold and risky gam...\n",
              "18  19  ...  BAGHDAD  —   A suicide bomber detonated a pick...\n",
              "19  20  ...  SYDNEY, Australia  —   The annual beach pilgri...\n",
              "20  21  ...  When the Green Bay Packers lost to the Washing...\n",
              "21  22  ...  Mariah Carey suffered through a performance tr...\n",
              "22  23  ...  PARIS  —   When the Islamic State was about to...\n",
              "23  24  ...  Pop music and fashion never met cuter than in ...\n",
              "24  25  ...  WASHINGTON  —   The most powerful and ambitiou...\n",
              "25  26  ...  WASHINGTON  —   It’s   or   time for Republica...\n",
              "26  27  ...  Good morning.  Here’s what you need to know: •...\n",
              "27  28  ...  The body of the Iraqi prisoner was found naked...\n",
              "28  29  ...  ISTANBUL  —   The Islamic State on Monday issu...\n",
              "29  30  ...  WASHINGTON  —   President Obama’s advisers wre...\n",
              "30  31  ...  With the year winding down and New Year’s reso...\n",
              "31  32  ...  JERUSALEM  —   Israeli police investigators qu...\n",
              "32  33  ...  PARIS  —   If the world does not envy the Fren...\n",
              "33  34  ...  OTTAWA  —   It was 7 a. m. and 99 passengers a...\n",
              "34  35  ...  RIO DE JANEIRO  —   A prison riot involving ga...\n",
              "35  36  ...  After the explosion in September of one of its...\n",
              "36  37  ...  In the basement of a mammoth old building in U...\n",
              "37  38  ...  Writers are different from the rest of us. The...\n",
              "38  39  ...  In 2007, Rey Canunayon and his wife, MaryGwen,...\n",
              "39  40  ...  WASHINGTON  —   It was supposed to be a triump...\n",
              "40  41  ...   (Want to get this briefing by email? Here’s t...\n",
              "41  42  ...  WASHINGTON  —   The   Congress opened the turb...\n",
              "42  43  ...  WASHINGTON  —     Donald J. Trump on Tuesday n...\n",
              "\n",
              "[43 rows x 9 columns]"
            ]
          },
          "metadata": {
            "tags": []
          },
          "execution_count": 72
        }
      ]
    },
    {
      "cell_type": "code",
      "metadata": {
        "id": "rMIkXQzQyjuQ",
        "outputId": "1224c9eb-91e7-4f6a-f28d-c57f96a36f26",
        "colab": {
          "base_uri": "https://localhost:8080/",
          "height": 592
        }
      },
      "source": [
        "# Use document 42 as running example\n",
        "data.loc[42, 'content']"
      ],
      "execution_count": 67,
      "outputs": [
        {
          "output_type": "execute_result",
          "data": {
            "application/vnd.google.colaboratory.intrinsic+json": {
              "type": "string"
            },
            "text/plain": [
              "'WASHINGTON  —     Donald J. Trump on Tuesday named as his chief trade negotiator a Washington lawyer who has long advocated protectionist policies, the latest sign that Mr. Trump intends to fulfill his campaign promise to get tough with China, Mexico and other trading partners. Mr. Trump also renewed his episodic campaign to persuade American companies to expand domestic manufacturing, criticizing General Motors via Twitter on Tuesday morning for making in Mexico some of the Chevrolet Cruze hatchbacks it sells domestically. Hours later, Mr. Trump claimed credit after Ford said it would expand vehicle production in Flat Rock, Mich. The choice of Robert Lighthizer (pronounced   ) to be the United States’ trade representative nearly completes Mr. Trump’s selection of top economic advisers and, taken together with the  ’s running commentary on Twitter, underscores Mr. Trump’s focus on making things in America. That is causing unease among some Republicans who regard Mr. Trump’s views on trade as dangerously retrograde, even as they embrace the bulk of his economic agenda. Mainstream economists warn that protectionist policies like import taxes could impose higher prices on consumers and slow economic growth. But some Democrats are signaling a readiness to support Mr. Trump. Nine House Democrats held a news conference Tuesday with the A. F. L. . I. O. president, Richard Trumka, to urge renegotiation of the North American Free Trade Agreement with Mexico and Canada. “We wanted him to know that we’ll work with him on doing that,” Mr. Trumka said. “I don’t think he has enough Republican support to do it, and rewriting the rules of trade is a necessary first step in righting the economy for working people. ” Mr. Trump and his top advisers on trade, including Mr. Lighthizer, share a view that the United States in recent decades prioritized the ideal of free trade over its own  . They argue that other countries are undermining America’s industrial base by subsidizing their own export industries while impeding American importers. They regard this unfair competition as a key reason for the lackluster growth of the economy. In picking Mr. Lighthizer, who has spent much of the last few decades representing American steel producers in their frequent litigation of trade disputes, Mr. Trump is seeking to hire one of Washington’s top trade lawyers to enforce international trade agreements more vigorously. He must be confirmed by the Senate. “He will do an amazing job helping turn around the failed trade policies which have robbed so many Americans of prosperity,” Mr. Trump said in a statement. Mainstream Republicans have sought common ground with Mr. Trump, emphasizing, for example, the importance of enforcing trade rules, but they have not abandoned the party’s longtime advocacy for trade. Senator Orrin Hatch of Utah, the chairman of the Senate Finance Committee, which will hold hearings on Mr. Lighthizer’s nomination, issued a cautiously supportive statement Tuesday. “As the world and our economic competitors move to expand their global footprints, we can’t afford to be left behind in securing strong deals that will increase our access to new markets for   products and services,” Mr. Hatch said in a statement. “I look forward to a vigorous discussion of Bob’s trade philosophy and priorities. ” Mr. Trump has named a number of advisers on trade, leaving some ambiguity about the division of responsibilities. The   named the economist Peter Navarro, an outspoken critic of China, to lead a new White House office overseeing trade and industrial policy. Mr. Trump also said Wilbur Ross, the billionaire investor and choice for commerce secretary, will play a key role. Mr. Lighthizer, however, is the only member of the triumvirate with government experience. “Those who say U. S. T. R. will be subordinated to other agencies are mistaken,” said Alan Wolff, another former senior American trade official who was the steel industry’s   on trade with Mr. Lighthizer for nearly 20 years, citing Mr. Lighthizer’s encyclopedic knowledge of trade law. “He’ll be a dominant figure on trade, in harmony with Wilbur Ross and Navarro. ” There is also an ideological divide between the people Mr. Trump has named to oversee trade policy and his broader circle of advisers, which is populated by longstanding trade advocates like Gary D. Cohn, the president of Goldman Sachs, who will lead the National Economic Council Rex W. Tillerson, the chief executive of Exxon Mobil, tapped for secretary of state and Gov. Terry Branstad of Iowa, Mr. Trump’s choice for ambassador to China. Proponents of trade hope the broader circle, and congressional Republicans, will exert a moderating influence. “You’re seeing a pretty clear indication that there will be a focus on the enforcement of our trade agreements and on the letter of the law,” said Scott Lincicome, an international trade lawyer at White  Case. “But that doesn’t necessarily mean a significant turn toward protectionism. Even free trade guys like me support enforcement. ” Trade opponents on the left and the right, meanwhile, are hoping Mr. Trump means to break with several decades of   policy. “There’s going to be a war within the Trump administration on where they go with trade, and we’re hoping to energize the worker base he had to make sure they go in the right direction to benefit the American worker,” Mr. Trumka said. Mr. Trump’s promise to immediately designate China as a currency manipulator may offer an early test of the administration’s intentions. Economists see no evidence China is suppressing the value of its currency, although it has done so in the past. Mr. Lincicome said officially labeling China a currency manipulator despite the lack of recent evidence would signal that the administration is taking a hard line on trade issues. A broader shift in trade policy would unfold more slowly. Mr. Trump has promised to renegotiate Nafta the original process took most of three years. He has promised to pursue enforcement actions against other nations, but it takes time to mount cases. He has threatened to impose new tariffs on imports, but sweeping changes most likely would require congressional legislation. Mr. Trump already is seeking to exert influence by seizing the presidential bullhorn. “General Motors is sending Mexican made model of Chevy Cruze to U. S. car   free across border,” he wrote Tuesday on Twitter. “Make in U. S. A. or pay big border tax!” General Motors announced in 2015 that it would make the Cruze in Coahuila, Mexico. American manufacturers are moving   production to Mexico to take advantage of lower labor costs and because of declining domestic demand. They continue to build more expensive vehicles in the United States. Ford’s announcement Tuesday does not reverse that trend. The carmaker said it still planned to move production of the compact Ford Focus from Michigan to Mexico. But it said it would invest in a different Michigan plant to expand production of   vehicles, including its   pickup truck and the Mustang sports car, as well as a new   sport utility vehicle. “We are encouraged by the   policies that   Trump and the new Congress have indicated they will pursue,” said the company’s chief executive, Mark Fields. Mr. Lighthizer served as deputy United States trade representative in the Ronald Reagan administration, when he was involved in pressing Japan to reduce its restrictions on American imports and its subsidies for its own exports. Mr. Trump has criticized China for similar practices, setting the stage for a new round of confrontations. Reagan is often remembered as an advocate for free trade, but his administration in its early hours imposed a quota on Japanese auto imports. It was the first in a long series of measures aimed at putting pressure on the nation that was then regarded, like China in recent years, as a threat to American prosperity. “President Reagan’s pragmatism contrasted strongly with the utopian dreams of free traders,” Mr. Lighthizer wrote in a 2008 piece criticizing Senator John McCain, Republican of Arizona, for embracing “unbridled” free trade. Conservatives, he argued, “always understood that trade policy was merely a tool for building a strong and independent country with a prosperous middle class. ”'"
            ]
          },
          "metadata": {
            "tags": []
          },
          "execution_count": 67
        }
      ]
    },
    {
      "cell_type": "markdown",
      "metadata": {
        "id": "kgkM1pEywsWA"
      },
      "source": [
        "### Keep document content"
      ]
    },
    {
      "cell_type": "code",
      "metadata": {
        "id": "rC5ua9Wkwa3h"
      },
      "source": [
        "data_content = data['content']"
      ],
      "execution_count": 69,
      "outputs": []
    },
    {
      "cell_type": "code",
      "metadata": {
        "id": "AOpO5EJX5T5v",
        "colab": {
          "base_uri": "https://localhost:8080/"
        },
        "outputId": "5b7478da-efb1-4724-ca84-a1347c2ed837"
      },
      "source": [
        "type(data_content)"
      ],
      "execution_count": 70,
      "outputs": [
        {
          "output_type": "execute_result",
          "data": {
            "text/plain": [
              "pandas.core.series.Series"
            ]
          },
          "metadata": {
            "tags": []
          },
          "execution_count": 70
        }
      ]
    },
    {
      "cell_type": "code",
      "metadata": {
        "id": "giMb820Rwhh9",
        "colab": {
          "base_uri": "https://localhost:8080/"
        },
        "outputId": "31e73d6a-4a0b-4a96-81e4-4f7620364ab5"
      },
      "source": [
        "data_content.head(n=3)"
      ],
      "execution_count": 71,
      "outputs": [
        {
          "output_type": "execute_result",
          "data": {
            "text/plain": [
              "0    WASHINGTON  —   Congressional Republicans have...\n",
              "1    After the bullet shells get counted, the blood...\n",
              "2    When Walt Disney’s “Bambi” opened in 1942, cri...\n",
              "Name: content, dtype: object"
            ]
          },
          "metadata": {
            "tags": []
          },
          "execution_count": 71
        }
      ]
    },
    {
      "cell_type": "markdown",
      "metadata": {
        "id": "KeIEwF_HzJFg"
      },
      "source": [
        "### Tokenization, Stemming and Lemmatization"
      ]
    },
    {
      "cell_type": "code",
      "metadata": {
        "id": "ovu3PdEoz0kn"
      },
      "source": [
        "tqdm.pandas()\n",
        "# Note Jens: Might want to use Dask to speed things up. \n",
        "# When using Dask can't use tqdm as far as I know."
      ],
      "execution_count": null,
      "outputs": []
    },
    {
      "cell_type": "code",
      "metadata": {
        "id": "wIA213YVauNR"
      },
      "source": [
        "# There's NaN values in the dataset\n",
        "data_content.dropna(inplace=True)"
      ],
      "execution_count": null,
      "outputs": []
    },
    {
      "cell_type": "code",
      "metadata": {
        "id": "XUV9wdVKa37j",
        "colab": {
          "base_uri": "https://localhost:8080/"
        },
        "outputId": "96ae498c-abac-4b6a-ec08-2ac94ce7139c"
      },
      "source": [
        "data_content.isna().any()"
      ],
      "execution_count": null,
      "outputs": [
        {
          "output_type": "execute_result",
          "data": {
            "text/plain": [
              "False"
            ]
          },
          "metadata": {
            "tags": []
          },
          "execution_count": 15
        }
      ]
    },
    {
      "cell_type": "code",
      "metadata": {
        "id": "6Fb38xOHw0GE",
        "colab": {
          "base_uri": "https://localhost:8080/"
        },
        "outputId": "e46bae22-a098-41fa-a657-1f49b3729cf3"
      },
      "source": [
        "# Tokenization\n",
        "data_content_tokenized = data_content.progress_apply(lambda x: nltk.word_tokenize(x))"
      ],
      "execution_count": null,
      "outputs": [
        {
          "output_type": "stream",
          "text": [
            "100%|██████████| 141543/141543 [14:52<00:00, 158.56it/s]\n"
          ],
          "name": "stderr"
        }
      ]
    },
    {
      "cell_type": "code",
      "metadata": {
        "id": "fL66EvIG-6Ye",
        "colab": {
          "base_uri": "https://localhost:8080/"
        },
        "outputId": "867eafe8-a8a7-44f8-f43e-9ea2595fdc9d"
      },
      "source": [
        "# Remove words smaller than 3 characters\n",
        "data_content_tokenized = data_content_tokenized.progress_apply(lambda x: [y for y in x if len(y)>2])"
      ],
      "execution_count": null,
      "outputs": [
        {
          "output_type": "stream",
          "text": [
            "100%|██████████| 141543/141543 [00:19<00:00, 7158.94it/s]\n"
          ],
          "name": "stderr"
        }
      ]
    },
    {
      "cell_type": "code",
      "metadata": {
        "id": "6U_TDliE89DM",
        "colab": {
          "base_uri": "https://localhost:8080/"
        },
        "outputId": "ce110883-79af-463d-a2d4-9b72709a163b"
      },
      "source": [
        "# Stemming and Lemmatization \n",
        "stemmer = SnowballStemmer(\"english\")\n",
        "data_content_stemmed = data_content_tokenized.progress_apply(lambda x: [stemmer.stem(WordNetLemmatizer().lemmatize(y)) for y in x])"
      ],
      "execution_count": null,
      "outputs": [
        {
          "output_type": "stream",
          "text": [
            "100%|██████████| 141543/141543 [25:06<00:00, 93.98it/s]\n"
          ],
          "name": "stderr"
        }
      ]
    },
    {
      "cell_type": "code",
      "metadata": {
        "id": "cD1RpBkJ_cjE",
        "colab": {
          "base_uri": "https://localhost:8080/"
        },
        "outputId": "63001e54-81d2-4daa-c1da-c593dd0490e3"
      },
      "source": [
        "# Remove Stopswords\n",
        "stop_words = set(stopwords.words('english')) \n",
        "data_content_clean = data_content_stemmed.progress_apply(lambda x: [y for y in x if not y in stop_words])"
      ],
      "execution_count": null,
      "outputs": [
        {
          "output_type": "stream",
          "text": [
            "100%|██████████| 141543/141543 [00:16<00:00, 8671.00it/s]\n"
          ],
          "name": "stderr"
        }
      ]
    },
    {
      "cell_type": "code",
      "metadata": {
        "id": "5BJyaSw_zBmT",
        "colab": {
          "base_uri": "https://localhost:8080/"
        },
        "outputId": "cd10fc6d-3ab2-4a16-aa1f-061587447ef5"
      },
      "source": [
        "data_content_clean.head()"
      ],
      "execution_count": null,
      "outputs": [
        {
          "output_type": "execute_result",
          "data": {
            "text/plain": [
              "0    [washington, congression, republican, new, fea...\n",
              "1    [bullet, shell, get, count, blood, dri, votiv,...\n",
              "2    [walt, disney, bambi, open, 1942, critic, prai...\n",
              "3    [death, may, great, equal, necessarili, evenha...\n",
              "4    [seoul, south, korea, north, korea, leader, ki...\n",
              "Name: content, dtype: object"
            ]
          },
          "metadata": {
            "tags": []
          },
          "execution_count": 20
        }
      ]
    },
    {
      "cell_type": "code",
      "metadata": {
        "id": "eBoUhjbrYTef"
      },
      "source": [
        "# data_content_clean contain the cleaned 'content' column of the news dataset:\n",
        "data_content_clean.to_csv('/content/drive/MyDrive/IR-Assignment-2/data/new_dataset_clean.csv')"
      ],
      "execution_count": null,
      "outputs": []
    },
    {
      "cell_type": "markdown",
      "metadata": {
        "id": "6T291ON0bUg0"
      },
      "source": [
        "## LDA Library"
      ]
    },
    {
      "cell_type": "markdown",
      "metadata": {
        "id": "Pu7hDhONhzpF"
      },
      "source": [
        "The following part will use Python libraries for performing an LDA. The result can be used for comparison with our model. \n",
        "\n",
        "The code follows a tutorial:\n",
        "[LDA Tutorial](https://towardsdatascience.com/topic-modeling-and-latent-dirichlet-allocation-in-python-9bf156893c24) "
      ]
    },
    {
      "cell_type": "code",
      "metadata": {
        "id": "2WTKo4odiSLI"
      },
      "source": [
        "data_content_clean = pd.read_csv('/content/drive/MyDrive/IR-Assignment-2/data/new_dataset_clean.csv')"
      ],
      "execution_count": 73,
      "outputs": []
    },
    {
      "cell_type": "code",
      "metadata": {
        "id": "nJRzc2bnijyo"
      },
      "source": [
        "data_content_clean = data_content_clean['content']"
      ],
      "execution_count": 74,
      "outputs": []
    },
    {
      "cell_type": "code",
      "metadata": {
        "id": "6Nf_pg2LivDU",
        "outputId": "5cda8c40-7c3e-4140-fa2f-ae78c15e4085",
        "colab": {
          "base_uri": "https://localhost:8080/"
        }
      },
      "source": [
        "data_content_clean.head()"
      ],
      "execution_count": 75,
      "outputs": [
        {
          "output_type": "execute_result",
          "data": {
            "text/plain": [
              "0    ['washington', 'congression', 'republican', 'n...\n",
              "1    ['bullet', 'shell', 'get', 'count', 'blood', '...\n",
              "2    ['walt', 'disney', 'bambi', 'open', '1942', 'c...\n",
              "3    ['death', 'may', 'great', 'equal', 'necessaril...\n",
              "4    ['seoul', 'south', 'korea', 'north', 'korea', ...\n",
              "Name: content, dtype: object"
            ]
          },
          "metadata": {
            "tags": []
          },
          "execution_count": 75
        }
      ]
    },
    {
      "cell_type": "code",
      "metadata": {
        "id": "2ns9awQZhxfU",
        "outputId": "aa46327d-d74f-448b-ae4a-68f44614eb9d",
        "colab": {
          "base_uri": "https://localhost:8080/"
        }
      },
      "source": [
        "dictionary = gensim.corpora.Dictionary()\n",
        "for article in tqdm(data_content_clean):\n",
        "  dictionary.add_documents([literal_eval(article)])"
      ],
      "execution_count": 76,
      "outputs": [
        {
          "output_type": "stream",
          "text": [
            "100%|██████████| 141543/141543 [03:42<00:00, 635.75it/s]\n"
          ],
          "name": "stderr"
        }
      ]
    },
    {
      "cell_type": "markdown",
      "metadata": {
        "id": "xsdDN4q0oqs-"
      },
      "source": [
        "## Sanity check"
      ]
    },
    {
      "cell_type": "code",
      "metadata": {
        "id": "N6e-6-cSlFAO",
        "outputId": "5b80782a-be56-4337-e1cc-ea6313018747",
        "colab": {
          "base_uri": "https://localhost:8080/"
        }
      },
      "source": [
        "print(dictionary)"
      ],
      "execution_count": 77,
      "outputs": [
        {
          "output_type": "stream",
          "text": [
            "Dictionary(274259 unique tokens: ['2010', '2015', '2017', 'access', 'acknowledg']...)\n"
          ],
          "name": "stdout"
        }
      ]
    },
    {
      "cell_type": "code",
      "metadata": {
        "id": "cisnF-DtkAPM",
        "outputId": "a34ec58c-fa7e-4076-ddbd-c9317de9f13a",
        "colab": {
          "base_uri": "https://localhost:8080/"
        }
      },
      "source": [
        "count = 0\n",
        "for k, v in dictionary.iteritems():\n",
        "    print(k, v)\n",
        "    count += 1\n",
        "    if count > 10:\n",
        "        break"
      ],
      "execution_count": 78,
      "outputs": [
        {
          "output_type": "stream",
          "text": [
            "0 2010\n",
            "1 2015\n",
            "2 2017\n",
            "3 access\n",
            "4 acknowledg\n",
            "5 act\n",
            "6 administr\n",
            "7 advoc\n",
            "8 afford\n",
            "9 alli\n",
            "10 american\n"
          ],
          "name": "stdout"
        }
      ]
    },
    {
      "cell_type": "code",
      "metadata": {
        "id": "HqB5C3cX0qmg"
      },
      "source": [
        "# Filter out tokens that appear in less than 15 documents, more than 0.5 documents (fraction of total corpus size, not absolute number).\n",
        "# keep only the first 100000 most frequent tokens.\n",
        "dictionary.filter_extremes(no_below=15, no_above=0.5, keep_n=100000)"
      ],
      "execution_count": 81,
      "outputs": []
    },
    {
      "cell_type": "markdown",
      "metadata": {
        "id": "Zuom_8qFriPo"
      },
      "source": [
        "## doc2bow"
      ]
    },
    {
      "cell_type": "markdown",
      "metadata": {
        "id": "K8wQrMzds8_m"
      },
      "source": [
        "For each document we create a dictionary reporting how many words and how many times those words appear."
      ]
    },
    {
      "cell_type": "code",
      "metadata": {
        "id": "Hmwqo_dDrl9L",
        "outputId": "acfed226-c15f-43ac-b85f-76e7fa0134d4",
        "colab": {
          "base_uri": "https://localhost:8080/"
        }
      },
      "source": [
        "bow_corpus = [dictionary.doc2bow(literal_eval(doc)) for doc in data_content_clean]\n",
        "bow_corpus[42]"
      ],
      "execution_count": 82,
      "outputs": [
        {
          "output_type": "execute_result",
          "data": {
            "text/plain": [
              "[(1, 1),\n",
              " (3, 1),\n",
              " (6, 5),\n",
              " (7, 3),\n",
              " (8, 1),\n",
              " (10, 10),\n",
              " (13, 1),\n",
              " (26, 1),\n",
              " (35, 2),\n",
              " (36, 1),\n",
              " (47, 1),\n",
              " (52, 1),\n",
              " (53, 2),\n",
              " (55, 1),\n",
              " (58, 1),\n",
              " (60, 1),\n",
              " (62, 1),\n",
              " (63, 1),\n",
              " (67, 1),\n",
              " (71, 1),\n",
              " (74, 1),\n",
              " (78, 1),\n",
              " (80, 1),\n",
              " (85, 1),\n",
              " (99, 2),\n",
              " (101, 2),\n",
              " (115, 3),\n",
              " (117, 1),\n",
              " (124, 2),\n",
              " (128, 6),\n",
              " (136, 2),\n",
              " (138, 1),\n",
              " (139, 2),\n",
              " (141, 1),\n",
              " (144, 1),\n",
              " (145, 1),\n",
              " (147, 1),\n",
              " (148, 2),\n",
              " (150, 3),\n",
              " (151, 2),\n",
              " (154, 1),\n",
              " (158, 1),\n",
              " (162, 1),\n",
              " (163, 1),\n",
              " (165, 1),\n",
              " (170, 1),\n",
              " (171, 32),\n",
              " (172, 3),\n",
              " (175, 1),\n",
              " (176, 2),\n",
              " (184, 1),\n",
              " (201, 1),\n",
              " (202, 1),\n",
              " (205, 1),\n",
              " (212, 1),\n",
              " (216, 1),\n",
              " (219, 3),\n",
              " (225, 5),\n",
              " (227, 1),\n",
              " (231, 1),\n",
              " (232, 3),\n",
              " (234, 2),\n",
              " (235, 2),\n",
              " (236, 1),\n",
              " (238, 1),\n",
              " (241, 1),\n",
              " (247, 5),\n",
              " (251, 1),\n",
              " (259, 3),\n",
              " (266, 1),\n",
              " (270, 23),\n",
              " (274, 4),\n",
              " (277, 2),\n",
              " (278, 2),\n",
              " (281, 1),\n",
              " (282, 3),\n",
              " (283, 1),\n",
              " (285, 2),\n",
              " (313, 1),\n",
              " (314, 1),\n",
              " (319, 4),\n",
              " (332, 1),\n",
              " (333, 1),\n",
              " (334, 1),\n",
              " (338, 2),\n",
              " (348, 1),\n",
              " (374, 1),\n",
              " (376, 1),\n",
              " (403, 1),\n",
              " (411, 2),\n",
              " (427, 2),\n",
              " (429, 2),\n",
              " (443, 3),\n",
              " (446, 3),\n",
              " (453, 1),\n",
              " (469, 1),\n",
              " (478, 1),\n",
              " (486, 1),\n",
              " (490, 2),\n",
              " (498, 1),\n",
              " (507, 1),\n",
              " (517, 1),\n",
              " (521, 1),\n",
              " (523, 1),\n",
              " (528, 1),\n",
              " (530, 1),\n",
              " (539, 3),\n",
              " (540, 1),\n",
              " (552, 2),\n",
              " (569, 1),\n",
              " (574, 2),\n",
              " (575, 1),\n",
              " (582, 1),\n",
              " (600, 2),\n",
              " (610, 3),\n",
              " (616, 1),\n",
              " (628, 1),\n",
              " (631, 1),\n",
              " (645, 1),\n",
              " (652, 1),\n",
              " (665, 1),\n",
              " (671, 1),\n",
              " (672, 1),\n",
              " (675, 1),\n",
              " (678, 1),\n",
              " (683, 1),\n",
              " (687, 3),\n",
              " (690, 2),\n",
              " (700, 2),\n",
              " (701, 1),\n",
              " (720, 1),\n",
              " (728, 2),\n",
              " (732, 1),\n",
              " (734, 1),\n",
              " (741, 2),\n",
              " (758, 2),\n",
              " (759, 1),\n",
              " (760, 1),\n",
              " (762, 1),\n",
              " (764, 1),\n",
              " (767, 5),\n",
              " (774, 2),\n",
              " (794, 1),\n",
              " (797, 3),\n",
              " (799, 1),\n",
              " (803, 4),\n",
              " (805, 2),\n",
              " (816, 1),\n",
              " (823, 1),\n",
              " (829, 1),\n",
              " (830, 1),\n",
              " (833, 1),\n",
              " (854, 1),\n",
              " (868, 1),\n",
              " (878, 1),\n",
              " (883, 3),\n",
              " (888, 1),\n",
              " (893, 1),\n",
              " (916, 1),\n",
              " (918, 3),\n",
              " (940, 1),\n",
              " (956, 1),\n",
              " (982, 1),\n",
              " (983, 2),\n",
              " (986, 1),\n",
              " (992, 1),\n",
              " (993, 1),\n",
              " (998, 1),\n",
              " (1008, 1),\n",
              " (1048, 3),\n",
              " (1054, 1),\n",
              " (1076, 4),\n",
              " (1077, 1),\n",
              " (1081, 1),\n",
              " (1100, 1),\n",
              " (1104, 1),\n",
              " (1105, 1),\n",
              " (1106, 1),\n",
              " (1118, 2),\n",
              " (1153, 1),\n",
              " (1176, 2),\n",
              " (1177, 2),\n",
              " (1183, 2),\n",
              " (1227, 2),\n",
              " (1294, 1),\n",
              " (1301, 2),\n",
              " (1303, 1),\n",
              " (1310, 4),\n",
              " (1314, 3),\n",
              " (1331, 1),\n",
              " (1339, 5),\n",
              " (1346, 1),\n",
              " (1371, 1),\n",
              " (1404, 1),\n",
              " (1411, 1),\n",
              " (1415, 3),\n",
              " (1420, 2),\n",
              " (1434, 1),\n",
              " (1454, 1),\n",
              " (1467, 1),\n",
              " (1471, 1),\n",
              " (1475, 1),\n",
              " (1524, 5),\n",
              " (1542, 3),\n",
              " (1545, 1),\n",
              " (1562, 1),\n",
              " (1566, 1),\n",
              " (1573, 1),\n",
              " (1582, 1),\n",
              " (1606, 1),\n",
              " (1610, 1),\n",
              " (1630, 1),\n",
              " (1643, 1),\n",
              " (1660, 1),\n",
              " (1733, 1),\n",
              " (1738, 1),\n",
              " (1804, 1),\n",
              " (1887, 2),\n",
              " (1888, 4),\n",
              " (1941, 1),\n",
              " (1971, 1),\n",
              " (1977, 1),\n",
              " (2004, 1),\n",
              " (2024, 1),\n",
              " (2037, 3),\n",
              " (2042, 1),\n",
              " (2053, 1),\n",
              " (2073, 1),\n",
              " (2078, 4),\n",
              " (2081, 1),\n",
              " (2107, 2),\n",
              " (2111, 1),\n",
              " (2175, 1),\n",
              " (2183, 1),\n",
              " (2184, 1),\n",
              " (2189, 2),\n",
              " (2194, 1),\n",
              " (2209, 1),\n",
              " (2218, 1),\n",
              " (2233, 1),\n",
              " (2236, 1),\n",
              " (2246, 1),\n",
              " (2247, 1),\n",
              " (2295, 8),\n",
              " (2298, 1),\n",
              " (2301, 2),\n",
              " (2305, 1),\n",
              " (2313, 1),\n",
              " (2315, 1),\n",
              " (2323, 1),\n",
              " (2326, 1),\n",
              " (2328, 9),\n",
              " (2331, 2),\n",
              " (2340, 1),\n",
              " (2346, 1),\n",
              " (2360, 1),\n",
              " (2398, 1),\n",
              " (2483, 1),\n",
              " (2545, 2),\n",
              " (2556, 1),\n",
              " (2565, 1),\n",
              " (2576, 1),\n",
              " (2583, 1),\n",
              " (2604, 1),\n",
              " (2614, 1),\n",
              " (2622, 2),\n",
              " (2623, 1),\n",
              " (2630, 1),\n",
              " (2642, 1),\n",
              " (2672, 1),\n",
              " (2695, 1),\n",
              " (2775, 1),\n",
              " (2837, 4),\n",
              " (2857, 1),\n",
              " (2937, 1),\n",
              " (2961, 1),\n",
              " (2991, 1),\n",
              " (2997, 1),\n",
              " (3003, 1),\n",
              " (3004, 1),\n",
              " (3005, 3),\n",
              " (3010, 1),\n",
              " (3036, 1),\n",
              " (3039, 1),\n",
              " (3043, 1),\n",
              " (3052, 1),\n",
              " (3053, 1),\n",
              " (3054, 1),\n",
              " (3058, 1),\n",
              " (3062, 2),\n",
              " (3063, 6),\n",
              " (3064, 1),\n",
              " (3069, 1),\n",
              " (3081, 1),\n",
              " (3089, 1),\n",
              " (3090, 1),\n",
              " (3096, 3),\n",
              " (3103, 3),\n",
              " (3105, 35),\n",
              " (3139, 1),\n",
              " (3160, 1),\n",
              " (3168, 4),\n",
              " (3176, 1),\n",
              " (3178, 7),\n",
              " (3200, 1),\n",
              " (3222, 1),\n",
              " (3225, 1),\n",
              " (3232, 1),\n",
              " (3239, 2),\n",
              " (3240, 1),\n",
              " (3262, 2),\n",
              " (3281, 1),\n",
              " (3293, 1),\n",
              " (3339, 1),\n",
              " (3349, 1),\n",
              " (3369, 1),\n",
              " (3393, 1),\n",
              " (3423, 1),\n",
              " (3445, 1),\n",
              " (3448, 1),\n",
              " (3450, 3),\n",
              " (3462, 1),\n",
              " (3484, 1),\n",
              " (3513, 1),\n",
              " (3609, 2),\n",
              " (3614, 1),\n",
              " (3667, 1),\n",
              " (3734, 1),\n",
              " (3765, 1),\n",
              " (3773, 1),\n",
              " (3782, 2),\n",
              " (3823, 1),\n",
              " (3856, 1),\n",
              " (3897, 6),\n",
              " (3924, 3),\n",
              " (3935, 2),\n",
              " (3936, 3),\n",
              " (3941, 1),\n",
              " (3946, 2),\n",
              " (3997, 1),\n",
              " (4046, 1),\n",
              " (4053, 1),\n",
              " (4063, 1),\n",
              " (4064, 1),\n",
              " (4066, 4),\n",
              " (4133, 1),\n",
              " (4141, 1),\n",
              " (4186, 1),\n",
              " (4221, 1),\n",
              " (4255, 2),\n",
              " (4318, 1),\n",
              " (4485, 1),\n",
              " (4494, 1),\n",
              " (4549, 1),\n",
              " (4557, 1),\n",
              " (4649, 3),\n",
              " (4705, 1),\n",
              " (4777, 1),\n",
              " (4828, 1),\n",
              " (4833, 1),\n",
              " (4893, 2),\n",
              " (4913, 2),\n",
              " (4932, 1),\n",
              " (4960, 1),\n",
              " (5126, 2),\n",
              " (5211, 1),\n",
              " (5277, 1),\n",
              " (5328, 1),\n",
              " (5464, 1),\n",
              " (5468, 1),\n",
              " (5512, 1),\n",
              " (5530, 1),\n",
              " (5555, 5),\n",
              " (5588, 1),\n",
              " (5591, 1),\n",
              " (5618, 3),\n",
              " (5631, 9),\n",
              " (5637, 2),\n",
              " (5638, 3),\n",
              " (5645, 2),\n",
              " (5705, 1),\n",
              " (5706, 1),\n",
              " (5707, 1),\n",
              " (5708, 1),\n",
              " (5709, 1),\n",
              " (5710, 1),\n",
              " (5711, 1),\n",
              " (5712, 1),\n",
              " (5713, 1),\n",
              " (5714, 1),\n",
              " (5715, 1),\n",
              " (5716, 1),\n",
              " (5717, 1),\n",
              " (5718, 3),\n",
              " (5719, 1),\n",
              " (5720, 1),\n",
              " (5721, 1),\n",
              " (5722, 1),\n",
              " (5723, 2),\n",
              " (5724, 2),\n",
              " (5725, 1),\n",
              " (5726, 1),\n",
              " (5727, 1),\n",
              " (5728, 1),\n",
              " (5729, 2),\n",
              " (5730, 1),\n",
              " (5731, 1),\n",
              " (5732, 1),\n",
              " (5733, 2),\n",
              " (5734, 1),\n",
              " (5735, 1),\n",
              " (5736, 1),\n",
              " (5737, 1),\n",
              " (5738, 1),\n",
              " (5739, 1),\n",
              " (5740, 1),\n",
              " (5741, 1),\n",
              " (5742, 2),\n",
              " (5743, 1),\n",
              " (5744, 1),\n",
              " (5745, 2),\n",
              " (5746, 1),\n",
              " (5747, 1),\n",
              " (5748, 1),\n",
              " (5749, 3),\n",
              " (5750, 1),\n",
              " (5751, 1),\n",
              " (5752, 2),\n",
              " (5753, 1),\n",
              " (5754, 1),\n",
              " (5755, 2),\n",
              " (5756, 1),\n",
              " (5757, 1),\n",
              " (5758, 1),\n",
              " (5759, 1),\n",
              " (5760, 1),\n",
              " (5761, 1),\n",
              " (5762, 1),\n",
              " (5763, 1),\n",
              " (5764, 3),\n",
              " (5765, 1),\n",
              " (5766, 1),\n",
              " (5767, 1),\n",
              " (5768, 1),\n",
              " (5769, 1),\n",
              " (5770, 2),\n",
              " (5771, 1)]"
            ]
          },
          "metadata": {
            "tags": []
          },
          "execution_count": 82
        }
      ]
    },
    {
      "cell_type": "code",
      "metadata": {
        "id": "zgUvM0GAsK4O",
        "outputId": "e7dc7ba7-8a1b-4118-a75a-0380dd6cf62b",
        "colab": {
          "base_uri": "https://localhost:8080/"
        }
      },
      "source": [
        "bow_doc_42 = bow_corpus[42]\n",
        "for i in range(len(bow_doc_42)):\n",
        "    print(\"Word {} (\\\"{}\\\") appears {} time.\".format(bow_doc_42[i][0], \n",
        "                                               dictionary[bow_doc_42[i][0]], \n",
        "bow_doc_42[i][1]))"
      ],
      "execution_count": 83,
      "outputs": [
        {
          "output_type": "stream",
          "text": [
            "Word 1 (\"2015\") appears 1 time.\n",
            "Word 3 (\"access\") appears 1 time.\n",
            "Word 6 (\"administr\") appears 5 time.\n",
            "Word 7 (\"advoc\") appears 3 time.\n",
            "Word 8 (\"afford\") appears 1 time.\n",
            "Word 10 (\"american\") appears 10 time.\n",
            "Word 13 (\"anoth\") appears 1 time.\n",
            "Word 26 (\"big\") appears 1 time.\n",
            "Word 35 (\"case\") appears 2 time.\n",
            "Word 36 (\"caus\") appears 1 time.\n",
            "Word 47 (\"committe\") appears 1 time.\n",
            "Word 52 (\"congress\") appears 1 time.\n",
            "Word 53 (\"congression\") appears 2 time.\n",
            "Word 55 (\"conserv\") appears 1 time.\n",
            "Word 58 (\"consum\") appears 1 time.\n",
            "Word 60 (\"continu\") appears 1 time.\n",
            "Word 62 (\"cost\") appears 1 time.\n",
            "Word 63 (\"could\") appears 1 time.\n",
            "Word 67 (\"deal\") appears 1 time.\n",
            "Word 71 (\"demand\") appears 1 time.\n",
            "Word 74 (\"despit\") appears 1 time.\n",
            "Word 78 (\"discuss\") appears 1 time.\n",
            "Word 80 (\"disput\") appears 1 time.\n",
            "Word 85 (\"donald\") appears 1 time.\n",
            "Word 99 (\"even\") appears 2 time.\n",
            "Word 101 (\"execut\") appears 2 time.\n",
            "Word 115 (\"general\") appears 3 time.\n",
            "Word 117 (\"govern\") appears 1 time.\n",
            "Word 124 (\"hous\") appears 2 time.\n",
            "Word 128 (\"import\") appears 6 time.\n",
            "Word 136 (\"intern\") appears 2 time.\n",
            "Word 138 (\"involv\") appears 1 time.\n",
            "Word 139 (\"issu\") appears 2 time.\n",
            "Word 141 (\"john\") appears 1 time.\n",
            "Word 144 (\"lack\") appears 1 time.\n",
            "Word 145 (\"last\") appears 1 time.\n",
            "Word 147 (\"later\") appears 1 time.\n",
            "Word 148 (\"law\") appears 2 time.\n",
            "Word 150 (\"lawyer\") appears 3 time.\n",
            "Word 151 (\"lead\") appears 2 time.\n",
            "Word 154 (\"leav\") appears 1 time.\n",
            "Word 158 (\"litig\") appears 1 time.\n",
            "Word 162 (\"mani\") appears 1 time.\n",
            "Word 163 (\"market\") appears 1 time.\n",
            "Word 165 (\"may\") appears 1 time.\n",
            "Word 170 (\"mount\") appears 1 time.\n",
            "Word 171 (\"mr.\") appears 32 time.\n",
            "Word 172 (\"nation\") appears 3 time.\n",
            "Word 175 (\"offic\") appears 1 time.\n",
            "Word 176 (\"offici\") appears 2 time.\n",
            "Word 184 (\"pay\") appears 1 time.\n",
            "Word 201 (\"presidenti\") appears 1 time.\n",
            "Word 202 (\"pressur\") appears 1 time.\n",
            "Word 205 (\"produc\") appears 1 time.\n",
            "Word 212 (\"put\") appears 1 time.\n",
            "Word 216 (\"readi\") appears 1 time.\n",
            "Word 219 (\"regard\") appears 3 time.\n",
            "Word 225 (\"republican\") appears 5 time.\n",
            "Word 227 (\"requir\") appears 1 time.\n",
            "Word 231 (\"revers\") appears 1 time.\n",
            "Word 232 (\"right\") appears 3 time.\n",
            "Word 234 (\"rule\") appears 2 time.\n",
            "Word 235 (\"seek\") appears 2 time.\n",
            "Word 236 (\"set\") appears 1 time.\n",
            "Word 238 (\"share\") appears 1 time.\n",
            "Word 241 (\"sought\") appears 1 time.\n",
            "Word 247 (\"state\") appears 5 time.\n",
            "Word 251 (\"subsidi\") appears 1 time.\n",
            "Word 259 (\"take\") appears 3 time.\n",
            "Word 266 (\"took\") appears 1 time.\n",
            "Word 270 (\"trump\") appears 23 time.\n",
            "Word 274 (\"unit\") appears 4 time.\n",
            "Word 277 (\"view\") appears 2 time.\n",
            "Word 278 (\"vigor\") appears 2 time.\n",
            "Word 281 (\"want\") appears 1 time.\n",
            "Word 282 (\"washington\") appears 3 time.\n",
            "Word 283 (\"well\") appears 1 time.\n",
            "Word 285 (\"white\") appears 2 time.\n",
            "Word 313 (\"across\") appears 1 time.\n",
            "Word 314 (\"action\") appears 1 time.\n",
            "Word 319 (\"advis\") appears 4 time.\n",
            "Word 332 (\"alreadi\") appears 1 time.\n",
            "Word 333 (\"alway\") appears 1 time.\n",
            "Word 334 (\"among\") appears 1 time.\n",
            "Word 338 (\"announc\") appears 2 time.\n",
            "Word 348 (\"around\") appears 1 time.\n",
            "Word 374 (\"becaus\") appears 1 time.\n",
            "Word 376 (\"behind\") appears 1 time.\n",
            "Word 403 (\"break\") appears 1 time.\n",
            "Word 411 (\"build\") appears 2 time.\n",
            "Word 427 (\"campaign\") appears 2 time.\n",
            "Word 429 (\"car\") appears 2 time.\n",
            "Word 443 (\"chief\") appears 3 time.\n",
            "Word 446 (\"choic\") appears 3 time.\n",
            "Word 453 (\"clear\") appears 1 time.\n",
            "Word 469 (\"complet\") appears 1 time.\n",
            "Word 478 (\"contrast\") appears 1 time.\n",
            "Word 486 (\"council\") appears 1 time.\n",
            "Word 490 (\"countri\") appears 2 time.\n",
            "Word 498 (\"credit\") appears 1 time.\n",
            "Word 507 (\"danger\") appears 1 time.\n",
            "Word 517 (\"declin\") appears 1 time.\n",
            "Word 521 (\"deputi\") appears 1 time.\n",
            "Word 523 (\"design\") appears 1 time.\n",
            "Word 528 (\"differ\") appears 1 time.\n",
            "Word 530 (\"direct\") appears 1 time.\n",
            "Word 539 (\"domest\") appears 3 time.\n",
            "Word 540 (\"done\") appears 1 time.\n",
            "Word 552 (\"earli\") appears 2 time.\n",
            "Word 569 (\"enough\") appears 1 time.\n",
            "Word 574 (\"evid\") appears 2 time.\n",
            "Word 575 (\"exampl\") appears 1 time.\n",
            "Word 582 (\"fail\") appears 1 time.\n",
            "Word 600 (\"first\") appears 2 time.\n",
            "Word 610 (\"focus\") appears 3 time.\n",
            "Word 616 (\"former\") appears 1 time.\n",
            "Word 628 (\"get\") appears 1 time.\n",
            "Word 631 (\"go\") appears 1 time.\n",
            "Word 645 (\"ground\") appears 1 time.\n",
            "Word 652 (\"guy\") appears 1 time.\n",
            "Word 665 (\"hear\") appears 1 time.\n",
            "Word 671 (\"held\") appears 1 time.\n",
            "Word 672 (\"help\") appears 1 time.\n",
            "Word 675 (\"higher\") appears 1 time.\n",
            "Word 678 (\"hire\") appears 1 time.\n",
            "Word 683 (\"hold\") appears 1 time.\n",
            "Word 687 (\"hope\") appears 3 time.\n",
            "Word 690 (\"hour\") appears 2 time.\n",
            "Word 700 (\"includ\") appears 2 time.\n",
            "Word 701 (\"increas\") appears 1 time.\n",
            "Word 720 (\"job\") appears 1 time.\n",
            "Word 728 (\"key\") appears 2 time.\n",
            "Word 732 (\"know\") appears 1 time.\n",
            "Word 734 (\"label\") appears 1 time.\n",
            "Word 741 (\"left\") appears 2 time.\n",
            "Word 758 (\"long\") appears 2 time.\n",
            "Word 759 (\"longtim\") appears 1 time.\n",
            "Word 760 (\"look\") appears 1 time.\n",
            "Word 762 (\"lower\") appears 1 time.\n",
            "Word 764 (\"made\") appears 1 time.\n",
            "Word 767 (\"make\") appears 5 time.\n",
            "Word 774 (\"mean\") appears 2 time.\n",
            "Word 794 (\"morn\") appears 1 time.\n",
            "Word 797 (\"move\") appears 3 time.\n",
            "Word 799 (\"much\") appears 1 time.\n",
            "Word 803 (\"name\") appears 4 time.\n",
            "Word 805 (\"near\") appears 2 time.\n",
            "Word 816 (\"nine\") appears 1 time.\n",
            "Word 823 (\"number\") appears 1 time.\n",
            "Word 829 (\"offer\") appears 1 time.\n",
            "Word 830 (\"often\") appears 1 time.\n",
            "Word 833 (\"onli\") appears 1 time.\n",
            "Word 854 (\"past\") appears 1 time.\n",
            "Word 868 (\"play\") appears 1 time.\n",
            "Word 878 (\"practic\") appears 1 time.\n",
            "Word 883 (\"presid\") appears 3 time.\n",
            "Word 888 (\"prioriti\") appears 1 time.\n",
            "Word 893 (\"process\") appears 1 time.\n",
            "Word 916 (\"reason\") appears 1 time.\n",
            "Word 918 (\"recent\") appears 3 time.\n",
            "Word 940 (\"respons\") appears 1 time.\n",
            "Word 956 (\"robert\") appears 1 time.\n",
            "Word 982 (\"secur\") appears 1 time.\n",
            "Word 983 (\"see\") appears 2 time.\n",
            "Word 986 (\"send\") appears 1 time.\n",
            "Word 992 (\"servic\") appears 1 time.\n",
            "Word 993 (\"sever\") appears 1 time.\n",
            "Word 998 (\"shift\") appears 1 time.\n",
            "Word 1008 (\"similar\") appears 1 time.\n",
            "Word 1048 (\"statement\") appears 3 time.\n",
            "Word 1054 (\"still\") appears 1 time.\n",
            "Word 1076 (\"support\") appears 4 time.\n",
            "Word 1077 (\"sure\") appears 1 time.\n",
            "Word 1081 (\"sweep\") appears 1 time.\n",
            "Word 1100 (\"thing\") appears 1 time.\n",
            "Word 1104 (\"threat\") appears 1 time.\n",
            "Word 1105 (\"threaten\") appears 1 time.\n",
            "Word 1106 (\"three\") appears 1 time.\n",
            "Word 1118 (\"turn\") appears 2 time.\n",
            "Word 1153 (\"warn\") appears 1 time.\n",
            "Word 1176 (\"work\") appears 2 time.\n",
            "Word 1177 (\"worker\") appears 2 time.\n",
            "Word 1183 (\"wrote\") appears 2 time.\n",
            "Word 1227 (\"america\") appears 2 time.\n",
            "Word 1294 (\"claim\") appears 1 time.\n",
            "Word 1301 (\"compani\") appears 2 time.\n",
            "Word 1303 (\"confirm\") appears 1 time.\n",
            "Word 1310 (\"critic\") appears 4 time.\n",
            "Word 1314 (\"decad\") appears 3 time.\n",
            "Word 1331 (\"doe\") appears 1 time.\n",
            "Word 1339 (\"econom\") appears 5 time.\n",
            "Word 1346 (\"encourag\") appears 1 time.\n",
            "Word 1371 (\"figur\") appears 1 time.\n",
            "Word 1404 (\"hard\") appears 1 time.\n",
            "Word 1411 (\"howev\") appears 1 time.\n",
            "Word 1415 (\"impos\") appears 3 time.\n",
            "Word 1420 (\"influenc\") appears 2 time.\n",
            "Word 1434 (\"japanes\") appears 1 time.\n",
            "Word 1454 (\"line\") appears 1 time.\n",
            "Word 1467 (\"mark\") appears 1 time.\n",
            "Word 1471 (\"member\") appears 1 time.\n",
            "Word 1475 (\"mere\") appears 1 time.\n",
            "Word 1524 (\"product\") appears 5 time.\n",
            "Word 1542 (\"repres\") appears 3 time.\n",
            "Word 1545 (\"restrict\") appears 1 time.\n",
            "Word 1562 (\"seri\") appears 1 time.\n",
            "Word 1566 (\"sign\") appears 1 time.\n",
            "Word 1573 (\"slowli\") appears 1 time.\n",
            "Word 1582 (\"spent\") appears 1 time.\n",
            "Word 1606 (\"think\") appears 1 time.\n",
            "Word 1610 (\"togeth\") appears 1 time.\n",
            "Word 1630 (\"war\") appears 1 time.\n",
            "Word 1643 (\"world\") appears 1 time.\n",
            "Word 1660 (\"alan\") appears 1 time.\n",
            "Word 1733 (\"common\") appears 1 time.\n",
            "Word 1738 (\"confront\") appears 1 time.\n",
            "Word 1804 (\"field\") appears 1 time.\n",
            "Word 1887 (\"indic\") appears 2 time.\n",
            "Word 1888 (\"industri\") appears 4 time.\n",
            "Word 1941 (\"measur\") appears 1 time.\n",
            "Word 1971 (\"necessarili\") appears 1 time.\n",
            "Word 1977 (\"news\") appears 1 time.\n",
            "Word 2004 (\"peter\") appears 1 time.\n",
            "Word 2024 (\"press\") appears 1 time.\n",
            "Word 2037 (\"reagan\") appears 3 time.\n",
            "Word 2042 (\"rememb\") appears 1 time.\n",
            "Word 2053 (\"rock\") appears 1 time.\n",
            "Word 2073 (\"seiz\") appears 1 time.\n",
            "Word 2078 (\"senat\") appears 4 time.\n",
            "Word 2081 (\"serv\") appears 1 time.\n",
            "Word 2107 (\"sport\") appears 2 time.\n",
            "Word 2111 (\"stage\") appears 1 time.\n",
            "Word 2175 (\"within\") appears 1 time.\n",
            "Word 2183 (\"advantag\") appears 1 time.\n",
            "Word 2184 (\"although\") appears 1 time.\n",
            "Word 2189 (\"base\") appears 2 time.\n",
            "Word 2194 (\"chang\") appears 1 time.\n",
            "Word 2209 (\"japan\") appears 1 time.\n",
            "Word 2218 (\"north\") appears 1 time.\n",
            "Word 2233 (\"run\") appears 1 time.\n",
            "Word 2236 (\"senior\") appears 1 time.\n",
            "Word 2246 (\"test\") appears 1 time.\n",
            "Word 2247 (\"toward\") appears 1 time.\n",
            "Word 2295 (\"china\") appears 8 time.\n",
            "Word 2298 (\"confer\") appears 1 time.\n",
            "Word 2301 (\"democrat\") appears 2 time.\n",
            "Word 2305 (\"divid\") appears 1 time.\n",
            "Word 2313 (\"independ\") appears 1 time.\n",
            "Word 2315 (\"longstand\") appears 1 time.\n",
            "Word 2323 (\"parti\") appears 1 time.\n",
            "Word 2326 (\"plan\") appears 1 time.\n",
            "Word 2328 (\"polici\") appears 9 time.\n",
            "Word 2331 (\"pursu\") appears 2 time.\n",
            "Word 2340 (\"richard\") appears 1 time.\n",
            "Word 2346 (\"step\") appears 1 time.\n",
            "Word 2360 (\"understood\") appears 1 time.\n",
            "Word 2398 (\"amaz\") appears 1 time.\n",
            "Word 2483 (\"experi\") appears 1 time.\n",
            "Word 2545 (\"manipul\") appears 2 time.\n",
            "Word 2556 (\"model\") appears 1 time.\n",
            "Word 2565 (\"origin\") appears 1 time.\n",
            "Word 2576 (\"piec\") appears 1 time.\n",
            "Word 2583 (\"pronounc\") appears 1 time.\n",
            "Word 2604 (\"round\") appears 1 time.\n",
            "Word 2614 (\"select\") appears 1 time.\n",
            "Word 2622 (\"signal\") appears 2 time.\n",
            "Word 2623 (\"signific\") appears 1 time.\n",
            "Word 2630 (\"slow\") appears 1 time.\n",
            "Word 2642 (\"suppress\") appears 1 time.\n",
            "Word 2672 (\"urg\") appears 1 time.\n",
            "Word 2695 (\"ambigu\") appears 1 time.\n",
            "Word 2775 (\"intent\") appears 1 time.\n",
            "Word 2837 (\"promis\") appears 4 time.\n",
            "Word 2857 (\"ronald\") appears 1 time.\n",
            "Word 2937 (\"expens\") appears 1 time.\n",
            "Word 2961 (\"pick\") appears 1 time.\n",
            "Word 2991 (\"util\") appears 1 time.\n",
            "Word 2997 (\"abandon\") appears 1 time.\n",
            "Word 3003 (\"agenc\") appears 1 time.\n",
            "Word 3004 (\"agenda\") appears 1 time.\n",
            "Word 3005 (\"agreement\") appears 3 time.\n",
            "Word 3010 (\"benefit\") appears 1 time.\n",
            "Word 3036 (\"forward\") appears 1 time.\n",
            "Word 3039 (\"global\") appears 1 time.\n",
            "Word 3043 (\"gov\") appears 1 time.\n",
            "Word 3052 (\"invest\") appears 1 time.\n",
            "Word 3053 (\"investor\") appears 1 time.\n",
            "Word 3054 (\"iowa\") appears 1 time.\n",
            "Word 3058 (\"latest\") appears 1 time.\n",
            "Word 3062 (\"manufactur\") appears 2 time.\n",
            "Word 3063 (\"mexico\") appears 6 time.\n",
            "Word 3064 (\"middl\") appears 1 time.\n",
            "Word 3069 (\"negoti\") appears 1 time.\n",
            "Word 3081 (\"persuad\") appears 1 time.\n",
            "Word 3089 (\"renew\") appears 1 time.\n",
            "Word 3090 (\"role\") appears 1 time.\n",
            "Word 3096 (\"strong\") appears 3 time.\n",
            "Word 3103 (\"top\") appears 3 time.\n",
            "Word 3105 (\"trade\") appears 35 time.\n",
            "Word 3139 (\"cite\") appears 1 time.\n",
            "Word 3160 (\"dream\") appears 1 time.\n",
            "Word 3168 (\"expand\") appears 4 time.\n",
            "Word 3176 (\"footprint\") appears 1 time.\n",
            "Word 3178 (\"free\") appears 7 time.\n",
            "Word 3200 (\"legisl\") appears 1 time.\n",
            "Word 3222 (\"plant\") appears 1 time.\n",
            "Word 3225 (\"price\") appears 1 time.\n",
            "Word 3232 (\"reduc\") appears 1 time.\n",
            "Word 3239 (\"secretari\") appears 2 time.\n",
            "Word 3240 (\"sell\") appears 1 time.\n",
            "Word 3262 (\"tax\") appears 2 time.\n",
            "Word 3281 (\"ambassador\") appears 1 time.\n",
            "Word 3293 (\"billionair\") appears 1 time.\n",
            "Word 3339 (\"exxon\") appears 1 time.\n",
            "Word 3349 (\"frequent\") appears 1 time.\n",
            "Word 3369 (\"intend\") appears 1 time.\n",
            "Word 3393 (\"mobil\") appears 1 time.\n",
            "Word 3423 (\"rex\") appears 1 time.\n",
            "Word 3445 (\"taken\") appears 1 time.\n",
            "Word 3448 (\"tillerson\") appears 1 time.\n",
            "Word 3450 (\"twitter\") appears 3 time.\n",
            "Word 3462 (\"aim\") appears 1 time.\n",
            "Word 3484 (\"must\") appears 1 time.\n",
            "Word 3513 (\"bulk\") appears 1 time.\n",
            "Word 3609 (\"steel\") appears 2 time.\n",
            "Word 3614 (\"tap\") appears 1 time.\n",
            "Word 3667 (\"chairman\") appears 1 time.\n",
            "Word 3734 (\"pretti\") appears 1 time.\n",
            "Word 3765 (\"unbridl\") appears 1 time.\n",
            "Word 3773 (\"2008\") appears 1 time.\n",
            "Word 3782 (\"argu\") appears 2 time.\n",
            "Word 3823 (\"immedi\") appears 1 time.\n",
            "Word 3856 (\"oppon\") appears 1 time.\n",
            "Word 3897 (\"tuesday\") appears 6 time.\n",
            "Word 3924 (\"currenc\") appears 3 time.\n",
            "Word 3935 (\"economi\") appears 2 time.\n",
            "Word 3936 (\"economist\") appears 3 time.\n",
            "Word 3941 (\"financ\") appears 1 time.\n",
            "Word 3946 (\"growth\") appears 2 time.\n",
            "Word 3997 (\"trader\") appears 1 time.\n",
            "Word 4046 (\"labor\") appears 1 time.\n",
            "Word 4053 (\"pickup\") appears 1 time.\n",
            "Word 4063 (\"truck\") appears 1 time.\n",
            "Word 4064 (\"underscor\") appears 1 time.\n",
            "Word 4066 (\"vehicl\") appears 4 time.\n",
            "Word 4133 (\"divis\") appears 1 time.\n",
            "Word 4141 (\"fulfil\") appears 1 time.\n",
            "Word 4186 (\"tough\") appears 1 time.\n",
            "Word 4221 (\"nomin\") appears 1 time.\n",
            "Word 4255 (\"border\") appears 2 time.\n",
            "Word 4318 (\"popul\") appears 1 time.\n",
            "Word 4485 (\"bob\") appears 1 time.\n",
            "Word 4494 (\"class\") appears 1 time.\n",
            "Word 4549 (\"priorit\") appears 1 time.\n",
            "Word 4557 (\"rewrit\") appears 1 time.\n",
            "Word 4649 (\"broader\") appears 3 time.\n",
            "Word 4705 (\"partner\") appears 1 time.\n",
            "Word 4777 (\"episod\") appears 1 time.\n",
            "Word 4828 (\"tool\") appears 1 time.\n",
            "Word 4833 (\"valu\") appears 1 time.\n",
            "Word 4893 (\"circl\") appears 2 time.\n",
            "Word 4913 (\"embrac\") appears 2 time.\n",
            "Word 4932 (\"imped\") appears 1 time.\n",
            "Word 4960 (\"necessari\") appears 1 time.\n",
            "Word 5126 (\"mainstream\") appears 2 time.\n",
            "Word 5211 (\"canada\") appears 1 time.\n",
            "Word 5277 (\"competitor\") appears 1 time.\n",
            "Word 5328 (\"competit\") appears 1 time.\n",
            "Word 5464 (\"ideal\") appears 1 time.\n",
            "Word 5468 (\"letter\") appears 1 time.\n",
            "Word 5512 (\"advocaci\") appears 1 time.\n",
            "Word 5530 (\"knowledg\") appears 1 time.\n",
            "Word 5555 (\"enforc\") appears 5 time.\n",
            "Word 5588 (\"unfair\") appears 1 time.\n",
            "Word 5591 (\"via\") appears 1 time.\n",
            "Word 5618 (\"ford\") appears 3 time.\n",
            "Word 5631 (\"lighthize\") appears 9 time.\n",
            "Word 5637 (\"michigan\") appears 2 time.\n",
            "Word 5638 (\"motor\") appears 3 time.\n",
            "Word 5645 (\"protectionist\") appears 2 time.\n",
            "Word 5705 (\"arizona\") appears 1 time.\n",
            "Word 5706 (\"auto\") appears 1 time.\n",
            "Word 5707 (\"branstad\") appears 1 time.\n",
            "Word 5708 (\"bullhorn\") appears 1 time.\n",
            "Word 5709 (\"carmak\") appears 1 time.\n",
            "Word 5710 (\"cautious\") appears 1 time.\n",
            "Word 5711 (\"chevi\") appears 1 time.\n",
            "Word 5712 (\"chevrolet\") appears 1 time.\n",
            "Word 5713 (\"coahuila\") appears 1 time.\n",
            "Word 5714 (\"cohn\") appears 1 time.\n",
            "Word 5715 (\"commentari\") appears 1 time.\n",
            "Word 5716 (\"commerc\") appears 1 time.\n",
            "Word 5717 (\"compact\") appears 1 time.\n",
            "Word 5718 (\"cruze\") appears 3 time.\n",
            "Word 5719 (\"domin\") appears 1 time.\n",
            "Word 5720 (\"emphas\") appears 1 time.\n",
            "Word 5721 (\"encycloped\") appears 1 time.\n",
            "Word 5722 (\"energ\") appears 1 time.\n",
            "Word 5723 (\"exert\") appears 2 time.\n",
            "Word 5724 (\"export\") appears 2 time.\n",
            "Word 5725 (\"flat\") appears 1 time.\n",
            "Word 5726 (\"gari\") appears 1 time.\n",
            "Word 5727 (\"goldman\") appears 1 time.\n",
            "Word 5728 (\"harmoni\") appears 1 time.\n",
            "Word 5729 (\"hatch\") appears 2 time.\n",
            "Word 5730 (\"hatchback\") appears 1 time.\n",
            "Word 5731 (\"ideolog\") appears 1 time.\n",
            "Word 5732 (\"lacklust\") appears 1 time.\n",
            "Word 5733 (\"lincicom\") appears 2 time.\n",
            "Word 5734 (\"mccain\") appears 1 time.\n",
            "Word 5735 (\"meanwhil\") appears 1 time.\n",
            "Word 5736 (\"mexican\") appears 1 time.\n",
            "Word 5737 (\"mich\") appears 1 time.\n",
            "Word 5738 (\"mistaken\") appears 1 time.\n",
            "Word 5739 (\"moder\") appears 1 time.\n",
            "Word 5740 (\"mustang\") appears 1 time.\n",
            "Word 5741 (\"nafta\") appears 1 time.\n",
            "Word 5742 (\"navarro\") appears 2 time.\n",
            "Word 5743 (\"orrin\") appears 1 time.\n",
            "Word 5744 (\"outspoken\") appears 1 time.\n",
            "Word 5745 (\"overse\") appears 2 time.\n",
            "Word 5746 (\"philosophi\") appears 1 time.\n",
            "Word 5747 (\"pragmat\") appears 1 time.\n",
            "Word 5748 (\"propon\") appears 1 time.\n",
            "Word 5749 (\"prosper\") appears 3 time.\n",
            "Word 5750 (\"protection\") appears 1 time.\n",
            "Word 5751 (\"quota\") appears 1 time.\n",
            "Word 5752 (\"renegoti\") appears 2 time.\n",
            "Word 5753 (\"retrograd\") appears 1 time.\n",
            "Word 5754 (\"rob\") appears 1 time.\n",
            "Word 5755 (\"ross\") appears 2 time.\n",
            "Word 5756 (\"sach\") appears 1 time.\n",
            "Word 5757 (\"scott\") appears 1 time.\n",
            "Word 5758 (\"subordin\") appears 1 time.\n",
            "Word 5759 (\"subsid\") appears 1 time.\n",
            "Word 5760 (\"tariff\") appears 1 time.\n",
            "Word 5761 (\"terri\") appears 1 time.\n",
            "Word 5762 (\"trend\") appears 1 time.\n",
            "Word 5763 (\"triumvir\") appears 1 time.\n",
            "Word 5764 (\"trumka\") appears 3 time.\n",
            "Word 5765 (\"undermin\") appears 1 time.\n",
            "Word 5766 (\"uneas\") appears 1 time.\n",
            "Word 5767 (\"unfold\") appears 1 time.\n",
            "Word 5768 (\"utah\") appears 1 time.\n",
            "Word 5769 (\"utopian\") appears 1 time.\n",
            "Word 5770 (\"wilbur\") appears 2 time.\n",
            "Word 5771 (\"wolff\") appears 1 time.\n"
          ],
          "name": "stdout"
        }
      ]
    },
    {
      "cell_type": "markdown",
      "metadata": {
        "id": "DoZsCmoRvSks"
      },
      "source": [
        "## TF-IDF"
      ]
    },
    {
      "cell_type": "code",
      "metadata": {
        "id": "KhP2ons9vURG",
        "outputId": "67edd886-9633-459c-de2c-f797f3418824",
        "colab": {
          "base_uri": "https://localhost:8080/"
        }
      },
      "source": [
        "tfidf = models.TfidfModel(bow_corpus)\n",
        "corpus_tfidf = tfidf[bow_corpus]\n",
        "for doc in corpus_tfidf:\n",
        "    print(doc)\n",
        "    break"
      ],
      "execution_count": 49,
      "outputs": [
        {
          "output_type": "stream",
          "text": [
            "[(0, 0.029715521149501007), (1, 0.020106039956814977), (2, 0.027461976654113714), (3, 0.024622054606840662), (4, 0.027714806504477944), (5, 0.01740509473557033), (6, 0.22367532184254252), (7, 0.0293810665214199), (8, 0.02987825602451966), (9, 0.02641312959161405), (10, 0.011392676082327427), (11, 0.03410362327267204), (12, 0.029880923564519137), (13, 0.012355589545940467), (14, 0.07762049647147408), (15, 0.1068024907136795), (16, 0.09967311773417871), (17, 0.026996404886106364), (18, 0.03652412412495001), (19, 0.03442674718769445), (20, 0.03473520417223675), (21, 0.025944516344889656), (22, 0.04378686846569487), (23, 0.04116666507506936), (24, 0.009390811128090697), (25, 0.036116844179606186), (26, 0.017040391324804997), (27, 0.04647128590014654), (28, 0.09261272437117676), (29, 0.058799551481910003), (30, 0.1872871811821654), (31, 0.03159758088838345), (32, 0.03758666316511679), (33, 0.14850272962818895), (34, 0.06034014240082647), (35, 0.05978056802508807), (36, 0.0391396559532639), (37, 0.025909131388969213), (38, 0.02121891748671271), (39, 0.03509857124281787), (40, 0.038162268227523305), (41, 0.05863799942632538), (42, 0.04186733383095272), (43, 0.2614001415894311), (44, 0.04085096758854604), (45, 0.028244206335743337), (46, 0.018072386198378466), (47, 0.02326080043942387), (48, 0.03175329351979885), (49, 0.04777735488874289), (50, 0.037798027141315284), (51, 0.05687474926767287), (52, 0.11229800367834572), (53, 0.08756549191099389), (54, 0.03172291908127766), (55, 0.021908448428335572), (56, 0.018527493018229174), (57, 0.08362444380207673), (58, 0.029826377146720706), (59, 0.03751342196216217), (60, 0.013554606658887108), (61, 0.019415242927406384), (62, 0.045034712441687295), (63, 0.06387831454756825), (64, 0.03895978971354755), (65, 0.030093881642507484), (66, 0.01860408714112986), (67, 0.017739441514509166), (68, 0.036885427045015746), (69, 0.050154827056263944), (70, 0.02335357598149745), (71, 0.024101012807694278), (72, 0.036331276649870195), (73, 0.036077723603014165), (74, 0.0208356768040942), (75, 0.05163257863385155), (76, 0.03674049823522689), (77, 0.05664976575844895), (78, 0.023988483102230344), (79, 0.030830637227160562), (80, 0.09991242050061944), (81, 0.03791411730537183), (82, 0.027023630091238933), (83, 0.06295936349883419), (84, 0.026995397931325146), (85, 0.012349790567671982), (86, 0.024032894350864406), (87, 0.01118487677696769), (88, 0.03999397141622136), (89, 0.03888056187332287), (90, 0.039102581564056424), (91, 0.01869783764528569), (92, 0.015021329578069734), (93, 0.04218544518959733), (94, 0.012985281248261137), (95, 0.022224816698558133), (96, 0.03258155400081792), (97, 0.027727775252161052), (98, 0.04096036011234158), (99, 0.008221267433897707), (100, 0.029136261396326687), (101, 0.0940619396006359), (102, 0.03677439626178135), (103, 0.025663027419837253), (104, 0.023129406550666635), (105, 0.02785837243875609), (106, 0.05806302635059744), (107, 0.015487124879130603), (108, 0.0413445307539354), (109, 0.014815924558358392), (110, 0.02122694829634405), (111, 0.022824515929847394), (112, 0.020570672255046954), (113, 0.025949971032894183), (114, 0.023360638737373367), (115, 0.016959436474234233), (116, 0.03819498127111536), (117, 0.012920212184499404), (118, 0.0025353605038118915), (119, 0.03847805915806351), (120, 0.0179904336104553), (121, 0.02906456056113537), (122, 0.015470084928344511), (123, 0.23875537016257545), (124, 0.03186921971120537), (125, 0.23249028834102936), (126, 0.026222734556987558), (127, 0.040522089314404215), (128, 0.062184704427040216), (129, 0.01688851027240342), (130, 0.0435972071688668), (131, 0.03586757753562073), (132, 0.046949124188710695), (133, 0.029818419014106926), (134, 0.023234247118944566), (135, 0.045534020823376535), (136, 0.23354735052294726), (137, 0.018959008146749393), (138, 0.0425411926339464), (139, 0.019330464252016087), (140, 0.027219256882934428), (141, 0.03858344322622562), (142, 0.0192823998165474), (143, 0.0738445996386376), (144, 0.022775015113353267), (145, 0.025350385156439788), (146, 0.008028923825372066), (147, 0.020695233145327178), (148, 0.015939028028676305), (149, 0.06250587017852924), (150, 0.06501782989346629), (151, 0.0816889201269741), (152, 0.03242332766430777), (153, 0.028746772771126257), (154, 0.016365206915853858), (155, 0.019388344457403096), (156, 0.044226950380804396), (157, 0.04470639343076548), (158, 0.05923327083113303), (159, 0.0448373778644117), (160, 0.024557542647877413), (161, 0.023412344683468776), (162, 0.05425835578520852), (163, 0.00927362998230987), (164, 0.02184181905796499), (165, 0.05498749984138526), (166, 0.010923865565755293), (167, 0.045040492224677695), (168, 0.014642301434051878), (169, 0.03964983248361255), (170, 0.024211216089155357), (171, 0.03748259201228998), (172, 0.025608348338770463), (173, 0.010177869621607742), (174, 0.029132937119497656), (175, 0.012262276102460747), (176, 0.08299867670864204), (177, 0.012989393936926009), (178, 0.013988808208761286), (179, 0.0042458457953934445), (180, 0.028755136541630963), (181, 0.032348181704866495), (182, 0.03323361607700019), (183, 0.06203042544786512), (184, 0.011462666921898715), (185, 0.028421163454061305), (186, 0.02414744049074021), (187, 0.020449733284988444), (188, 0.03742677381812396), (189, 0.04334635460382789), (190, 0.006149732571273278), (191, 0.036058219112766556), (192, 0.05292186064329491), (193, 0.08358080838027321), (194, 0.013796493117179431), (195, 0.025308056208551415), (196, 0.018258456737754846), (197, 0.01685098239831001), (198, 0.04101897891402723), (199, 0.04840880872702998), (200, 0.07860568851156989), (201, 0.028758723103030952), (202, 0.02530161043256347), (203, 0.06435808798804862), (204, 0.03716028198362335), (205, 0.0167381039121565), (206, 0.02637514599109876), (207, 0.04413414145576265), (208, 0.03512967369689503), (209, 0.023833430624994833), (210, 0.062284125529506254), (211, 0.04945727534882056), (212, 0.0346408852246892), (213, 0.03680316694898111), (214, 0.034578230468878264), (215, 0.05579794977243991), (216, 0.01357608995682873), (217, 0.014402586581764033), (218, 0.0676283028622045), (219, 0.022602306810764663), (220, 0.028055206010554494), (221, 0.0369020573384993), (222, 0.04278696529798461), (223, 0.028619768038251014), (224, 0.01732514462627177), (225, 0.016740327119066423), (226, 0.0560855351302389), (227, 0.02654140914628703), (228, 0.007863492365686776), (229, 0.2509695918243845), (230, 0.025161713698659268), (231, 0.06105535455123823), (232, 0.039009652708673744), (233, 0.03668597538530619), (234, 0.03613646055036296), (235, 0.03428438276032989), (236, 0.010986277542743634), (237, 0.06828990487147757), (238, 0.03858284892399437), (239, 0.013336640438525222), (240, 0.006239751364253679), (241, 0.04594757470690101), (242, 0.03146278212280684), (243, 0.03348639160393015), (244, 0.018035741831641288), (245, 0.02291160257849776), (246, 0.03600719555362824), (247, 0.0625983923929254), (248, 0.03064933331502752), (249, 0.13693502692838772), (250, 0.026011079542519345), (251, 0.043735261924383345), (252, 0.05817510873575163), (253, 0.007467972990539504), (254, 0.06289252704889937), (255, 0.017741484112875395), (256, 0.02842810796613615), (257, 0.3171452117722549), (258, 0.021303556165297787), (259, 0.06330267264024694), (260, 0.1352957761708406), (261, 0.06428983929389913), (262, 0.04151723746514391), (263, 0.04540896282115937), (264, 0.018593427143170006), (265, 0.017785873403323396), (266, 0.057307863393809694), (267, 0.038499667564264754), (268, 0.04218544518959733), (269, 0.022355300112058715), (270, 0.015753245603585816), (271, 0.011403022297534053), (272, 0.009900567561736717), (273, 0.016017124830839346), (274, 0.023437227933067455), (275, 0.0931799913708025), (276, 0.041845902114823495), (277, 0.08927649732602508), (278, 0.041714015528862045), (279, 0.016075293248242962), (280, 0.04367879295691079), (281, 0.01332732203479862), (282, 0.030026010537737065), (283, 0.05154474780370293), (284, 0.0375830950571968), (285, 0.047373214106380436), (286, 0.05564240161661724), (287, 0.022345696068438982), (288, 0.009808342156180304), (289, 0.019406557607242324), (290, 0.015120847114830036), (291, 0.024218293542824957), (292, 0.015065300569280172), (293, 0.04457058880190943), (294, 0.037263857686316314), (295, 0.019067691260793232), (296, 0.031338218880301305), (297, 0.02482539263628464), (298, 0.016394100259617864), (299, 0.00547767262148286), (300, 0.016976865680475402)]\n"
          ],
          "name": "stdout"
        }
      ]
    },
    {
      "cell_type": "markdown",
      "metadata": {
        "id": "NgQjm3yNvs1y"
      },
      "source": [
        "## LDA"
      ]
    },
    {
      "cell_type": "code",
      "metadata": {
        "id": "Zdl_VSFrvuio"
      },
      "source": [
        "lda_model = gensim.models.LdaMulticore(bow_corpus, num_topics=20, id2word=dictionary, passes=2, workers=2)"
      ],
      "execution_count": 84,
      "outputs": []
    },
    {
      "cell_type": "code",
      "metadata": {
        "id": "3k4VL0Sav88s",
        "outputId": "85f8ac73-1212-42f9-dd5a-eb49bf8a2b34",
        "colab": {
          "base_uri": "https://localhost:8080/"
        }
      },
      "source": [
        "for idx, topic in lda_model.print_topics(-1):\n",
        "    print('Topic: {} \\nWords: {}'.format(idx, topic))"
      ],
      "execution_count": 85,
      "outputs": [
        {
          "output_type": "stream",
          "text": [
            "Topic: 0 \n",
            "Words: 0.029*\"trump\" + 0.017*\"republican\" + 0.014*\"vote\" + 0.014*\"democrat\" + 0.014*\"clinton\" + 0.012*\"campaign\" + 0.012*\"elect\" + 0.012*\"voter\" + 0.011*\"parti\" + 0.010*\"state\"\n",
            "Topic: 1 \n",
            "Words: 0.024*\"polic\" + 0.013*\"offic\" + 0.011*\"kill\" + 0.009*\"attack\" + 0.008*\"report\" + 0.007*\"death\" + 0.007*\"shoot\" + 0.007*\"told\" + 0.006*\"two\" + 0.006*\"prison\"\n",
            "Topic: 2 \n",
            "Words: 0.011*\"citi\" + 0.005*\"home\" + 0.005*\"area\" + 0.005*\"water\" + 0.004*\"park\" + 0.004*\"car\" + 0.004*\"build\" + 0.004*\"day\" + 0.004*\"two\" + 0.004*\"000\"\n",
            "Topic: 3 \n",
            "Words: 0.027*\"court\" + 0.015*\"law\" + 0.012*\"rule\" + 0.011*\"case\" + 0.010*\"state\" + 0.010*\"judg\" + 0.009*\"justic\" + 0.009*\"right\" + 0.009*\"suprem\" + 0.008*\"feder\"\n",
            "Topic: 4 \n",
            "Words: 0.018*\"china\" + 0.013*\"russia\" + 0.013*\"russian\" + 0.010*\"bank\" + 0.010*\"putin\" + 0.008*\"chines\" + 0.008*\"govern\" + 0.006*\"presid\" + 0.005*\"report\" + 0.005*\"foreign\"\n",
            "Topic: 5 \n",
            "Words: 0.020*\"percent\" + 0.009*\"tax\" + 0.008*\"market\" + 0.008*\"rate\" + 0.007*\"billion\" + 0.006*\"job\" + 0.006*\"trade\" + 0.006*\"econom\" + 0.006*\"price\" + 0.006*\"economi\"\n",
            "Topic: 6 \n",
            "Words: 0.016*\"health\" + 0.016*\"state\" + 0.011*\"plan\" + 0.010*\"care\" + 0.009*\"insur\" + 0.008*\"bill\" + 0.007*\"law\" + 0.006*\"program\" + 0.006*\"feder\" + 0.006*\"fund\"\n",
            "Topic: 7 \n",
            "Words: 0.006*\"research\" + 0.005*\"climat\" + 0.005*\"studi\" + 0.005*\"scientist\" + 0.005*\"could\" + 0.004*\"use\" + 0.004*\"chang\" + 0.004*\"diseas\" + 0.004*\"human\" + 0.004*\"water\"\n",
            "Topic: 8 \n",
            "Words: 0.014*\"investig\" + 0.010*\"report\" + 0.010*\"offici\" + 0.010*\"depart\" + 0.008*\"fbi\" + 0.007*\"inform\" + 0.007*\"email\" + 0.007*\"trump\" + 0.007*\"comey\" + 0.006*\"intellig\"\n",
            "Topic: 9 \n",
            "Words: 0.016*\"state\" + 0.012*\"militari\" + 0.010*\"forc\" + 0.009*\"syria\" + 0.008*\"war\" + 0.008*\"unit\" + 0.006*\"islam\" + 0.006*\"offici\" + 0.006*\"syrian\" + 0.006*\"iran\"\n",
            "Topic: 10 \n",
            "Words: 0.026*\"compani\" + 0.010*\"million\" + 0.009*\"busi\" + 0.008*\"report\" + 0.006*\"execut\" + 0.005*\"deal\" + 0.005*\"sale\" + 0.005*\"york\" + 0.005*\"includ\" + 0.005*\"accord\"\n",
            "Topic: 11 \n",
            "Words: 0.031*\"trump\" + 0.020*\"white\" + 0.013*\"black\" + 0.013*\"presid\" + 0.010*\"american\" + 0.008*\"protest\" + 0.007*\"nation\" + 0.007*\"hous\" + 0.006*\"washington\" + 0.005*\"immigr\"\n",
            "Topic: 12 \n",
            "Words: 0.011*\"countri\" + 0.007*\"govern\" + 0.006*\"state\" + 0.006*\"minist\" + 0.006*\"muslim\" + 0.006*\"european\" + 0.006*\"refuge\" + 0.005*\"unit\" + 0.005*\"polit\" + 0.005*\"britain\"\n",
            "Topic: 13 \n",
            "Words: 0.009*\"student\" + 0.009*\"use\" + 0.007*\"school\" + 0.007*\"food\" + 0.006*\"univers\" + 0.006*\"data\" + 0.006*\"research\" + 0.006*\"compani\" + 0.006*\"studi\" + 0.005*\"appl\"\n",
            "Topic: 14 \n",
            "Words: 0.013*\"show\" + 0.011*\"woman\" + 0.011*\"film\" + 0.007*\"movi\" + 0.006*\"star\" + 0.005*\"charact\" + 0.004*\"play\" + 0.004*\"seri\" + 0.004*\"best\" + 0.004*\"episod\"\n",
            "Topic: 15 \n",
            "Words: 0.013*\"game\" + 0.010*\"team\" + 0.008*\"play\" + 0.007*\"first\" + 0.007*\"player\" + 0.006*\"season\" + 0.005*\"two\" + 0.005*\"sport\" + 0.005*\"last\" + 0.005*\"win\"\n",
            "Topic: 16 \n",
            "Words: 0.060*\"trump\" + 0.018*\"clinton\" + 0.016*\"presid\" + 0.011*\"obama\" + 0.008*\"polit\" + 0.008*\"donald\" + 0.007*\"campaign\" + 0.006*\"american\" + 0.006*\"hillari\" + 0.005*\"polici\"\n",
            "Topic: 17 \n",
            "Words: 0.016*\"news\" + 0.015*\"post\" + 0.014*\"medium\" + 0.014*\"twitter\" + 0.013*\"facebook\" + 0.007*\"stori\" + 0.007*\"tweet\" + 0.007*\"video\" + 0.006*\"report\" + 0.006*\"social\"\n",
            "Topic: 18 \n",
            "Words: 0.022*\"hous\" + 0.019*\"republican\" + 0.017*\"north\" + 0.015*\"senat\" + 0.015*\"korea\" + 0.012*\"ryan\" + 0.009*\"presid\" + 0.009*\"democrat\" + 0.009*\"congress\" + 0.008*\"bill\"\n",
            "Topic: 19 \n",
            "Words: 0.006*\"get\" + 0.006*\"think\" + 0.006*\"life\" + 0.006*\"know\" + 0.006*\"work\" + 0.006*\"want\" + 0.006*\"becaus\" + 0.005*\"thing\" + 0.005*\"way\" + 0.005*\"make\"\n"
          ],
          "name": "stdout"
        }
      ]
    },
    {
      "cell_type": "markdown",
      "metadata": {
        "id": "68SewhxubhEH"
      },
      "source": [
        "## Evaluation"
      ]
    },
    {
      "cell_type": "code",
      "metadata": {
        "id": "T8jWbEWlyMTM",
        "outputId": "0f58b49e-919f-444c-a950-05d46314cc73",
        "colab": {
          "base_uri": "https://localhost:8080/"
        }
      },
      "source": [
        "# Let's look at a test document: document 42\n",
        "# 1) clearly see that the article is about the economy 40%\n",
        "# 2) US politics 27%\n",
        "# 3) US Justice Department 8%\n",
        "# 4) US Congress 6%\n",
        "for index, score in sorted(lda_model[bow_corpus[42]], key=lambda tup: -1*tup[1]):\n",
        "    print(\"\\nScore: {}\\t \\nTopic: {}\".format(score, lda_model.print_topic(index, 10)))"
      ],
      "execution_count": 86,
      "outputs": [
        {
          "output_type": "stream",
          "text": [
            "\n",
            "Score: 0.4059540033340454\t \n",
            "Topic: 0.020*\"percent\" + 0.009*\"tax\" + 0.008*\"market\" + 0.008*\"rate\" + 0.007*\"billion\" + 0.006*\"job\" + 0.006*\"trade\" + 0.006*\"econom\" + 0.006*\"price\" + 0.006*\"economi\"\n",
            "\n",
            "Score: 0.26900607347488403\t \n",
            "Topic: 0.060*\"trump\" + 0.018*\"clinton\" + 0.016*\"presid\" + 0.011*\"obama\" + 0.008*\"polit\" + 0.008*\"donald\" + 0.007*\"campaign\" + 0.006*\"american\" + 0.006*\"hillari\" + 0.005*\"polici\"\n",
            "\n",
            "Score: 0.07334913313388824\t \n",
            "Topic: 0.027*\"court\" + 0.015*\"law\" + 0.012*\"rule\" + 0.011*\"case\" + 0.010*\"state\" + 0.010*\"judg\" + 0.009*\"justic\" + 0.009*\"right\" + 0.009*\"suprem\" + 0.008*\"feder\"\n",
            "\n",
            "Score: 0.06897629052400589\t \n",
            "Topic: 0.022*\"hous\" + 0.019*\"republican\" + 0.017*\"north\" + 0.015*\"senat\" + 0.015*\"korea\" + 0.012*\"ryan\" + 0.009*\"presid\" + 0.009*\"democrat\" + 0.009*\"congress\" + 0.008*\"bill\"\n",
            "\n",
            "Score: 0.062184739857912064\t \n",
            "Topic: 0.018*\"china\" + 0.013*\"russia\" + 0.013*\"russian\" + 0.010*\"bank\" + 0.010*\"putin\" + 0.008*\"chines\" + 0.008*\"govern\" + 0.006*\"presid\" + 0.005*\"report\" + 0.005*\"foreign\"\n",
            "\n",
            "Score: 0.03959514573216438\t \n",
            "Topic: 0.029*\"trump\" + 0.017*\"republican\" + 0.014*\"vote\" + 0.014*\"democrat\" + 0.014*\"clinton\" + 0.012*\"campaign\" + 0.012*\"elect\" + 0.012*\"voter\" + 0.011*\"parti\" + 0.010*\"state\"\n",
            "\n",
            "Score: 0.03377780318260193\t \n",
            "Topic: 0.031*\"trump\" + 0.020*\"white\" + 0.013*\"black\" + 0.013*\"presid\" + 0.010*\"american\" + 0.008*\"protest\" + 0.007*\"nation\" + 0.007*\"hous\" + 0.006*\"washington\" + 0.005*\"immigr\"\n",
            "\n",
            "Score: 0.030966825783252716\t \n",
            "Topic: 0.014*\"investig\" + 0.010*\"report\" + 0.010*\"offici\" + 0.010*\"depart\" + 0.008*\"fbi\" + 0.007*\"inform\" + 0.007*\"email\" + 0.007*\"trump\" + 0.007*\"comey\" + 0.006*\"intellig\"\n",
            "\n",
            "Score: 0.013114461675286293\t \n",
            "Topic: 0.013*\"game\" + 0.010*\"team\" + 0.008*\"play\" + 0.007*\"first\" + 0.007*\"player\" + 0.006*\"season\" + 0.005*\"two\" + 0.005*\"sport\" + 0.005*\"last\" + 0.005*\"win\"\n"
          ],
          "name": "stdout"
        }
      ]
    }
  ]
}