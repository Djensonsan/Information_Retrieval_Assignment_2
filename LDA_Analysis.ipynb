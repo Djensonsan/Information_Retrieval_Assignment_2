{
  "nbformat": 4,
  "nbformat_minor": 0,
  "metadata": {
    "colab": {
      "name": "LDA-Analysis.ipynb",
      "provenance": [],
      "toc_visible": true
    },
    "kernelspec": {
      "name": "python3",
      "display_name": "Python 3"
    }
  },
  "cells": [
    {
      "cell_type": "code",
      "metadata": {
        "id": "w04V4Fclbwp3"
      },
      "source": [
        "# Install your required packages here\r\n",
        "!pip install pandas numpy"
      ],
      "execution_count": null,
      "outputs": []
    },
    {
      "cell_type": "code",
      "metadata": {
        "id": "OLlGonAdb7yF"
      },
      "source": [
        "import pandas as pd\r\n",
        "import numpy as np"
      ],
      "execution_count": null,
      "outputs": []
    },
    {
      "cell_type": "code",
      "metadata": {
        "id": "3_jIAZf9cEiI"
      },
      "source": [
        "# Mount google drive in colab:\r\n",
        "from google.cloud import storage\r\n",
        "from google.colab import drive\r\n",
        "drive.mount('/content/drive')"
      ],
      "execution_count": null,
      "outputs": []
    },
    {
      "cell_type": "markdown",
      "metadata": {
        "id": "8RNESk8rkWYn"
      },
      "source": [
        "# Custom implementation"
      ]
    },
    {
      "cell_type": "markdown",
      "metadata": {
        "id": "qp38FB0fnGmj"
      },
      "source": [
        "Reading the top 10 words per topic into the dataframe for the custom implementation with 10 iterations. "
      ]
    },
    {
      "cell_type": "code",
      "metadata": {
        "id": "-vU3FzItcJpb"
      },
      "source": [
        "df10 = pd.read_csv('/content/drive/MyDrive/IR-Assignment-2/data/analysis_topics10.csv', index_col=0)\r\n",
        "print(df10)"
      ],
      "execution_count": null,
      "outputs": []
    },
    {
      "cell_type": "markdown",
      "metadata": {
        "id": "jeD-BZncnfW3"
      },
      "source": [
        "Reading the top 10 words per topic into the dataframe for the custom implementation with 50 iterations. "
      ]
    },
    {
      "cell_type": "code",
      "metadata": {
        "id": "nxrjgtt5AGJp"
      },
      "source": [
        "df50 = pd.read_csv('/content/drive/MyDrive/IR-Assignment-2/data/analysis_topics50.csv', index_col=0)\r\n",
        "print(df50)"
      ],
      "execution_count": null,
      "outputs": []
    },
    {
      "cell_type": "markdown",
      "metadata": {
        "id": "RNFGFM4tnnA6"
      },
      "source": [
        "Getting the topics that are most similar, and the amount of words that are the same in the top 10 of these topics."
      ]
    },
    {
      "cell_type": "code",
      "metadata": {
        "id": "1yD3BOLBCJiq"
      },
      "source": [
        "topicEquality = []\r\n",
        "\r\n",
        "for i in range(20):\r\n",
        "  temp = []\r\n",
        "  for j in range(20):\r\n",
        "    dfCompare = pd.DataFrame(columns=[\"topics\"])\r\n",
        "    col1 = df10[\"Topic \"+ str(i)].to_numpy()\r\n",
        "    col2 = df50[\"Topic \"+ str(j)].to_numpy()\r\n",
        "    concat = np.concatenate([col1, col2])\r\n",
        "    nodes, inv, counts = np.unique(concat, return_inverse=True, return_counts=True)\r\n",
        "    dup = np.count_nonzero(counts == 2)\r\n",
        "    temp.append(dup)\r\n",
        "  mVal = max(temp)\r\n",
        "  indx = temp.index(mVal)\r\n",
        "\r\n",
        "  topicEquality.append([indx, mVal])\r\n",
        "print(\"First topic: 10 iterations custom, Second topic: 50 iterations custom\\n\")\r\n",
        "for i in range(len(topicEquality)):\r\n",
        "  print('Topic {} is the most similar to topic {}, {} words in common'.format(i, topicEquality[i][0], topicEquality[i][1]))"
      ],
      "execution_count": null,
      "outputs": []
    },
    {
      "cell_type": "markdown",
      "metadata": {
        "id": "G3o0N3gRk3Zc"
      },
      "source": [
        "# Library implementation"
      ]
    },
    {
      "cell_type": "markdown",
      "metadata": {
        "id": "5FGTBJlan9vr"
      },
      "source": [
        "Reading the top 10 words per topic into the dataframe for the library implementation with 10 iterations. "
      ]
    },
    {
      "cell_type": "code",
      "metadata": {
        "id": "LWBSanwVg3pv"
      },
      "source": [
        "df10lib = pd.read_csv('/content/drive/MyDrive/IR-Assignment-2/data/analysis_topics_lib10.csv', index_col=0)\r\n",
        "print(df10lib)"
      ],
      "execution_count": null,
      "outputs": []
    },
    {
      "cell_type": "markdown",
      "metadata": {
        "id": "MgZBavOSoD0Q"
      },
      "source": [
        "Reading the top 10 words per topic into the dataframe for the library implementation with 2 iterations. "
      ]
    },
    {
      "cell_type": "code",
      "metadata": {
        "id": "1hBW5uOxhHdB"
      },
      "source": [
        "df2lib = pd.read_csv('/content/drive/MyDrive/IR-Assignment-2/data/analysis_topics_lib2.csv', index_col=0)\r\n",
        "print(df2lib)"
      ],
      "execution_count": null,
      "outputs": []
    },
    {
      "cell_type": "markdown",
      "metadata": {
        "id": "7NG-wo3Soh2m"
      },
      "source": [
        "Getting the topics that are most similar, and the amount of words that are the same in the top 10 of these topics."
      ]
    },
    {
      "cell_type": "code",
      "metadata": {
        "id": "QZT-S7yAjQqd"
      },
      "source": [
        "topicEquality = []\r\n",
        "\r\n",
        "for i in range(20):\r\n",
        "  temp = []\r\n",
        "  for j in range(20):\r\n",
        "    dfCompare = pd.DataFrame(columns=[\"topics\"])\r\n",
        "    col1 = df10lib[\"Topic \"+ str(i)].to_numpy()\r\n",
        "    col2 = df2lib[\"Topic \"+ str(j)].to_numpy()\r\n",
        "    concat = np.concatenate([col1, col2])\r\n",
        "    nodes, inv, counts = np.unique(concat, return_inverse=True, return_counts=True)\r\n",
        "    dup = np.count_nonzero(counts == 2)\r\n",
        "    temp.append(dup)\r\n",
        "  mVal = max(temp)\r\n",
        "  indx = temp.index(mVal)\r\n",
        "\r\n",
        "  topicEquality.append([indx, mVal])\r\n",
        "print(\"First topic: 10 iterations library, Second topic: 2 iterations library\\n\")\r\n",
        "for i in range(len(topicEquality)):\r\n",
        "  print('Topic {} is the most similar to topic {}, {} words in common'.format(i, topicEquality[i][0], topicEquality[i][1]))"
      ],
      "execution_count": null,
      "outputs": []
    },
    {
      "cell_type": "markdown",
      "metadata": {
        "id": "lsWrX5ABk_4B"
      },
      "source": [
        "# Custom - Library comparison"
      ]
    },
    {
      "cell_type": "markdown",
      "metadata": {
        "id": "PEST4GvIowrb"
      },
      "source": [
        "Comparing how similar the topics are between the custom and library implementation when the same amount of iterations is used."
      ]
    },
    {
      "cell_type": "code",
      "metadata": {
        "id": "_kENho7djm33"
      },
      "source": [
        "topicEquality = []\r\n",
        "\r\n",
        "for i in range(20):\r\n",
        "  temp = []\r\n",
        "  for j in range(20):\r\n",
        "    dfCompare = pd.DataFrame(columns=[\"topics\"])\r\n",
        "    col1 = df10lib[\"Topic \"+ str(i)].to_numpy()\r\n",
        "    col2 = df10[\"Topic \"+ str(j)].to_numpy()\r\n",
        "    concat = np.concatenate([col1, col2])\r\n",
        "    nodes, inv, counts = np.unique(concat, return_inverse=True, return_counts=True)\r\n",
        "    dup = np.count_nonzero(counts == 2)\r\n",
        "    temp.append(dup)\r\n",
        "  mVal = max(temp)\r\n",
        "  indx = temp.index(mVal)\r\n",
        "\r\n",
        "  topicEquality.append([indx, mVal])\r\n",
        "print(\"First topic: 10 iterations library, Second topic: 10 iterations custom\\n\")\r\n",
        "for i in range(len(topicEquality)):\r\n",
        "  print('Topic {} is the most similar to topic {}, {} words in common'.format(i, topicEquality[i][0], topicEquality[i][1]))"
      ],
      "execution_count": null,
      "outputs": []
    },
    {
      "cell_type": "markdown",
      "metadata": {
        "id": "FcdtSgNQpU8N"
      },
      "source": [
        "The previous results seemed okay. Now we check if maybe the custom implementation needs more iterations then the library implementation to get to the same or a more similar topic distribution."
      ]
    },
    {
      "cell_type": "code",
      "metadata": {
        "id": "dg7xm9qyj4FF"
      },
      "source": [
        "topicEquality = []\r\n",
        "\r\n",
        "for i in range(20):\r\n",
        "  temp = []\r\n",
        "  for j in range(20):\r\n",
        "    dfCompare = pd.DataFrame(columns=[\"topics\"])\r\n",
        "    col1 = df10lib[\"Topic \"+ str(i)].to_numpy()\r\n",
        "    col2 = df50[\"Topic \"+ str(j)].to_numpy()\r\n",
        "    concat = np.concatenate([col1, col2])\r\n",
        "    nodes, inv, counts = np.unique(concat, return_inverse=True, return_counts=True)\r\n",
        "    dup = np.count_nonzero(counts == 2)\r\n",
        "    temp.append(dup)\r\n",
        "  mVal = max(temp)\r\n",
        "  indx = temp.index(mVal)\r\n",
        "\r\n",
        "  topicEquality.append([indx, mVal])\r\n",
        "print(\"First topic: 10 iterations library, Second topic: 50 iterations custom\\n\")\r\n",
        "for i in range(len(topicEquality)):\r\n",
        "  print('Topic {} is the most similar to topic {}, {} words in common'.format(i, topicEquality[i][0], topicEquality[i][1]))"
      ],
      "execution_count": null,
      "outputs": []
    },
    {
      "cell_type": "markdown",
      "metadata": {
        "id": "NlHCVnRUp1St"
      },
      "source": [
        "Checking if 2 iterations for the library implementation approaches the results of the 10 iterations custom implementation."
      ]
    },
    {
      "cell_type": "code",
      "metadata": {
        "id": "mjXSLcrElP19"
      },
      "source": [
        "topicEquality = []\r\n",
        "\r\n",
        "for i in range(20):\r\n",
        "  temp = []\r\n",
        "  for j in range(20):\r\n",
        "    dfCompare = pd.DataFrame(columns=[\"topics\"])\r\n",
        "    col1 = df2lib[\"Topic \"+ str(i)].to_numpy()\r\n",
        "    col2 = df10[\"Topic \"+ str(j)].to_numpy()\r\n",
        "    concat = np.concatenate([col1, col2])\r\n",
        "    nodes, inv, counts = np.unique(concat, return_inverse=True, return_counts=True)\r\n",
        "    dup = np.count_nonzero(counts == 2)\r\n",
        "    temp.append(dup)\r\n",
        "  mVal = max(temp)\r\n",
        "  indx = temp.index(mVal)\r\n",
        "\r\n",
        "  topicEquality.append([indx, mVal])\r\n",
        "print(\"First topic: 2 iterations library, Second topic: 10 iterations custom\\n\")\r\n",
        "for i in range(len(topicEquality)):\r\n",
        "  print('Topic {} is the most similar to topic {}, {} words in common'.format(i, topicEquality[i][0], topicEquality[i][1]))"
      ],
      "execution_count": null,
      "outputs": []
    },
    {
      "cell_type": "markdown",
      "metadata": {
        "id": "GLmPX8BhqAxi"
      },
      "source": [
        "The amount of words in common are distributed pretty equally in the above.\r\n",
        "\r\n",
        "Let's"
      ]
    },
    {
      "cell_type": "code",
      "metadata": {
        "id": "cNupeKn3l0y3"
      },
      "source": [
        "topicEquality = []\r\n",
        "\r\n",
        "for i in range(20):\r\n",
        "  temp = []\r\n",
        "  for j in range(20):\r\n",
        "    dfCompare = pd.DataFrame(columns=[\"topics\"])\r\n",
        "    col1 = df2lib[\"Topic \"+ str(i)].to_numpy()\r\n",
        "    col2 = df50[\"Topic \"+ str(j)].to_numpy()\r\n",
        "    concat = np.concatenate([col1, col2])\r\n",
        "    nodes, inv, counts = np.unique(concat, return_inverse=True, return_counts=True)\r\n",
        "    dup = np.count_nonzero(counts == 2)\r\n",
        "    temp.append(dup)\r\n",
        "  mVal = max(temp)\r\n",
        "  indx = temp.index(mVal)\r\n",
        "\r\n",
        "  topicEquality.append([indx, mVal])\r\n",
        "print(\"First topic: 2 iterations library, Second topic: 50 iterations custom\\n\")\r\n",
        "for i in range(len(topicEquality)):\r\n",
        "  print('Topic {} is the most similar to topic {}, {} words in common'.format(i, topicEquality[i][0], topicEquality[i][1]))"
      ],
      "execution_count": null,
      "outputs": []
    }
  ]
}