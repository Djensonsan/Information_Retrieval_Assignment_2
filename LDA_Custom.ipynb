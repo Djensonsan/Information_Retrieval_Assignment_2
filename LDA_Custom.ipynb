{
  "nbformat": 4,
  "nbformat_minor": 0,
  "metadata": {
    "colab": {
      "name": "LDA-Custom.ipynb",
      "provenance": [],
      "toc_visible": true,
      "machine_shape": "hm",
      "include_colab_link": true
    },
    "kernelspec": {
      "name": "python3",
      "language": "python",
      "display_name": "Python 3"
    },
    "widgets": {
      "application/vnd.jupyter.widget-state+json": {
        "51009bc6ab7e41968b2d31877ca200b7": {
          "model_module": "@jupyter-widgets/controls",
          "model_name": "HBoxModel",
          "state": {
            "_view_name": "HBoxView",
            "_dom_classes": [],
            "_model_name": "HBoxModel",
            "_view_module": "@jupyter-widgets/controls",
            "_model_module_version": "1.5.0",
            "_view_count": null,
            "_view_module_version": "1.5.0",
            "box_style": "",
            "layout": "IPY_MODEL_20d21eefdd4d4dbc82770b9291d0ffcd",
            "_model_module": "@jupyter-widgets/controls",
            "children": [
              "IPY_MODEL_cf991bd7c24a42b3b4034ac4bc63d7d5",
              "IPY_MODEL_45264b820c7d4f86b4f026b2fafaaf85"
            ]
          }
        },
        "20d21eefdd4d4dbc82770b9291d0ffcd": {
          "model_module": "@jupyter-widgets/base",
          "model_name": "LayoutModel",
          "state": {
            "_view_name": "LayoutView",
            "grid_template_rows": null,
            "right": null,
            "justify_content": null,
            "_view_module": "@jupyter-widgets/base",
            "overflow": null,
            "_model_module_version": "1.2.0",
            "_view_count": null,
            "flex_flow": null,
            "width": null,
            "min_width": null,
            "border": null,
            "align_items": null,
            "bottom": null,
            "_model_module": "@jupyter-widgets/base",
            "top": null,
            "grid_column": null,
            "overflow_y": null,
            "overflow_x": null,
            "grid_auto_flow": null,
            "grid_area": null,
            "grid_template_columns": null,
            "flex": null,
            "_model_name": "LayoutModel",
            "justify_items": null,
            "grid_row": null,
            "max_height": null,
            "align_content": null,
            "visibility": null,
            "align_self": null,
            "height": null,
            "min_height": null,
            "padding": null,
            "grid_auto_rows": null,
            "grid_gap": null,
            "max_width": null,
            "order": null,
            "_view_module_version": "1.2.0",
            "grid_template_areas": null,
            "object_position": null,
            "object_fit": null,
            "grid_auto_columns": null,
            "margin": null,
            "display": null,
            "left": null
          }
        },
        "cf991bd7c24a42b3b4034ac4bc63d7d5": {
          "model_module": "@jupyter-widgets/controls",
          "model_name": "FloatProgressModel",
          "state": {
            "_view_name": "ProgressView",
            "style": "IPY_MODEL_a80de824d865494ebd72f4e146442e3b",
            "_dom_classes": [],
            "description": "100%",
            "_model_name": "FloatProgressModel",
            "bar_style": "success",
            "max": 141543,
            "_view_module": "@jupyter-widgets/controls",
            "_model_module_version": "1.5.0",
            "value": 141543,
            "_view_count": null,
            "_view_module_version": "1.5.0",
            "orientation": "horizontal",
            "min": 0,
            "description_tooltip": null,
            "_model_module": "@jupyter-widgets/controls",
            "layout": "IPY_MODEL_1f719b48ddea4328875b00f815de9a30"
          }
        },
        "45264b820c7d4f86b4f026b2fafaaf85": {
          "model_module": "@jupyter-widgets/controls",
          "model_name": "HTMLModel",
          "state": {
            "_view_name": "HTMLView",
            "style": "IPY_MODEL_239296179a0b47f3b789497bdcdb9aae",
            "_dom_classes": [],
            "description": "",
            "_model_name": "HTMLModel",
            "placeholder": "​",
            "_view_module": "@jupyter-widgets/controls",
            "_model_module_version": "1.5.0",
            "value": " 141543/141543 [02:03&lt;00:00, 1145.06it/s]",
            "_view_count": null,
            "_view_module_version": "1.5.0",
            "description_tooltip": null,
            "_model_module": "@jupyter-widgets/controls",
            "layout": "IPY_MODEL_75fd31692f68493fb780fc6bb9a15ed5"
          }
        },
        "a80de824d865494ebd72f4e146442e3b": {
          "model_module": "@jupyter-widgets/controls",
          "model_name": "ProgressStyleModel",
          "state": {
            "_view_name": "StyleView",
            "_model_name": "ProgressStyleModel",
            "description_width": "initial",
            "_view_module": "@jupyter-widgets/base",
            "_model_module_version": "1.5.0",
            "_view_count": null,
            "_view_module_version": "1.2.0",
            "bar_color": null,
            "_model_module": "@jupyter-widgets/controls"
          }
        },
        "1f719b48ddea4328875b00f815de9a30": {
          "model_module": "@jupyter-widgets/base",
          "model_name": "LayoutModel",
          "state": {
            "_view_name": "LayoutView",
            "grid_template_rows": null,
            "right": null,
            "justify_content": null,
            "_view_module": "@jupyter-widgets/base",
            "overflow": null,
            "_model_module_version": "1.2.0",
            "_view_count": null,
            "flex_flow": null,
            "width": null,
            "min_width": null,
            "border": null,
            "align_items": null,
            "bottom": null,
            "_model_module": "@jupyter-widgets/base",
            "top": null,
            "grid_column": null,
            "overflow_y": null,
            "overflow_x": null,
            "grid_auto_flow": null,
            "grid_area": null,
            "grid_template_columns": null,
            "flex": null,
            "_model_name": "LayoutModel",
            "justify_items": null,
            "grid_row": null,
            "max_height": null,
            "align_content": null,
            "visibility": null,
            "align_self": null,
            "height": null,
            "min_height": null,
            "padding": null,
            "grid_auto_rows": null,
            "grid_gap": null,
            "max_width": null,
            "order": null,
            "_view_module_version": "1.2.0",
            "grid_template_areas": null,
            "object_position": null,
            "object_fit": null,
            "grid_auto_columns": null,
            "margin": null,
            "display": null,
            "left": null
          }
        },
        "239296179a0b47f3b789497bdcdb9aae": {
          "model_module": "@jupyter-widgets/controls",
          "model_name": "DescriptionStyleModel",
          "state": {
            "_view_name": "StyleView",
            "_model_name": "DescriptionStyleModel",
            "description_width": "",
            "_view_module": "@jupyter-widgets/base",
            "_model_module_version": "1.5.0",
            "_view_count": null,
            "_view_module_version": "1.2.0",
            "_model_module": "@jupyter-widgets/controls"
          }
        },
        "75fd31692f68493fb780fc6bb9a15ed5": {
          "model_module": "@jupyter-widgets/base",
          "model_name": "LayoutModel",
          "state": {
            "_view_name": "LayoutView",
            "grid_template_rows": null,
            "right": null,
            "justify_content": null,
            "_view_module": "@jupyter-widgets/base",
            "overflow": null,
            "_model_module_version": "1.2.0",
            "_view_count": null,
            "flex_flow": null,
            "width": null,
            "min_width": null,
            "border": null,
            "align_items": null,
            "bottom": null,
            "_model_module": "@jupyter-widgets/base",
            "top": null,
            "grid_column": null,
            "overflow_y": null,
            "overflow_x": null,
            "grid_auto_flow": null,
            "grid_area": null,
            "grid_template_columns": null,
            "flex": null,
            "_model_name": "LayoutModel",
            "justify_items": null,
            "grid_row": null,
            "max_height": null,
            "align_content": null,
            "visibility": null,
            "align_self": null,
            "height": null,
            "min_height": null,
            "padding": null,
            "grid_auto_rows": null,
            "grid_gap": null,
            "max_width": null,
            "order": null,
            "_view_module_version": "1.2.0",
            "grid_template_areas": null,
            "object_position": null,
            "object_fit": null,
            "grid_auto_columns": null,
            "margin": null,
            "display": null,
            "left": null
          }
        },
        "c2978e45f6b649acbbb8d35b1a476945": {
          "model_module": "@jupyter-widgets/controls",
          "model_name": "HBoxModel",
          "state": {
            "_view_name": "HBoxView",
            "_dom_classes": [],
            "_model_name": "HBoxModel",
            "_view_module": "@jupyter-widgets/controls",
            "_model_module_version": "1.5.0",
            "_view_count": null,
            "_view_module_version": "1.5.0",
            "box_style": "",
            "layout": "IPY_MODEL_d63b5bf520364adf83124e586a5c79b4",
            "_model_module": "@jupyter-widgets/controls",
            "children": [
              "IPY_MODEL_869369d3457e4cd2bd4eddbb2facce5e",
              "IPY_MODEL_1da511231c414df29f7f1a95ec89c772"
            ]
          }
        },
        "d63b5bf520364adf83124e586a5c79b4": {
          "model_module": "@jupyter-widgets/base",
          "model_name": "LayoutModel",
          "state": {
            "_view_name": "LayoutView",
            "grid_template_rows": null,
            "right": null,
            "justify_content": null,
            "_view_module": "@jupyter-widgets/base",
            "overflow": null,
            "_model_module_version": "1.2.0",
            "_view_count": null,
            "flex_flow": null,
            "width": null,
            "min_width": null,
            "border": null,
            "align_items": null,
            "bottom": null,
            "_model_module": "@jupyter-widgets/base",
            "top": null,
            "grid_column": null,
            "overflow_y": null,
            "overflow_x": null,
            "grid_auto_flow": null,
            "grid_area": null,
            "grid_template_columns": null,
            "flex": null,
            "_model_name": "LayoutModel",
            "justify_items": null,
            "grid_row": null,
            "max_height": null,
            "align_content": null,
            "visibility": null,
            "align_self": null,
            "height": null,
            "min_height": null,
            "padding": null,
            "grid_auto_rows": null,
            "grid_gap": null,
            "max_width": null,
            "order": null,
            "_view_module_version": "1.2.0",
            "grid_template_areas": null,
            "object_position": null,
            "object_fit": null,
            "grid_auto_columns": null,
            "margin": null,
            "display": null,
            "left": null
          }
        },
        "869369d3457e4cd2bd4eddbb2facce5e": {
          "model_module": "@jupyter-widgets/controls",
          "model_name": "FloatProgressModel",
          "state": {
            "_view_name": "ProgressView",
            "style": "IPY_MODEL_7398c91aa6424652bf73a79fb63f2837",
            "_dom_classes": [],
            "description": "Creating BOW: 100%",
            "_model_name": "FloatProgressModel",
            "bar_style": "success",
            "max": 141543,
            "_view_module": "@jupyter-widgets/controls",
            "_model_module_version": "1.5.0",
            "value": 141543,
            "_view_count": null,
            "_view_module_version": "1.5.0",
            "orientation": "horizontal",
            "min": 0,
            "description_tooltip": null,
            "_model_module": "@jupyter-widgets/controls",
            "layout": "IPY_MODEL_32fc31e7750346079721bf8ab558ff3a"
          }
        },
        "1da511231c414df29f7f1a95ec89c772": {
          "model_module": "@jupyter-widgets/controls",
          "model_name": "HTMLModel",
          "state": {
            "_view_name": "HTMLView",
            "style": "IPY_MODEL_df85eac02442464eba5812350239c697",
            "_dom_classes": [],
            "description": "",
            "_model_name": "HTMLModel",
            "placeholder": "​",
            "_view_module": "@jupyter-widgets/controls",
            "_model_module_version": "1.5.0",
            "value": " 141543/141543 [08:03&lt;00:00, 292.67it/s]",
            "_view_count": null,
            "_view_module_version": "1.5.0",
            "description_tooltip": null,
            "_model_module": "@jupyter-widgets/controls",
            "layout": "IPY_MODEL_609914a42d364ce69eb61a7f77dff131"
          }
        },
        "7398c91aa6424652bf73a79fb63f2837": {
          "model_module": "@jupyter-widgets/controls",
          "model_name": "ProgressStyleModel",
          "state": {
            "_view_name": "StyleView",
            "_model_name": "ProgressStyleModel",
            "description_width": "initial",
            "_view_module": "@jupyter-widgets/base",
            "_model_module_version": "1.5.0",
            "_view_count": null,
            "_view_module_version": "1.2.0",
            "bar_color": null,
            "_model_module": "@jupyter-widgets/controls"
          }
        },
        "32fc31e7750346079721bf8ab558ff3a": {
          "model_module": "@jupyter-widgets/base",
          "model_name": "LayoutModel",
          "state": {
            "_view_name": "LayoutView",
            "grid_template_rows": null,
            "right": null,
            "justify_content": null,
            "_view_module": "@jupyter-widgets/base",
            "overflow": null,
            "_model_module_version": "1.2.0",
            "_view_count": null,
            "flex_flow": null,
            "width": null,
            "min_width": null,
            "border": null,
            "align_items": null,
            "bottom": null,
            "_model_module": "@jupyter-widgets/base",
            "top": null,
            "grid_column": null,
            "overflow_y": null,
            "overflow_x": null,
            "grid_auto_flow": null,
            "grid_area": null,
            "grid_template_columns": null,
            "flex": null,
            "_model_name": "LayoutModel",
            "justify_items": null,
            "grid_row": null,
            "max_height": null,
            "align_content": null,
            "visibility": null,
            "align_self": null,
            "height": null,
            "min_height": null,
            "padding": null,
            "grid_auto_rows": null,
            "grid_gap": null,
            "max_width": null,
            "order": null,
            "_view_module_version": "1.2.0",
            "grid_template_areas": null,
            "object_position": null,
            "object_fit": null,
            "grid_auto_columns": null,
            "margin": null,
            "display": null,
            "left": null
          }
        },
        "df85eac02442464eba5812350239c697": {
          "model_module": "@jupyter-widgets/controls",
          "model_name": "DescriptionStyleModel",
          "state": {
            "_view_name": "StyleView",
            "_model_name": "DescriptionStyleModel",
            "description_width": "",
            "_view_module": "@jupyter-widgets/base",
            "_model_module_version": "1.5.0",
            "_view_count": null,
            "_view_module_version": "1.2.0",
            "_model_module": "@jupyter-widgets/controls"
          }
        },
        "609914a42d364ce69eb61a7f77dff131": {
          "model_module": "@jupyter-widgets/base",
          "model_name": "LayoutModel",
          "state": {
            "_view_name": "LayoutView",
            "grid_template_rows": null,
            "right": null,
            "justify_content": null,
            "_view_module": "@jupyter-widgets/base",
            "overflow": null,
            "_model_module_version": "1.2.0",
            "_view_count": null,
            "flex_flow": null,
            "width": null,
            "min_width": null,
            "border": null,
            "align_items": null,
            "bottom": null,
            "_model_module": "@jupyter-widgets/base",
            "top": null,
            "grid_column": null,
            "overflow_y": null,
            "overflow_x": null,
            "grid_auto_flow": null,
            "grid_area": null,
            "grid_template_columns": null,
            "flex": null,
            "_model_name": "LayoutModel",
            "justify_items": null,
            "grid_row": null,
            "max_height": null,
            "align_content": null,
            "visibility": null,
            "align_self": null,
            "height": null,
            "min_height": null,
            "padding": null,
            "grid_auto_rows": null,
            "grid_gap": null,
            "max_width": null,
            "order": null,
            "_view_module_version": "1.2.0",
            "grid_template_areas": null,
            "object_position": null,
            "object_fit": null,
            "grid_auto_columns": null,
            "margin": null,
            "display": null,
            "left": null
          }
        },
        "51b195590b524fd498c290e8250ab2be": {
          "model_module": "@jupyter-widgets/controls",
          "model_name": "HBoxModel",
          "state": {
            "_view_name": "HBoxView",
            "_dom_classes": [],
            "_model_name": "HBoxModel",
            "_view_module": "@jupyter-widgets/controls",
            "_model_module_version": "1.5.0",
            "_view_count": null,
            "_view_module_version": "1.5.0",
            "box_style": "",
            "layout": "IPY_MODEL_6c7c5b51734c46d4befb45dde73e6264",
            "_model_module": "@jupyter-widgets/controls",
            "children": [
              "IPY_MODEL_5ba485bb092046a6ab43be3234629587",
              "IPY_MODEL_29a51a522341477f9de5253f7a84ddc7"
            ]
          }
        },
        "6c7c5b51734c46d4befb45dde73e6264": {
          "model_module": "@jupyter-widgets/base",
          "model_name": "LayoutModel",
          "state": {
            "_view_name": "LayoutView",
            "grid_template_rows": null,
            "right": null,
            "justify_content": null,
            "_view_module": "@jupyter-widgets/base",
            "overflow": null,
            "_model_module_version": "1.2.0",
            "_view_count": null,
            "flex_flow": null,
            "width": null,
            "min_width": null,
            "border": null,
            "align_items": null,
            "bottom": null,
            "_model_module": "@jupyter-widgets/base",
            "top": null,
            "grid_column": null,
            "overflow_y": null,
            "overflow_x": null,
            "grid_auto_flow": null,
            "grid_area": null,
            "grid_template_columns": null,
            "flex": null,
            "_model_name": "LayoutModel",
            "justify_items": null,
            "grid_row": null,
            "max_height": null,
            "align_content": null,
            "visibility": null,
            "align_self": null,
            "height": null,
            "min_height": null,
            "padding": null,
            "grid_auto_rows": null,
            "grid_gap": null,
            "max_width": null,
            "order": null,
            "_view_module_version": "1.2.0",
            "grid_template_areas": null,
            "object_position": null,
            "object_fit": null,
            "grid_auto_columns": null,
            "margin": null,
            "display": null,
            "left": null
          }
        },
        "5ba485bb092046a6ab43be3234629587": {
          "model_module": "@jupyter-widgets/controls",
          "model_name": "FloatProgressModel",
          "state": {
            "_view_name": "ProgressView",
            "style": "IPY_MODEL_20cd574dc2ac412b8be407c2f31532b4",
            "_dom_classes": [],
            "description": "Encoding: 100%",
            "_model_name": "FloatProgressModel",
            "bar_style": "success",
            "max": 141543,
            "_view_module": "@jupyter-widgets/controls",
            "_model_module_version": "1.5.0",
            "value": 141543,
            "_view_count": null,
            "_view_module_version": "1.5.0",
            "orientation": "horizontal",
            "min": 0,
            "description_tooltip": null,
            "_model_module": "@jupyter-widgets/controls",
            "layout": "IPY_MODEL_a6c825333b4e4789affb8c106a870f21"
          }
        },
        "29a51a522341477f9de5253f7a84ddc7": {
          "model_module": "@jupyter-widgets/controls",
          "model_name": "HTMLModel",
          "state": {
            "_view_name": "HTMLView",
            "style": "IPY_MODEL_a64c3119bbc541268073a67d3c5b225d",
            "_dom_classes": [],
            "description": "",
            "_model_name": "HTMLModel",
            "placeholder": "​",
            "_view_module": "@jupyter-widgets/controls",
            "_model_module_version": "1.5.0",
            "value": " 141543/141543 [02:41&lt;00:00, 875.89it/s]",
            "_view_count": null,
            "_view_module_version": "1.5.0",
            "description_tooltip": null,
            "_model_module": "@jupyter-widgets/controls",
            "layout": "IPY_MODEL_7251e47a6e7543b3a9ec7d2d4d55a415"
          }
        },
        "20cd574dc2ac412b8be407c2f31532b4": {
          "model_module": "@jupyter-widgets/controls",
          "model_name": "ProgressStyleModel",
          "state": {
            "_view_name": "StyleView",
            "_model_name": "ProgressStyleModel",
            "description_width": "initial",
            "_view_module": "@jupyter-widgets/base",
            "_model_module_version": "1.5.0",
            "_view_count": null,
            "_view_module_version": "1.2.0",
            "bar_color": null,
            "_model_module": "@jupyter-widgets/controls"
          }
        },
        "a6c825333b4e4789affb8c106a870f21": {
          "model_module": "@jupyter-widgets/base",
          "model_name": "LayoutModel",
          "state": {
            "_view_name": "LayoutView",
            "grid_template_rows": null,
            "right": null,
            "justify_content": null,
            "_view_module": "@jupyter-widgets/base",
            "overflow": null,
            "_model_module_version": "1.2.0",
            "_view_count": null,
            "flex_flow": null,
            "width": null,
            "min_width": null,
            "border": null,
            "align_items": null,
            "bottom": null,
            "_model_module": "@jupyter-widgets/base",
            "top": null,
            "grid_column": null,
            "overflow_y": null,
            "overflow_x": null,
            "grid_auto_flow": null,
            "grid_area": null,
            "grid_template_columns": null,
            "flex": null,
            "_model_name": "LayoutModel",
            "justify_items": null,
            "grid_row": null,
            "max_height": null,
            "align_content": null,
            "visibility": null,
            "align_self": null,
            "height": null,
            "min_height": null,
            "padding": null,
            "grid_auto_rows": null,
            "grid_gap": null,
            "max_width": null,
            "order": null,
            "_view_module_version": "1.2.0",
            "grid_template_areas": null,
            "object_position": null,
            "object_fit": null,
            "grid_auto_columns": null,
            "margin": null,
            "display": null,
            "left": null
          }
        },
        "a64c3119bbc541268073a67d3c5b225d": {
          "model_module": "@jupyter-widgets/controls",
          "model_name": "DescriptionStyleModel",
          "state": {
            "_view_name": "StyleView",
            "_model_name": "DescriptionStyleModel",
            "description_width": "",
            "_view_module": "@jupyter-widgets/base",
            "_model_module_version": "1.5.0",
            "_view_count": null,
            "_view_module_version": "1.2.0",
            "_model_module": "@jupyter-widgets/controls"
          }
        },
        "7251e47a6e7543b3a9ec7d2d4d55a415": {
          "model_module": "@jupyter-widgets/base",
          "model_name": "LayoutModel",
          "state": {
            "_view_name": "LayoutView",
            "grid_template_rows": null,
            "right": null,
            "justify_content": null,
            "_view_module": "@jupyter-widgets/base",
            "overflow": null,
            "_model_module_version": "1.2.0",
            "_view_count": null,
            "flex_flow": null,
            "width": null,
            "min_width": null,
            "border": null,
            "align_items": null,
            "bottom": null,
            "_model_module": "@jupyter-widgets/base",
            "top": null,
            "grid_column": null,
            "overflow_y": null,
            "overflow_x": null,
            "grid_auto_flow": null,
            "grid_area": null,
            "grid_template_columns": null,
            "flex": null,
            "_model_name": "LayoutModel",
            "justify_items": null,
            "grid_row": null,
            "max_height": null,
            "align_content": null,
            "visibility": null,
            "align_self": null,
            "height": null,
            "min_height": null,
            "padding": null,
            "grid_auto_rows": null,
            "grid_gap": null,
            "max_width": null,
            "order": null,
            "_view_module_version": "1.2.0",
            "grid_template_areas": null,
            "object_position": null,
            "object_fit": null,
            "grid_auto_columns": null,
            "margin": null,
            "display": null,
            "left": null
          }
        },
        "1912e671fac444839963ad41a650374b": {
          "model_module": "@jupyter-widgets/controls",
          "model_name": "HBoxModel",
          "state": {
            "_view_name": "HBoxView",
            "_dom_classes": [],
            "_model_name": "HBoxModel",
            "_view_module": "@jupyter-widgets/controls",
            "_model_module_version": "1.5.0",
            "_view_count": null,
            "_view_module_version": "1.5.0",
            "box_style": "",
            "layout": "IPY_MODEL_a3dc9b3a20af4a21aa9dfb62681afed3",
            "_model_module": "@jupyter-widgets/controls",
            "children": [
              "IPY_MODEL_b802f94dd881418597f42c88da504ffb",
              "IPY_MODEL_64618be9605347afb938d57e6199d869"
            ]
          }
        },
        "a3dc9b3a20af4a21aa9dfb62681afed3": {
          "model_module": "@jupyter-widgets/base",
          "model_name": "LayoutModel",
          "state": {
            "_view_name": "LayoutView",
            "grid_template_rows": null,
            "right": null,
            "justify_content": null,
            "_view_module": "@jupyter-widgets/base",
            "overflow": null,
            "_model_module_version": "1.2.0",
            "_view_count": null,
            "flex_flow": null,
            "width": null,
            "min_width": null,
            "border": null,
            "align_items": null,
            "bottom": null,
            "_model_module": "@jupyter-widgets/base",
            "top": null,
            "grid_column": null,
            "overflow_y": null,
            "overflow_x": null,
            "grid_auto_flow": null,
            "grid_area": null,
            "grid_template_columns": null,
            "flex": null,
            "_model_name": "LayoutModel",
            "justify_items": null,
            "grid_row": null,
            "max_height": null,
            "align_content": null,
            "visibility": null,
            "align_self": null,
            "height": null,
            "min_height": null,
            "padding": null,
            "grid_auto_rows": null,
            "grid_gap": null,
            "max_width": null,
            "order": null,
            "_view_module_version": "1.2.0",
            "grid_template_areas": null,
            "object_position": null,
            "object_fit": null,
            "grid_auto_columns": null,
            "margin": null,
            "display": null,
            "left": null
          }
        },
        "b802f94dd881418597f42c88da504ffb": {
          "model_module": "@jupyter-widgets/controls",
          "model_name": "FloatProgressModel",
          "state": {
            "_view_name": "ProgressView",
            "style": "IPY_MODEL_33e3206e57704bf2aaa48a19db41989c",
            "_dom_classes": [],
            "description": "Decoding: 100%",
            "_model_name": "FloatProgressModel",
            "bar_style": "success",
            "max": 141543,
            "_view_module": "@jupyter-widgets/controls",
            "_model_module_version": "1.5.0",
            "value": 141543,
            "_view_count": null,
            "_view_module_version": "1.5.0",
            "orientation": "horizontal",
            "min": 0,
            "description_tooltip": null,
            "_model_module": "@jupyter-widgets/controls",
            "layout": "IPY_MODEL_3cd1191fc7714885a5423c6a175a5e1f"
          }
        },
        "64618be9605347afb938d57e6199d869": {
          "model_module": "@jupyter-widgets/controls",
          "model_name": "HTMLModel",
          "state": {
            "_view_name": "HTMLView",
            "style": "IPY_MODEL_3cc6dff2dcbf4399aa7f6979bb458ad8",
            "_dom_classes": [],
            "description": "",
            "_model_name": "HTMLModel",
            "placeholder": "​",
            "_view_module": "@jupyter-widgets/controls",
            "_model_module_version": "1.5.0",
            "value": " 141543/141543 [01:40&lt;00:00, 1415.26it/s]",
            "_view_count": null,
            "_view_module_version": "1.5.0",
            "description_tooltip": null,
            "_model_module": "@jupyter-widgets/controls",
            "layout": "IPY_MODEL_5db795c50ca448319560af5bc88818d7"
          }
        },
        "33e3206e57704bf2aaa48a19db41989c": {
          "model_module": "@jupyter-widgets/controls",
          "model_name": "ProgressStyleModel",
          "state": {
            "_view_name": "StyleView",
            "_model_name": "ProgressStyleModel",
            "description_width": "initial",
            "_view_module": "@jupyter-widgets/base",
            "_model_module_version": "1.5.0",
            "_view_count": null,
            "_view_module_version": "1.2.0",
            "bar_color": null,
            "_model_module": "@jupyter-widgets/controls"
          }
        },
        "3cd1191fc7714885a5423c6a175a5e1f": {
          "model_module": "@jupyter-widgets/base",
          "model_name": "LayoutModel",
          "state": {
            "_view_name": "LayoutView",
            "grid_template_rows": null,
            "right": null,
            "justify_content": null,
            "_view_module": "@jupyter-widgets/base",
            "overflow": null,
            "_model_module_version": "1.2.0",
            "_view_count": null,
            "flex_flow": null,
            "width": null,
            "min_width": null,
            "border": null,
            "align_items": null,
            "bottom": null,
            "_model_module": "@jupyter-widgets/base",
            "top": null,
            "grid_column": null,
            "overflow_y": null,
            "overflow_x": null,
            "grid_auto_flow": null,
            "grid_area": null,
            "grid_template_columns": null,
            "flex": null,
            "_model_name": "LayoutModel",
            "justify_items": null,
            "grid_row": null,
            "max_height": null,
            "align_content": null,
            "visibility": null,
            "align_self": null,
            "height": null,
            "min_height": null,
            "padding": null,
            "grid_auto_rows": null,
            "grid_gap": null,
            "max_width": null,
            "order": null,
            "_view_module_version": "1.2.0",
            "grid_template_areas": null,
            "object_position": null,
            "object_fit": null,
            "grid_auto_columns": null,
            "margin": null,
            "display": null,
            "left": null
          }
        },
        "3cc6dff2dcbf4399aa7f6979bb458ad8": {
          "model_module": "@jupyter-widgets/controls",
          "model_name": "DescriptionStyleModel",
          "state": {
            "_view_name": "StyleView",
            "_model_name": "DescriptionStyleModel",
            "description_width": "",
            "_view_module": "@jupyter-widgets/base",
            "_model_module_version": "1.5.0",
            "_view_count": null,
            "_view_module_version": "1.2.0",
            "_model_module": "@jupyter-widgets/controls"
          }
        },
        "5db795c50ca448319560af5bc88818d7": {
          "model_module": "@jupyter-widgets/base",
          "model_name": "LayoutModel",
          "state": {
            "_view_name": "LayoutView",
            "grid_template_rows": null,
            "right": null,
            "justify_content": null,
            "_view_module": "@jupyter-widgets/base",
            "overflow": null,
            "_model_module_version": "1.2.0",
            "_view_count": null,
            "flex_flow": null,
            "width": null,
            "min_width": null,
            "border": null,
            "align_items": null,
            "bottom": null,
            "_model_module": "@jupyter-widgets/base",
            "top": null,
            "grid_column": null,
            "overflow_y": null,
            "overflow_x": null,
            "grid_auto_flow": null,
            "grid_area": null,
            "grid_template_columns": null,
            "flex": null,
            "_model_name": "LayoutModel",
            "justify_items": null,
            "grid_row": null,
            "max_height": null,
            "align_content": null,
            "visibility": null,
            "align_self": null,
            "height": null,
            "min_height": null,
            "padding": null,
            "grid_auto_rows": null,
            "grid_gap": null,
            "max_width": null,
            "order": null,
            "_view_module_version": "1.2.0",
            "grid_template_areas": null,
            "object_position": null,
            "object_fit": null,
            "grid_auto_columns": null,
            "margin": null,
            "display": null,
            "left": null
          }
        },
        "8e44d86f6b364c14836a676e727a19ef": {
          "model_module": "@jupyter-widgets/controls",
          "model_name": "HBoxModel",
          "state": {
            "_view_name": "HBoxView",
            "_dom_classes": [],
            "_model_name": "HBoxModel",
            "_view_module": "@jupyter-widgets/controls",
            "_model_module_version": "1.5.0",
            "_view_count": null,
            "_view_module_version": "1.5.0",
            "box_style": "",
            "layout": "IPY_MODEL_66f2d441a65146b5bd81744788a078b5",
            "_model_module": "@jupyter-widgets/controls",
            "children": [
              "IPY_MODEL_135d9b12e05c48fb942a4e582ca73597",
              "IPY_MODEL_ef25f515a21445cfbb81b4106cf67e9c"
            ]
          }
        },
        "66f2d441a65146b5bd81744788a078b5": {
          "model_module": "@jupyter-widgets/base",
          "model_name": "LayoutModel",
          "state": {
            "_view_name": "LayoutView",
            "grid_template_rows": null,
            "right": null,
            "justify_content": null,
            "_view_module": "@jupyter-widgets/base",
            "overflow": null,
            "_model_module_version": "1.2.0",
            "_view_count": null,
            "flex_flow": null,
            "width": null,
            "min_width": null,
            "border": null,
            "align_items": null,
            "bottom": null,
            "_model_module": "@jupyter-widgets/base",
            "top": null,
            "grid_column": null,
            "overflow_y": null,
            "overflow_x": null,
            "grid_auto_flow": null,
            "grid_area": null,
            "grid_template_columns": null,
            "flex": null,
            "_model_name": "LayoutModel",
            "justify_items": null,
            "grid_row": null,
            "max_height": null,
            "align_content": null,
            "visibility": null,
            "align_self": null,
            "height": null,
            "min_height": null,
            "padding": null,
            "grid_auto_rows": null,
            "grid_gap": null,
            "max_width": null,
            "order": null,
            "_view_module_version": "1.2.0",
            "grid_template_areas": null,
            "object_position": null,
            "object_fit": null,
            "grid_auto_columns": null,
            "margin": null,
            "display": null,
            "left": null
          }
        },
        "135d9b12e05c48fb942a4e582ca73597": {
          "model_module": "@jupyter-widgets/controls",
          "model_name": "FloatProgressModel",
          "state": {
            "_view_name": "ProgressView",
            "style": "IPY_MODEL_cf052787c080432bada7f945877083ef",
            "_dom_classes": [],
            "description": "Creating Freq. Dict: 100%",
            "_model_name": "FloatProgressModel",
            "bar_style": "success",
            "max": 141543,
            "_view_module": "@jupyter-widgets/controls",
            "_model_module_version": "1.5.0",
            "value": 141543,
            "_view_count": null,
            "_view_module_version": "1.5.0",
            "orientation": "horizontal",
            "min": 0,
            "description_tooltip": null,
            "_model_module": "@jupyter-widgets/controls",
            "layout": "IPY_MODEL_1b33cd1988654bbbbe50cb8d8dac6b78"
          }
        },
        "ef25f515a21445cfbb81b4106cf67e9c": {
          "model_module": "@jupyter-widgets/controls",
          "model_name": "HTMLModel",
          "state": {
            "_view_name": "HTMLView",
            "style": "IPY_MODEL_f2c8a0660af54ed2832e820cee13fd75",
            "_dom_classes": [],
            "description": "",
            "_model_name": "HTMLModel",
            "placeholder": "​",
            "_view_module": "@jupyter-widgets/controls",
            "_model_module_version": "1.5.0",
            "value": " 141543/141543 [02:16&lt;00:00, 1037.74it/s]",
            "_view_count": null,
            "_view_module_version": "1.5.0",
            "description_tooltip": null,
            "_model_module": "@jupyter-widgets/controls",
            "layout": "IPY_MODEL_ec30c36b6f334eab8acee4c6aa99640a"
          }
        },
        "cf052787c080432bada7f945877083ef": {
          "model_module": "@jupyter-widgets/controls",
          "model_name": "ProgressStyleModel",
          "state": {
            "_view_name": "StyleView",
            "_model_name": "ProgressStyleModel",
            "description_width": "initial",
            "_view_module": "@jupyter-widgets/base",
            "_model_module_version": "1.5.0",
            "_view_count": null,
            "_view_module_version": "1.2.0",
            "bar_color": null,
            "_model_module": "@jupyter-widgets/controls"
          }
        },
        "1b33cd1988654bbbbe50cb8d8dac6b78": {
          "model_module": "@jupyter-widgets/base",
          "model_name": "LayoutModel",
          "state": {
            "_view_name": "LayoutView",
            "grid_template_rows": null,
            "right": null,
            "justify_content": null,
            "_view_module": "@jupyter-widgets/base",
            "overflow": null,
            "_model_module_version": "1.2.0",
            "_view_count": null,
            "flex_flow": null,
            "width": null,
            "min_width": null,
            "border": null,
            "align_items": null,
            "bottom": null,
            "_model_module": "@jupyter-widgets/base",
            "top": null,
            "grid_column": null,
            "overflow_y": null,
            "overflow_x": null,
            "grid_auto_flow": null,
            "grid_area": null,
            "grid_template_columns": null,
            "flex": null,
            "_model_name": "LayoutModel",
            "justify_items": null,
            "grid_row": null,
            "max_height": null,
            "align_content": null,
            "visibility": null,
            "align_self": null,
            "height": null,
            "min_height": null,
            "padding": null,
            "grid_auto_rows": null,
            "grid_gap": null,
            "max_width": null,
            "order": null,
            "_view_module_version": "1.2.0",
            "grid_template_areas": null,
            "object_position": null,
            "object_fit": null,
            "grid_auto_columns": null,
            "margin": null,
            "display": null,
            "left": null
          }
        },
        "f2c8a0660af54ed2832e820cee13fd75": {
          "model_module": "@jupyter-widgets/controls",
          "model_name": "DescriptionStyleModel",
          "state": {
            "_view_name": "StyleView",
            "_model_name": "DescriptionStyleModel",
            "description_width": "",
            "_view_module": "@jupyter-widgets/base",
            "_model_module_version": "1.5.0",
            "_view_count": null,
            "_view_module_version": "1.2.0",
            "_model_module": "@jupyter-widgets/controls"
          }
        },
        "ec30c36b6f334eab8acee4c6aa99640a": {
          "model_module": "@jupyter-widgets/base",
          "model_name": "LayoutModel",
          "state": {
            "_view_name": "LayoutView",
            "grid_template_rows": null,
            "right": null,
            "justify_content": null,
            "_view_module": "@jupyter-widgets/base",
            "overflow": null,
            "_model_module_version": "1.2.0",
            "_view_count": null,
            "flex_flow": null,
            "width": null,
            "min_width": null,
            "border": null,
            "align_items": null,
            "bottom": null,
            "_model_module": "@jupyter-widgets/base",
            "top": null,
            "grid_column": null,
            "overflow_y": null,
            "overflow_x": null,
            "grid_auto_flow": null,
            "grid_area": null,
            "grid_template_columns": null,
            "flex": null,
            "_model_name": "LayoutModel",
            "justify_items": null,
            "grid_row": null,
            "max_height": null,
            "align_content": null,
            "visibility": null,
            "align_self": null,
            "height": null,
            "min_height": null,
            "padding": null,
            "grid_auto_rows": null,
            "grid_gap": null,
            "max_width": null,
            "order": null,
            "_view_module_version": "1.2.0",
            "grid_template_areas": null,
            "object_position": null,
            "object_fit": null,
            "grid_auto_columns": null,
            "margin": null,
            "display": null,
            "left": null
          }
        },
        "a6fa65bc693e489e8d48238f761e7526": {
          "model_module": "@jupyter-widgets/controls",
          "model_name": "HBoxModel",
          "state": {
            "_view_name": "HBoxView",
            "_dom_classes": [],
            "_model_name": "HBoxModel",
            "_view_module": "@jupyter-widgets/controls",
            "_model_module_version": "1.5.0",
            "_view_count": null,
            "_view_module_version": "1.5.0",
            "box_style": "",
            "layout": "IPY_MODEL_6be8fbd7bcb84cecb526672b9e862455",
            "_model_module": "@jupyter-widgets/controls",
            "children": [
              "IPY_MODEL_40210a0ec5a143b6a60b0f7f6d13dd53",
              "IPY_MODEL_1ba6a008f64c4632a683e71cce2017a5"
            ]
          }
        },
        "6be8fbd7bcb84cecb526672b9e862455": {
          "model_module": "@jupyter-widgets/base",
          "model_name": "LayoutModel",
          "state": {
            "_view_name": "LayoutView",
            "grid_template_rows": null,
            "right": null,
            "justify_content": null,
            "_view_module": "@jupyter-widgets/base",
            "overflow": null,
            "_model_module_version": "1.2.0",
            "_view_count": null,
            "flex_flow": null,
            "width": null,
            "min_width": null,
            "border": null,
            "align_items": null,
            "bottom": null,
            "_model_module": "@jupyter-widgets/base",
            "top": null,
            "grid_column": null,
            "overflow_y": null,
            "overflow_x": null,
            "grid_auto_flow": null,
            "grid_area": null,
            "grid_template_columns": null,
            "flex": null,
            "_model_name": "LayoutModel",
            "justify_items": null,
            "grid_row": null,
            "max_height": null,
            "align_content": null,
            "visibility": null,
            "align_self": null,
            "height": null,
            "min_height": null,
            "padding": null,
            "grid_auto_rows": null,
            "grid_gap": null,
            "max_width": null,
            "order": null,
            "_view_module_version": "1.2.0",
            "grid_template_areas": null,
            "object_position": null,
            "object_fit": null,
            "grid_auto_columns": null,
            "margin": null,
            "display": null,
            "left": null
          }
        },
        "40210a0ec5a143b6a60b0f7f6d13dd53": {
          "model_module": "@jupyter-widgets/controls",
          "model_name": "FloatProgressModel",
          "state": {
            "_view_name": "ProgressView",
            "style": "IPY_MODEL_76b0084dd4434aa1a9c446f37ea01672",
            "_dom_classes": [],
            "description": "Creating BOW: 100%",
            "_model_name": "FloatProgressModel",
            "bar_style": "success",
            "max": 141543,
            "_view_module": "@jupyter-widgets/controls",
            "_model_module_version": "1.5.0",
            "value": 141543,
            "_view_count": null,
            "_view_module_version": "1.5.0",
            "orientation": "horizontal",
            "min": 0,
            "description_tooltip": null,
            "_model_module": "@jupyter-widgets/controls",
            "layout": "IPY_MODEL_e4116369c3e547aa947221865858013d"
          }
        },
        "1ba6a008f64c4632a683e71cce2017a5": {
          "model_module": "@jupyter-widgets/controls",
          "model_name": "HTMLModel",
          "state": {
            "_view_name": "HTMLView",
            "style": "IPY_MODEL_f8329333ac33456b84a7b4767ae9c804",
            "_dom_classes": [],
            "description": "",
            "_model_name": "HTMLModel",
            "placeholder": "​",
            "_view_module": "@jupyter-widgets/controls",
            "_model_module_version": "1.5.0",
            "value": " 141543/141543 [03:12&lt;00:00, 736.69it/s]",
            "_view_count": null,
            "_view_module_version": "1.5.0",
            "description_tooltip": null,
            "_model_module": "@jupyter-widgets/controls",
            "layout": "IPY_MODEL_c357e3dcd46d4c678ddc44cffee9d28b"
          }
        },
        "76b0084dd4434aa1a9c446f37ea01672": {
          "model_module": "@jupyter-widgets/controls",
          "model_name": "ProgressStyleModel",
          "state": {
            "_view_name": "StyleView",
            "_model_name": "ProgressStyleModel",
            "description_width": "initial",
            "_view_module": "@jupyter-widgets/base",
            "_model_module_version": "1.5.0",
            "_view_count": null,
            "_view_module_version": "1.2.0",
            "bar_color": null,
            "_model_module": "@jupyter-widgets/controls"
          }
        },
        "e4116369c3e547aa947221865858013d": {
          "model_module": "@jupyter-widgets/base",
          "model_name": "LayoutModel",
          "state": {
            "_view_name": "LayoutView",
            "grid_template_rows": null,
            "right": null,
            "justify_content": null,
            "_view_module": "@jupyter-widgets/base",
            "overflow": null,
            "_model_module_version": "1.2.0",
            "_view_count": null,
            "flex_flow": null,
            "width": null,
            "min_width": null,
            "border": null,
            "align_items": null,
            "bottom": null,
            "_model_module": "@jupyter-widgets/base",
            "top": null,
            "grid_column": null,
            "overflow_y": null,
            "overflow_x": null,
            "grid_auto_flow": null,
            "grid_area": null,
            "grid_template_columns": null,
            "flex": null,
            "_model_name": "LayoutModel",
            "justify_items": null,
            "grid_row": null,
            "max_height": null,
            "align_content": null,
            "visibility": null,
            "align_self": null,
            "height": null,
            "min_height": null,
            "padding": null,
            "grid_auto_rows": null,
            "grid_gap": null,
            "max_width": null,
            "order": null,
            "_view_module_version": "1.2.0",
            "grid_template_areas": null,
            "object_position": null,
            "object_fit": null,
            "grid_auto_columns": null,
            "margin": null,
            "display": null,
            "left": null
          }
        },
        "f8329333ac33456b84a7b4767ae9c804": {
          "model_module": "@jupyter-widgets/controls",
          "model_name": "DescriptionStyleModel",
          "state": {
            "_view_name": "StyleView",
            "_model_name": "DescriptionStyleModel",
            "description_width": "",
            "_view_module": "@jupyter-widgets/base",
            "_model_module_version": "1.5.0",
            "_view_count": null,
            "_view_module_version": "1.2.0",
            "_model_module": "@jupyter-widgets/controls"
          }
        },
        "c357e3dcd46d4c678ddc44cffee9d28b": {
          "model_module": "@jupyter-widgets/base",
          "model_name": "LayoutModel",
          "state": {
            "_view_name": "LayoutView",
            "grid_template_rows": null,
            "right": null,
            "justify_content": null,
            "_view_module": "@jupyter-widgets/base",
            "overflow": null,
            "_model_module_version": "1.2.0",
            "_view_count": null,
            "flex_flow": null,
            "width": null,
            "min_width": null,
            "border": null,
            "align_items": null,
            "bottom": null,
            "_model_module": "@jupyter-widgets/base",
            "top": null,
            "grid_column": null,
            "overflow_y": null,
            "overflow_x": null,
            "grid_auto_flow": null,
            "grid_area": null,
            "grid_template_columns": null,
            "flex": null,
            "_model_name": "LayoutModel",
            "justify_items": null,
            "grid_row": null,
            "max_height": null,
            "align_content": null,
            "visibility": null,
            "align_self": null,
            "height": null,
            "min_height": null,
            "padding": null,
            "grid_auto_rows": null,
            "grid_gap": null,
            "max_width": null,
            "order": null,
            "_view_module_version": "1.2.0",
            "grid_template_areas": null,
            "object_position": null,
            "object_fit": null,
            "grid_auto_columns": null,
            "margin": null,
            "display": null,
            "left": null
          }
        },
        "5a55b5f6bb4d46bab4833a6d6c32e31f": {
          "model_module": "@jupyter-widgets/controls",
          "model_name": "HBoxModel",
          "state": {
            "_view_name": "HBoxView",
            "_dom_classes": [],
            "_model_name": "HBoxModel",
            "_view_module": "@jupyter-widgets/controls",
            "_model_module_version": "1.5.0",
            "_view_count": null,
            "_view_module_version": "1.5.0",
            "box_style": "",
            "layout": "IPY_MODEL_82a6bebe3ddf4797ae8197f796fcb406",
            "_model_module": "@jupyter-widgets/controls",
            "children": [
              "IPY_MODEL_c9040a3ab3e14a7f938b9da4af68f947",
              "IPY_MODEL_58331d7782324e378334fc3db938727b"
            ]
          }
        },
        "82a6bebe3ddf4797ae8197f796fcb406": {
          "model_module": "@jupyter-widgets/base",
          "model_name": "LayoutModel",
          "state": {
            "_view_name": "LayoutView",
            "grid_template_rows": null,
            "right": null,
            "justify_content": null,
            "_view_module": "@jupyter-widgets/base",
            "overflow": null,
            "_model_module_version": "1.2.0",
            "_view_count": null,
            "flex_flow": null,
            "width": null,
            "min_width": null,
            "border": null,
            "align_items": null,
            "bottom": null,
            "_model_module": "@jupyter-widgets/base",
            "top": null,
            "grid_column": null,
            "overflow_y": null,
            "overflow_x": null,
            "grid_auto_flow": null,
            "grid_area": null,
            "grid_template_columns": null,
            "flex": null,
            "_model_name": "LayoutModel",
            "justify_items": null,
            "grid_row": null,
            "max_height": null,
            "align_content": null,
            "visibility": null,
            "align_self": null,
            "height": null,
            "min_height": null,
            "padding": null,
            "grid_auto_rows": null,
            "grid_gap": null,
            "max_width": null,
            "order": null,
            "_view_module_version": "1.2.0",
            "grid_template_areas": null,
            "object_position": null,
            "object_fit": null,
            "grid_auto_columns": null,
            "margin": null,
            "display": null,
            "left": null
          }
        },
        "c9040a3ab3e14a7f938b9da4af68f947": {
          "model_module": "@jupyter-widgets/controls",
          "model_name": "FloatProgressModel",
          "state": {
            "_view_name": "ProgressView",
            "style": "IPY_MODEL_0158a6c0d4a8469db4be0a3beb906d58",
            "_dom_classes": [],
            "description": "Encoding: 100%",
            "_model_name": "FloatProgressModel",
            "bar_style": "success",
            "max": 141543,
            "_view_module": "@jupyter-widgets/controls",
            "_model_module_version": "1.5.0",
            "value": 141543,
            "_view_count": null,
            "_view_module_version": "1.5.0",
            "orientation": "horizontal",
            "min": 0,
            "description_tooltip": null,
            "_model_module": "@jupyter-widgets/controls",
            "layout": "IPY_MODEL_608b6f71527e4d9db7033d38a80d5314"
          }
        },
        "58331d7782324e378334fc3db938727b": {
          "model_module": "@jupyter-widgets/controls",
          "model_name": "HTMLModel",
          "state": {
            "_view_name": "HTMLView",
            "style": "IPY_MODEL_32c2ead1bc1342ad951e4f0321b2d6ba",
            "_dom_classes": [],
            "description": "",
            "_model_name": "HTMLModel",
            "placeholder": "​",
            "_view_module": "@jupyter-widgets/controls",
            "_model_module_version": "1.5.0",
            "value": " 141543/141543 [00:17&lt;00:00, 8212.93it/s]",
            "_view_count": null,
            "_view_module_version": "1.5.0",
            "description_tooltip": null,
            "_model_module": "@jupyter-widgets/controls",
            "layout": "IPY_MODEL_1b67d9e2acc14a2e8699505e5382abd6"
          }
        },
        "0158a6c0d4a8469db4be0a3beb906d58": {
          "model_module": "@jupyter-widgets/controls",
          "model_name": "ProgressStyleModel",
          "state": {
            "_view_name": "StyleView",
            "_model_name": "ProgressStyleModel",
            "description_width": "initial",
            "_view_module": "@jupyter-widgets/base",
            "_model_module_version": "1.5.0",
            "_view_count": null,
            "_view_module_version": "1.2.0",
            "bar_color": null,
            "_model_module": "@jupyter-widgets/controls"
          }
        },
        "608b6f71527e4d9db7033d38a80d5314": {
          "model_module": "@jupyter-widgets/base",
          "model_name": "LayoutModel",
          "state": {
            "_view_name": "LayoutView",
            "grid_template_rows": null,
            "right": null,
            "justify_content": null,
            "_view_module": "@jupyter-widgets/base",
            "overflow": null,
            "_model_module_version": "1.2.0",
            "_view_count": null,
            "flex_flow": null,
            "width": null,
            "min_width": null,
            "border": null,
            "align_items": null,
            "bottom": null,
            "_model_module": "@jupyter-widgets/base",
            "top": null,
            "grid_column": null,
            "overflow_y": null,
            "overflow_x": null,
            "grid_auto_flow": null,
            "grid_area": null,
            "grid_template_columns": null,
            "flex": null,
            "_model_name": "LayoutModel",
            "justify_items": null,
            "grid_row": null,
            "max_height": null,
            "align_content": null,
            "visibility": null,
            "align_self": null,
            "height": null,
            "min_height": null,
            "padding": null,
            "grid_auto_rows": null,
            "grid_gap": null,
            "max_width": null,
            "order": null,
            "_view_module_version": "1.2.0",
            "grid_template_areas": null,
            "object_position": null,
            "object_fit": null,
            "grid_auto_columns": null,
            "margin": null,
            "display": null,
            "left": null
          }
        },
        "32c2ead1bc1342ad951e4f0321b2d6ba": {
          "model_module": "@jupyter-widgets/controls",
          "model_name": "DescriptionStyleModel",
          "state": {
            "_view_name": "StyleView",
            "_model_name": "DescriptionStyleModel",
            "description_width": "",
            "_view_module": "@jupyter-widgets/base",
            "_model_module_version": "1.5.0",
            "_view_count": null,
            "_view_module_version": "1.2.0",
            "_model_module": "@jupyter-widgets/controls"
          }
        },
        "1b67d9e2acc14a2e8699505e5382abd6": {
          "model_module": "@jupyter-widgets/base",
          "model_name": "LayoutModel",
          "state": {
            "_view_name": "LayoutView",
            "grid_template_rows": null,
            "right": null,
            "justify_content": null,
            "_view_module": "@jupyter-widgets/base",
            "overflow": null,
            "_model_module_version": "1.2.0",
            "_view_count": null,
            "flex_flow": null,
            "width": null,
            "min_width": null,
            "border": null,
            "align_items": null,
            "bottom": null,
            "_model_module": "@jupyter-widgets/base",
            "top": null,
            "grid_column": null,
            "overflow_y": null,
            "overflow_x": null,
            "grid_auto_flow": null,
            "grid_area": null,
            "grid_template_columns": null,
            "flex": null,
            "_model_name": "LayoutModel",
            "justify_items": null,
            "grid_row": null,
            "max_height": null,
            "align_content": null,
            "visibility": null,
            "align_self": null,
            "height": null,
            "min_height": null,
            "padding": null,
            "grid_auto_rows": null,
            "grid_gap": null,
            "max_width": null,
            "order": null,
            "_view_module_version": "1.2.0",
            "grid_template_areas": null,
            "object_position": null,
            "object_fit": null,
            "grid_auto_columns": null,
            "margin": null,
            "display": null,
            "left": null
          }
        },
        "534def9f6dbf4c829433e587e4fb44b9": {
          "model_module": "@jupyter-widgets/controls",
          "model_name": "HBoxModel",
          "state": {
            "_view_name": "HBoxView",
            "_dom_classes": [],
            "_model_name": "HBoxModel",
            "_view_module": "@jupyter-widgets/controls",
            "_model_module_version": "1.5.0",
            "_view_count": null,
            "_view_module_version": "1.5.0",
            "box_style": "",
            "layout": "IPY_MODEL_d5404e5de1994b76b1dcb4dffb1fcb09",
            "_model_module": "@jupyter-widgets/controls",
            "children": [
              "IPY_MODEL_3ef1ffbcf03641e7915829e9e0dfbe91",
              "IPY_MODEL_5f8b44c52ed84dc390b0d7c834683d82"
            ]
          }
        },
        "d5404e5de1994b76b1dcb4dffb1fcb09": {
          "model_module": "@jupyter-widgets/base",
          "model_name": "LayoutModel",
          "state": {
            "_view_name": "LayoutView",
            "grid_template_rows": null,
            "right": null,
            "justify_content": null,
            "_view_module": "@jupyter-widgets/base",
            "overflow": null,
            "_model_module_version": "1.2.0",
            "_view_count": null,
            "flex_flow": null,
            "width": null,
            "min_width": null,
            "border": null,
            "align_items": null,
            "bottom": null,
            "_model_module": "@jupyter-widgets/base",
            "top": null,
            "grid_column": null,
            "overflow_y": null,
            "overflow_x": null,
            "grid_auto_flow": null,
            "grid_area": null,
            "grid_template_columns": null,
            "flex": null,
            "_model_name": "LayoutModel",
            "justify_items": null,
            "grid_row": null,
            "max_height": null,
            "align_content": null,
            "visibility": null,
            "align_self": null,
            "height": null,
            "min_height": null,
            "padding": null,
            "grid_auto_rows": null,
            "grid_gap": null,
            "max_width": null,
            "order": null,
            "_view_module_version": "1.2.0",
            "grid_template_areas": null,
            "object_position": null,
            "object_fit": null,
            "grid_auto_columns": null,
            "margin": null,
            "display": null,
            "left": null
          }
        },
        "3ef1ffbcf03641e7915829e9e0dfbe91": {
          "model_module": "@jupyter-widgets/controls",
          "model_name": "FloatProgressModel",
          "state": {
            "_view_name": "ProgressView",
            "style": "IPY_MODEL_c648f6f4c4cf4a7fa44ee28de91a431b",
            "_dom_classes": [],
            "description": "Initializing: 100%",
            "_model_name": "FloatProgressModel",
            "bar_style": "success",
            "max": 141543,
            "_view_module": "@jupyter-widgets/controls",
            "_model_module_version": "1.5.0",
            "value": 141543,
            "_view_count": null,
            "_view_module_version": "1.5.0",
            "orientation": "horizontal",
            "min": 0,
            "description_tooltip": null,
            "_model_module": "@jupyter-widgets/controls",
            "layout": "IPY_MODEL_f1cc0c76d2374b65a18d37d5f5228d08"
          }
        },
        "5f8b44c52ed84dc390b0d7c834683d82": {
          "model_module": "@jupyter-widgets/controls",
          "model_name": "HTMLModel",
          "state": {
            "_view_name": "HTMLView",
            "style": "IPY_MODEL_0d2e0fcb61eb4c808d13bc4ae0c4af38",
            "_dom_classes": [],
            "description": "",
            "_model_name": "HTMLModel",
            "placeholder": "​",
            "_view_module": "@jupyter-widgets/controls",
            "_model_module_version": "1.5.0",
            "value": " 141543/141543 [02:10&lt;00:00, 1088.32it/s]",
            "_view_count": null,
            "_view_module_version": "1.5.0",
            "description_tooltip": null,
            "_model_module": "@jupyter-widgets/controls",
            "layout": "IPY_MODEL_2c83e256a6bf4ebaa9795b603e88c2ff"
          }
        },
        "c648f6f4c4cf4a7fa44ee28de91a431b": {
          "model_module": "@jupyter-widgets/controls",
          "model_name": "ProgressStyleModel",
          "state": {
            "_view_name": "StyleView",
            "_model_name": "ProgressStyleModel",
            "description_width": "initial",
            "_view_module": "@jupyter-widgets/base",
            "_model_module_version": "1.5.0",
            "_view_count": null,
            "_view_module_version": "1.2.0",
            "bar_color": null,
            "_model_module": "@jupyter-widgets/controls"
          }
        },
        "f1cc0c76d2374b65a18d37d5f5228d08": {
          "model_module": "@jupyter-widgets/base",
          "model_name": "LayoutModel",
          "state": {
            "_view_name": "LayoutView",
            "grid_template_rows": null,
            "right": null,
            "justify_content": null,
            "_view_module": "@jupyter-widgets/base",
            "overflow": null,
            "_model_module_version": "1.2.0",
            "_view_count": null,
            "flex_flow": null,
            "width": null,
            "min_width": null,
            "border": null,
            "align_items": null,
            "bottom": null,
            "_model_module": "@jupyter-widgets/base",
            "top": null,
            "grid_column": null,
            "overflow_y": null,
            "overflow_x": null,
            "grid_auto_flow": null,
            "grid_area": null,
            "grid_template_columns": null,
            "flex": null,
            "_model_name": "LayoutModel",
            "justify_items": null,
            "grid_row": null,
            "max_height": null,
            "align_content": null,
            "visibility": null,
            "align_self": null,
            "height": null,
            "min_height": null,
            "padding": null,
            "grid_auto_rows": null,
            "grid_gap": null,
            "max_width": null,
            "order": null,
            "_view_module_version": "1.2.0",
            "grid_template_areas": null,
            "object_position": null,
            "object_fit": null,
            "grid_auto_columns": null,
            "margin": null,
            "display": null,
            "left": null
          }
        },
        "0d2e0fcb61eb4c808d13bc4ae0c4af38": {
          "model_module": "@jupyter-widgets/controls",
          "model_name": "DescriptionStyleModel",
          "state": {
            "_view_name": "StyleView",
            "_model_name": "DescriptionStyleModel",
            "description_width": "",
            "_view_module": "@jupyter-widgets/base",
            "_model_module_version": "1.5.0",
            "_view_count": null,
            "_view_module_version": "1.2.0",
            "_model_module": "@jupyter-widgets/controls"
          }
        },
        "2c83e256a6bf4ebaa9795b603e88c2ff": {
          "model_module": "@jupyter-widgets/base",
          "model_name": "LayoutModel",
          "state": {
            "_view_name": "LayoutView",
            "grid_template_rows": null,
            "right": null,
            "justify_content": null,
            "_view_module": "@jupyter-widgets/base",
            "overflow": null,
            "_model_module_version": "1.2.0",
            "_view_count": null,
            "flex_flow": null,
            "width": null,
            "min_width": null,
            "border": null,
            "align_items": null,
            "bottom": null,
            "_model_module": "@jupyter-widgets/base",
            "top": null,
            "grid_column": null,
            "overflow_y": null,
            "overflow_x": null,
            "grid_auto_flow": null,
            "grid_area": null,
            "grid_template_columns": null,
            "flex": null,
            "_model_name": "LayoutModel",
            "justify_items": null,
            "grid_row": null,
            "max_height": null,
            "align_content": null,
            "visibility": null,
            "align_self": null,
            "height": null,
            "min_height": null,
            "padding": null,
            "grid_auto_rows": null,
            "grid_gap": null,
            "max_width": null,
            "order": null,
            "_view_module_version": "1.2.0",
            "grid_template_areas": null,
            "object_position": null,
            "object_fit": null,
            "grid_auto_columns": null,
            "margin": null,
            "display": null,
            "left": null
          }
        },
        "432d6be2c6ff49d6a96ac8e397e6d018": {
          "model_module": "@jupyter-widgets/controls",
          "model_name": "HBoxModel",
          "state": {
            "_view_name": "HBoxView",
            "_dom_classes": [],
            "_model_name": "HBoxModel",
            "_view_module": "@jupyter-widgets/controls",
            "_model_module_version": "1.5.0",
            "_view_count": null,
            "_view_module_version": "1.5.0",
            "box_style": "",
            "layout": "IPY_MODEL_f85c7110d31f4f88a509f7f94b22939b",
            "_model_module": "@jupyter-widgets/controls",
            "children": [
              "IPY_MODEL_20f0f977d8404c00a0e31a045ce05b3d",
              "IPY_MODEL_ade253d82bf34d00a0222597c94c9552"
            ]
          }
        },
        "f85c7110d31f4f88a509f7f94b22939b": {
          "model_module": "@jupyter-widgets/base",
          "model_name": "LayoutModel",
          "state": {
            "_view_name": "LayoutView",
            "grid_template_rows": null,
            "right": null,
            "justify_content": null,
            "_view_module": "@jupyter-widgets/base",
            "overflow": null,
            "_model_module_version": "1.2.0",
            "_view_count": null,
            "flex_flow": null,
            "width": null,
            "min_width": null,
            "border": null,
            "align_items": null,
            "bottom": null,
            "_model_module": "@jupyter-widgets/base",
            "top": null,
            "grid_column": null,
            "overflow_y": null,
            "overflow_x": null,
            "grid_auto_flow": null,
            "grid_area": null,
            "grid_template_columns": null,
            "flex": null,
            "_model_name": "LayoutModel",
            "justify_items": null,
            "grid_row": null,
            "max_height": null,
            "align_content": null,
            "visibility": null,
            "align_self": null,
            "height": null,
            "min_height": null,
            "padding": null,
            "grid_auto_rows": null,
            "grid_gap": null,
            "max_width": null,
            "order": null,
            "_view_module_version": "1.2.0",
            "grid_template_areas": null,
            "object_position": null,
            "object_fit": null,
            "grid_auto_columns": null,
            "margin": null,
            "display": null,
            "left": null
          }
        },
        "20f0f977d8404c00a0e31a045ce05b3d": {
          "model_module": "@jupyter-widgets/controls",
          "model_name": "FloatProgressModel",
          "state": {
            "_view_name": "ProgressView",
            "style": "IPY_MODEL_91f18770e5a54e3cb4daaab83448b7b7",
            "_dom_classes": [],
            "description": "Optimizing:   0%",
            "_model_name": "FloatProgressModel",
            "bar_style": "",
            "max": 10,
            "_view_module": "@jupyter-widgets/controls",
            "_model_module_version": "1.5.0",
            "value": 0,
            "_view_count": null,
            "_view_module_version": "1.5.0",
            "orientation": "horizontal",
            "min": 0,
            "description_tooltip": null,
            "_model_module": "@jupyter-widgets/controls",
            "layout": "IPY_MODEL_878954b2086a464a9bbf363142cce266"
          }
        },
        "ade253d82bf34d00a0222597c94c9552": {
          "model_module": "@jupyter-widgets/controls",
          "model_name": "HTMLModel",
          "state": {
            "_view_name": "HTMLView",
            "style": "IPY_MODEL_66ad9e89a5e0462591bb8dcf0f204145",
            "_dom_classes": [],
            "description": "",
            "_model_name": "HTMLModel",
            "placeholder": "​",
            "_view_module": "@jupyter-widgets/controls",
            "_model_module_version": "1.5.0",
            "value": " 0/10 [00:00&lt;?, ?it/s]",
            "_view_count": null,
            "_view_module_version": "1.5.0",
            "description_tooltip": null,
            "_model_module": "@jupyter-widgets/controls",
            "layout": "IPY_MODEL_6f9dbb2c24b84844969225516d9a528f"
          }
        },
        "91f18770e5a54e3cb4daaab83448b7b7": {
          "model_module": "@jupyter-widgets/controls",
          "model_name": "ProgressStyleModel",
          "state": {
            "_view_name": "StyleView",
            "_model_name": "ProgressStyleModel",
            "description_width": "initial",
            "_view_module": "@jupyter-widgets/base",
            "_model_module_version": "1.5.0",
            "_view_count": null,
            "_view_module_version": "1.2.0",
            "bar_color": null,
            "_model_module": "@jupyter-widgets/controls"
          }
        },
        "878954b2086a464a9bbf363142cce266": {
          "model_module": "@jupyter-widgets/base",
          "model_name": "LayoutModel",
          "state": {
            "_view_name": "LayoutView",
            "grid_template_rows": null,
            "right": null,
            "justify_content": null,
            "_view_module": "@jupyter-widgets/base",
            "overflow": null,
            "_model_module_version": "1.2.0",
            "_view_count": null,
            "flex_flow": null,
            "width": null,
            "min_width": null,
            "border": null,
            "align_items": null,
            "bottom": null,
            "_model_module": "@jupyter-widgets/base",
            "top": null,
            "grid_column": null,
            "overflow_y": null,
            "overflow_x": null,
            "grid_auto_flow": null,
            "grid_area": null,
            "grid_template_columns": null,
            "flex": null,
            "_model_name": "LayoutModel",
            "justify_items": null,
            "grid_row": null,
            "max_height": null,
            "align_content": null,
            "visibility": null,
            "align_self": null,
            "height": null,
            "min_height": null,
            "padding": null,
            "grid_auto_rows": null,
            "grid_gap": null,
            "max_width": null,
            "order": null,
            "_view_module_version": "1.2.0",
            "grid_template_areas": null,
            "object_position": null,
            "object_fit": null,
            "grid_auto_columns": null,
            "margin": null,
            "display": null,
            "left": null
          }
        },
        "66ad9e89a5e0462591bb8dcf0f204145": {
          "model_module": "@jupyter-widgets/controls",
          "model_name": "DescriptionStyleModel",
          "state": {
            "_view_name": "StyleView",
            "_model_name": "DescriptionStyleModel",
            "description_width": "",
            "_view_module": "@jupyter-widgets/base",
            "_model_module_version": "1.5.0",
            "_view_count": null,
            "_view_module_version": "1.2.0",
            "_model_module": "@jupyter-widgets/controls"
          }
        },
        "6f9dbb2c24b84844969225516d9a528f": {
          "model_module": "@jupyter-widgets/base",
          "model_name": "LayoutModel",
          "state": {
            "_view_name": "LayoutView",
            "grid_template_rows": null,
            "right": null,
            "justify_content": null,
            "_view_module": "@jupyter-widgets/base",
            "overflow": null,
            "_model_module_version": "1.2.0",
            "_view_count": null,
            "flex_flow": null,
            "width": null,
            "min_width": null,
            "border": null,
            "align_items": null,
            "bottom": null,
            "_model_module": "@jupyter-widgets/base",
            "top": null,
            "grid_column": null,
            "overflow_y": null,
            "overflow_x": null,
            "grid_auto_flow": null,
            "grid_area": null,
            "grid_template_columns": null,
            "flex": null,
            "_model_name": "LayoutModel",
            "justify_items": null,
            "grid_row": null,
            "max_height": null,
            "align_content": null,
            "visibility": null,
            "align_self": null,
            "height": null,
            "min_height": null,
            "padding": null,
            "grid_auto_rows": null,
            "grid_gap": null,
            "max_width": null,
            "order": null,
            "_view_module_version": "1.2.0",
            "grid_template_areas": null,
            "object_position": null,
            "object_fit": null,
            "grid_auto_columns": null,
            "margin": null,
            "display": null,
            "left": null
          }
        }
      }
    }
  },
  "cells": [
    {
      "cell_type": "markdown",
      "metadata": {
        "id": "view-in-github",
        "colab_type": "text"
      },
      "source": [
        "<a href=\"https://colab.research.google.com/github/Djensonsan/Information_Retrieval_Assignment_2/blob/main/LDA_Custom.ipynb\" target=\"_parent\"><img src=\"https://colab.research.google.com/assets/colab-badge.svg\" alt=\"Open In Colab\"/></a>"
      ]
    },
    {
      "cell_type": "markdown",
      "metadata": {
        "collapsed": false,
        "id": "vf5bYq4wN46n"
      },
      "source": [
        "<a href=\"https://colab.research.google.com/github/Djensonsan/Information_Retrieval_Assignment_2/blob/main/LDA.ipynb\" target=\"_parent\"><img src=\"https://colab.research.google.com/assets/colab-badge.svg\" alt=\"Open In Colab\"/></a>"
      ]
    },
    {
      "cell_type": "markdown",
      "metadata": {
        "collapsed": false,
        "id": "qMMWBoxbN46n"
      },
      "source": [
        "# Information Retrieval Assignment 2: LDA-Custom\n"
      ]
    },
    {
      "cell_type": "markdown",
      "metadata": {
        "collapsed": false,
        "id": "O9fu0tr1N46o"
      },
      "source": [
        "## Runtime specs"
      ]
    },
    {
      "cell_type": "code",
      "metadata": {
        "pycharm": {
          "name": "#%%\n"
        },
        "id": "xpH_XPVeN46o"
      },
      "source": [
        "!cat /proc/cpuinfo"
      ],
      "execution_count": null,
      "outputs": []
    },
    {
      "cell_type": "code",
      "metadata": {
        "pycharm": {
          "name": "#%%\n"
        },
        "id": "wGOFWAXLN46o"
      },
      "source": [
        "!cat /proc/meminfo"
      ],
      "execution_count": null,
      "outputs": []
    },
    {
      "cell_type": "markdown",
      "metadata": {
        "collapsed": false,
        "id": "bfjROIeZN46p"
      },
      "source": [
        "## Imports"
      ]
    },
    {
      "cell_type": "code",
      "metadata": {
        "pycharm": {
          "name": "#%%\n"
        },
        "colab": {
          "base_uri": "https://localhost:8080/"
        },
        "id": "fgMmV5osN46p",
        "outputId": "d5cfd447-6559-4a33-9436-afcda85083b5"
      },
      "source": [
        "# Install your required packages here\n",
        "!pip install pandas numpy matplotlib fsspec gcsfs dask\n",
        "!pip install -q tqdm"
      ],
      "execution_count": 1,
      "outputs": [
        {
          "output_type": "stream",
          "text": [
            "Requirement already satisfied: pandas in /usr/local/lib/python3.6/dist-packages (1.1.4)\n",
            "Requirement already satisfied: numpy in /usr/local/lib/python3.6/dist-packages (1.18.5)\n",
            "Requirement already satisfied: matplotlib in /usr/local/lib/python3.6/dist-packages (3.2.2)\n",
            "Requirement already satisfied: fsspec in /usr/local/lib/python3.6/dist-packages (0.8.4)\n",
            "Requirement already satisfied: gcsfs in /usr/local/lib/python3.6/dist-packages (0.7.1)\n",
            "Requirement already satisfied: dask in /usr/local/lib/python3.6/dist-packages (2.12.0)\n",
            "Requirement already satisfied: pytz>=2017.2 in /usr/local/lib/python3.6/dist-packages (from pandas) (2018.9)\n",
            "Requirement already satisfied: python-dateutil>=2.7.3 in /usr/local/lib/python3.6/dist-packages (from pandas) (2.8.1)\n",
            "Requirement already satisfied: pyparsing!=2.0.4,!=2.1.2,!=2.1.6,>=2.0.1 in /usr/local/lib/python3.6/dist-packages (from matplotlib) (2.4.7)\n",
            "Requirement already satisfied: kiwisolver>=1.0.1 in /usr/local/lib/python3.6/dist-packages (from matplotlib) (1.3.1)\n",
            "Requirement already satisfied: cycler>=0.10 in /usr/local/lib/python3.6/dist-packages (from matplotlib) (0.10.0)\n",
            "Requirement already satisfied: google-auth-oauthlib in /usr/local/lib/python3.6/dist-packages (from gcsfs) (0.4.2)\n",
            "Requirement already satisfied: google-auth>=1.2 in /usr/local/lib/python3.6/dist-packages (from gcsfs) (1.17.2)\n",
            "Requirement already satisfied: decorator in /usr/local/lib/python3.6/dist-packages (from gcsfs) (4.4.2)\n",
            "Requirement already satisfied: aiohttp in /usr/local/lib/python3.6/dist-packages (from gcsfs) (3.7.3)\n",
            "Requirement already satisfied: requests in /usr/local/lib/python3.6/dist-packages (from gcsfs) (2.23.0)\n",
            "Requirement already satisfied: six>=1.5 in /usr/local/lib/python3.6/dist-packages (from python-dateutil>=2.7.3->pandas) (1.15.0)\n",
            "Requirement already satisfied: requests-oauthlib>=0.7.0 in /usr/local/lib/python3.6/dist-packages (from google-auth-oauthlib->gcsfs) (1.3.0)\n",
            "Requirement already satisfied: pyasn1-modules>=0.2.1 in /usr/local/lib/python3.6/dist-packages (from google-auth>=1.2->gcsfs) (0.2.8)\n",
            "Requirement already satisfied: cachetools<5.0,>=2.0.0 in /usr/local/lib/python3.6/dist-packages (from google-auth>=1.2->gcsfs) (4.1.1)\n",
            "Requirement already satisfied: setuptools>=40.3.0 in /usr/local/lib/python3.6/dist-packages (from google-auth>=1.2->gcsfs) (50.3.2)\n",
            "Requirement already satisfied: rsa<5,>=3.1.4; python_version >= \"3\" in /usr/local/lib/python3.6/dist-packages (from google-auth>=1.2->gcsfs) (4.6)\n",
            "Requirement already satisfied: chardet<4.0,>=2.0 in /usr/local/lib/python3.6/dist-packages (from aiohttp->gcsfs) (3.0.4)\n",
            "Requirement already satisfied: async-timeout<4.0,>=3.0 in /usr/local/lib/python3.6/dist-packages (from aiohttp->gcsfs) (3.0.1)\n",
            "Requirement already satisfied: idna-ssl>=1.0; python_version < \"3.7\" in /usr/local/lib/python3.6/dist-packages (from aiohttp->gcsfs) (1.1.0)\n",
            "Requirement already satisfied: attrs>=17.3.0 in /usr/local/lib/python3.6/dist-packages (from aiohttp->gcsfs) (20.3.0)\n",
            "Requirement already satisfied: multidict<7.0,>=4.5 in /usr/local/lib/python3.6/dist-packages (from aiohttp->gcsfs) (5.1.0)\n",
            "Requirement already satisfied: typing-extensions>=3.6.5 in /usr/local/lib/python3.6/dist-packages (from aiohttp->gcsfs) (3.7.4.3)\n",
            "Requirement already satisfied: yarl<2.0,>=1.0 in /usr/local/lib/python3.6/dist-packages (from aiohttp->gcsfs) (1.6.3)\n",
            "Requirement already satisfied: idna<3,>=2.5 in /usr/local/lib/python3.6/dist-packages (from requests->gcsfs) (2.10)\n",
            "Requirement already satisfied: certifi>=2017.4.17 in /usr/local/lib/python3.6/dist-packages (from requests->gcsfs) (2020.11.8)\n",
            "Requirement already satisfied: urllib3!=1.25.0,!=1.25.1,<1.26,>=1.21.1 in /usr/local/lib/python3.6/dist-packages (from requests->gcsfs) (1.24.3)\n",
            "Requirement already satisfied: oauthlib>=3.0.0 in /usr/local/lib/python3.6/dist-packages (from requests-oauthlib>=0.7.0->google-auth-oauthlib->gcsfs) (3.1.0)\n",
            "Requirement already satisfied: pyasn1<0.5.0,>=0.4.6 in /usr/local/lib/python3.6/dist-packages (from pyasn1-modules>=0.2.1->google-auth>=1.2->gcsfs) (0.4.8)\n"
          ],
          "name": "stdout"
        }
      ]
    },
    {
      "cell_type": "code",
      "metadata": {
        "pycharm": {
          "name": "#%%\n"
        },
        "colab": {
          "base_uri": "https://localhost:8080/"
        },
        "id": "9LGEB4QvN46p",
        "outputId": "31f234b0-f015-4d6c-dae3-8e89287a1639"
      },
      "source": [
        "import pandas as pd\n",
        "import numpy as np\n",
        "from tqdm.notebook import tqdm\n",
        "import dask.dataframe as dd\n",
        "from collections import OrderedDict\n",
        "import random\n",
        "from copy import deepcopy\n",
        "\n",
        "from ast import literal_eval\n",
        "import gensim\n",
        "from gensim import corpora, models\n",
        "from gensim.utils import simple_preprocess\n",
        "from gensim.parsing.preprocessing import STOPWORDS\n",
        "from nltk.stem import WordNetLemmatizer, SnowballStemmer\n",
        "from nltk.stem.porter import *\n",
        "from nltk.corpus import stopwords\n",
        "import nltk\n",
        "nltk.download('wordnet')\n",
        "nltk.download('punkt')\n",
        "nltk.download('stopwords')"
      ],
      "execution_count": 2,
      "outputs": [
        {
          "output_type": "stream",
          "text": [
            "[nltk_data] Downloading package wordnet to /root/nltk_data...\n",
            "[nltk_data]   Package wordnet is already up-to-date!\n",
            "[nltk_data] Downloading package punkt to /root/nltk_data...\n",
            "[nltk_data]   Package punkt is already up-to-date!\n",
            "[nltk_data] Downloading package stopwords to /root/nltk_data...\n",
            "[nltk_data]   Package stopwords is already up-to-date!\n"
          ],
          "name": "stdout"
        },
        {
          "output_type": "execute_result",
          "data": {
            "text/plain": [
              "True"
            ]
          },
          "metadata": {
            "tags": []
          },
          "execution_count": 2
        }
      ]
    },
    {
      "cell_type": "code",
      "metadata": {
        "pycharm": {
          "name": "#%%\n"
        },
        "colab": {
          "base_uri": "https://localhost:8080/"
        },
        "id": "9fY-mIsNN46p",
        "outputId": "f89b5711-60d1-4535-a6de-9dc382d1f9d4"
      },
      "source": [
        "# Mount google drive in colab:\n",
        "from google.cloud import storage\n",
        "from google.colab import drive\n",
        "drive.mount('/content/drive')"
      ],
      "execution_count": 3,
      "outputs": [
        {
          "output_type": "stream",
          "text": [
            "Drive already mounted at /content/drive; to attempt to forcibly remount, call drive.mount(\"/content/drive\", force_remount=True).\n"
          ],
          "name": "stdout"
        }
      ]
    },
    {
      "cell_type": "markdown",
      "metadata": {
        "collapsed": false,
        "id": "FYiHhR3FN46p"
      },
      "source": [
        "## Preprocessing"
      ]
    },
    {
      "cell_type": "code",
      "metadata": {
        "pycharm": {
          "name": "#%%\n"
        },
        "id": "YQxySzmeN46p"
      },
      "source": [
        "# Pycharm:\n",
        "# data = pd.read_csv('data/news_dataset.csv')"
      ],
      "execution_count": null,
      "outputs": []
    },
    {
      "cell_type": "code",
      "metadata": {
        "pycharm": {
          "name": "#%%\n"
        },
        "id": "BaygE6mrN46q"
      },
      "source": [
        "# Colab:\n",
        "data = pd.read_csv('/content/drive/MyDrive/IR-Assignment-2/data/news_dataset.csv')"
      ],
      "execution_count": 79,
      "outputs": []
    },
    {
      "cell_type": "markdown",
      "metadata": {
        "collapsed": false,
        "id": "5AFocwLeN46q"
      },
      "source": [
        "### Exploration"
      ]
    },
    {
      "cell_type": "code",
      "metadata": {
        "pycharm": {
          "name": "#%%\n"
        },
        "id": "ypqN2WARN46q"
      },
      "source": [
        "data.info()"
      ],
      "execution_count": null,
      "outputs": []
    },
    {
      "cell_type": "code",
      "metadata": {
        "pycharm": {
          "name": "#%%\n"
        },
        "id": "OHOBtnBBN46q"
      },
      "source": [
        "data.head(n=43)"
      ],
      "execution_count": null,
      "outputs": []
    },
    {
      "cell_type": "code",
      "metadata": {
        "pycharm": {
          "name": "#%%\n"
        },
        "id": "G3DwN5s-N46q"
      },
      "source": [
        "# Use document 42 as running example\n",
        "data.loc[42, 'content']"
      ],
      "execution_count": null,
      "outputs": []
    },
    {
      "cell_type": "markdown",
      "metadata": {
        "collapsed": false,
        "id": "5r2Dk6fJN46q"
      },
      "source": [
        "### Keep document content"
      ]
    },
    {
      "cell_type": "code",
      "metadata": {
        "pycharm": {
          "name": "#%%\n"
        },
        "id": "HCQzw6dYN46q"
      },
      "source": [
        "data_content = data['content']"
      ],
      "execution_count": null,
      "outputs": []
    },
    {
      "cell_type": "code",
      "metadata": {
        "pycharm": {
          "name": "#%%\n"
        },
        "id": "Tsu8WayxN46q"
      },
      "source": [
        "type(data_content)"
      ],
      "execution_count": null,
      "outputs": []
    },
    {
      "cell_type": "code",
      "metadata": {
        "pycharm": {
          "name": "#%%\n"
        },
        "id": "ZuKUMdK6N46q"
      },
      "source": [
        "data_content.head(n=3)"
      ],
      "execution_count": null,
      "outputs": []
    },
    {
      "cell_type": "markdown",
      "metadata": {
        "collapsed": false,
        "id": "TNW5LmQoN46q"
      },
      "source": [
        "### Tokenization, Stemming and Lemmatization"
      ]
    },
    {
      "cell_type": "code",
      "metadata": {
        "pycharm": {
          "name": "#%%\n"
        },
        "id": "ImLzJGmWN46q"
      },
      "source": [
        "tqdm.pandas()\n",
        "# Note Jens: Might want to use Dask to speed things up. \n",
        "# When using Dask can't use tqdm as far as I know."
      ],
      "execution_count": null,
      "outputs": []
    },
    {
      "cell_type": "code",
      "metadata": {
        "pycharm": {
          "name": "#%%\n"
        },
        "id": "gVFgiPnwN46q"
      },
      "source": [
        "# There's NaN values in the dataset\n",
        "data_content.dropna(inplace=True)"
      ],
      "execution_count": null,
      "outputs": []
    },
    {
      "cell_type": "code",
      "metadata": {
        "pycharm": {
          "name": "#%%\n"
        },
        "id": "kThYqBUaN46q"
      },
      "source": [
        "data_content.isna().any()"
      ],
      "execution_count": null,
      "outputs": []
    },
    {
      "cell_type": "code",
      "metadata": {
        "pycharm": {
          "name": "#%%\n"
        },
        "id": "YZntpdQCN46q"
      },
      "source": [
        "# Tokenization\n",
        "data_content_tokenized = data_content.progress_apply(lambda x: nltk.word_tokenize(x))"
      ],
      "execution_count": null,
      "outputs": []
    },
    {
      "cell_type": "code",
      "metadata": {
        "pycharm": {
          "name": "#%%\n"
        },
        "id": "SzoGvCgYN46q"
      },
      "source": [
        "# Remove words smaller than 3 characters\n",
        "data_content_tokenized = data_content_tokenized.progress_apply(lambda x: [y for y in x if len(y)>2])"
      ],
      "execution_count": null,
      "outputs": []
    },
    {
      "cell_type": "code",
      "metadata": {
        "pycharm": {
          "name": "#%%\n"
        },
        "id": "y1nWwyiiN46q"
      },
      "source": [
        "# Stemming and Lemmatization \n",
        "stemmer = SnowballStemmer(\"english\")\n",
        "data_content_stemmed = data_content_tokenized.progress_apply(lambda x: [stemmer.stem(WordNetLemmatizer().lemmatize(y)) for y in x])"
      ],
      "execution_count": null,
      "outputs": []
    },
    {
      "cell_type": "code",
      "metadata": {
        "pycharm": {
          "name": "#%%\n"
        },
        "id": "l31Lhd1MN46q"
      },
      "source": [
        "# Remove Stopswords\n",
        "stop_words = set(stopwords.words('english')) \n",
        "data_content_clean = data_content_stemmed.progress_apply(lambda x: [y for y in x if not y in stop_words])"
      ],
      "execution_count": null,
      "outputs": []
    },
    {
      "cell_type": "code",
      "metadata": {
        "pycharm": {
          "name": "#%%\n"
        },
        "id": "ro0vE3F0N46q"
      },
      "source": [
        "data_content_clean.head()"
      ],
      "execution_count": null,
      "outputs": []
    },
    {
      "cell_type": "code",
      "metadata": {
        "pycharm": {
          "name": "#%%\n"
        },
        "id": "F1u77zdEN46q"
      },
      "source": [
        "# data_content_clean contain the cleaned 'content' column of the news dataset:\n",
        "data_content_clean.to_csv('/content/drive/MyDrive/IR-Assignment-2/data/new_dataset_clean.csv')"
      ],
      "execution_count": null,
      "outputs": []
    },
    {
      "cell_type": "markdown",
      "metadata": {
        "collapsed": false,
        "id": "EAY68bAbN46q"
      },
      "source": [
        "# LDA"
      ]
    },
    {
      "cell_type": "markdown",
      "metadata": {
        "collapsed": false,
        "id": "VU-jCNOtN46q"
      },
      "source": [
        "The following part contains our custom LDA implementation."
      ]
    },
    {
      "cell_type": "code",
      "metadata": {
        "pycharm": {
          "name": "#%%\n"
        },
        "id": "nCpZ6PazN46q"
      },
      "source": [
        "data_content_clean = pd.read_csv('/content/drive/MyDrive/IR-Assignment-2/data/new_dataset_clean.csv')"
      ],
      "execution_count": 4,
      "outputs": []
    },
    {
      "cell_type": "code",
      "metadata": {
        "pycharm": {
          "name": "#%%\n"
        },
        "id": "vQOhcRfON46q"
      },
      "source": [
        "data_content_clean = data_content_clean['content']"
      ],
      "execution_count": 5,
      "outputs": []
    },
    {
      "cell_type": "code",
      "metadata": {
        "pycharm": {
          "name": "#%%\n"
        },
        "colab": {
          "base_uri": "https://localhost:8080/"
        },
        "id": "_Oxe_0gJN46q",
        "outputId": "4e3fe40f-0ecd-41c5-83fa-ef4694d886d4"
      },
      "source": [
        "data_content_clean.head()"
      ],
      "execution_count": 6,
      "outputs": [
        {
          "output_type": "execute_result",
          "data": {
            "text/plain": [
              "0    ['washington', 'congression', 'republican', 'n...\n",
              "1    ['bullet', 'shell', 'get', 'count', 'blood', '...\n",
              "2    ['walt', 'disney', 'bambi', 'open', '1942', 'c...\n",
              "3    ['death', 'may', 'great', 'equal', 'necessaril...\n",
              "4    ['seoul', 'south', 'korea', 'north', 'korea', ...\n",
              "Name: content, dtype: object"
            ]
          },
          "metadata": {
            "tags": []
          },
          "execution_count": 6
        }
      ]
    },
    {
      "cell_type": "markdown",
      "metadata": {
        "id": "L1rBvxK4-dGr"
      },
      "source": [
        "## Utility Functions"
      ]
    },
    {
      "cell_type": "markdown",
      "metadata": {
        "id": "XtTg2ph8RFLK"
      },
      "source": [
        "### Token Pre-processing Function"
      ]
    },
    {
      "cell_type": "code",
      "metadata": {
        "id": "kMZHk1NkOEh_"
      },
      "source": [
        "def get_freq_tokens(data, num_above=0, num_under=0, most_freq=0):\n",
        "  '''Will return in how many documents each token appears.\n",
        "  Args:\n",
        "    data (series): series object holding lists of tokens.\n",
        "    num_above (int): drop tokens who appear in less than num_above documents.\n",
        "    num_under (float): drop tokens who appear in more than num_under * amount of documents.\n",
        "    most_freq (int): return most_freq tokens.\n",
        "\n",
        "  Returns:\n",
        "    tokens_doc_freq (dict): dictionary with key = token and value = # documents token appears in.\n",
        "  '''\n",
        "  tokens_doc_freq = dict()\n",
        "  for row in tqdm(data, \"Creating Freq. Dict: \"):\n",
        "    doc_words = literal_eval(row)\n",
        "    doc_words = set(doc_words)\n",
        "    for word in doc_words:\n",
        "      if word in tokens_doc_freq:\n",
        "        tokens_doc_freq[word] += 1\n",
        "      else:\n",
        "        tokens_doc_freq[word] = 1\n",
        "  \n",
        "  if num_above and num_under:\n",
        "    number_of_documents = len(data)\n",
        "    tokens_doc_freq = {k: v for k,v in tokens_doc_freq.items() if v > num_above and v < number_of_documents*num_under}\n",
        "  elif num_above:\n",
        "    tokens_doc_freq = {k: v for k,v in tokens_doc_freq.items() if v > num_above}\n",
        "  elif num_under:\n",
        "    number_of_documents = len(data)\n",
        "    tokens_doc_freq = {k: v for k,v in tokens_doc_freq.items() if v < number_of_documents*num_under}\n",
        "  if sorted:\n",
        "    tokens_doc_freq = OrderedDict(sorted(tokens_doc_freq.items(), key=lambda x: x[1], reverse=True)[:most_freq])\n",
        "  return tokens_doc_freq"
      ],
      "execution_count": 57,
      "outputs": []
    },
    {
      "cell_type": "code",
      "metadata": {
        "colab": {
          "base_uri": "https://localhost:8080/",
          "height": 66,
          "referenced_widgets": [
            "51009bc6ab7e41968b2d31877ca200b7",
            "20d21eefdd4d4dbc82770b9291d0ffcd",
            "cf991bd7c24a42b3b4034ac4bc63d7d5",
            "45264b820c7d4f86b4f026b2fafaaf85",
            "a80de824d865494ebd72f4e146442e3b",
            "1f719b48ddea4328875b00f815de9a30",
            "239296179a0b47f3b789497bdcdb9aae",
            "75fd31692f68493fb780fc6bb9a15ed5"
          ]
        },
        "id": "Uz0-pV0kQQV4",
        "outputId": "edbed7b9-f9d5-4dd4-da97-0b8981cd92ee"
      },
      "source": [
        "tokens_doc_freq = get_freq_tokens(data_content_clean, num_above=15, num_under=0.5, most_freq=10000)"
      ],
      "execution_count": 8,
      "outputs": [
        {
          "output_type": "display_data",
          "data": {
            "application/vnd.jupyter.widget-view+json": {
              "model_id": "51009bc6ab7e41968b2d31877ca200b7",
              "version_minor": 0,
              "version_major": 2
            },
            "text/plain": [
              "HBox(children=(FloatProgress(value=0.0, max=141543.0), HTML(value='')))"
            ]
          },
          "metadata": {
            "tags": []
          }
        },
        {
          "output_type": "stream",
          "text": [
            "\n"
          ],
          "name": "stdout"
        }
      ]
    },
    {
      "cell_type": "code",
      "metadata": {
        "colab": {
          "base_uri": "https://localhost:8080/"
        },
        "id": "SxNDr3BQRzZ3",
        "outputId": "4b0add30-afa2-488d-e979-59f76690418a"
      },
      "source": [
        "tokens_doc_freq"
      ],
      "execution_count": 82,
      "outputs": [
        {
          "output_type": "execute_result",
          "data": {
            "text/plain": [
              "OrderedDict([('make', 69513),\n",
              "             ('state', 68353),\n",
              "             ('report', 65768),\n",
              "             ('first', 65478),\n",
              "             ('could', 64995),\n",
              "             ('last', 64716),\n",
              "             ('two', 64661),\n",
              "             ('even', 63514),\n",
              "             ('get', 62448),\n",
              "             ('becaus', 62138),\n",
              "             ('call', 60523),\n",
              "             ('presid', 60156),\n",
              "             ('onli', 59755),\n",
              "             ('take', 59489),\n",
              "             ('work', 58110),\n",
              "             ('day', 57906),\n",
              "             ('mani', 57322),\n",
              "             ('use', 56744),\n",
              "             ('befor', 56671),\n",
              "             ('includ', 56643),\n",
              "             ('come', 56539),\n",
              "             ('want', 54971),\n",
              "             ('way', 54460),\n",
              "             ('ani', 54266),\n",
              "             ('told', 53924),\n",
              "             ('trump', 53824),\n",
              "             ('back', 53543),\n",
              "             ('week', 52517),\n",
              "             ('nation', 52486),\n",
              "             ('go', 50920),\n",
              "             ('made', 50625),\n",
              "             ('show', 48960),\n",
              "             ('may', 48805),\n",
              "             ('think', 48741),\n",
              "             ('right', 48509),\n",
              "             ('look', 47652),\n",
              "             ('dure', 47579),\n",
              "             ('know', 47335),\n",
              "             ('much', 47192),\n",
              "             ('need', 47070),\n",
              "             ('accord', 46908),\n",
              "             ('see', 46808),\n",
              "             ('countri', 46773),\n",
              "             ('still', 46649),\n",
              "             ('american', 46625),\n",
              "             ('sinc', 46339),\n",
              "             ('part', 46308),\n",
              "             ('veri', 44814),\n",
              "             ('follow', 44603),\n",
              "             ('support', 44133),\n",
              "             ('help', 43781),\n",
              "             ('month', 43495),\n",
              "             ('well', 43480),\n",
              "             ('thing', 43015),\n",
              "             ('donald', 42472),\n",
              "             ('anoth', 42448),\n",
              "             ('tri', 42413),\n",
              "             ('ask', 42325),\n",
              "             ('news', 42033),\n",
              "             ('public', 41892),\n",
              "             ('world', 41385),\n",
              "             ('polit', 41231),\n",
              "             ('point', 40764),\n",
              "             ('hous', 40191),\n",
              "             ('govern', 40175),\n",
              "             ('end', 39921),\n",
              "             ('offic', 39905),\n",
              "             ('recent', 39346),\n",
              "             ('group', 39219),\n",
              "             ('around', 39150),\n",
              "             ('unit', 38612),\n",
              "             ('chang', 38035),\n",
              "             ('continu', 37766),\n",
              "             ('put', 37687),\n",
              "             ('issu', 37564),\n",
              "             ('three', 37385),\n",
              "             ('good', 37182),\n",
              "             ('place', 36886),\n",
              "             ('start', 36797),\n",
              "             ('former', 36644),\n",
              "             ('campaign', 36251),\n",
              "             ('offici', 36201),\n",
              "             ('life', 36140),\n",
              "             ('ad', 35653),\n",
              "             ('move', 35587),\n",
              "             ('person', 35237),\n",
              "             ('question', 34770),\n",
              "             ('long', 34744),\n",
              "             ('plan', 34312),\n",
              "             ('never', 34219),\n",
              "             ('million', 33967),\n",
              "             ('republican', 33570),\n",
              "             ('found', 33397),\n",
              "             ('give', 33339),\n",
              "             ('white', 33264),\n",
              "             ('turn', 33108),\n",
              "             ('case', 32979),\n",
              "             ('face', 32947),\n",
              "             ('might', 32760),\n",
              "             ('elect', 32735),\n",
              "             ('whether', 32595),\n",
              "             ('everi', 32588),\n",
              "             ('major', 32491),\n",
              "             ('washington', 32419),\n",
              "             ('next', 32372),\n",
              "             ('talk', 32310),\n",
              "             ('run', 32174),\n",
              "             ('seem', 32030),\n",
              "             ('becom', 32025),\n",
              "             ('whi', 32003),\n",
              "             ('differ', 31910),\n",
              "             ('near', 31811),\n",
              "             ('clear', 31679),\n",
              "             ('realli', 31434),\n",
              "             ('happen', 31334),\n",
              "             ('find', 31282),\n",
              "             ('mean', 31219),\n",
              "             ('member', 31160),\n",
              "             ('doe', 31158),\n",
              "             ('post', 31128),\n",
              "             ('appear', 31065),\n",
              "             ('sever', 31021),\n",
              "             ('live', 30957),\n",
              "             ('someth', 30926),\n",
              "             ('open', 30924),\n",
              "             ('law', 30860),\n",
              "             ('york', 30796),\n",
              "             ('without', 30732),\n",
              "             ('home', 30655),\n",
              "             ('democrat', 30585),\n",
              "             ('000', 30556),\n",
              "             ('set', 30546),\n",
              "             ('though', 30481),\n",
              "             ('forc', 30481),\n",
              "             ('number', 30460),\n",
              "             ('famili', 30113),\n",
              "             ('close', 29990),\n",
              "             ('believ', 29968),\n",
              "             ('secur', 29957),\n",
              "             ('citi', 29935),\n",
              "             ('later', 29934),\n",
              "             ('name', 29859),\n",
              "             ('took', 29707),\n",
              "             ('far', 29659),\n",
              "             ('statement', 29620),\n",
              "             ('lot', 29485),\n",
              "             ('woman', 29368),\n",
              "             ('power', 29364),\n",
              "             ('polici', 29176),\n",
              "             ('lead', 29149),\n",
              "             ('came', 29120),\n",
              "             ('keep', 29005),\n",
              "             ('among', 28794),\n",
              "             ('least', 28716),\n",
              "             ('past', 28672),\n",
              "             ('left', 28616),\n",
              "             ('high', 28603),\n",
              "             ('expect', 28584),\n",
              "             ('critic', 28318),\n",
              "             ('parti', 28306),\n",
              "             ('attack', 28196),\n",
              "             ('play', 28135),\n",
              "             ('tell', 28070),\n",
              "             ('obama', 28067),\n",
              "             ('littl', 28046),\n",
              "             ('america', 27959),\n",
              "             ('hope', 27792),\n",
              "             ('respons', 27694),\n",
              "             ('presidenti', 27691),\n",
              "             ('remain', 27685),\n",
              "             ('got', 27601),\n",
              "             ('great', 27524),\n",
              "             ('allow', 27510),\n",
              "             ('medium', 27498),\n",
              "             ('possibl', 27388),\n",
              "             ('fact', 27379),\n",
              "             ('compani', 27339),\n",
              "             ('import', 27288),\n",
              "             ('man', 27249),\n",
              "             ('leader', 27213),\n",
              "             ('alreadi', 27212),\n",
              "             ('2016', 27192),\n",
              "             ('general', 27100),\n",
              "             ('yet', 27054),\n",
              "             ('stori', 26906),\n",
              "             ('big', 26887),\n",
              "             ('away', 26853),\n",
              "             ('busi', 26843),\n",
              "             ('twitter', 26736),\n",
              "             ('claim', 26728),\n",
              "             ('le', 26625),\n",
              "             ('better', 26541),\n",
              "             ('percent', 26507),\n",
              "             ('administr', 26457),\n",
              "             ('meet', 26263),\n",
              "             ('provid', 26243),\n",
              "             ('relat', 26151),\n",
              "             ('second', 26125),\n",
              "             ('author', 26043),\n",
              "             ('feel', 25985),\n",
              "             ('act', 25948),\n",
              "             ('head', 25827),\n",
              "             ('releas', 25565),\n",
              "             ('note', 25519),\n",
              "             ('interest', 25341),\n",
              "             ('four', 25335),\n",
              "             ('order', 25292),\n",
              "             ('job', 25221),\n",
              "             ('suggest', 25216),\n",
              "             ('problem', 25191),\n",
              "             ('feder', 25154),\n",
              "             ('deal', 25116),\n",
              "             ('stop', 25111),\n",
              "             ('onc', 25008),\n",
              "             ('reason', 24986),\n",
              "             ('increas', 24851),\n",
              "             ('night', 24850),\n",
              "             ('best', 24839),\n",
              "             ('clinton', 24734),\n",
              "             ('vote', 24668),\n",
              "             ('read', 24639),\n",
              "             ('univers', 24589),\n",
              "             ('hand', 24509),\n",
              "             ('offer', 24458),\n",
              "             ('share', 24401),\n",
              "             ('actual', 24379),\n",
              "             ('comment', 24314),\n",
              "             ('wednesday', 24290),\n",
              "             ('result', 24208),\n",
              "             ('creat', 24190),\n",
              "             ('line', 24140),\n",
              "             ('larg', 24127),\n",
              "             ('depart', 24094),\n",
              "             ('let', 24062),\n",
              "             ('concern', 24059),\n",
              "             ('direct', 24051),\n",
              "             ('kind', 24049),\n",
              "             ('top', 24030),\n",
              "             ('went', 23961),\n",
              "             ('posit', 23877),\n",
              "             ('ago', 23821),\n",
              "             ('sign', 23814),\n",
              "             ('press', 23814),\n",
              "             ('seen', 23800),\n",
              "             ('hold', 23771),\n",
              "             ('matter', 23713),\n",
              "             ('howev', 23647),\n",
              "             ('hard', 23599),\n",
              "             ('today', 23530),\n",
              "             ('base', 23504),\n",
              "             ('earli', 23484),\n",
              "             ('decis', 23452),\n",
              "             ('receiv', 23433),\n",
              "             ('consid', 23259),\n",
              "             ('tuesday', 23240),\n",
              "             ('across', 23224),\n",
              "             ('often', 23181),\n",
              "             ('care', 23179),\n",
              "             ('announc', 23139),\n",
              "             ('system', 23110),\n",
              "             ('current', 23086),\n",
              "             ('final', 23031),\n",
              "             ('servic', 22931),\n",
              "             ('effort', 22876),\n",
              "             ('enough', 22740),\n",
              "             ('view', 22668),\n",
              "             ('friday', 22639),\n",
              "             ('execut', 22622),\n",
              "             ('kill', 22573),\n",
              "             ('director', 22523),\n",
              "             ('real', 22519),\n",
              "             ('alway', 22494),\n",
              "             ('earlier', 22356),\n",
              "             ('record', 22324),\n",
              "             ('intern', 22301),\n",
              "             ('child', 22275),\n",
              "             ('ever', 22152),\n",
              "             ('manag', 22100),\n",
              "             ('interview', 22090),\n",
              "             ('win', 22066),\n",
              "             ('given', 22002),\n",
              "             ('investig', 21998),\n",
              "             ('team', 21991),\n",
              "             ('five', 21969),\n",
              "             ('organ', 21884),\n",
              "             ('hillari', 21860),\n",
              "             ('thought', 21844),\n",
              "             ('known', 21784),\n",
              "             ('wrote', 21734),\n",
              "             ('candid', 21645),\n",
              "             ('john', 21609),\n",
              "             ('rule', 21590),\n",
              "             ('build', 21582),\n",
              "             ('inform', 21568),\n",
              "             ('involv', 21508),\n",
              "             ('action', 21461),\n",
              "             ('fight', 21458),\n",
              "             ('idea', 21438),\n",
              "             ('histori', 21424),\n",
              "             ('polic', 21394),\n",
              "             ('leav', 21387),\n",
              "             ('stand', 21380),\n",
              "             ('center', 21349),\n",
              "             ('control', 21331),\n",
              "             ('protect', 21230),\n",
              "             ('court', 21197),\n",
              "             ('instead', 21189),\n",
              "             ('friend', 21149),\n",
              "             ('war', 21087),\n",
              "             ('effect', 21050),\n",
              "             ('caus', 21012),\n",
              "             ('certain', 20953),\n",
              "             ('thursday', 20905),\n",
              "             ('speak', 20881),\n",
              "             ('particular', 20836),\n",
              "             ('rais', 20830),\n",
              "             ('word', 20819),\n",
              "             ('bring', 20805),\n",
              "             ('repres', 20768),\n",
              "             ('bill', 20752),\n",
              "             ('abl', 20704),\n",
              "             ('side', 20673),\n",
              "             ('almost', 20645),\n",
              "             ('hour', 20622),\n",
              "             ('money', 20496),\n",
              "             ('done', 20454),\n",
              "             ('social', 20313),\n",
              "             ('school', 20301),\n",
              "             ('chief', 20282),\n",
              "             ('charg', 20276),\n",
              "             ('return', 20243),\n",
              "             ('focus', 20206),\n",
              "             ('taken', 20157),\n",
              "             ('monday', 20156),\n",
              "             ('oper', 20113),\n",
              "             ('cours', 20084),\n",
              "             ('reach', 20075),\n",
              "             ('senat', 20024),\n",
              "             ('2015', 19942),\n",
              "             ('behind', 19916),\n",
              "             ('step', 19915),\n",
              "             ('area', 19909),\n",
              "             ('communiti', 19908),\n",
              "             ('describ', 19779),\n",
              "             ('watch', 19583),\n",
              "             ('associ', 19562),\n",
              "             ('outsid', 19555),\n",
              "             ('along', 19523),\n",
              "             ('love', 19506),\n",
              "             ('sure', 19480),\n",
              "             ('requir', 19470),\n",
              "             ('develop', 19318),\n",
              "             ('pay', 19285),\n",
              "             ('process', 19253),\n",
              "             ('potenti', 19173),\n",
              "             ('write', 19104),\n",
              "             ('decad', 19099),\n",
              "             ('noth', 19078),\n",
              "             ('futur', 19059),\n",
              "             ('understand', 19009),\n",
              "             ('human', 18981),\n",
              "             ('respond', 18948),\n",
              "             ('previous', 18935),\n",
              "             ('event', 18926),\n",
              "             ('explain', 18892),\n",
              "             ('must', 18883),\n",
              "             ('late', 18829),\n",
              "             ('whose', 18795),\n",
              "             ('toward', 18772),\n",
              "             ('addit', 18759),\n",
              "             ('decid', 18750),\n",
              "             ('program', 18708),\n",
              "             ('term', 18671),\n",
              "             ('despit', 18573),\n",
              "             ('anyth', 18535),\n",
              "             ('small', 18420),\n",
              "             ('men', 18406),\n",
              "             ('began', 18398),\n",
              "             ('serv', 18354),\n",
              "             ('push', 18335),\n",
              "             ('young', 18297),\n",
              "             ('street', 18248),\n",
              "             ('local', 18218),\n",
              "             ('someon', 18217),\n",
              "             ('level', 18165),\n",
              "             ('strong', 18159),\n",
              "             ('begin', 18140),\n",
              "             ('foreign', 18087),\n",
              "             ('rather', 18085),\n",
              "             ('within', 18059),\n",
              "             ('account', 18049),\n",
              "             ('hear', 18039),\n",
              "             ('fail', 18017),\n",
              "             ('bad', 17969),\n",
              "             ('cnn', 17927),\n",
              "             ('death', 17899),\n",
              "             ('challeng', 17892),\n",
              "             ('attempt', 17882),\n",
              "             ('full', 17878),\n",
              "             ('role', 17877),\n",
              "             ('similar', 17786),\n",
              "             ('secretari', 17762),\n",
              "             ('success', 17745),\n",
              "             ('hit', 17590),\n",
              "             ('2014', 17481),\n",
              "             ('moment', 17415),\n",
              "             ('exampl', 17319),\n",
              "             ('togeth', 17319),\n",
              "             ('led', 17300),\n",
              "             ('short', 17270),\n",
              "             ('lost', 17226),\n",
              "             ('agre', 17181),\n",
              "             ('agenc', 17173),\n",
              "             ('carri', 17104),\n",
              "             ('fire', 17073),\n",
              "             ('health', 17064),\n",
              "             ('argu', 16978),\n",
              "             ('six', 16935),\n",
              "             ('market', 16838),\n",
              "             ('especi', 16798),\n",
              "             ('cut', 16779),\n",
              "             ('mark', 16756),\n",
              "             ('conserv', 16729),\n",
              "             ('probabl', 16701),\n",
              "             ('complet', 16691),\n",
              "             ('experi', 16672),\n",
              "             ('march', 16603),\n",
              "             ('serious', 16599),\n",
              "             ('messag', 16578),\n",
              "             ('held', 16568),\n",
              "             ('promis', 16556),\n",
              "             ('morn', 16549),\n",
              "             ('black', 16488),\n",
              "             ('learn', 16436),\n",
              "             ('evid', 16407),\n",
              "             ('becam', 16404),\n",
              "             ('legal', 16398),\n",
              "             ('free', 16393),\n",
              "             ('research', 16261),\n",
              "             ('entir', 16221),\n",
              "             ('sunday', 16219),\n",
              "             ('stay', 16203),\n",
              "             ('privat', 16197),\n",
              "             ('video', 16107),\n",
              "             ('fall', 16058),\n",
              "             ('voter', 16031),\n",
              "             ('target', 16021),\n",
              "             ('themselv', 16016),\n",
              "             ('activ', 15999),\n",
              "             ('everyth', 15999),\n",
              "             ('immedi', 15940),\n",
              "             ('figur', 15890),\n",
              "             ('north', 15866),\n",
              "             ('congress', 15854),\n",
              "             ('cost', 15765),\n",
              "             ('old', 15757),\n",
              "             ('address', 15750),\n",
              "             ('grow', 15740),\n",
              "             ('die', 15740),\n",
              "             ('alleg', 15733),\n",
              "             ('everyon', 15732),\n",
              "             ('accus', 15731),\n",
              "             ('quick', 15726),\n",
              "             ('race', 15635),\n",
              "             ('studi', 15632),\n",
              "             ('either', 15529),\n",
              "             ('list', 15491),\n",
              "             ('join', 15462),\n",
              "             ('insid', 15444),\n",
              "             ('key', 15413),\n",
              "             ('senior', 15409),\n",
              "             ('half', 15406),\n",
              "             ('econom', 15396),\n",
              "             ('initi', 15386),\n",
              "             ('justic', 15374),\n",
              "             ('answer', 15334),\n",
              "             ('spend', 15303),\n",
              "             ('fund', 15300),\n",
              "             ('refer', 15276),\n",
              "             ('saw', 15249),\n",
              "             ('rate', 15164),\n",
              "             ('south', 15152),\n",
              "             ('commit', 15102),\n",
              "             ('sourc', 15082),\n",
              "             ('seek', 15079),\n",
              "             ('speech', 15004),\n",
              "             ('form', 14994),\n",
              "             ('publish', 14928),\n",
              "             ('declin', 14920),\n",
              "             ('email', 14916),\n",
              "             ('anyon', 14893),\n",
              "             ('rise', 14885),\n",
              "             ('cover', 14878),\n",
              "             ('signific', 14875),\n",
              "             ('fear', 14852),\n",
              "             ('book', 14851),\n",
              "             ('air', 14797),\n",
              "             ('confirm', 14781),\n",
              "             ('threat', 14763),\n",
              "             ('immigr', 14748),\n",
              "             ('sens', 14735),\n",
              "             ('individu', 14701),\n",
              "             ('billion', 14699),\n",
              "             ('detail', 14697),\n",
              "             ('institut', 14674),\n",
              "             ('committe', 14663),\n",
              "             ('debat', 14625),\n",
              "             ('special', 14620),\n",
              "             ('gave', 14538),\n",
              "             ('defend', 14531),\n",
              "             ('militari', 14522),\n",
              "             ('game', 14521),\n",
              "             ('thousand', 14488),\n",
              "             ('perhap', 14468),\n",
              "             ('risk', 14458),\n",
              "             ('surpris', 14458),\n",
              "             ('lose', 14448),\n",
              "             ('chanc', 14422),\n",
              "             ('total', 14413),\n",
              "             ('100', 14346),\n",
              "             ('warn', 14316),\n",
              "             ('product', 14311),\n",
              "             ('although', 14309),\n",
              "             ('global', 14287),\n",
              "             ('latest', 14260),\n",
              "             ('simpli', 14258),\n",
              "             ('wall', 14203),\n",
              "             ('break', 14187),\n",
              "             ('room', 14154),\n",
              "             ('industri', 14116),\n",
              "             ('limit', 14102),\n",
              "             ('true', 14099),\n",
              "             ('saturday', 14040),\n",
              "             ('express', 13971),\n",
              "             ('approach', 13965),\n",
              "             ('natur', 13951),\n",
              "             ('nomine', 13936),\n",
              "             ('emerg', 13913),\n",
              "             ('produc', 13867),\n",
              "             ('age', 13844),\n",
              "             ('wrong', 13830),\n",
              "             ('david', 13824),\n",
              "             ('edit', 13823),\n",
              "             ('defens', 13816),\n",
              "             ('repeat', 13782),\n",
              "             ('pick', 13770),\n",
              "             ('perform', 13733),\n",
              "             ('ground', 13730),\n",
              "             ('project', 13702),\n",
              "             ('walk', 13675),\n",
              "             ('discuss', 13659),\n",
              "             ('present', 13631),\n",
              "             ('soon', 13609),\n",
              "             ('drop', 13600),\n",
              "             ('demand', 13510),\n",
              "             ('travel', 13508),\n",
              "             ('whole', 13493),\n",
              "             ('trade', 13475),\n",
              "             ('host', 13470),\n",
              "             ('pass', 13449),\n",
              "             ('respect', 13422),\n",
              "             ('visit', 13382),\n",
              "             ('els', 13370),\n",
              "             ('financi', 13358),\n",
              "             ('danger', 13334),\n",
              "             ('singl', 13313),\n",
              "             ('biggest', 13311),\n",
              "             ('shot', 13308),\n",
              "             ('third', 13308),\n",
              "             ('practic', 13272),\n",
              "             ('sent', 13225),\n",
              "             ('front', 13216),\n",
              "             ('main', 13206),\n",
              "             ('seri', 13203),\n",
              "             ('opportun', 13177),\n",
              "             ('minut', 13168),\n",
              "             ('specif', 13161),\n",
              "             ('accept', 13150),\n",
              "             ('confer', 13094),\n",
              "             ('spent', 13081),\n",
              "             ('popular', 13069),\n",
              "             ('origin', 13066),\n",
              "             ('advis', 13059),\n",
              "             ('propos', 13004),\n",
              "             ('mind', 12996),\n",
              "             ('longer', 12922),\n",
              "             ('star', 12894),\n",
              "             ('difficult', 12890),\n",
              "             ('2012', 12870),\n",
              "             ('establish', 12865),\n",
              "             ('situat', 12851),\n",
              "             ('judg', 12850),\n",
              "             ('access', 12841),\n",
              "             ('facebook', 12753),\n",
              "             ('brought', 12726),\n",
              "             ('valu', 12717),\n",
              "             ('sometim', 12660),\n",
              "             ('review', 12658),\n",
              "             ('car', 12655),\n",
              "             ('exist', 12649),\n",
              "             ('enter', 12647),\n",
              "             ('cultur', 12641),\n",
              "             ('worri', 12589),\n",
              "             ('struggl', 12588),\n",
              "             ('prevent', 12586),\n",
              "             ('measur', 12584),\n",
              "             ('exact', 12578),\n",
              "             ('arm', 12577),\n",
              "             ('send', 12569),\n",
              "             ('bodi', 12561),\n",
              "             ('januari', 12561),\n",
              "             ('attorney', 12561),\n",
              "             ('middl', 12556),\n",
              "             ('forward', 12549),\n",
              "             ('quit', 12538),\n",
              "             ('design', 12534),\n",
              "             ('reveal', 12497),\n",
              "             ('protest', 12482),\n",
              "             ('refus', 12462),\n",
              "             ('deni', 12424),\n",
              "             ('belief', 12416),\n",
              "             ('tweet', 12401),\n",
              "             ('attent', 12374),\n",
              "             ('met', 12361),\n",
              "             ('price', 12360),\n",
              "             ('pull', 12352),\n",
              "             ('tie', 12351),\n",
              "             ('hundr', 12350),\n",
              "             ('benefit', 12316),\n",
              "             ('wait', 12301),\n",
              "             ('novemb', 12290),\n",
              "             ('launch', 12286),\n",
              "             ('rest', 12269),\n",
              "             ('test', 12227),\n",
              "             ('compar', 12226),\n",
              "             ('dead', 12220),\n",
              "             ('heard', 12209),\n",
              "             ('common', 12201),\n",
              "             ('michael', 12196),\n",
              "             ('request', 12183),\n",
              "             ('capit', 12181),\n",
              "             ('student', 12157),\n",
              "             ('identifi', 12151),\n",
              "             ('minist', 12142),\n",
              "             ('2013', 12137),\n",
              "             ('due', 12097),\n",
              "             ('connect', 12066),\n",
              "             ('barack', 12058),\n",
              "             ('declar', 12036),\n",
              "             ('colleg', 12026),\n",
              "             ('prepar', 12018),\n",
              "             ('drive', 12010),\n",
              "             ('guy', 11993),\n",
              "             ('block', 11989),\n",
              "             ('convers', 11978),\n",
              "             ('civil', 11978),\n",
              "             ('aid', 11975),\n",
              "             ('crime', 11969),\n",
              "             ('lack', 11961),\n",
              "             ('father', 11952),\n",
              "             ('sit', 11947),\n",
              "             ('celebr', 11927),\n",
              "             ('relationship', 11907),\n",
              "             ('choic', 11900),\n",
              "             ('opposit', 11894),\n",
              "             ('data', 11888),\n",
              "             ('juli', 11838),\n",
              "             ('firm', 11831),\n",
              "             ('arriv', 11824),\n",
              "             ('poll', 11818),\n",
              "             ('tradit', 11797),\n",
              "             ('primari', 11794),\n",
              "             ('bit', 11791),\n",
              "             ('mother', 11786),\n",
              "             ('determin', 11777),\n",
              "             ('featur', 11753),\n",
              "             ('citizen', 11735),\n",
              "             ('buy', 11691),\n",
              "             ('june', 11675),\n",
              "             ('west', 11673),\n",
              "             ('felt', 11667),\n",
              "             ('mr.', 11664),\n",
              "             ('light', 11656),\n",
              "             ('jame', 11633),\n",
              "             ('seven', 11633),\n",
              "             ('mayb', 11628),\n",
              "             ('enforc', 11615),\n",
              "             ('union', 11613),\n",
              "             ('staff', 11611),\n",
              "             ('expert', 11602),\n",
              "             ('tax', 11574),\n",
              "             ('partner', 11566),\n",
              "             ('phone', 11553),\n",
              "             ('condit', 11541),\n",
              "             ('parent', 11539),\n",
              "             ('beyond', 11505),\n",
              "             ('gop', 11498),\n",
              "             ('independ', 11496),\n",
              "             ('amount', 11487),\n",
              "             ('victori', 11479),\n",
              "             ('articl', 11440),\n",
              "             ('conduct', 11405),\n",
              "             ('miss', 11395),\n",
              "             ('spoke', 11382),\n",
              "             ('thank', 11346),\n",
              "             ('file', 11343),\n",
              "             ('worker', 11343),\n",
              "             ('affect', 11328),\n",
              "             ('central', 11327),\n",
              "             ('sound', 11325),\n",
              "             ('favor', 11298),\n",
              "             ('cite', 11298),\n",
              "             ('crimin', 11293),\n",
              "             ('contribut', 11289),\n",
              "             ('avoid', 11288),\n",
              "             ('gain', 11282),\n",
              "             ('spokesman', 11215),\n",
              "             ('ahead', 11209),\n",
              "             ('educ', 11182),\n",
              "             ('california', 11170),\n",
              "             ('wife', 11117),\n",
              "             ('daili', 11112),\n",
              "             ('pretti', 11067),\n",
              "             ('resid', 11039),\n",
              "             ('eight', 11016),\n",
              "             ('network', 10996),\n",
              "             ('rememb', 10991),\n",
              "             ('huge', 10986),\n",
              "             ('movement', 10975),\n",
              "             ('ban', 10960),\n",
              "             ('extrem', 10943),\n",
              "             ('generat', 10925),\n",
              "             ('liber', 10905),\n",
              "             ('remark', 10900),\n",
              "             ('train', 10899),\n",
              "             ('save', 10889),\n",
              "             ('son', 10878),\n",
              "             ('stage', 10875),\n",
              "             ('coupl', 10871),\n",
              "             ('land', 10869),\n",
              "             ('georg', 10867),\n",
              "             ('april', 10858),\n",
              "             ('impact', 10858),\n",
              "             ('russia', 10856),\n",
              "             ('voic', 10854),\n",
              "             ('onlin', 10848),\n",
              "             ('sort', 10828),\n",
              "             ('economi', 10825),\n",
              "             ('pressur', 10824),\n",
              "             ('violenc', 10822),\n",
              "             ('oppos', 10818),\n",
              "             ('alli', 10784),\n",
              "             ('eye', 10784),\n",
              "             ('battl', 10768),\n",
              "             ('period', 10760),\n",
              "             ('heart', 10755),\n",
              "             ('region', 10751),\n",
              "             ('knew', 10747),\n",
              "             ('paul', 10741),\n",
              "             ('attend', 10741),\n",
              "             ('victim', 10711),\n",
              "             ('collect', 10711),\n",
              "             ('career', 10709),\n",
              "             ('progress', 10706),\n",
              "             ('controversi', 10696),\n",
              "             ('reduc', 10684),\n",
              "             ('east', 10683),\n",
              "             ('suffer', 10667),\n",
              "             ('popul', 10659),\n",
              "             ('unlik', 10655),\n",
              "             ('replac', 10650),\n",
              "             ('higher', 10638),\n",
              "             ('remov', 10616),\n",
              "             ('appar', 10591),\n",
              "             ('deliv', 10574),\n",
              "             ('document', 10570),\n",
              "             ('indic', 10567),\n",
              "             ('dozen', 10562),\n",
              "             ('minor', 10533),\n",
              "             ('border', 10523),\n",
              "             ('gone', 10522),\n",
              "             ('engag', 10509),\n",
              "             ('subject', 10508),\n",
              "             ('water', 10505),\n",
              "             ('town', 10491),\n",
              "             ('appeal', 10486),\n",
              "             ('field', 10485),\n",
              "             ('nomin', 10484),\n",
              "             ('eventu', 10480),\n",
              "             ('fair', 10479),\n",
              "             ('board', 10477),\n",
              "             ('russian', 10468),\n",
              "             ('kid', 10463),\n",
              "             ('crisi', 10460),\n",
              "             ('invest', 10457),\n",
              "             ('intellig', 10447),\n",
              "             ('avail', 10446),\n",
              "             ('arrest', 10406),\n",
              "             ('threaten', 10396),\n",
              "             ('separ', 10347),\n",
              "             ('check', 10339),\n",
              "             ('imag', 10334),\n",
              "             ('standard', 10317),\n",
              "             ('ultim', 10317),\n",
              "             ('goal', 10301),\n",
              "             ('site', 10290),\n",
              "             ('wonder', 10288),\n",
              "             ('crowd', 10283),\n",
              "             ('piec', 10253),\n",
              "             ('terror', 10242),\n",
              "             ('treat', 10215),\n",
              "             ('improv', 10204),\n",
              "             ('shoot', 10199),\n",
              "             ('dollar', 10189),\n",
              "             ('approv', 10188),\n",
              "             ('season', 10188),\n",
              "             ('district', 10161),\n",
              "             ('bank', 10141),\n",
              "             ('low', 10120),\n",
              "             ('basic', 10093),\n",
              "             ('usual', 10075),\n",
              "             ('loss', 10057),\n",
              "             ('realiti', 10056),\n",
              "             ('breitbart', 10046),\n",
              "             ('islam', 10037),\n",
              "             ('wide', 10027),\n",
              "             ('obvious', 10021),\n",
              "             ('damag', 10015),\n",
              "             ('sell', 10015),\n",
              "             ('track', 9969),\n",
              "             ('lower', 9963),\n",
              "             ('assist', 9960),\n",
              "             ('lawyer', 9959),\n",
              "             ('legisl', 9949),\n",
              "             ('add', 9916),\n",
              "             ('safe', 9914),\n",
              "             ('advanc', 9886),\n",
              "             ('illeg', 9883),\n",
              "             ('largest', 9882),\n",
              "             ('abil', 9880),\n",
              "             ('aim', 9843),\n",
              "             ('throughout', 9828),\n",
              "             ('weekend', 9800),\n",
              "             ('agreement', 9778),\n",
              "             ('paid', 9777),\n",
              "             ('muslim', 9771),\n",
              "             ('lie', 9759),\n",
              "             ('yes', 9757),\n",
              "             ('2017', 9736),\n",
              "             ('updat', 9735),\n",
              "             ('class', 9681),\n",
              "             ('alon', 9680),\n",
              "             ('encourag', 9668),\n",
              "             ('governor', 9640),\n",
              "             ('politician', 9599),\n",
              "             ('date', 9590),\n",
              "             ('poor', 9585),\n",
              "             ('link', 9585),\n",
              "             ('sen.', 9581),\n",
              "             ('medic', 9570),\n",
              "             ('pictur', 9556),\n",
              "             ('incid', 9556),\n",
              "             ('professor', 9544),\n",
              "             ('chairman', 9540),\n",
              "             ('acknowledg', 9499),\n",
              "             ('technolog', 9498),\n",
              "             ('mention', 9492),\n",
              "             ('estim', 9487),\n",
              "             ('fox', 9467),\n",
              "             ('texa', 9454),\n",
              "             ('worth', 9453),\n",
              "             ('scene', 9445),\n",
              "             ('ralli', 9445),\n",
              "             ('expand', 9441),\n",
              "             ('suspect', 9438),\n",
              "             ('reflect', 9425),\n",
              "             ('violat', 9401),\n",
              "             ('easi', 9388),\n",
              "             ('admit', 9382),\n",
              "             ('vice', 9379),\n",
              "             ('letter', 9374),\n",
              "             ('februari', 9367),\n",
              "             ('communic', 9356),\n",
              "             ('televis', 9354),\n",
              "             ('constitut', 9352),\n",
              "             ('shift', 9331),\n",
              "             ('websit', 9321),\n",
              "             ('insist', 9319),\n",
              "             ('troubl', 9303),\n",
              "             ('influenc', 9297),\n",
              "             ('prove', 9283),\n",
              "             ('strike', 9270),\n",
              "             ('employe', 9267),\n",
              "             ('terrorist', 9263),\n",
              "             ('summer', 9259),\n",
              "             ('histor', 9246),\n",
              "             ('averag', 9217),\n",
              "             ('meanwhil', 9208),\n",
              "             ('abov', 9201),\n",
              "             ('drug', 9198),\n",
              "             ('readi', 9189),\n",
              "             ('counti', 9183),\n",
              "             ('decemb', 9182),\n",
              "             ('food', 9165),\n",
              "             ('hospit', 9120),\n",
              "             ('societi', 9108),\n",
              "             ('promot', 9102),\n",
              "             ('florida', 9098),\n",
              "             ('suppos', 9081),\n",
              "             ('conflict', 9059),\n",
              "             ('listen', 9058),\n",
              "             ('daughter', 9038),\n",
              "             ('fill', 9026),\n",
              "             ('secret', 9021),\n",
              "             ('freedom', 9016),\n",
              "             ('brief', 9015),\n",
              "             ('prime', 9013),\n",
              "             ('earn', 9007),\n",
              "             ('page', 8997),\n",
              "             ('version', 8989),\n",
              "             ('gun', 8975),\n",
              "             ('china', 8968),\n",
              "             ('doubt', 8950),\n",
              "             ('fellow', 8947),\n",
              "             ('whatev', 8931),\n",
              "             ('convent', 8930),\n",
              "             ('fan', 8924),\n",
              "             ('regul', 8914),\n",
              "             ('blame', 8903),\n",
              "             ('written', 8902),\n",
              "             ('urg', 8892),\n",
              "             ('particip', 8867),\n",
              "             ('strategi', 8861),\n",
              "             ('confid', 8853),\n",
              "             ('except', 8850),\n",
              "             ('weapon', 8849),\n",
              "             ('europ', 8842),\n",
              "             ('opinion', 8824),\n",
              "             ('multipl', 8823),\n",
              "             ('imagin', 8821),\n",
              "             ('500', 8821),\n",
              "             ('per', 8810),\n",
              "             ('park', 8793),\n",
              "             ('rang', 8775),\n",
              "             ('photo', 8774),\n",
              "             ('regular', 8742),\n",
              "             ('european', 8734),\n",
              "             ('com', 8724),\n",
              "             ('septemb', 8698),\n",
              "             ('regard', 8697),\n",
              "             ('argument', 8674),\n",
              "             ('space', 8667),\n",
              "             ('safeti', 8657),\n",
              "             ('maintain', 8633),\n",
              "             ('girl', 8629),\n",
              "             ('bush', 8623),\n",
              "             ('leadership', 8590),\n",
              "             ('energi', 8585),\n",
              "             ('option', 8583),\n",
              "             ('predict', 8580),\n",
              "             ('2008', 8569),\n",
              "             ('red', 8568),\n",
              "             ('type', 8550),\n",
              "             ('count', 8545),\n",
              "             ('kept', 8534),\n",
              "             ('door', 8487),\n",
              "             ('peac', 8485),\n",
              "             ('ignor', 8476),\n",
              "             ('bar', 8469),\n",
              "             ('ensur', 8463),\n",
              "             ('credit', 8458),\n",
              "             ('demonstr', 8458),\n",
              "             ('paper', 8456),\n",
              "             ('reject', 8451),\n",
              "             ('syria', 8436),\n",
              "             ('truth', 8428),\n",
              "             ('reform', 8428),\n",
              "             ('happi', 8420),\n",
              "             ('wors', 8411),\n",
              "             ('custom', 8398),\n",
              "             ('suprem', 8392),\n",
              "             ('foot', 8388),\n",
              "             ('sexual', 8380),\n",
              "             ('trust', 8367),\n",
              "             ('model', 8366),\n",
              "             ('schedul', 8353),\n",
              "             ('octob', 8334),\n",
              "             ('normal', 8332),\n",
              "             ('handl', 8328),\n",
              "             ('2011', 8311),\n",
              "             ('achiev', 8297),\n",
              "             ('sale', 8294),\n",
              "             ('hurt', 8287),\n",
              "             ('occur', 8284),\n",
              "             ('film', 8276),\n",
              "             ('mile', 8273),\n",
              "             ('equal', 8273),\n",
              "             ('exchang', 8270),\n",
              "             ('activist', 8268),\n",
              "             ('road', 8264),\n",
              "             ...])"
            ]
          },
          "metadata": {
            "tags": []
          },
          "execution_count": 82
        }
      ]
    },
    {
      "cell_type": "markdown",
      "metadata": {
        "id": "zIwnFbddQ7W1"
      },
      "source": [
        "#### Sanity Check"
      ]
    },
    {
      "cell_type": "code",
      "metadata": {
        "colab": {
          "base_uri": "https://localhost:8080/"
        },
        "id": "8uHalg9MQ8_z",
        "outputId": "65cbb0c8-d9f4-4e3c-ee27-7d8bafc89805"
      },
      "source": [
        "len(tokens_doc_freq)"
      ],
      "execution_count": 9,
      "outputs": [
        {
          "output_type": "execute_result",
          "data": {
            "text/plain": [
              "10000"
            ]
          },
          "metadata": {
            "tags": []
          },
          "execution_count": 9
        }
      ]
    },
    {
      "cell_type": "code",
      "metadata": {
        "colab": {
          "base_uri": "https://localhost:8080/"
        },
        "id": "yv4gePijQ_DB",
        "outputId": "39eae5b2-343a-4f61-87e1-6addc17199c4"
      },
      "source": [
        "tokens_doc_freq['trump']"
      ],
      "execution_count": 10,
      "outputs": [
        {
          "output_type": "execute_result",
          "data": {
            "text/plain": [
              "53824"
            ]
          },
          "metadata": {
            "tags": []
          },
          "execution_count": 10
        }
      ]
    },
    {
      "cell_type": "markdown",
      "metadata": {
        "id": "Ciu7lv26RMeM"
      },
      "source": [
        "### BOW Function"
      ]
    },
    {
      "cell_type": "code",
      "metadata": {
        "id": "uNt_0drERRuz"
      },
      "source": [
        "def create_bow(data, tokens):\n",
        "  ''' Create a bag of words for usage in LDA.\n",
        "  Args:\n",
        "    data (series): series object holding lists of tokens.\n",
        "    tokens (list): list of tokens to use in bag of words.\n",
        "\n",
        "  Returns:\n",
        "    documents (list): bag of words, a list of dicts.\n",
        "  '''\n",
        "  documents = []\n",
        "  for row in tqdm(data, \"Creating BOW: \"):\n",
        "    doc_words = literal_eval(row)\n",
        "    doc_bag = dict()\n",
        "    for word in doc_words:\n",
        "      # check if word in tokens \n",
        "      if word in doc_bag and word in tokens:\n",
        "        doc_bag[word] += 1\n",
        "      elif word in tokens:\n",
        "        doc_bag[word] = 1\n",
        "    documents.append(doc_bag)\n",
        "  return documents"
      ],
      "execution_count": 61,
      "outputs": []
    },
    {
      "cell_type": "code",
      "metadata": {
        "colab": {
          "base_uri": "https://localhost:8080/",
          "height": 66,
          "referenced_widgets": [
            "c2978e45f6b649acbbb8d35b1a476945",
            "d63b5bf520364adf83124e586a5c79b4",
            "869369d3457e4cd2bd4eddbb2facce5e",
            "1da511231c414df29f7f1a95ec89c772",
            "7398c91aa6424652bf73a79fb63f2837",
            "32fc31e7750346079721bf8ab558ff3a",
            "df85eac02442464eba5812350239c697",
            "609914a42d364ce69eb61a7f77dff131"
          ]
        },
        "id": "mfDtsVnySTcJ",
        "outputId": "3a3a06ee-ef34-445d-b73c-ef506a2e5f01"
      },
      "source": [
        "documents = create_bow(data_content_clean, tokens_doc_freq.keys())"
      ],
      "execution_count": 62,
      "outputs": [
        {
          "output_type": "display_data",
          "data": {
            "application/vnd.jupyter.widget-view+json": {
              "model_id": "c2978e45f6b649acbbb8d35b1a476945",
              "version_minor": 0,
              "version_major": 2
            },
            "text/plain": [
              "HBox(children=(FloatProgress(value=0.0, description='Creating BOW: ', max=141543.0, style=ProgressStyle(descri…"
            ]
          },
          "metadata": {
            "tags": []
          }
        },
        {
          "output_type": "stream",
          "text": [
            "\n"
          ],
          "name": "stdout"
        }
      ]
    },
    {
      "cell_type": "markdown",
      "metadata": {
        "id": "JxKk8_aYSmeN"
      },
      "source": [
        "#### Sanity Check"
      ]
    },
    {
      "cell_type": "code",
      "metadata": {
        "colab": {
          "base_uri": "https://localhost:8080/"
        },
        "id": "iLYRXRaVUVzf",
        "outputId": "cddbb9d5-265e-4371-b9aa-e4149ab1a64a"
      },
      "source": [
        "len(documents)"
      ],
      "execution_count": 13,
      "outputs": [
        {
          "output_type": "execute_result",
          "data": {
            "text/plain": [
              "141543"
            ]
          },
          "metadata": {
            "tags": []
          },
          "execution_count": 13
        }
      ]
    },
    {
      "cell_type": "code",
      "metadata": {
        "colab": {
          "base_uri": "https://localhost:8080/"
        },
        "id": "jI2QNgZ0Sl9Z",
        "outputId": "d96e383b-e115-45e7-add9-b55eff991ff1"
      },
      "source": [
        "# First document has 8 occurences of Trump (same as with library)\n",
        "documents[0]"
      ],
      "execution_count": 14,
      "outputs": [
        {
          "output_type": "execute_result",
          "data": {
            "text/plain": [
              "{'2010': 1,\n",
              " '2015': 1,\n",
              " '2017': 1,\n",
              " 'access': 1,\n",
              " 'acknowledg': 1,\n",
              " 'act': 1,\n",
              " 'administr': 13,\n",
              " 'advoc': 1,\n",
              " 'afford': 1,\n",
              " 'alli': 1,\n",
              " 'american': 1,\n",
              " 'anger': 1,\n",
              " 'annual': 1,\n",
              " 'anoth': 1,\n",
              " 'anticip': 2,\n",
              " 'appeal': 4,\n",
              " 'appropri': 3,\n",
              " 'approv': 1,\n",
              " 'aspect': 1,\n",
              " 'assert': 1,\n",
              " 'author': 2,\n",
              " 'avoid': 1,\n",
              " 'awkward': 1,\n",
              " 'backlash': 1,\n",
              " 'befor': 1,\n",
              " 'behalf': 1,\n",
              " 'big': 1,\n",
              " 'billion': 2,\n",
              " 'blando': 1,\n",
              " 'boehner': 1,\n",
              " 'branch': 5,\n",
              " 'broad': 1,\n",
              " 'capitol': 1,\n",
              " 'care': 8,\n",
              " 'cascad': 1,\n",
              " 'case': 4,\n",
              " 'caus': 2,\n",
              " 'central': 1,\n",
              " 'challeng': 1,\n",
              " 'champion': 1,\n",
              " 'chao': 1,\n",
              " 'choos': 2,\n",
              " 'circuit': 1,\n",
              " 'collyer': 1,\n",
              " 'columbia': 1,\n",
              " 'come': 3,\n",
              " 'comment': 1,\n",
              " 'committe': 1,\n",
              " 'complic': 1,\n",
              " 'conceiv': 1,\n",
              " 'concept': 1,\n",
              " 'confid': 2,\n",
              " 'congress': 5,\n",
              " 'congression': 3,\n",
              " 'consequ': 1,\n",
              " 'conserv': 1,\n",
              " 'consid': 1,\n",
              " 'constitut': 3,\n",
              " 'consum': 1,\n",
              " 'contend': 1,\n",
              " 'continu': 1,\n",
              " 'control': 1,\n",
              " 'cost': 2,\n",
              " 'could': 8,\n",
              " 'court': 2,\n",
              " 'coverag': 1,\n",
              " 'current': 1,\n",
              " 'deal': 1,\n",
              " 'decis': 2,\n",
              " 'deduct': 1,\n",
              " 'defend': 1,\n",
              " 'demand': 1,\n",
              " 'depart': 2,\n",
              " 'desper': 1,\n",
              " 'despit': 1,\n",
              " 'destabil': 1,\n",
              " 'devast': 1,\n",
              " 'dim': 1,\n",
              " 'discuss': 1,\n",
              " 'dismiss': 1,\n",
              " 'disput': 3,\n",
              " 'distribut': 1,\n",
              " 'district': 1,\n",
              " 'divulg': 1,\n",
              " 'dollar': 1,\n",
              " 'donald': 1,\n",
              " 'drop': 1,\n",
              " 'dure': 1,\n",
              " 'dynam': 1,\n",
              " 'eager': 1,\n",
              " 'effect': 2,\n",
              " 'effort': 1,\n",
              " 'elect': 1,\n",
              " 'elig': 1,\n",
              " 'end': 1,\n",
              " 'entir': 1,\n",
              " 'era': 1,\n",
              " 'estim': 1,\n",
              " 'evalu': 1,\n",
              " 'even': 1,\n",
              " 'exchang': 1,\n",
              " 'execut': 5,\n",
              " 'exit': 1,\n",
              " 'expert': 1,\n",
              " 'fear': 1,\n",
              " 'februari': 1,\n",
              " 'fight': 3,\n",
              " 'find': 1,\n",
              " 'flaw': 1,\n",
              " 'found': 1,\n",
              " 'full': 1,\n",
              " 'fund': 1,\n",
              " 'futur': 1,\n",
              " 'gain': 1,\n",
              " 'game': 1,\n",
              " 'general': 1,\n",
              " 'given': 2,\n",
              " 'govern': 1,\n",
              " 'ha': 1,\n",
              " 'halt': 1,\n",
              " 'hand': 1,\n",
              " 'handl': 1,\n",
              " 'happen': 1,\n",
              " 'health': 11,\n",
              " 'hill': 1,\n",
              " 'hous': 18,\n",
              " 'huge': 1,\n",
              " 'illustr': 1,\n",
              " 'implod': 1,\n",
              " 'import': 1,\n",
              " 'inappropri': 1,\n",
              " 'inaugur': 1,\n",
              " 'inclin': 1,\n",
              " 'incom': 1,\n",
              " 'individu': 1,\n",
              " 'initi': 2,\n",
              " 'insur': 7,\n",
              " 'intern': 1,\n",
              " 'interven': 1,\n",
              " 'involv': 1,\n",
              " 'issu': 2,\n",
              " 'jan.': 1,\n",
              " 'john': 1,\n",
              " 'judg': 3,\n",
              " 'justic': 1,\n",
              " 'lack': 1,\n",
              " 'last': 1,\n",
              " 'late': 1,\n",
              " 'later': 1,\n",
              " 'law': 4,\n",
              " 'lawsuit': 2,\n",
              " 'lawyer': 3,\n",
              " 'lead': 2,\n",
              " 'leadership': 1,\n",
              " 'least': 1,\n",
              " 'leav': 1,\n",
              " 'legal': 2,\n",
              " 'leverag': 1,\n",
              " 'limbo': 1,\n",
              " 'litig': 1,\n",
              " 'longer': 1,\n",
              " 'lose': 1,\n",
              " 'loss': 2,\n",
              " 'mani': 1,\n",
              " 'market': 1,\n",
              " 'matter': 3,\n",
              " 'may': 1,\n",
              " 'might': 3,\n",
              " 'million': 1,\n",
              " 'money': 2,\n",
              " 'month': 2,\n",
              " 'mount': 1,\n",
              " 'mr.': 1,\n",
              " 'nation': 1,\n",
              " 'never': 2,\n",
              " 'new': 1,\n",
              " 'obama': 5,\n",
              " 'offic': 1,\n",
              " 'offici': 1,\n",
              " 'one': 1,\n",
              " 'option': 1,\n",
              " 'otherwis': 1,\n",
              " 'outcom': 1,\n",
              " 'overarch': 1,\n",
              " 'part': 1,\n",
              " 'particip': 1,\n",
              " 'pass': 1,\n",
              " 'pay': 1,\n",
              " 'payment': 1,\n",
              " 'pend': 1,\n",
              " 'peopl': 1,\n",
              " 'perman': 1,\n",
              " 'phillip': 1,\n",
              " 'pileup': 1,\n",
              " 'place': 1,\n",
              " 'polit': 2,\n",
              " 'posit': 1,\n",
              " 'possibl': 1,\n",
              " 'potenti': 2,\n",
              " 'power': 3,\n",
              " 'preced': 2,\n",
              " 'predict': 1,\n",
              " 'prepar': 1,\n",
              " 'prerog': 1,\n",
              " 'preserv': 1,\n",
              " 'presidenti': 1,\n",
              " 'pressur': 1,\n",
              " 'prevail': 1,\n",
              " 'proceed': 1,\n",
              " 'produc': 1,\n",
              " 'program': 3,\n",
              " 'prop': 1,\n",
              " 'proper': 1,\n",
              " 'prosecut': 1,\n",
              " 'provid': 2,\n",
              " 'purs': 1,\n",
              " 'put': 1,\n",
              " 'question': 1,\n",
              " 'quick': 3,\n",
              " 'race': 1,\n",
              " 'readi': 1,\n",
              " 'receiv': 2,\n",
              " 'reduct': 1,\n",
              " 'regard': 1,\n",
              " 'relat': 1,\n",
              " 'remain': 1,\n",
              " 'repercuss': 1,\n",
              " 'replac': 1,\n",
              " 'report': 1,\n",
              " 'republican': 17,\n",
              " 'request': 1,\n",
              " 'requir': 3,\n",
              " 'resolut': 1,\n",
              " 'resolv': 1,\n",
              " 'restor': 1,\n",
              " 'revers': 1,\n",
              " 'right': 1,\n",
              " 'rosemari': 1,\n",
              " 'rule': 2,\n",
              " 'said': 1,\n",
              " 'say': 1,\n",
              " 'seek': 2,\n",
              " 'set': 2,\n",
              " 'settl': 1,\n",
              " 'share': 1,\n",
              " 'sinc': 2,\n",
              " 'skeptic': 1,\n",
              " 'sought': 2,\n",
              " 'speaker': 1,\n",
              " 'spend': 6,\n",
              " 'spokesman': 1,\n",
              " 'spur': 1,\n",
              " 'stand': 3,\n",
              " 'state': 1,\n",
              " 'stave': 1,\n",
              " 'stop': 1,\n",
              " 'strategi': 1,\n",
              " 'subsidi': 7,\n",
              " 'success': 1,\n",
              " 'sudden': 2,\n",
              " 'sue': 3,\n",
              " 'suit': 2,\n",
              " 'sum': 1,\n",
              " 'suspens': 1,\n",
              " 'system': 1,\n",
              " 'take': 2,\n",
              " 'team': 3,\n",
              " 'temporari': 1,\n",
              " 'temporarili': 1,\n",
              " 'themselv': 1,\n",
              " 'though': 1,\n",
              " 'time': 1,\n",
              " 'told': 1,\n",
              " 'took': 1,\n",
              " 'total': 1,\n",
              " 'transit': 3,\n",
              " 'treasuri': 1,\n",
              " 'trump': 9,\n",
              " 'twist': 1,\n",
              " 'two': 2,\n",
              " 'ugli': 1,\n",
              " 'unit': 1,\n",
              " 'upon': 1,\n",
              " 'victori': 2,\n",
              " 'view': 2,\n",
              " 'vigor': 1,\n",
              " 'violat': 2,\n",
              " 'voter': 1,\n",
              " 'wa': 1,\n",
              " 'want': 2,\n",
              " 'washington': 1,\n",
              " 'well': 2,\n",
              " 'whether': 1,\n",
              " 'white': 3,\n",
              " 'widespread': 1,\n",
              " 'win': 1,\n",
              " 'without': 2,\n",
              " 'worri': 1,\n",
              " 'would': 1,\n",
              " 'year': 1,\n",
              " 'yet': 1}"
            ]
          },
          "metadata": {
            "tags": []
          },
          "execution_count": 14
        }
      ]
    },
    {
      "cell_type": "markdown",
      "metadata": {
        "id": "xh2qCF8wrJLt"
      },
      "source": [
        "### Word Encoder"
      ]
    },
    {
      "cell_type": "code",
      "metadata": {
        "id": "7hkXuoYpHRiG"
      },
      "source": [
        "class WordEncoder():\n",
        "  def __init__(self):\n",
        "    self.id_word_encoding = {}\n",
        "    self.word_id_encoding = {}\n",
        "\n",
        "  def encode(self, documents):\n",
        "    ''' Encode the words as integers.\n",
        "        Args:\n",
        "          documents (list): bag of words, a list of dicts\n",
        "\n",
        "        Returns:\n",
        "          dummy (list): encoded bag of words, a list of dicts\n",
        "    '''\n",
        "    dummy = deepcopy(documents)\n",
        "    word_id = 0\n",
        "    tokens = []\n",
        "    for doc in documents:\n",
        "      tokens.extend(doc.keys())\n",
        "    tokens_uq = set(tokens)\n",
        "    del tokens\n",
        "    for token in tokens_uq:\n",
        "      self.id_word_encoding[word_id] = token\n",
        "      self.word_id_encoding[token] = word_id\n",
        "      word_id += 1\n",
        "    del tokens_uq\n",
        "    for index, doc in enumerate(tqdm(documents, \"Encoding: \")):\n",
        "        for word in doc.keys():\n",
        "          word_id = self.word_id_encoding[word]\n",
        "          word_freq = dummy[index].pop(word)\n",
        "          dummy[index][word_id] = word_freq\n",
        "    return dummy\n",
        "  \n",
        "  def decode(self, documents):\n",
        "    ''' Decode the integers to words.\n",
        "        Args:\n",
        "          documents (list): encoded bag of words, a list of dicts\n",
        "\n",
        "        Returns:\n",
        "          dummy (list): decoded bag of words, a list of dicts\n",
        "    '''\n",
        "    dummy = deepcopy(documents)\n",
        "    word_id = 0\n",
        "    for index, doc in enumerate(tqdm(documents, \"Decoding: \")):\n",
        "      for word_id in doc.keys():\n",
        "        word = self.id_word_encoding[word_id]\n",
        "        word_freq = dummy[index].pop(word_id)\n",
        "        dummy[index][word] = word_freq\n",
        "    return dummy"
      ],
      "execution_count": 86,
      "outputs": []
    },
    {
      "cell_type": "markdown",
      "metadata": {
        "id": "hS5KqwBWR5Gk"
      },
      "source": [
        "#### Sanity Check"
      ]
    },
    {
      "cell_type": "code",
      "metadata": {
        "colab": {
          "base_uri": "https://localhost:8080/",
          "height": 133,
          "referenced_widgets": [
            "51b195590b524fd498c290e8250ab2be",
            "6c7c5b51734c46d4befb45dde73e6264",
            "5ba485bb092046a6ab43be3234629587",
            "29a51a522341477f9de5253f7a84ddc7",
            "20cd574dc2ac412b8be407c2f31532b4",
            "a6c825333b4e4789affb8c106a870f21",
            "a64c3119bbc541268073a67d3c5b225d",
            "7251e47a6e7543b3a9ec7d2d4d55a415",
            "1912e671fac444839963ad41a650374b",
            "a3dc9b3a20af4a21aa9dfb62681afed3",
            "b802f94dd881418597f42c88da504ffb",
            "64618be9605347afb938d57e6199d869",
            "33e3206e57704bf2aaa48a19db41989c",
            "3cd1191fc7714885a5423c6a175a5e1f",
            "3cc6dff2dcbf4399aa7f6979bb458ad8",
            "5db795c50ca448319560af5bc88818d7"
          ]
        },
        "id": "u5uEESgCR83L",
        "outputId": "a8b98c70-e8c5-463e-ca5f-b2140256397f"
      },
      "source": [
        "encoder = WordEncoder()\n",
        "encoded_documents = encoder.encode(documents)\n",
        "decoded_documents = encoder.decode(encoded_documents)"
      ],
      "execution_count": 66,
      "outputs": [
        {
          "output_type": "stream",
          "text": [
            "10000\n"
          ],
          "name": "stdout"
        },
        {
          "output_type": "display_data",
          "data": {
            "application/vnd.jupyter.widget-view+json": {
              "model_id": "51b195590b524fd498c290e8250ab2be",
              "version_minor": 0,
              "version_major": 2
            },
            "text/plain": [
              "HBox(children=(FloatProgress(value=0.0, description='Encoding: ', max=141543.0, style=ProgressStyle(descriptio…"
            ]
          },
          "metadata": {
            "tags": []
          }
        },
        {
          "output_type": "stream",
          "text": [
            "\n"
          ],
          "name": "stdout"
        },
        {
          "output_type": "display_data",
          "data": {
            "application/vnd.jupyter.widget-view+json": {
              "model_id": "1912e671fac444839963ad41a650374b",
              "version_minor": 0,
              "version_major": 2
            },
            "text/plain": [
              "HBox(children=(FloatProgress(value=0.0, description='Decoding: ', max=141543.0, style=ProgressStyle(descriptio…"
            ]
          },
          "metadata": {
            "tags": []
          }
        },
        {
          "output_type": "stream",
          "text": [
            "\n"
          ],
          "name": "stdout"
        }
      ]
    },
    {
      "cell_type": "code",
      "metadata": {
        "colab": {
          "base_uri": "https://localhost:8080/"
        },
        "id": "4K9v-ei-QQKa",
        "outputId": "d0b5f1b3-1fc2-4ea3-f73a-bad7e73abf22"
      },
      "source": [
        "decoded_documents == documents"
      ],
      "execution_count": 37,
      "outputs": [
        {
          "output_type": "execute_result",
          "data": {
            "text/plain": [
              "True"
            ]
          },
          "metadata": {
            "tags": []
          },
          "execution_count": 37
        }
      ]
    },
    {
      "cell_type": "markdown",
      "metadata": {
        "id": "hizRVL-nS9td"
      },
      "source": [
        "## Implementation"
      ]
    },
    {
      "cell_type": "code",
      "metadata": {
        "id": "S7OXLdBrUaIt"
      },
      "source": [
        "def LDA(documents, vocabulary, topics=20):\n",
        "  documents_len = len(documents)\n",
        "  # We'll only us the x most frequent tokens\n",
        "  vocabulary_len = len(tokens_doc_freq.keys())\n",
        "  beta = 1/topics\n",
        "  alfa = 1/topics\n",
        "  # number of assignments to topic k in document i\n",
        "  n_i_k = np.zeros((documents_len, topics))\n",
        "  # number of assignments, corpus wide, of word w to topic k\n",
        "  m_w_k = np.zeros((topics, vocabulary_len))\n",
        "  # will hold number of words in each document\n",
        "  n_d = np.zeros((documents_len))\n",
        "  # number of assignments to topic\n",
        "  n_z = np.zeros((topics))\n",
        "\n",
        "  # z will hold the topic matrix\n",
        "  z = [[0 for _ in range(len(doc))] for doc in documents]\n",
        "\n",
        "  for doc_id, doc in enumerate(tqdm(documents, \"Initializing: \")):\n",
        "    for word_id, word in enumerate(doc.keys()):\n",
        "      z[doc_id][word_id] = random.randrange(0, topics, 1)\n",
        "      word_topic = z[doc_id][word_id]\n",
        "      # number of assignments of topic: word_topic in document: doc_id\n",
        "      n_i_k[doc_id][word_topic] += 1\n",
        "      # number of global assigments of word: word to topic: word_topic\n",
        "      m_w_k[word_topic, word] += 1\n",
        "      # total number of word assignments to topic\n",
        "      n_z[word_topic] += 1\n",
        "      # total number of words in document\n",
        "      n_d[doc_id] += 1\n",
        "\n",
        "  for iteration in tqdm(range(10), \"Optimizing: \"):\n",
        "    for doc_id, doc in enumerate(documents):\n",
        "      for word_id, word in enumerate(doc.keys()):\n",
        "              # get the topic for word n in document m\n",
        "              word_topic = z[doc_id][word_id]\n",
        "              \n",
        "              # decrement counts for word w with associated topic z\n",
        "              n_i_k[doc_id][word_topic] -= 1 \n",
        "              m_w_k[word_topic][word] -= 1\n",
        "              n_z[word_topic] -= 1\n",
        "\n",
        "              # sample new topic from a multinomial according to our formula\n",
        "              p_d_t = (n_i_k[doc_id] + alfa) / (n_d[doc_id] - 1 + topics * alfa) \n",
        "              p_t_w = (m_w_k[:, word] + beta) / (n_z + vocabulary_len * beta)\n",
        "              p_z = p_d_t * p_t_w\n",
        "              p_z /= np.sum(p_z)\n",
        "              new_z = np.random.multinomial(1, p_z).argmax()\n",
        "\n",
        "              # set z as the new topic and increment counts\n",
        "              z[doc_id][word_id] = new_z\n",
        "              n_i_k[doc_id][new_z] += 1\n",
        "              m_w_k[new_z][word] += 1\n",
        "              n_z[new_z] += 1\n",
        "  return m_w_k"
      ],
      "execution_count": 83,
      "outputs": []
    },
    {
      "cell_type": "code",
      "metadata": {
        "id": "6DP63bNMTlxL",
        "colab": {
          "base_uri": "https://localhost:8080/",
          "height": 165,
          "referenced_widgets": [
            "8e44d86f6b364c14836a676e727a19ef",
            "66f2d441a65146b5bd81744788a078b5",
            "135d9b12e05c48fb942a4e582ca73597",
            "ef25f515a21445cfbb81b4106cf67e9c",
            "cf052787c080432bada7f945877083ef",
            "1b33cd1988654bbbbe50cb8d8dac6b78",
            "f2c8a0660af54ed2832e820cee13fd75",
            "ec30c36b6f334eab8acee4c6aa99640a",
            "a6fa65bc693e489e8d48238f761e7526",
            "6be8fbd7bcb84cecb526672b9e862455",
            "40210a0ec5a143b6a60b0f7f6d13dd53",
            "1ba6a008f64c4632a683e71cce2017a5",
            "76b0084dd4434aa1a9c446f37ea01672",
            "e4116369c3e547aa947221865858013d",
            "f8329333ac33456b84a7b4767ae9c804",
            "c357e3dcd46d4c678ddc44cffee9d28b",
            "5a55b5f6bb4d46bab4833a6d6c32e31f",
            "82a6bebe3ddf4797ae8197f796fcb406",
            "c9040a3ab3e14a7f938b9da4af68f947",
            "58331d7782324e378334fc3db938727b",
            "0158a6c0d4a8469db4be0a3beb906d58",
            "608b6f71527e4d9db7033d38a80d5314",
            "32c2ead1bc1342ad951e4f0321b2d6ba",
            "1b67d9e2acc14a2e8699505e5382abd6"
          ]
        },
        "outputId": "142d9a27-2ecd-448e-b072-6bb1456aedfe"
      },
      "source": [
        "tokens_doc_freq = get_freq_tokens(data_content_clean, num_above=15, num_under=0.5, most_freq=10000)\n",
        "documents = create_bow(data_content_clean, tokens_doc_freq.keys())\n",
        "encoder = WordEncoder()\n",
        "encoded_documents = encoder.encode(documents)"
      ],
      "execution_count": 87,
      "outputs": [
        {
          "output_type": "display_data",
          "data": {
            "application/vnd.jupyter.widget-view+json": {
              "model_id": "8e44d86f6b364c14836a676e727a19ef",
              "version_minor": 0,
              "version_major": 2
            },
            "text/plain": [
              "HBox(children=(FloatProgress(value=0.0, description='Creating Freq. Dict: ', max=141543.0, style=ProgressStyle…"
            ]
          },
          "metadata": {
            "tags": []
          }
        },
        {
          "output_type": "stream",
          "text": [
            "\n"
          ],
          "name": "stdout"
        },
        {
          "output_type": "display_data",
          "data": {
            "application/vnd.jupyter.widget-view+json": {
              "model_id": "a6fa65bc693e489e8d48238f761e7526",
              "version_minor": 0,
              "version_major": 2
            },
            "text/plain": [
              "HBox(children=(FloatProgress(value=0.0, description='Creating BOW: ', max=141543.0, style=ProgressStyle(descri…"
            ]
          },
          "metadata": {
            "tags": []
          }
        },
        {
          "output_type": "stream",
          "text": [
            "\n"
          ],
          "name": "stdout"
        },
        {
          "output_type": "display_data",
          "data": {
            "application/vnd.jupyter.widget-view+json": {
              "model_id": "5a55b5f6bb4d46bab4833a6d6c32e31f",
              "version_minor": 0,
              "version_major": 2
            },
            "text/plain": [
              "HBox(children=(FloatProgress(value=0.0, description='Encoding: ', max=141543.0, style=ProgressStyle(descriptio…"
            ]
          },
          "metadata": {
            "tags": []
          }
        },
        {
          "output_type": "stream",
          "text": [
            "\n"
          ],
          "name": "stdout"
        }
      ]
    },
    {
      "cell_type": "code",
      "metadata": {
        "colab": {
          "base_uri": "https://localhost:8080/",
          "height": 98,
          "referenced_widgets": [
            "534def9f6dbf4c829433e587e4fb44b9",
            "d5404e5de1994b76b1dcb4dffb1fcb09",
            "3ef1ffbcf03641e7915829e9e0dfbe91",
            "5f8b44c52ed84dc390b0d7c834683d82",
            "c648f6f4c4cf4a7fa44ee28de91a431b",
            "f1cc0c76d2374b65a18d37d5f5228d08",
            "0d2e0fcb61eb4c808d13bc4ae0c4af38",
            "2c83e256a6bf4ebaa9795b603e88c2ff",
            "432d6be2c6ff49d6a96ac8e397e6d018",
            "f85c7110d31f4f88a509f7f94b22939b",
            "20f0f977d8404c00a0e31a045ce05b3d",
            "ade253d82bf34d00a0222597c94c9552",
            "91f18770e5a54e3cb4daaab83448b7b7",
            "878954b2086a464a9bbf363142cce266",
            "66ad9e89a5e0462591bb8dcf0f204145",
            "6f9dbb2c24b84844969225516d9a528f"
          ]
        },
        "id": "C-xU_0bco2_J",
        "outputId": "587915a2-7ff8-4676-8b47-7701b1e2256e"
      },
      "source": [
        "m_w_k = LDA(encoded_documents, tokens_doc_freq, topics=20)"
      ],
      "execution_count": null,
      "outputs": [
        {
          "output_type": "display_data",
          "data": {
            "application/vnd.jupyter.widget-view+json": {
              "model_id": "534def9f6dbf4c829433e587e4fb44b9",
              "version_minor": 0,
              "version_major": 2
            },
            "text/plain": [
              "HBox(children=(FloatProgress(value=0.0, description='Initializing: ', max=141543.0, style=ProgressStyle(descri…"
            ]
          },
          "metadata": {
            "tags": []
          }
        },
        {
          "output_type": "stream",
          "text": [
            "\n"
          ],
          "name": "stdout"
        },
        {
          "output_type": "display_data",
          "data": {
            "application/vnd.jupyter.widget-view+json": {
              "model_id": "432d6be2c6ff49d6a96ac8e397e6d018",
              "version_minor": 0,
              "version_major": 2
            },
            "text/plain": [
              "HBox(children=(FloatProgress(value=0.0, description='Optimizing: ', max=10.0, style=ProgressStyle(description_…"
            ]
          },
          "metadata": {
            "tags": []
          }
        }
      ]
    },
    {
      "cell_type": "markdown",
      "metadata": {
        "collapsed": false,
        "id": "eXR1VvlAN46r"
      },
      "source": [
        "## Evaluation"
      ]
    }
  ]
}